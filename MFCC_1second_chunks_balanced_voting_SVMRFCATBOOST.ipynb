{
 "cells": [
  {
   "cell_type": "code",
   "execution_count": 1,
   "metadata": {},
   "outputs": [],
   "source": [
    "import matplotlib.pyplot as plt\n",
    "import numpy as np\n",
    "from matplotlib import cm\n",
    "import librosa\n",
    "import csv\n",
    "import os\n",
    "from glob import glob"
   ]
  },
  {
   "cell_type": "code",
   "execution_count": 161,
   "metadata": {},
   "outputs": [],
   "source": [
    "import os\n",
    "\n",
    "# Absolute path of a file\n",
    "old_name = r\"D:\\COVID_COUGH_SOUNDS\\1second_chunks_458\\balanced_1s_not_aug\\1s_balancedChunks\\train\\ff\\1603942345102x_0.wav\"\n",
    "new_name = r\"D:\\COVID_COUGH_SOUNDS\\1second_chunks_458\\balanced_1s_not_aug\\1s_balancedChunks\\train\\ff\\1603942345102_0.wav\"\n",
    "\n",
    "# Renaming the file\n",
    "os.rename(old_name, new_name)"
   ]
  },
  {
   "cell_type": "code",
   "execution_count": 180,
   "metadata": {},
   "outputs": [],
   "source": [
    "root = 'D:/COVID_COUGH_SOUNDS/1second_chunks_458/balanced_1s_not_aug/1s_balancedChunks/test/ss/'\n",
    "#root = 'D:/COVID_COUGH_SOUNDS/1second_chunks_458/NON_AUGMENTED_1_SEC_CHUNKS_NO_OVERLAP/train'\n",
    "renam_filenames= []\n",
    "for path, subdirs, files in os.walk(root):\n",
    "    for name in files:\n",
    "        #print(os.path.join(path, name))\n",
    "        renam_filenames.append(os.path.join(path, name))"
   ]
  },
  {
   "cell_type": "code",
   "execution_count": 181,
   "metadata": {},
   "outputs": [
    {
     "data": {
      "text/plain": [
       "61"
      ]
     },
     "execution_count": 181,
     "metadata": {},
     "output_type": "execute_result"
    }
   ],
   "source": [
    "len(renam_filenames)"
   ]
  },
  {
   "cell_type": "code",
   "execution_count": 186,
   "metadata": {},
   "outputs": [],
   "source": [
    "new_names =  []\n",
    "for i in range(len(renam_filenames)):\n",
    "    a = renam_filenames[i].split('/')[-1]\n",
    "    s = a[:13] + \"b\" + a[13:]\n",
    "    new_names.append(s)\n",
    "    #print(s)"
   ]
  },
  {
   "cell_type": "code",
   "execution_count": 183,
   "metadata": {},
   "outputs": [],
   "source": [
    "path = 'D:/COVID_COUGH_SOUNDS/1second_chunks_458/balanced_1s_not_aug/1s_balancedChunks/test/ss/'\n",
    "new_filenames= []\n",
    "\n",
    "for name in new_names:\n",
    "        #print(os.path.join(path, name))\n",
    "        new_filenames.append(os.path.join(path, name))"
   ]
  },
  {
   "cell_type": "code",
   "execution_count": 184,
   "metadata": {},
   "outputs": [],
   "source": [
    "for i in range(len(renam_filenames)):\n",
    "    os.rename(renam_filenames[i], new_filenames[i])"
   ]
  },
  {
   "cell_type": "code",
   "execution_count": 185,
   "metadata": {},
   "outputs": [
    {
     "data": {
      "text/plain": [
       "61"
      ]
     },
     "execution_count": 185,
     "metadata": {},
     "output_type": "execute_result"
    }
   ],
   "source": [
    "len(new_filenames)"
   ]
  },
  {
   "cell_type": "code",
   "execution_count": 171,
   "metadata": {},
   "outputs": [
    {
     "name": "stdout",
     "output_type": "stream",
     "text": [
      "1603942345102_1.wav 1603942345102b_1.wav\n"
     ]
    }
   ],
   "source": [
    "a = renam_filenames[1].split('/')[-1]\n",
    "s = a[:13] + \"b\" + a[13:]\n",
    "print(a, s)"
   ]
  },
  {
   "cell_type": "code",
   "execution_count": null,
   "metadata": {},
   "outputs": [],
   "source": [
    "s = a[:13] + \"b\" + a[13:]"
   ]
  },
  {
   "cell_type": "code",
   "execution_count": 187,
   "metadata": {},
   "outputs": [],
   "source": [
    "new_names =  []\n",
    "for i in range(len(renam_filenames)):\n",
    "    a = renam_filenames[i].split('/')[-1]\n",
    "    s = a[:13] + \"b\" + a[13:]\n",
    "    new_names.append(s)\n",
    "    #print(s)"
   ]
  },
  {
   "cell_type": "code",
   "execution_count": 201,
   "metadata": {},
   "outputs": [],
   "source": [
    "root = 'D:/COVID_COUGH_SOUNDS/50ms_overlap_458_aug_balanced/50S_overlap_aug_balanced_458/train/'\n",
    "#root = 'D:/COVID_COUGH_SOUNDS/1second_chunks_458/NON_AUGMENTED_1_SEC_CHUNKS_NO_OVERLAP/train'\n",
    "train_filenames= []\n",
    "for path, subdirs, files in os.walk(root):\n",
    "    for name in files:\n",
    "        #print(os.path.join(path, name))\n",
    "        train_filenames.append(os.path.join(path, name))"
   ]
  },
  {
   "cell_type": "code",
   "execution_count": 202,
   "metadata": {},
   "outputs": [],
   "source": [
    "#DATA_DIR='D:/COVID_COUGH_SOUNDS/DATASET_FINAL/WEBAPP+COUGHVID_CHUNKS_50_OVERLAP/allergies/'\n",
    "#filenames =glob(DATA_DIR + '/*.wav')"
   ]
  },
  {
   "cell_type": "code",
   "execution_count": 203,
   "metadata": {},
   "outputs": [],
   "source": [
    "root_t = 'D:/COVID_COUGH_SOUNDS/50ms_overlap_458_aug_balanced/50S_overlap_aug_balanced_458/test/'\n",
    "#root = 'D:/COVID_COUGH_SOUNDS/1second_chunks_458/NON_AUGMENTED_1_SEC_CHUNKS_NO_OVERLAP/train'\n",
    "test_filenames= []\n",
    "for path, subdirs, files in os.walk(root_t):\n",
    "    for name in files:\n",
    "        #print(os.path.join(path, name))\n",
    "        test_filenames.append(os.path.join(path, name))"
   ]
  },
  {
   "cell_type": "code",
   "execution_count": 204,
   "metadata": {},
   "outputs": [
    {
     "data": {
      "text/plain": [
       "'D:/COVID_COUGH_SOUNDS/50ms_overlap_458_aug_balanced/50S_overlap_aug_balanced_458/test/pneumonia\\\\1603942345102_speed_27.wav'"
      ]
     },
     "execution_count": 204,
     "metadata": {},
     "output_type": "execute_result"
    }
   ],
   "source": [
    "test_filenames[-104]"
   ]
  },
  {
   "cell_type": "code",
   "execution_count": 205,
   "metadata": {},
   "outputs": [],
   "source": [
    "def load_audio_file(file_path):\n",
    "    input_length = 16000\n",
    "    data = librosa.core.load(file_path)[0] #, sr=16000\n",
    "    return data"
   ]
  },
  {
   "cell_type": "code",
   "execution_count": 206,
   "metadata": {},
   "outputs": [],
   "source": [
    "def get_data_files():\n",
    "    # we will be leaving some files out, on purpose. Do not change this function!\n",
    "    return [os.path.join(DATA_DIR, x) for x in sorted(os.listdir(DATA_DIR)) ]"
   ]
  },
  {
   "cell_type": "code",
   "execution_count": 207,
   "metadata": {},
   "outputs": [],
   "source": [
    "def get_sound_id_from_file_path(file_path):\n",
    "    a = file_path.split('\\\\')[-2:]\n",
    "    #b= file_path.split('/')[-1:]\n",
    "    #c= file_path.split('\\\\')[-1:]\n",
    "    return a\n",
    "    #return a, b"
   ]
  },
  {
   "cell_type": "code",
   "execution_count": 208,
   "metadata": {},
   "outputs": [
    {
     "name": "stdout",
     "output_type": "stream",
     "text": [
      "D:/COVID_COUGH_SOUNDS/50ms_overlap_458_aug_balanced/50S_overlap_aug_balanced_458/test/allergies\\1598869457003_1.wav\n",
      "D:/COVID_COUGH_SOUNDS/50ms_overlap_458_aug_balanced/50S_overlap_aug_balanced_458/test/allergies\n",
      "1598869457003_1.wav\n",
      "allergies\n"
     ]
    }
   ],
   "source": [
    "print(test_filenames[1])\n",
    "correlation, key = get_sound_id_from_file_path(test_filenames[1])\n",
    "correlation, key = get_sound_id_from_file_path(test_filenames[1])\n",
    "d = correlation.split('/')[-1]\n",
    "print(correlation)\n",
    "print(key)\n",
    "print(d)"
   ]
  },
  {
   "cell_type": "code",
   "execution_count": 198,
   "metadata": {},
   "outputs": [
    {
     "data": {
      "text/plain": [
       "2010"
      ]
     },
     "execution_count": 198,
     "metadata": {},
     "output_type": "execute_result"
    }
   ],
   "source": [
    "len(train_filenames)"
   ]
  },
  {
   "cell_type": "code",
   "execution_count": 199,
   "metadata": {},
   "outputs": [
    {
     "data": {
      "text/plain": [
       "'D:/COVID_COUGH_SOUNDS/1second_chunks_458/balanced_1s_not_aug/1s_balancedChunks/test/allergies'"
      ]
     },
     "execution_count": 199,
     "metadata": {},
     "output_type": "execute_result"
    }
   ],
   "source": [
    "correlation"
   ]
  },
  {
   "cell_type": "code",
   "execution_count": 214,
   "metadata": {},
   "outputs": [],
   "source": [
    "def extractWavFeatures(soundFilesFolder, csvFileName, xfilenames):\n",
    "    print(\"The features of the files in the folder \"+soundFilesFolder+\" will be saved to \"+csvFileName)\n",
    "    header = 'key correlation chroma_stft rmse spectral_centroid spectral_bandwidth rolloff zero_crossing_rate'\n",
    "    for i in range(1, 21):\n",
    "        header += f' mfcc{i}'\n",
    "    #header += ' label'\n",
    "    header = header.split()\n",
    "    print('CSV Header: ', header)\n",
    "    file = open(csvFileName, 'w', newline='')\n",
    "    #with file:\n",
    "    writer = csv.writer(file)\n",
    "    writer.writerow(header)\n",
    "    test_filenames= []\n",
    "    for path, subdirs, files in os.walk(soundFilesFolder):\n",
    "        for name in files:\n",
    "        #print(os.path.join(path, name))\n",
    "            test_filenames.append(os.path.join(path, name))\n",
    "    \n",
    "    \n",
    "    \n",
    "    \n",
    "    for i in xfilenames:\n",
    "        dirname, key  = get_sound_id_from_file_path(i)\n",
    "        correlation = dirname.split('/')[-1]\n",
    "        y, sr = librosa.load(i, mono=True, duration=30)\n",
    "        \n",
    "        # remove leading and trailing silence\n",
    "        \n",
    "        y, index = librosa.effects.trim(y)\n",
    "        \n",
    "        chroma_stft = librosa.feature.chroma_stft(y=y, sr=sr)\n",
    "        rmse = librosa.feature.rms(y=y)\n",
    "        spec_cent = librosa.feature.spectral_centroid(y=y, sr=sr)\n",
    "        spec_bw = librosa.feature.spectral_bandwidth(y=y, sr=sr)\n",
    "        rolloff = librosa.feature.spectral_rolloff(y=y, sr=sr)\n",
    "        zcr = librosa.feature.zero_crossing_rate(y)\n",
    "        mfcc = librosa.feature.mfcc(y=y, sr=sr)\n",
    "        \n",
    "        to_append = f' {key} {correlation} {np.mean(chroma_stft)} {np.mean(rmse)} {np.mean(spec_cent)} {np.mean(spec_bw)} {np.mean(rolloff)} {np.mean(zcr)}'\n",
    "        for e in mfcc:\n",
    "            to_append += f' {np.mean(e)}'\n",
    "        writer.writerow(to_append.split())\n",
    "    file.close()\n",
    "    print(\"End of extractWavFeatures\")"
   ]
  },
  {
   "cell_type": "code",
   "execution_count": 215,
   "metadata": {},
   "outputs": [],
   "source": [
    "CREATE_CSV_FILES = True"
   ]
  },
  {
   "cell_type": "code",
   "execution_count": 216,
   "metadata": {},
   "outputs": [],
   "source": [
    "#TRAIN_CSV_FILE = \"D:/COVID_COUGH_SOUNDS/1second_chunks_458/NON_AUGMENTED_1_SEC_CHUNKS_NO_OVERLAP/MFCC_train.csv\"\n",
    "#TEST_CSV_FILE = \"D:/COVID_COUGH_SOUNDS/1second_chunks_458/NON_AUGMENTED_1_SEC_CHUNKS_NO_OVERLAP/MFCC_test.csv\"\n",
    "#MORE_TRAIN_CSV_FILE = \"C:/Users/Asus/Documents/COVID19/MFCC/test/more_train.csv\"\n",
    "#MORE_TEST_CSV_FILE = \"C:/Users/Asus/Documents/COVID19/MFCC/test/more_test.csv\""
   ]
  },
  {
   "cell_type": "code",
   "execution_count": 217,
   "metadata": {},
   "outputs": [],
   "source": [
    "TRAIN_CSV_FILE ='D:/COVID_COUGH_SOUNDS/50ms_overlap_458_aug_balanced/50S_overlap_aug_balanced_458/50s_overlap_chunk_train_mfcc.csv'\n",
    "TEST_CSV_FILE ='D:/COVID_COUGH_SOUNDS/1second_chunks_458/balanced_1s_not_aug/1s_balancedChunks/50sec_chunk_test_mfcc.csv'"
   ]
  },
  {
   "cell_type": "code",
   "execution_count": 218,
   "metadata": {},
   "outputs": [
    {
     "name": "stdout",
     "output_type": "stream",
     "text": [
      "The features of the files in the folder D:/COVID_COUGH_SOUNDS/50ms_overlap_458_aug_balanced/50S_overlap_aug_balanced_458/train/ will be saved to D:/COVID_COUGH_SOUNDS/50ms_overlap_458_aug_balanced/50S_overlap_aug_balanced_458/50s_overlap_chunk_train_mfcc.csv\n",
      "CSV Header:  ['key', 'correlation', 'chroma_stft', 'rmse', 'spectral_centroid', 'spectral_bandwidth', 'rolloff', 'zero_crossing_rate', 'mfcc1', 'mfcc2', 'mfcc3', 'mfcc4', 'mfcc5', 'mfcc6', 'mfcc7', 'mfcc8', 'mfcc9', 'mfcc10', 'mfcc11', 'mfcc12', 'mfcc13', 'mfcc14', 'mfcc15', 'mfcc16', 'mfcc17', 'mfcc18', 'mfcc19', 'mfcc20']\n"
     ]
    },
    {
     "name": "stderr",
     "output_type": "stream",
     "text": [
      "C:\\Users\\salta\\anaconda3\\lib\\site-packages\\librosa\\core\\spectrum.py:222: UserWarning: n_fft=2048 is too small for input signal of length=376\n",
      "  warnings.warn(\n",
      "C:\\Users\\salta\\anaconda3\\lib\\site-packages\\librosa\\core\\pitch.py:153: UserWarning: Trying to estimate tuning from empty frequency set.\n",
      "  warnings.warn(\"Trying to estimate tuning from empty frequency set.\")\n",
      "C:\\Users\\salta\\anaconda3\\lib\\site-packages\\librosa\\core\\spectrum.py:222: UserWarning: n_fft=2048 is too small for input signal of length=370\n",
      "  warnings.warn(\n",
      "C:\\Users\\salta\\anaconda3\\lib\\site-packages\\librosa\\core\\spectrum.py:222: UserWarning: n_fft=2048 is too small for input signal of length=1054\n",
      "  warnings.warn(\n",
      "C:\\Users\\salta\\anaconda3\\lib\\site-packages\\librosa\\core\\spectrum.py:222: UserWarning: n_fft=2048 is too small for input signal of length=1536\n",
      "  warnings.warn(\n",
      "C:\\Users\\salta\\anaconda3\\lib\\site-packages\\librosa\\core\\spectrum.py:222: UserWarning: n_fft=2048 is too small for input signal of length=1878\n",
      "  warnings.warn(\n",
      "C:\\Users\\salta\\anaconda3\\lib\\site-packages\\librosa\\core\\spectrum.py:222: UserWarning: n_fft=2048 is too small for input signal of length=2010\n",
      "  warnings.warn(\n",
      "C:\\Users\\salta\\anaconda3\\lib\\site-packages\\librosa\\core\\spectrum.py:222: UserWarning: n_fft=2048 is too small for input signal of length=882\n",
      "  warnings.warn(\n",
      "C:\\Users\\salta\\anaconda3\\lib\\site-packages\\librosa\\core\\spectrum.py:222: UserWarning: n_fft=2048 is too small for input signal of length=512\n",
      "  warnings.warn(\n",
      "C:\\Users\\salta\\anaconda3\\lib\\site-packages\\librosa\\core\\spectrum.py:222: UserWarning: n_fft=2048 is too small for input signal of length=1252\n",
      "  warnings.warn(\n",
      "C:\\Users\\salta\\anaconda3\\lib\\site-packages\\librosa\\core\\spectrum.py:222: UserWarning: n_fft=2048 is too small for input signal of length=228\n",
      "  warnings.warn(\n",
      "C:\\Users\\salta\\anaconda3\\lib\\site-packages\\librosa\\core\\spectrum.py:222: UserWarning: n_fft=2048 is too small for input signal of length=986\n",
      "  warnings.warn(\n",
      "C:\\Users\\salta\\anaconda3\\lib\\site-packages\\librosa\\core\\spectrum.py:222: UserWarning: n_fft=2048 is too small for input signal of length=69\n",
      "  warnings.warn(\n",
      "C:\\Users\\salta\\anaconda3\\lib\\site-packages\\librosa\\core\\spectrum.py:222: UserWarning: n_fft=2048 is too small for input signal of length=287\n",
      "  warnings.warn(\n",
      "C:\\Users\\salta\\anaconda3\\lib\\site-packages\\librosa\\core\\spectrum.py:222: UserWarning: n_fft=2048 is too small for input signal of length=1368\n",
      "  warnings.warn(\n",
      "C:\\Users\\salta\\anaconda3\\lib\\site-packages\\librosa\\core\\spectrum.py:222: UserWarning: n_fft=2048 is too small for input signal of length=1024\n",
      "  warnings.warn(\n",
      "C:\\Users\\salta\\anaconda3\\lib\\site-packages\\librosa\\core\\spectrum.py:222: UserWarning: n_fft=2048 is too small for input signal of length=1764\n",
      "  warnings.warn(\n",
      "C:\\Users\\salta\\anaconda3\\lib\\site-packages\\librosa\\core\\spectrum.py:222: UserWarning: n_fft=2048 is too small for input signal of length=1622\n",
      "  warnings.warn(\n",
      "C:\\Users\\salta\\anaconda3\\lib\\site-packages\\librosa\\core\\spectrum.py:222: UserWarning: n_fft=2048 is too small for input signal of length=444\n",
      "  warnings.warn(\n",
      "C:\\Users\\salta\\anaconda3\\lib\\site-packages\\librosa\\core\\spectrum.py:222: UserWarning: n_fft=2048 is too small for input signal of length=344\n",
      "  warnings.warn(\n",
      "C:\\Users\\salta\\anaconda3\\lib\\site-packages\\librosa\\core\\spectrum.py:222: UserWarning: n_fft=2048 is too small for input signal of length=598\n",
      "  warnings.warn(\n",
      "C:\\Users\\salta\\anaconda3\\lib\\site-packages\\librosa\\core\\spectrum.py:222: UserWarning: n_fft=2048 is too small for input signal of length=1728\n",
      "  warnings.warn(\n",
      "C:\\Users\\salta\\anaconda3\\lib\\site-packages\\librosa\\core\\spectrum.py:222: UserWarning: n_fft=2048 is too small for input signal of length=1880\n",
      "  warnings.warn(\n",
      "C:\\Users\\salta\\anaconda3\\lib\\site-packages\\librosa\\core\\spectrum.py:222: UserWarning: n_fft=2048 is too small for input signal of length=854\n",
      "  warnings.warn(\n",
      "C:\\Users\\salta\\anaconda3\\lib\\site-packages\\librosa\\core\\spectrum.py:222: UserWarning: n_fft=2048 is too small for input signal of length=1734\n",
      "  warnings.warn(\n"
     ]
    },
    {
     "name": "stdout",
     "output_type": "stream",
     "text": [
      "End of extractWavFeatures\n",
      "The features of the files in the folder D:/COVID_COUGH_SOUNDS/50ms_overlap_458_aug_balanced/50S_overlap_aug_balanced_458/test/ will be saved to D:/COVID_COUGH_SOUNDS/1second_chunks_458/balanced_1s_not_aug/1s_balancedChunks/50sec_chunk_test_mfcc.csv\n",
      "CSV Header:  ['key', 'correlation', 'chroma_stft', 'rmse', 'spectral_centroid', 'spectral_bandwidth', 'rolloff', 'zero_crossing_rate', 'mfcc1', 'mfcc2', 'mfcc3', 'mfcc4', 'mfcc5', 'mfcc6', 'mfcc7', 'mfcc8', 'mfcc9', 'mfcc10', 'mfcc11', 'mfcc12', 'mfcc13', 'mfcc14', 'mfcc15', 'mfcc16', 'mfcc17', 'mfcc18', 'mfcc19', 'mfcc20']\n"
     ]
    },
    {
     "name": "stderr",
     "output_type": "stream",
     "text": [
      "C:\\Users\\salta\\anaconda3\\lib\\site-packages\\librosa\\core\\spectrum.py:222: UserWarning: n_fft=2048 is too small for input signal of length=9\n",
      "  warnings.warn(\n",
      "C:\\Users\\salta\\anaconda3\\lib\\site-packages\\librosa\\core\\spectrum.py:222: UserWarning: n_fft=2048 is too small for input signal of length=474\n",
      "  warnings.warn(\n",
      "C:\\Users\\salta\\anaconda3\\lib\\site-packages\\librosa\\core\\spectrum.py:222: UserWarning: n_fft=2048 is too small for input signal of length=1504\n",
      "  warnings.warn(\n",
      "C:\\Users\\salta\\anaconda3\\lib\\site-packages\\librosa\\core\\spectrum.py:222: UserWarning: n_fft=2048 is too small for input signal of length=1216\n",
      "  warnings.warn(\n"
     ]
    },
    {
     "name": "stdout",
     "output_type": "stream",
     "text": [
      "End of extractWavFeatures\n",
      "CSV files are created\n"
     ]
    }
   ],
   "source": [
    "import matplotlib.pyplot as plt\n",
    "import numpy as np\n",
    "from matplotlib import cm\n",
    "import librosa\n",
    "import csv\n",
    "import os\n",
    "\n",
    "\n",
    "\n",
    "if (CREATE_CSV_FILES == True):\n",
    "    extractWavFeatures(\"D:/COVID_COUGH_SOUNDS/50ms_overlap_458_aug_balanced/50S_overlap_aug_balanced_458/train/\", TRAIN_CSV_FILE, train_filenames)\n",
    "    extractWavFeatures(\"D:/COVID_COUGH_SOUNDS/50ms_overlap_458_aug_balanced/50S_overlap_aug_balanced_458/test/\", TEST_CSV_FILE, test_filenames)\n",
    "    #extractWavFeatures(\"C:/Users/Asus/Documents/COVID19/MFCC/moreSpeakersTrain\", MORE_TRAIN_CSV_FILE)\n",
    "    #extractWavFeatures(\"C:/Users/Asus/Documents/COVID19/MFCC/moreSpeakersTest\", MORE_TEST_CSV_FILE)\n",
    "    print(\"CSV files are created\")\n",
    "else:\n",
    "    print(\"CSV files creation is skipped\")"
   ]
  },
  {
   "cell_type": "code",
   "execution_count": 232,
   "metadata": {},
   "outputs": [],
   "source": [
    "import pandas as pd\n",
    "train = pd.read_csv(TRAIN_CSV_FILE, sep=',')\n",
    "test = pd.read_csv(TEST_CSV_FILE, sep=',')"
   ]
  },
  {
   "cell_type": "code",
   "execution_count": 233,
   "metadata": {},
   "outputs": [],
   "source": [
    "#TRAIN_CSV_FILE"
   ]
  },
  {
   "cell_type": "code",
   "execution_count": 234,
   "metadata": {},
   "outputs": [
    {
     "data": {
      "text/html": [
       "<div>\n",
       "<style scoped>\n",
       "    .dataframe tbody tr th:only-of-type {\n",
       "        vertical-align: middle;\n",
       "    }\n",
       "\n",
       "    .dataframe tbody tr th {\n",
       "        vertical-align: top;\n",
       "    }\n",
       "\n",
       "    .dataframe thead th {\n",
       "        text-align: right;\n",
       "    }\n",
       "</style>\n",
       "<table border=\"1\" class=\"dataframe\">\n",
       "  <thead>\n",
       "    <tr style=\"text-align: right;\">\n",
       "      <th></th>\n",
       "      <th>key</th>\n",
       "      <th>correlation</th>\n",
       "      <th>chroma_stft</th>\n",
       "      <th>rmse</th>\n",
       "      <th>spectral_centroid</th>\n",
       "      <th>spectral_bandwidth</th>\n",
       "      <th>rolloff</th>\n",
       "      <th>zero_crossing_rate</th>\n",
       "      <th>mfcc1</th>\n",
       "      <th>mfcc2</th>\n",
       "      <th>...</th>\n",
       "      <th>mfcc11</th>\n",
       "      <th>mfcc12</th>\n",
       "      <th>mfcc13</th>\n",
       "      <th>mfcc14</th>\n",
       "      <th>mfcc15</th>\n",
       "      <th>mfcc16</th>\n",
       "      <th>mfcc17</th>\n",
       "      <th>mfcc18</th>\n",
       "      <th>mfcc19</th>\n",
       "      <th>mfcc20</th>\n",
       "    </tr>\n",
       "  </thead>\n",
       "  <tbody>\n",
       "    <tr>\n",
       "      <th>0</th>\n",
       "      <td>1591363379163_0.wav</td>\n",
       "      <td>allergies</td>\n",
       "      <td>0.524454</td>\n",
       "      <td>0.003503</td>\n",
       "      <td>2159.131164</td>\n",
       "      <td>2021.219219</td>\n",
       "      <td>4512.918923</td>\n",
       "      <td>0.118974</td>\n",
       "      <td>-477.664673</td>\n",
       "      <td>116.399292</td>\n",
       "      <td>...</td>\n",
       "      <td>9.357745</td>\n",
       "      <td>-13.794257</td>\n",
       "      <td>4.277086</td>\n",
       "      <td>6.179628</td>\n",
       "      <td>16.248001</td>\n",
       "      <td>-2.214058</td>\n",
       "      <td>13.136648</td>\n",
       "      <td>-1.199873</td>\n",
       "      <td>3.703456</td>\n",
       "      <td>-2.345680</td>\n",
       "    </tr>\n",
       "    <tr>\n",
       "      <th>1</th>\n",
       "      <td>1591363379163_1.wav</td>\n",
       "      <td>allergies</td>\n",
       "      <td>0.416481</td>\n",
       "      <td>0.072161</td>\n",
       "      <td>1924.665417</td>\n",
       "      <td>1918.047708</td>\n",
       "      <td>4037.230890</td>\n",
       "      <td>0.111439</td>\n",
       "      <td>-278.992035</td>\n",
       "      <td>114.890671</td>\n",
       "      <td>...</td>\n",
       "      <td>8.243503</td>\n",
       "      <td>-18.375893</td>\n",
       "      <td>-2.123168</td>\n",
       "      <td>5.627200</td>\n",
       "      <td>11.845422</td>\n",
       "      <td>-4.261895</td>\n",
       "      <td>8.714609</td>\n",
       "      <td>-1.774737</td>\n",
       "      <td>1.929945</td>\n",
       "      <td>-1.497545</td>\n",
       "    </tr>\n",
       "    <tr>\n",
       "      <th>2</th>\n",
       "      <td>1591363379163_2.wav</td>\n",
       "      <td>allergies</td>\n",
       "      <td>0.412128</td>\n",
       "      <td>0.124396</td>\n",
       "      <td>1448.453361</td>\n",
       "      <td>1732.121955</td>\n",
       "      <td>2947.112482</td>\n",
       "      <td>0.070756</td>\n",
       "      <td>-201.681244</td>\n",
       "      <td>142.291702</td>\n",
       "      <td>...</td>\n",
       "      <td>3.693502</td>\n",
       "      <td>-12.944245</td>\n",
       "      <td>7.432921</td>\n",
       "      <td>-3.477646</td>\n",
       "      <td>5.489117</td>\n",
       "      <td>-11.890240</td>\n",
       "      <td>7.559861</td>\n",
       "      <td>-1.567741</td>\n",
       "      <td>1.874205</td>\n",
       "      <td>-3.009213</td>\n",
       "    </tr>\n",
       "    <tr>\n",
       "      <th>3</th>\n",
       "      <td>1591363379163_3.wav</td>\n",
       "      <td>allergies</td>\n",
       "      <td>0.487229</td>\n",
       "      <td>0.100306</td>\n",
       "      <td>1350.369514</td>\n",
       "      <td>1639.811992</td>\n",
       "      <td>2715.875244</td>\n",
       "      <td>0.064997</td>\n",
       "      <td>-243.089661</td>\n",
       "      <td>145.864502</td>\n",
       "      <td>...</td>\n",
       "      <td>6.954595</td>\n",
       "      <td>-11.851579</td>\n",
       "      <td>4.839436</td>\n",
       "      <td>-3.185500</td>\n",
       "      <td>4.177882</td>\n",
       "      <td>-11.189816</td>\n",
       "      <td>9.514095</td>\n",
       "      <td>-1.103271</td>\n",
       "      <td>1.849957</td>\n",
       "      <td>-3.752593</td>\n",
       "    </tr>\n",
       "    <tr>\n",
       "      <th>4</th>\n",
       "      <td>1591363379163_4.wav</td>\n",
       "      <td>allergies</td>\n",
       "      <td>0.556395</td>\n",
       "      <td>0.046316</td>\n",
       "      <td>1938.944422</td>\n",
       "      <td>1911.583750</td>\n",
       "      <td>4136.087868</td>\n",
       "      <td>0.119385</td>\n",
       "      <td>-316.657654</td>\n",
       "      <td>117.775612</td>\n",
       "      <td>...</td>\n",
       "      <td>12.845105</td>\n",
       "      <td>-14.421775</td>\n",
       "      <td>-2.565778</td>\n",
       "      <td>0.730787</td>\n",
       "      <td>10.888634</td>\n",
       "      <td>-6.457182</td>\n",
       "      <td>10.307930</td>\n",
       "      <td>-2.149672</td>\n",
       "      <td>3.143193</td>\n",
       "      <td>-3.106141</td>\n",
       "    </tr>\n",
       "    <tr>\n",
       "      <th>...</th>\n",
       "      <td>...</td>\n",
       "      <td>...</td>\n",
       "      <td>...</td>\n",
       "      <td>...</td>\n",
       "      <td>...</td>\n",
       "      <td>...</td>\n",
       "      <td>...</td>\n",
       "      <td>...</td>\n",
       "      <td>...</td>\n",
       "      <td>...</td>\n",
       "      <td>...</td>\n",
       "      <td>...</td>\n",
       "      <td>...</td>\n",
       "      <td>...</td>\n",
       "      <td>...</td>\n",
       "      <td>...</td>\n",
       "      <td>...</td>\n",
       "      <td>...</td>\n",
       "      <td>...</td>\n",
       "      <td>...</td>\n",
       "      <td>...</td>\n",
       "    </tr>\n",
       "    <tr>\n",
       "      <th>14793</th>\n",
       "      <td>1630617115433_speed_5.wav</td>\n",
       "      <td>pneumonia</td>\n",
       "      <td>0.504339</td>\n",
       "      <td>0.012863</td>\n",
       "      <td>3073.827712</td>\n",
       "      <td>2249.704110</td>\n",
       "      <td>5552.140669</td>\n",
       "      <td>0.251332</td>\n",
       "      <td>-380.690033</td>\n",
       "      <td>92.061943</td>\n",
       "      <td>...</td>\n",
       "      <td>11.618156</td>\n",
       "      <td>-21.125475</td>\n",
       "      <td>4.719792</td>\n",
       "      <td>-10.954749</td>\n",
       "      <td>2.640088</td>\n",
       "      <td>-4.810783</td>\n",
       "      <td>7.630625</td>\n",
       "      <td>-9.603418</td>\n",
       "      <td>-5.585784</td>\n",
       "      <td>0.499448</td>\n",
       "    </tr>\n",
       "    <tr>\n",
       "      <th>14794</th>\n",
       "      <td>1630617115433_speed_6.wav</td>\n",
       "      <td>pneumonia</td>\n",
       "      <td>0.528079</td>\n",
       "      <td>0.042942</td>\n",
       "      <td>3406.895725</td>\n",
       "      <td>2304.867135</td>\n",
       "      <td>5833.540483</td>\n",
       "      <td>0.305054</td>\n",
       "      <td>-313.244415</td>\n",
       "      <td>80.088020</td>\n",
       "      <td>...</td>\n",
       "      <td>9.169736</td>\n",
       "      <td>-19.621975</td>\n",
       "      <td>7.770680</td>\n",
       "      <td>-9.857676</td>\n",
       "      <td>1.100204</td>\n",
       "      <td>-1.257298</td>\n",
       "      <td>4.083265</td>\n",
       "      <td>-7.945234</td>\n",
       "      <td>-5.332254</td>\n",
       "      <td>-3.031887</td>\n",
       "    </tr>\n",
       "    <tr>\n",
       "      <th>14795</th>\n",
       "      <td>1630617115433_speed_7.wav</td>\n",
       "      <td>pneumonia</td>\n",
       "      <td>0.468409</td>\n",
       "      <td>0.067464</td>\n",
       "      <td>2973.400900</td>\n",
       "      <td>2331.009117</td>\n",
       "      <td>5599.366899</td>\n",
       "      <td>0.227461</td>\n",
       "      <td>-233.976868</td>\n",
       "      <td>100.803879</td>\n",
       "      <td>...</td>\n",
       "      <td>12.215497</td>\n",
       "      <td>-19.462446</td>\n",
       "      <td>3.570148</td>\n",
       "      <td>-6.762970</td>\n",
       "      <td>0.158452</td>\n",
       "      <td>-8.055977</td>\n",
       "      <td>5.682380</td>\n",
       "      <td>-8.689347</td>\n",
       "      <td>-1.617524</td>\n",
       "      <td>-6.976845</td>\n",
       "    </tr>\n",
       "    <tr>\n",
       "      <th>14796</th>\n",
       "      <td>1630617115433_speed_8.wav</td>\n",
       "      <td>pneumonia</td>\n",
       "      <td>0.441320</td>\n",
       "      <td>0.043443</td>\n",
       "      <td>2768.314350</td>\n",
       "      <td>2264.346168</td>\n",
       "      <td>5305.487615</td>\n",
       "      <td>0.198497</td>\n",
       "      <td>-279.545441</td>\n",
       "      <td>96.625977</td>\n",
       "      <td>...</td>\n",
       "      <td>15.501517</td>\n",
       "      <td>-17.341478</td>\n",
       "      <td>0.088896</td>\n",
       "      <td>-2.183691</td>\n",
       "      <td>-0.465098</td>\n",
       "      <td>-10.659842</td>\n",
       "      <td>7.952493</td>\n",
       "      <td>-10.774840</td>\n",
       "      <td>-2.528926</td>\n",
       "      <td>-3.193502</td>\n",
       "    </tr>\n",
       "    <tr>\n",
       "      <th>14797</th>\n",
       "      <td>1630617115433_speed_9.wav</td>\n",
       "      <td>pneumonia</td>\n",
       "      <td>0.465952</td>\n",
       "      <td>0.018882</td>\n",
       "      <td>3322.779120</td>\n",
       "      <td>2189.963843</td>\n",
       "      <td>5521.309038</td>\n",
       "      <td>0.291426</td>\n",
       "      <td>-355.480652</td>\n",
       "      <td>75.091972</td>\n",
       "      <td>...</td>\n",
       "      <td>19.072374</td>\n",
       "      <td>-17.937035</td>\n",
       "      <td>1.796939</td>\n",
       "      <td>-1.905991</td>\n",
       "      <td>1.633065</td>\n",
       "      <td>-3.226311</td>\n",
       "      <td>9.265835</td>\n",
       "      <td>-9.434379</td>\n",
       "      <td>-2.828412</td>\n",
       "      <td>2.701966</td>\n",
       "    </tr>\n",
       "  </tbody>\n",
       "</table>\n",
       "<p>14798 rows × 28 columns</p>\n",
       "</div>"
      ],
      "text/plain": [
       "                             key correlation  chroma_stft      rmse  \\\n",
       "0            1591363379163_0.wav   allergies     0.524454  0.003503   \n",
       "1            1591363379163_1.wav   allergies     0.416481  0.072161   \n",
       "2            1591363379163_2.wav   allergies     0.412128  0.124396   \n",
       "3            1591363379163_3.wav   allergies     0.487229  0.100306   \n",
       "4            1591363379163_4.wav   allergies     0.556395  0.046316   \n",
       "...                          ...         ...          ...       ...   \n",
       "14793  1630617115433_speed_5.wav   pneumonia     0.504339  0.012863   \n",
       "14794  1630617115433_speed_6.wav   pneumonia     0.528079  0.042942   \n",
       "14795  1630617115433_speed_7.wav   pneumonia     0.468409  0.067464   \n",
       "14796  1630617115433_speed_8.wav   pneumonia     0.441320  0.043443   \n",
       "14797  1630617115433_speed_9.wav   pneumonia     0.465952  0.018882   \n",
       "\n",
       "       spectral_centroid  spectral_bandwidth      rolloff  zero_crossing_rate  \\\n",
       "0            2159.131164         2021.219219  4512.918923            0.118974   \n",
       "1            1924.665417         1918.047708  4037.230890            0.111439   \n",
       "2            1448.453361         1732.121955  2947.112482            0.070756   \n",
       "3            1350.369514         1639.811992  2715.875244            0.064997   \n",
       "4            1938.944422         1911.583750  4136.087868            0.119385   \n",
       "...                  ...                 ...          ...                 ...   \n",
       "14793        3073.827712         2249.704110  5552.140669            0.251332   \n",
       "14794        3406.895725         2304.867135  5833.540483            0.305054   \n",
       "14795        2973.400900         2331.009117  5599.366899            0.227461   \n",
       "14796        2768.314350         2264.346168  5305.487615            0.198497   \n",
       "14797        3322.779120         2189.963843  5521.309038            0.291426   \n",
       "\n",
       "            mfcc1       mfcc2  ...     mfcc11     mfcc12    mfcc13     mfcc14  \\\n",
       "0     -477.664673  116.399292  ...   9.357745 -13.794257  4.277086   6.179628   \n",
       "1     -278.992035  114.890671  ...   8.243503 -18.375893 -2.123168   5.627200   \n",
       "2     -201.681244  142.291702  ...   3.693502 -12.944245  7.432921  -3.477646   \n",
       "3     -243.089661  145.864502  ...   6.954595 -11.851579  4.839436  -3.185500   \n",
       "4     -316.657654  117.775612  ...  12.845105 -14.421775 -2.565778   0.730787   \n",
       "...           ...         ...  ...        ...        ...       ...        ...   \n",
       "14793 -380.690033   92.061943  ...  11.618156 -21.125475  4.719792 -10.954749   \n",
       "14794 -313.244415   80.088020  ...   9.169736 -19.621975  7.770680  -9.857676   \n",
       "14795 -233.976868  100.803879  ...  12.215497 -19.462446  3.570148  -6.762970   \n",
       "14796 -279.545441   96.625977  ...  15.501517 -17.341478  0.088896  -2.183691   \n",
       "14797 -355.480652   75.091972  ...  19.072374 -17.937035  1.796939  -1.905991   \n",
       "\n",
       "          mfcc15     mfcc16     mfcc17     mfcc18    mfcc19    mfcc20  \n",
       "0      16.248001  -2.214058  13.136648  -1.199873  3.703456 -2.345680  \n",
       "1      11.845422  -4.261895   8.714609  -1.774737  1.929945 -1.497545  \n",
       "2       5.489117 -11.890240   7.559861  -1.567741  1.874205 -3.009213  \n",
       "3       4.177882 -11.189816   9.514095  -1.103271  1.849957 -3.752593  \n",
       "4      10.888634  -6.457182  10.307930  -2.149672  3.143193 -3.106141  \n",
       "...          ...        ...        ...        ...       ...       ...  \n",
       "14793   2.640088  -4.810783   7.630625  -9.603418 -5.585784  0.499448  \n",
       "14794   1.100204  -1.257298   4.083265  -7.945234 -5.332254 -3.031887  \n",
       "14795   0.158452  -8.055977   5.682380  -8.689347 -1.617524 -6.976845  \n",
       "14796  -0.465098 -10.659842   7.952493 -10.774840 -2.528926 -3.193502  \n",
       "14797   1.633065  -3.226311   9.265835  -9.434379 -2.828412  2.701966  \n",
       "\n",
       "[14798 rows x 28 columns]"
      ]
     },
     "execution_count": 234,
     "metadata": {},
     "output_type": "execute_result"
    }
   ],
   "source": [
    "train"
   ]
  },
  {
   "cell_type": "code",
   "execution_count": 235,
   "metadata": {},
   "outputs": [],
   "source": [
    "import pandas as pd\n",
    "#train = pd.read_csv(TRAIN_CSV_FILE)\n",
    "test = pd.read_csv(TEST_CSV_FILE)"
   ]
  },
  {
   "cell_type": "code",
   "execution_count": 236,
   "metadata": {},
   "outputs": [],
   "source": [
    "train[['filename','chunk']]= train['key'].str.split('_', 1, expand=True)"
   ]
  },
  {
   "cell_type": "code",
   "execution_count": 237,
   "metadata": {},
   "outputs": [],
   "source": [
    "del train['chunk']"
   ]
  },
  {
   "cell_type": "code",
   "execution_count": 238,
   "metadata": {},
   "outputs": [],
   "source": [
    "del train['key']"
   ]
  },
  {
   "cell_type": "code",
   "execution_count": 239,
   "metadata": {},
   "outputs": [],
   "source": [
    "train['filename'] = pd.factorize(train['filename'])[0]"
   ]
  },
  {
   "cell_type": "code",
   "execution_count": 240,
   "metadata": {},
   "outputs": [],
   "source": [
    "test[['filename','chunk']]= test['key'].str.split('_', 1, expand=True)\n",
    "del test['chunk']\n",
    "del test['key']\n",
    "test['filename'] = pd.factorize(test['filename'])[0]"
   ]
  },
  {
   "cell_type": "code",
   "execution_count": 241,
   "metadata": {},
   "outputs": [
    {
     "data": {
      "text/html": [
       "<div>\n",
       "<style scoped>\n",
       "    .dataframe tbody tr th:only-of-type {\n",
       "        vertical-align: middle;\n",
       "    }\n",
       "\n",
       "    .dataframe tbody tr th {\n",
       "        vertical-align: top;\n",
       "    }\n",
       "\n",
       "    .dataframe thead th {\n",
       "        text-align: right;\n",
       "    }\n",
       "</style>\n",
       "<table border=\"1\" class=\"dataframe\">\n",
       "  <thead>\n",
       "    <tr style=\"text-align: right;\">\n",
       "      <th></th>\n",
       "      <th>correlation</th>\n",
       "      <th>chroma_stft</th>\n",
       "      <th>rmse</th>\n",
       "      <th>spectral_centroid</th>\n",
       "      <th>spectral_bandwidth</th>\n",
       "      <th>rolloff</th>\n",
       "      <th>zero_crossing_rate</th>\n",
       "      <th>mfcc1</th>\n",
       "      <th>mfcc2</th>\n",
       "      <th>mfcc3</th>\n",
       "      <th>...</th>\n",
       "      <th>mfcc12</th>\n",
       "      <th>mfcc13</th>\n",
       "      <th>mfcc14</th>\n",
       "      <th>mfcc15</th>\n",
       "      <th>mfcc16</th>\n",
       "      <th>mfcc17</th>\n",
       "      <th>mfcc18</th>\n",
       "      <th>mfcc19</th>\n",
       "      <th>mfcc20</th>\n",
       "      <th>filename</th>\n",
       "    </tr>\n",
       "  </thead>\n",
       "  <tbody>\n",
       "    <tr>\n",
       "      <th>0</th>\n",
       "      <td>allergies</td>\n",
       "      <td>0.524454</td>\n",
       "      <td>0.003503</td>\n",
       "      <td>2159.131164</td>\n",
       "      <td>2021.219219</td>\n",
       "      <td>4512.918923</td>\n",
       "      <td>0.118974</td>\n",
       "      <td>-477.664673</td>\n",
       "      <td>116.399292</td>\n",
       "      <td>-35.718052</td>\n",
       "      <td>...</td>\n",
       "      <td>-13.794257</td>\n",
       "      <td>4.277086</td>\n",
       "      <td>6.179628</td>\n",
       "      <td>16.248001</td>\n",
       "      <td>-2.214058</td>\n",
       "      <td>13.136648</td>\n",
       "      <td>-1.199873</td>\n",
       "      <td>3.703456</td>\n",
       "      <td>-2.345680</td>\n",
       "      <td>0</td>\n",
       "    </tr>\n",
       "    <tr>\n",
       "      <th>1</th>\n",
       "      <td>allergies</td>\n",
       "      <td>0.416481</td>\n",
       "      <td>0.072161</td>\n",
       "      <td>1924.665417</td>\n",
       "      <td>1918.047708</td>\n",
       "      <td>4037.230890</td>\n",
       "      <td>0.111439</td>\n",
       "      <td>-278.992035</td>\n",
       "      <td>114.890671</td>\n",
       "      <td>-16.514809</td>\n",
       "      <td>...</td>\n",
       "      <td>-18.375893</td>\n",
       "      <td>-2.123168</td>\n",
       "      <td>5.627200</td>\n",
       "      <td>11.845422</td>\n",
       "      <td>-4.261895</td>\n",
       "      <td>8.714609</td>\n",
       "      <td>-1.774737</td>\n",
       "      <td>1.929945</td>\n",
       "      <td>-1.497545</td>\n",
       "      <td>0</td>\n",
       "    </tr>\n",
       "    <tr>\n",
       "      <th>2</th>\n",
       "      <td>allergies</td>\n",
       "      <td>0.412128</td>\n",
       "      <td>0.124396</td>\n",
       "      <td>1448.453361</td>\n",
       "      <td>1732.121955</td>\n",
       "      <td>2947.112482</td>\n",
       "      <td>0.070756</td>\n",
       "      <td>-201.681244</td>\n",
       "      <td>142.291702</td>\n",
       "      <td>-13.531425</td>\n",
       "      <td>...</td>\n",
       "      <td>-12.944245</td>\n",
       "      <td>7.432921</td>\n",
       "      <td>-3.477646</td>\n",
       "      <td>5.489117</td>\n",
       "      <td>-11.890240</td>\n",
       "      <td>7.559861</td>\n",
       "      <td>-1.567741</td>\n",
       "      <td>1.874205</td>\n",
       "      <td>-3.009213</td>\n",
       "      <td>0</td>\n",
       "    </tr>\n",
       "    <tr>\n",
       "      <th>3</th>\n",
       "      <td>allergies</td>\n",
       "      <td>0.487229</td>\n",
       "      <td>0.100306</td>\n",
       "      <td>1350.369514</td>\n",
       "      <td>1639.811992</td>\n",
       "      <td>2715.875244</td>\n",
       "      <td>0.064997</td>\n",
       "      <td>-243.089661</td>\n",
       "      <td>145.864502</td>\n",
       "      <td>-14.255789</td>\n",
       "      <td>...</td>\n",
       "      <td>-11.851579</td>\n",
       "      <td>4.839436</td>\n",
       "      <td>-3.185500</td>\n",
       "      <td>4.177882</td>\n",
       "      <td>-11.189816</td>\n",
       "      <td>9.514095</td>\n",
       "      <td>-1.103271</td>\n",
       "      <td>1.849957</td>\n",
       "      <td>-3.752593</td>\n",
       "      <td>0</td>\n",
       "    </tr>\n",
       "    <tr>\n",
       "      <th>4</th>\n",
       "      <td>allergies</td>\n",
       "      <td>0.556395</td>\n",
       "      <td>0.046316</td>\n",
       "      <td>1938.944422</td>\n",
       "      <td>1911.583750</td>\n",
       "      <td>4136.087868</td>\n",
       "      <td>0.119385</td>\n",
       "      <td>-316.657654</td>\n",
       "      <td>117.775612</td>\n",
       "      <td>-16.894743</td>\n",
       "      <td>...</td>\n",
       "      <td>-14.421775</td>\n",
       "      <td>-2.565778</td>\n",
       "      <td>0.730787</td>\n",
       "      <td>10.888634</td>\n",
       "      <td>-6.457182</td>\n",
       "      <td>10.307930</td>\n",
       "      <td>-2.149672</td>\n",
       "      <td>3.143193</td>\n",
       "      <td>-3.106141</td>\n",
       "      <td>0</td>\n",
       "    </tr>\n",
       "    <tr>\n",
       "      <th>...</th>\n",
       "      <td>...</td>\n",
       "      <td>...</td>\n",
       "      <td>...</td>\n",
       "      <td>...</td>\n",
       "      <td>...</td>\n",
       "      <td>...</td>\n",
       "      <td>...</td>\n",
       "      <td>...</td>\n",
       "      <td>...</td>\n",
       "      <td>...</td>\n",
       "      <td>...</td>\n",
       "      <td>...</td>\n",
       "      <td>...</td>\n",
       "      <td>...</td>\n",
       "      <td>...</td>\n",
       "      <td>...</td>\n",
       "      <td>...</td>\n",
       "      <td>...</td>\n",
       "      <td>...</td>\n",
       "      <td>...</td>\n",
       "      <td>...</td>\n",
       "    </tr>\n",
       "    <tr>\n",
       "      <th>14793</th>\n",
       "      <td>pneumonia</td>\n",
       "      <td>0.504339</td>\n",
       "      <td>0.012863</td>\n",
       "      <td>3073.827712</td>\n",
       "      <td>2249.704110</td>\n",
       "      <td>5552.140669</td>\n",
       "      <td>0.251332</td>\n",
       "      <td>-380.690033</td>\n",
       "      <td>92.061943</td>\n",
       "      <td>-2.006695</td>\n",
       "      <td>...</td>\n",
       "      <td>-21.125475</td>\n",
       "      <td>4.719792</td>\n",
       "      <td>-10.954749</td>\n",
       "      <td>2.640088</td>\n",
       "      <td>-4.810783</td>\n",
       "      <td>7.630625</td>\n",
       "      <td>-9.603418</td>\n",
       "      <td>-5.585784</td>\n",
       "      <td>0.499448</td>\n",
       "      <td>222</td>\n",
       "    </tr>\n",
       "    <tr>\n",
       "      <th>14794</th>\n",
       "      <td>pneumonia</td>\n",
       "      <td>0.528079</td>\n",
       "      <td>0.042942</td>\n",
       "      <td>3406.895725</td>\n",
       "      <td>2304.867135</td>\n",
       "      <td>5833.540483</td>\n",
       "      <td>0.305054</td>\n",
       "      <td>-313.244415</td>\n",
       "      <td>80.088020</td>\n",
       "      <td>0.164812</td>\n",
       "      <td>...</td>\n",
       "      <td>-19.621975</td>\n",
       "      <td>7.770680</td>\n",
       "      <td>-9.857676</td>\n",
       "      <td>1.100204</td>\n",
       "      <td>-1.257298</td>\n",
       "      <td>4.083265</td>\n",
       "      <td>-7.945234</td>\n",
       "      <td>-5.332254</td>\n",
       "      <td>-3.031887</td>\n",
       "      <td>222</td>\n",
       "    </tr>\n",
       "    <tr>\n",
       "      <th>14795</th>\n",
       "      <td>pneumonia</td>\n",
       "      <td>0.468409</td>\n",
       "      <td>0.067464</td>\n",
       "      <td>2973.400900</td>\n",
       "      <td>2331.009117</td>\n",
       "      <td>5599.366899</td>\n",
       "      <td>0.227461</td>\n",
       "      <td>-233.976868</td>\n",
       "      <td>100.803879</td>\n",
       "      <td>-8.398238</td>\n",
       "      <td>...</td>\n",
       "      <td>-19.462446</td>\n",
       "      <td>3.570148</td>\n",
       "      <td>-6.762970</td>\n",
       "      <td>0.158452</td>\n",
       "      <td>-8.055977</td>\n",
       "      <td>5.682380</td>\n",
       "      <td>-8.689347</td>\n",
       "      <td>-1.617524</td>\n",
       "      <td>-6.976845</td>\n",
       "      <td>222</td>\n",
       "    </tr>\n",
       "    <tr>\n",
       "      <th>14796</th>\n",
       "      <td>pneumonia</td>\n",
       "      <td>0.441320</td>\n",
       "      <td>0.043443</td>\n",
       "      <td>2768.314350</td>\n",
       "      <td>2264.346168</td>\n",
       "      <td>5305.487615</td>\n",
       "      <td>0.198497</td>\n",
       "      <td>-279.545441</td>\n",
       "      <td>96.625977</td>\n",
       "      <td>-2.246640</td>\n",
       "      <td>...</td>\n",
       "      <td>-17.341478</td>\n",
       "      <td>0.088896</td>\n",
       "      <td>-2.183691</td>\n",
       "      <td>-0.465098</td>\n",
       "      <td>-10.659842</td>\n",
       "      <td>7.952493</td>\n",
       "      <td>-10.774840</td>\n",
       "      <td>-2.528926</td>\n",
       "      <td>-3.193502</td>\n",
       "      <td>222</td>\n",
       "    </tr>\n",
       "    <tr>\n",
       "      <th>14797</th>\n",
       "      <td>pneumonia</td>\n",
       "      <td>0.465952</td>\n",
       "      <td>0.018882</td>\n",
       "      <td>3322.779120</td>\n",
       "      <td>2189.963843</td>\n",
       "      <td>5521.309038</td>\n",
       "      <td>0.291426</td>\n",
       "      <td>-355.480652</td>\n",
       "      <td>75.091972</td>\n",
       "      <td>2.533186</td>\n",
       "      <td>...</td>\n",
       "      <td>-17.937035</td>\n",
       "      <td>1.796939</td>\n",
       "      <td>-1.905991</td>\n",
       "      <td>1.633065</td>\n",
       "      <td>-3.226311</td>\n",
       "      <td>9.265835</td>\n",
       "      <td>-9.434379</td>\n",
       "      <td>-2.828412</td>\n",
       "      <td>2.701966</td>\n",
       "      <td>222</td>\n",
       "    </tr>\n",
       "  </tbody>\n",
       "</table>\n",
       "<p>14798 rows × 28 columns</p>\n",
       "</div>"
      ],
      "text/plain": [
       "      correlation  chroma_stft      rmse  spectral_centroid  \\\n",
       "0       allergies     0.524454  0.003503        2159.131164   \n",
       "1       allergies     0.416481  0.072161        1924.665417   \n",
       "2       allergies     0.412128  0.124396        1448.453361   \n",
       "3       allergies     0.487229  0.100306        1350.369514   \n",
       "4       allergies     0.556395  0.046316        1938.944422   \n",
       "...           ...          ...       ...                ...   \n",
       "14793   pneumonia     0.504339  0.012863        3073.827712   \n",
       "14794   pneumonia     0.528079  0.042942        3406.895725   \n",
       "14795   pneumonia     0.468409  0.067464        2973.400900   \n",
       "14796   pneumonia     0.441320  0.043443        2768.314350   \n",
       "14797   pneumonia     0.465952  0.018882        3322.779120   \n",
       "\n",
       "       spectral_bandwidth      rolloff  zero_crossing_rate       mfcc1  \\\n",
       "0             2021.219219  4512.918923            0.118974 -477.664673   \n",
       "1             1918.047708  4037.230890            0.111439 -278.992035   \n",
       "2             1732.121955  2947.112482            0.070756 -201.681244   \n",
       "3             1639.811992  2715.875244            0.064997 -243.089661   \n",
       "4             1911.583750  4136.087868            0.119385 -316.657654   \n",
       "...                   ...          ...                 ...         ...   \n",
       "14793         2249.704110  5552.140669            0.251332 -380.690033   \n",
       "14794         2304.867135  5833.540483            0.305054 -313.244415   \n",
       "14795         2331.009117  5599.366899            0.227461 -233.976868   \n",
       "14796         2264.346168  5305.487615            0.198497 -279.545441   \n",
       "14797         2189.963843  5521.309038            0.291426 -355.480652   \n",
       "\n",
       "            mfcc2      mfcc3  ...     mfcc12    mfcc13     mfcc14     mfcc15  \\\n",
       "0      116.399292 -35.718052  ... -13.794257  4.277086   6.179628  16.248001   \n",
       "1      114.890671 -16.514809  ... -18.375893 -2.123168   5.627200  11.845422   \n",
       "2      142.291702 -13.531425  ... -12.944245  7.432921  -3.477646   5.489117   \n",
       "3      145.864502 -14.255789  ... -11.851579  4.839436  -3.185500   4.177882   \n",
       "4      117.775612 -16.894743  ... -14.421775 -2.565778   0.730787  10.888634   \n",
       "...           ...        ...  ...        ...       ...        ...        ...   \n",
       "14793   92.061943  -2.006695  ... -21.125475  4.719792 -10.954749   2.640088   \n",
       "14794   80.088020   0.164812  ... -19.621975  7.770680  -9.857676   1.100204   \n",
       "14795  100.803879  -8.398238  ... -19.462446  3.570148  -6.762970   0.158452   \n",
       "14796   96.625977  -2.246640  ... -17.341478  0.088896  -2.183691  -0.465098   \n",
       "14797   75.091972   2.533186  ... -17.937035  1.796939  -1.905991   1.633065   \n",
       "\n",
       "          mfcc16     mfcc17     mfcc18    mfcc19    mfcc20  filename  \n",
       "0      -2.214058  13.136648  -1.199873  3.703456 -2.345680         0  \n",
       "1      -4.261895   8.714609  -1.774737  1.929945 -1.497545         0  \n",
       "2     -11.890240   7.559861  -1.567741  1.874205 -3.009213         0  \n",
       "3     -11.189816   9.514095  -1.103271  1.849957 -3.752593         0  \n",
       "4      -6.457182  10.307930  -2.149672  3.143193 -3.106141         0  \n",
       "...          ...        ...        ...       ...       ...       ...  \n",
       "14793  -4.810783   7.630625  -9.603418 -5.585784  0.499448       222  \n",
       "14794  -1.257298   4.083265  -7.945234 -5.332254 -3.031887       222  \n",
       "14795  -8.055977   5.682380  -8.689347 -1.617524 -6.976845       222  \n",
       "14796 -10.659842   7.952493 -10.774840 -2.528926 -3.193502       222  \n",
       "14797  -3.226311   9.265835  -9.434379 -2.828412  2.701966       222  \n",
       "\n",
       "[14798 rows x 28 columns]"
      ]
     },
     "execution_count": 241,
     "metadata": {},
     "output_type": "execute_result"
    }
   ],
   "source": [
    "train"
   ]
  },
  {
   "cell_type": "code",
   "execution_count": 242,
   "metadata": {},
   "outputs": [
    {
     "data": {
      "text/plain": [
       "covid        3496\n",
       "other        3329\n",
       "allergies    3196\n",
       "asthma       3012\n",
       "pneumonia    1765\n",
       "Name: correlation, dtype: int64"
      ]
     },
     "execution_count": 242,
     "metadata": {},
     "output_type": "execute_result"
    }
   ],
   "source": [
    "train['correlation'].value_counts()"
   ]
  },
  {
   "cell_type": "code",
   "execution_count": 243,
   "metadata": {},
   "outputs": [
    {
     "data": {
      "text/plain": [
       "allergies    724\n",
       "asthma       723\n",
       "covid        720\n",
       "pneumonia    719\n",
       "other        716\n",
       "Name: correlation, dtype: int64"
      ]
     },
     "execution_count": 243,
     "metadata": {},
     "output_type": "execute_result"
    }
   ],
   "source": [
    "test['correlation'].value_counts()"
   ]
  },
  {
   "cell_type": "code",
   "execution_count": 244,
   "metadata": {},
   "outputs": [],
   "source": [
    "test['correlation'] = pd.factorize(test['correlation'])[0]\n",
    "train['correlation'] = pd.factorize(train['correlation'])[0]"
   ]
  },
  {
   "cell_type": "code",
   "execution_count": 245,
   "metadata": {},
   "outputs": [],
   "source": [
    "#test['correlation'] = pd.factorize(test['correlation'])[0]\n",
    "#train['correlation'] = pd.factorize(train['correlation'])[0]"
   ]
  },
  {
   "cell_type": "code",
   "execution_count": 246,
   "metadata": {},
   "outputs": [
    {
     "name": "stdout",
     "output_type": "stream",
     "text": [
      "0    724\n",
      "1    723\n",
      "2    720\n",
      "4    719\n",
      "3    716\n",
      "Name: correlation, dtype: int64\n"
     ]
    }
   ],
   "source": [
    "print(test['correlation'].value_counts())"
   ]
  },
  {
   "cell_type": "code",
   "execution_count": 247,
   "metadata": {},
   "outputs": [
    {
     "name": "stdout",
     "output_type": "stream",
     "text": [
      "2    3496\n",
      "3    3329\n",
      "0    3196\n",
      "1    3012\n",
      "4    1765\n",
      "Name: correlation, dtype: int64\n"
     ]
    }
   ],
   "source": [
    "print(train['correlation'].value_counts())"
   ]
  },
  {
   "cell_type": "code",
   "execution_count": 215,
   "metadata": {},
   "outputs": [
    {
     "name": "stdout",
     "output_type": "stream",
     "text": [
      "0    402\n",
      "1    402\n",
      "2    402\n",
      "3    402\n",
      "4    402\n",
      "Name: correlation, dtype: int64\n"
     ]
    }
   ],
   "source": [
    "print(train['correlation'].value_counts())"
   ]
  },
  {
   "cell_type": "code",
   "execution_count": 216,
   "metadata": {},
   "outputs": [
    {
     "data": {
      "text/html": [
       "<div>\n",
       "<style scoped>\n",
       "    .dataframe tbody tr th:only-of-type {\n",
       "        vertical-align: middle;\n",
       "    }\n",
       "\n",
       "    .dataframe tbody tr th {\n",
       "        vertical-align: top;\n",
       "    }\n",
       "\n",
       "    .dataframe thead th {\n",
       "        text-align: right;\n",
       "    }\n",
       "</style>\n",
       "<table border=\"1\" class=\"dataframe\">\n",
       "  <thead>\n",
       "    <tr style=\"text-align: right;\">\n",
       "      <th></th>\n",
       "      <th>key</th>\n",
       "      <th>correlation</th>\n",
       "      <th>chroma_stft</th>\n",
       "      <th>rmse</th>\n",
       "      <th>spectral_centroid</th>\n",
       "      <th>spectral_bandwidth</th>\n",
       "      <th>rolloff</th>\n",
       "      <th>zero_crossing_rate</th>\n",
       "      <th>mfcc1</th>\n",
       "      <th>mfcc2</th>\n",
       "      <th>...</th>\n",
       "      <th>mfcc11</th>\n",
       "      <th>mfcc12</th>\n",
       "      <th>mfcc13</th>\n",
       "      <th>mfcc14</th>\n",
       "      <th>mfcc15</th>\n",
       "      <th>mfcc16</th>\n",
       "      <th>mfcc17</th>\n",
       "      <th>mfcc18</th>\n",
       "      <th>mfcc19</th>\n",
       "      <th>mfcc20</th>\n",
       "    </tr>\n",
       "  </thead>\n",
       "  <tbody>\n",
       "    <tr>\n",
       "      <th>0</th>\n",
       "      <td>1603442347486_0.wav</td>\n",
       "      <td>0</td>\n",
       "      <td>0.779478</td>\n",
       "      <td>0.050193</td>\n",
       "      <td>288.115039</td>\n",
       "      <td>956.156227</td>\n",
       "      <td>343.797164</td>\n",
       "      <td>0.005338</td>\n",
       "      <td>-459.645386</td>\n",
       "      <td>157.449661</td>\n",
       "      <td>...</td>\n",
       "      <td>0.715976</td>\n",
       "      <td>8.376441</td>\n",
       "      <td>3.719340</td>\n",
       "      <td>4.041049</td>\n",
       "      <td>12.679458</td>\n",
       "      <td>4.364612</td>\n",
       "      <td>11.424557</td>\n",
       "      <td>-0.944280</td>\n",
       "      <td>10.070965</td>\n",
       "      <td>5.323479</td>\n",
       "    </tr>\n",
       "    <tr>\n",
       "      <th>1</th>\n",
       "      <td>1603442347486_1.wav</td>\n",
       "      <td>0</td>\n",
       "      <td>0.800904</td>\n",
       "      <td>0.055082</td>\n",
       "      <td>246.709718</td>\n",
       "      <td>907.607949</td>\n",
       "      <td>308.071622</td>\n",
       "      <td>0.003862</td>\n",
       "      <td>-473.697754</td>\n",
       "      <td>168.211227</td>\n",
       "      <td>...</td>\n",
       "      <td>-1.403503</td>\n",
       "      <td>9.627779</td>\n",
       "      <td>3.585397</td>\n",
       "      <td>3.124698</td>\n",
       "      <td>11.207709</td>\n",
       "      <td>2.163931</td>\n",
       "      <td>13.495655</td>\n",
       "      <td>-0.912194</td>\n",
       "      <td>11.822683</td>\n",
       "      <td>2.729552</td>\n",
       "    </tr>\n",
       "    <tr>\n",
       "      <th>2</th>\n",
       "      <td>1603442347486_10.wav</td>\n",
       "      <td>0</td>\n",
       "      <td>0.691474</td>\n",
       "      <td>0.050547</td>\n",
       "      <td>486.465407</td>\n",
       "      <td>1267.644157</td>\n",
       "      <td>655.049827</td>\n",
       "      <td>0.012218</td>\n",
       "      <td>-438.937286</td>\n",
       "      <td>197.820740</td>\n",
       "      <td>...</td>\n",
       "      <td>-3.653198</td>\n",
       "      <td>9.197322</td>\n",
       "      <td>-1.360180</td>\n",
       "      <td>-7.469585</td>\n",
       "      <td>13.803504</td>\n",
       "      <td>-10.306087</td>\n",
       "      <td>12.609823</td>\n",
       "      <td>-10.798158</td>\n",
       "      <td>12.737912</td>\n",
       "      <td>4.062510</td>\n",
       "    </tr>\n",
       "    <tr>\n",
       "      <th>3</th>\n",
       "      <td>1603442347486_11.wav</td>\n",
       "      <td>0</td>\n",
       "      <td>0.621796</td>\n",
       "      <td>0.181249</td>\n",
       "      <td>675.724274</td>\n",
       "      <td>1475.475237</td>\n",
       "      <td>892.404452</td>\n",
       "      <td>0.023970</td>\n",
       "      <td>-282.934753</td>\n",
       "      <td>237.248398</td>\n",
       "      <td>...</td>\n",
       "      <td>-16.875116</td>\n",
       "      <td>5.986283</td>\n",
       "      <td>1.521341</td>\n",
       "      <td>-3.543556</td>\n",
       "      <td>22.567749</td>\n",
       "      <td>-20.424252</td>\n",
       "      <td>16.937799</td>\n",
       "      <td>-12.147681</td>\n",
       "      <td>17.494648</td>\n",
       "      <td>-5.419091</td>\n",
       "    </tr>\n",
       "    <tr>\n",
       "      <th>4</th>\n",
       "      <td>1603442347486_12.wav</td>\n",
       "      <td>0</td>\n",
       "      <td>0.660660</td>\n",
       "      <td>0.094073</td>\n",
       "      <td>685.049033</td>\n",
       "      <td>1522.721219</td>\n",
       "      <td>979.516047</td>\n",
       "      <td>0.022550</td>\n",
       "      <td>-382.796509</td>\n",
       "      <td>214.092667</td>\n",
       "      <td>...</td>\n",
       "      <td>-18.986876</td>\n",
       "      <td>17.577335</td>\n",
       "      <td>16.530235</td>\n",
       "      <td>1.527412</td>\n",
       "      <td>16.672031</td>\n",
       "      <td>-18.643141</td>\n",
       "      <td>20.070513</td>\n",
       "      <td>-7.721399</td>\n",
       "      <td>19.674316</td>\n",
       "      <td>-0.521447</td>\n",
       "    </tr>\n",
       "    <tr>\n",
       "      <th>...</th>\n",
       "      <td>...</td>\n",
       "      <td>...</td>\n",
       "      <td>...</td>\n",
       "      <td>...</td>\n",
       "      <td>...</td>\n",
       "      <td>...</td>\n",
       "      <td>...</td>\n",
       "      <td>...</td>\n",
       "      <td>...</td>\n",
       "      <td>...</td>\n",
       "      <td>...</td>\n",
       "      <td>...</td>\n",
       "      <td>...</td>\n",
       "      <td>...</td>\n",
       "      <td>...</td>\n",
       "      <td>...</td>\n",
       "      <td>...</td>\n",
       "      <td>...</td>\n",
       "      <td>...</td>\n",
       "      <td>...</td>\n",
       "      <td>...</td>\n",
       "    </tr>\n",
       "    <tr>\n",
       "      <th>2005</th>\n",
       "      <td>1630617115433_5.wav</td>\n",
       "      <td>4</td>\n",
       "      <td>0.444425</td>\n",
       "      <td>0.023013</td>\n",
       "      <td>3639.753819</td>\n",
       "      <td>2180.388180</td>\n",
       "      <td>5734.928200</td>\n",
       "      <td>0.339733</td>\n",
       "      <td>-330.096893</td>\n",
       "      <td>73.816681</td>\n",
       "      <td>...</td>\n",
       "      <td>21.229221</td>\n",
       "      <td>-16.492153</td>\n",
       "      <td>3.575610</td>\n",
       "      <td>-3.322581</td>\n",
       "      <td>0.922660</td>\n",
       "      <td>-3.946052</td>\n",
       "      <td>9.622485</td>\n",
       "      <td>-7.541713</td>\n",
       "      <td>-1.207176</td>\n",
       "      <td>2.338977</td>\n",
       "    </tr>\n",
       "    <tr>\n",
       "      <th>2006</th>\n",
       "      <td>1630617115433_6.wav</td>\n",
       "      <td>4</td>\n",
       "      <td>0.505653</td>\n",
       "      <td>0.119977</td>\n",
       "      <td>2884.002752</td>\n",
       "      <td>2244.268240</td>\n",
       "      <td>5440.804221</td>\n",
       "      <td>0.217973</td>\n",
       "      <td>-199.996872</td>\n",
       "      <td>100.093414</td>\n",
       "      <td>...</td>\n",
       "      <td>8.759502</td>\n",
       "      <td>-13.416610</td>\n",
       "      <td>2.739661</td>\n",
       "      <td>-5.376436</td>\n",
       "      <td>0.059222</td>\n",
       "      <td>-7.374077</td>\n",
       "      <td>4.818901</td>\n",
       "      <td>-9.290490</td>\n",
       "      <td>-0.376637</td>\n",
       "      <td>-6.540622</td>\n",
       "    </tr>\n",
       "    <tr>\n",
       "      <th>2007</th>\n",
       "      <td>1630617115433_7.wav</td>\n",
       "      <td>4</td>\n",
       "      <td>0.536779</td>\n",
       "      <td>0.041179</td>\n",
       "      <td>2108.092036</td>\n",
       "      <td>2088.558477</td>\n",
       "      <td>4426.296720</td>\n",
       "      <td>0.124589</td>\n",
       "      <td>-407.798462</td>\n",
       "      <td>86.235962</td>\n",
       "      <td>...</td>\n",
       "      <td>3.708232</td>\n",
       "      <td>-3.259722</td>\n",
       "      <td>-6.056814</td>\n",
       "      <td>5.396718</td>\n",
       "      <td>-0.937791</td>\n",
       "      <td>-4.265805</td>\n",
       "      <td>-0.282950</td>\n",
       "      <td>-7.957600</td>\n",
       "      <td>-1.122818</td>\n",
       "      <td>-3.469936</td>\n",
       "    </tr>\n",
       "    <tr>\n",
       "      <th>2008</th>\n",
       "      <td>1630617115433_8.wav</td>\n",
       "      <td>4</td>\n",
       "      <td>0.534310</td>\n",
       "      <td>0.010082</td>\n",
       "      <td>2217.294166</td>\n",
       "      <td>2170.542242</td>\n",
       "      <td>5091.134366</td>\n",
       "      <td>0.129339</td>\n",
       "      <td>-451.308197</td>\n",
       "      <td>102.238205</td>\n",
       "      <td>...</td>\n",
       "      <td>5.554382</td>\n",
       "      <td>-7.539816</td>\n",
       "      <td>1.751220</td>\n",
       "      <td>-3.567297</td>\n",
       "      <td>-3.127809</td>\n",
       "      <td>-6.305748</td>\n",
       "      <td>6.980862</td>\n",
       "      <td>-7.857993</td>\n",
       "      <td>-4.228704</td>\n",
       "      <td>1.524270</td>\n",
       "    </tr>\n",
       "    <tr>\n",
       "      <th>2009</th>\n",
       "      <td>1630617115433_9.wav</td>\n",
       "      <td>4</td>\n",
       "      <td>0.700734</td>\n",
       "      <td>0.000765</td>\n",
       "      <td>2418.572046</td>\n",
       "      <td>2199.186517</td>\n",
       "      <td>5167.234664</td>\n",
       "      <td>0.150524</td>\n",
       "      <td>-554.512756</td>\n",
       "      <td>112.171600</td>\n",
       "      <td>...</td>\n",
       "      <td>5.259885</td>\n",
       "      <td>-6.422646</td>\n",
       "      <td>6.069443</td>\n",
       "      <td>-5.910280</td>\n",
       "      <td>7.465800</td>\n",
       "      <td>-6.288251</td>\n",
       "      <td>7.775389</td>\n",
       "      <td>-7.316936</td>\n",
       "      <td>2.681150</td>\n",
       "      <td>-1.879824</td>\n",
       "    </tr>\n",
       "  </tbody>\n",
       "</table>\n",
       "<p>2010 rows × 28 columns</p>\n",
       "</div>"
      ],
      "text/plain": [
       "                       key  correlation  chroma_stft      rmse  \\\n",
       "0      1603442347486_0.wav            0     0.779478  0.050193   \n",
       "1      1603442347486_1.wav            0     0.800904  0.055082   \n",
       "2     1603442347486_10.wav            0     0.691474  0.050547   \n",
       "3     1603442347486_11.wav            0     0.621796  0.181249   \n",
       "4     1603442347486_12.wav            0     0.660660  0.094073   \n",
       "...                    ...          ...          ...       ...   \n",
       "2005   1630617115433_5.wav            4     0.444425  0.023013   \n",
       "2006   1630617115433_6.wav            4     0.505653  0.119977   \n",
       "2007   1630617115433_7.wav            4     0.536779  0.041179   \n",
       "2008   1630617115433_8.wav            4     0.534310  0.010082   \n",
       "2009   1630617115433_9.wav            4     0.700734  0.000765   \n",
       "\n",
       "      spectral_centroid  spectral_bandwidth      rolloff  zero_crossing_rate  \\\n",
       "0            288.115039          956.156227   343.797164            0.005338   \n",
       "1            246.709718          907.607949   308.071622            0.003862   \n",
       "2            486.465407         1267.644157   655.049827            0.012218   \n",
       "3            675.724274         1475.475237   892.404452            0.023970   \n",
       "4            685.049033         1522.721219   979.516047            0.022550   \n",
       "...                 ...                 ...          ...                 ...   \n",
       "2005        3639.753819         2180.388180  5734.928200            0.339733   \n",
       "2006        2884.002752         2244.268240  5440.804221            0.217973   \n",
       "2007        2108.092036         2088.558477  4426.296720            0.124589   \n",
       "2008        2217.294166         2170.542242  5091.134366            0.129339   \n",
       "2009        2418.572046         2199.186517  5167.234664            0.150524   \n",
       "\n",
       "           mfcc1       mfcc2  ...     mfcc11     mfcc12     mfcc13    mfcc14  \\\n",
       "0    -459.645386  157.449661  ...   0.715976   8.376441   3.719340  4.041049   \n",
       "1    -473.697754  168.211227  ...  -1.403503   9.627779   3.585397  3.124698   \n",
       "2    -438.937286  197.820740  ...  -3.653198   9.197322  -1.360180 -7.469585   \n",
       "3    -282.934753  237.248398  ... -16.875116   5.986283   1.521341 -3.543556   \n",
       "4    -382.796509  214.092667  ... -18.986876  17.577335  16.530235  1.527412   \n",
       "...          ...         ...  ...        ...        ...        ...       ...   \n",
       "2005 -330.096893   73.816681  ...  21.229221 -16.492153   3.575610 -3.322581   \n",
       "2006 -199.996872  100.093414  ...   8.759502 -13.416610   2.739661 -5.376436   \n",
       "2007 -407.798462   86.235962  ...   3.708232  -3.259722  -6.056814  5.396718   \n",
       "2008 -451.308197  102.238205  ...   5.554382  -7.539816   1.751220 -3.567297   \n",
       "2009 -554.512756  112.171600  ...   5.259885  -6.422646   6.069443 -5.910280   \n",
       "\n",
       "         mfcc15     mfcc16     mfcc17     mfcc18     mfcc19    mfcc20  \n",
       "0     12.679458   4.364612  11.424557  -0.944280  10.070965  5.323479  \n",
       "1     11.207709   2.163931  13.495655  -0.912194  11.822683  2.729552  \n",
       "2     13.803504 -10.306087  12.609823 -10.798158  12.737912  4.062510  \n",
       "3     22.567749 -20.424252  16.937799 -12.147681  17.494648 -5.419091  \n",
       "4     16.672031 -18.643141  20.070513  -7.721399  19.674316 -0.521447  \n",
       "...         ...        ...        ...        ...        ...       ...  \n",
       "2005   0.922660  -3.946052   9.622485  -7.541713  -1.207176  2.338977  \n",
       "2006   0.059222  -7.374077   4.818901  -9.290490  -0.376637 -6.540622  \n",
       "2007  -0.937791  -4.265805  -0.282950  -7.957600  -1.122818 -3.469936  \n",
       "2008  -3.127809  -6.305748   6.980862  -7.857993  -4.228704  1.524270  \n",
       "2009   7.465800  -6.288251   7.775389  -7.316936   2.681150 -1.879824  \n",
       "\n",
       "[2010 rows x 28 columns]"
      ]
     },
     "execution_count": 216,
     "metadata": {},
     "output_type": "execute_result"
    }
   ],
   "source": [
    "train"
   ]
  },
  {
   "cell_type": "markdown",
   "metadata": {},
   "source": [
    "MACHINE LEARNING"
   ]
  },
  {
   "cell_type": "code",
   "execution_count": 393,
   "metadata": {},
   "outputs": [],
   "source": [
    "corr = [0, 1]\n",
    "train_2 = train[train.correlation.isin(corr)]\n",
    "test_2 = test[test.correlation.isin(corr)]"
   ]
  },
  {
   "cell_type": "code",
   "execution_count": 394,
   "metadata": {},
   "outputs": [
    {
     "data": {
      "text/html": [
       "<div>\n",
       "<style scoped>\n",
       "    .dataframe tbody tr th:only-of-type {\n",
       "        vertical-align: middle;\n",
       "    }\n",
       "\n",
       "    .dataframe tbody tr th {\n",
       "        vertical-align: top;\n",
       "    }\n",
       "\n",
       "    .dataframe thead th {\n",
       "        text-align: right;\n",
       "    }\n",
       "</style>\n",
       "<table border=\"1\" class=\"dataframe\">\n",
       "  <thead>\n",
       "    <tr style=\"text-align: right;\">\n",
       "      <th></th>\n",
       "      <th>correlation</th>\n",
       "      <th>chroma_stft</th>\n",
       "      <th>rmse</th>\n",
       "      <th>spectral_centroid</th>\n",
       "      <th>spectral_bandwidth</th>\n",
       "      <th>rolloff</th>\n",
       "      <th>zero_crossing_rate</th>\n",
       "      <th>mfcc1</th>\n",
       "      <th>mfcc2</th>\n",
       "      <th>mfcc3</th>\n",
       "      <th>...</th>\n",
       "      <th>mfcc12</th>\n",
       "      <th>mfcc13</th>\n",
       "      <th>mfcc14</th>\n",
       "      <th>mfcc15</th>\n",
       "      <th>mfcc16</th>\n",
       "      <th>mfcc17</th>\n",
       "      <th>mfcc18</th>\n",
       "      <th>mfcc19</th>\n",
       "      <th>mfcc20</th>\n",
       "      <th>filename</th>\n",
       "    </tr>\n",
       "  </thead>\n",
       "  <tbody>\n",
       "    <tr>\n",
       "      <th>0</th>\n",
       "      <td>0</td>\n",
       "      <td>0.524454</td>\n",
       "      <td>0.003503</td>\n",
       "      <td>2159.131164</td>\n",
       "      <td>2021.219219</td>\n",
       "      <td>4512.918923</td>\n",
       "      <td>0.118974</td>\n",
       "      <td>-477.664673</td>\n",
       "      <td>116.399292</td>\n",
       "      <td>-35.718052</td>\n",
       "      <td>...</td>\n",
       "      <td>-13.794257</td>\n",
       "      <td>4.277086</td>\n",
       "      <td>6.179628</td>\n",
       "      <td>16.248001</td>\n",
       "      <td>-2.214058</td>\n",
       "      <td>13.136648</td>\n",
       "      <td>-1.199873</td>\n",
       "      <td>3.703456</td>\n",
       "      <td>-2.345680</td>\n",
       "      <td>0</td>\n",
       "    </tr>\n",
       "    <tr>\n",
       "      <th>1</th>\n",
       "      <td>0</td>\n",
       "      <td>0.416481</td>\n",
       "      <td>0.072161</td>\n",
       "      <td>1924.665417</td>\n",
       "      <td>1918.047708</td>\n",
       "      <td>4037.230890</td>\n",
       "      <td>0.111439</td>\n",
       "      <td>-278.992035</td>\n",
       "      <td>114.890671</td>\n",
       "      <td>-16.514809</td>\n",
       "      <td>...</td>\n",
       "      <td>-18.375893</td>\n",
       "      <td>-2.123168</td>\n",
       "      <td>5.627200</td>\n",
       "      <td>11.845422</td>\n",
       "      <td>-4.261895</td>\n",
       "      <td>8.714609</td>\n",
       "      <td>-1.774737</td>\n",
       "      <td>1.929945</td>\n",
       "      <td>-1.497545</td>\n",
       "      <td>0</td>\n",
       "    </tr>\n",
       "    <tr>\n",
       "      <th>2</th>\n",
       "      <td>0</td>\n",
       "      <td>0.412128</td>\n",
       "      <td>0.124396</td>\n",
       "      <td>1448.453361</td>\n",
       "      <td>1732.121955</td>\n",
       "      <td>2947.112482</td>\n",
       "      <td>0.070756</td>\n",
       "      <td>-201.681244</td>\n",
       "      <td>142.291702</td>\n",
       "      <td>-13.531425</td>\n",
       "      <td>...</td>\n",
       "      <td>-12.944245</td>\n",
       "      <td>7.432921</td>\n",
       "      <td>-3.477646</td>\n",
       "      <td>5.489117</td>\n",
       "      <td>-11.890240</td>\n",
       "      <td>7.559861</td>\n",
       "      <td>-1.567741</td>\n",
       "      <td>1.874205</td>\n",
       "      <td>-3.009213</td>\n",
       "      <td>0</td>\n",
       "    </tr>\n",
       "    <tr>\n",
       "      <th>3</th>\n",
       "      <td>0</td>\n",
       "      <td>0.487229</td>\n",
       "      <td>0.100306</td>\n",
       "      <td>1350.369514</td>\n",
       "      <td>1639.811992</td>\n",
       "      <td>2715.875244</td>\n",
       "      <td>0.064997</td>\n",
       "      <td>-243.089661</td>\n",
       "      <td>145.864502</td>\n",
       "      <td>-14.255789</td>\n",
       "      <td>...</td>\n",
       "      <td>-11.851579</td>\n",
       "      <td>4.839436</td>\n",
       "      <td>-3.185500</td>\n",
       "      <td>4.177882</td>\n",
       "      <td>-11.189816</td>\n",
       "      <td>9.514095</td>\n",
       "      <td>-1.103271</td>\n",
       "      <td>1.849957</td>\n",
       "      <td>-3.752593</td>\n",
       "      <td>0</td>\n",
       "    </tr>\n",
       "    <tr>\n",
       "      <th>4</th>\n",
       "      <td>0</td>\n",
       "      <td>0.556395</td>\n",
       "      <td>0.046316</td>\n",
       "      <td>1938.944422</td>\n",
       "      <td>1911.583750</td>\n",
       "      <td>4136.087868</td>\n",
       "      <td>0.119385</td>\n",
       "      <td>-316.657654</td>\n",
       "      <td>117.775612</td>\n",
       "      <td>-16.894743</td>\n",
       "      <td>...</td>\n",
       "      <td>-14.421775</td>\n",
       "      <td>-2.565778</td>\n",
       "      <td>0.730787</td>\n",
       "      <td>10.888634</td>\n",
       "      <td>-6.457182</td>\n",
       "      <td>10.307930</td>\n",
       "      <td>-2.149672</td>\n",
       "      <td>3.143193</td>\n",
       "      <td>-3.106141</td>\n",
       "      <td>0</td>\n",
       "    </tr>\n",
       "    <tr>\n",
       "      <th>...</th>\n",
       "      <td>...</td>\n",
       "      <td>...</td>\n",
       "      <td>...</td>\n",
       "      <td>...</td>\n",
       "      <td>...</td>\n",
       "      <td>...</td>\n",
       "      <td>...</td>\n",
       "      <td>...</td>\n",
       "      <td>...</td>\n",
       "      <td>...</td>\n",
       "      <td>...</td>\n",
       "      <td>...</td>\n",
       "      <td>...</td>\n",
       "      <td>...</td>\n",
       "      <td>...</td>\n",
       "      <td>...</td>\n",
       "      <td>...</td>\n",
       "      <td>...</td>\n",
       "      <td>...</td>\n",
       "      <td>...</td>\n",
       "      <td>...</td>\n",
       "    </tr>\n",
       "    <tr>\n",
       "      <th>6203</th>\n",
       "      <td>1</td>\n",
       "      <td>0.406757</td>\n",
       "      <td>0.061758</td>\n",
       "      <td>1967.954183</td>\n",
       "      <td>2006.887565</td>\n",
       "      <td>4443.180708</td>\n",
       "      <td>0.116588</td>\n",
       "      <td>-301.456421</td>\n",
       "      <td>114.468971</td>\n",
       "      <td>-9.609836</td>\n",
       "      <td>...</td>\n",
       "      <td>-12.037444</td>\n",
       "      <td>6.284280</td>\n",
       "      <td>1.156817</td>\n",
       "      <td>-2.243653</td>\n",
       "      <td>-12.608789</td>\n",
       "      <td>7.266687</td>\n",
       "      <td>-2.270951</td>\n",
       "      <td>4.438255</td>\n",
       "      <td>6.756147</td>\n",
       "      <td>119</td>\n",
       "    </tr>\n",
       "    <tr>\n",
       "      <th>6204</th>\n",
       "      <td>1</td>\n",
       "      <td>0.481684</td>\n",
       "      <td>0.031792</td>\n",
       "      <td>2293.513012</td>\n",
       "      <td>2080.574816</td>\n",
       "      <td>4810.468639</td>\n",
       "      <td>0.145153</td>\n",
       "      <td>-320.589447</td>\n",
       "      <td>104.806229</td>\n",
       "      <td>-15.380502</td>\n",
       "      <td>...</td>\n",
       "      <td>-11.770211</td>\n",
       "      <td>5.311013</td>\n",
       "      <td>2.793022</td>\n",
       "      <td>5.720740</td>\n",
       "      <td>-7.478619</td>\n",
       "      <td>5.386984</td>\n",
       "      <td>-1.412912</td>\n",
       "      <td>0.152065</td>\n",
       "      <td>0.549805</td>\n",
       "      <td>119</td>\n",
       "    </tr>\n",
       "    <tr>\n",
       "      <th>6205</th>\n",
       "      <td>1</td>\n",
       "      <td>0.580898</td>\n",
       "      <td>0.003907</td>\n",
       "      <td>2475.555519</td>\n",
       "      <td>2202.895769</td>\n",
       "      <td>5376.449308</td>\n",
       "      <td>0.146440</td>\n",
       "      <td>-442.384796</td>\n",
       "      <td>121.189697</td>\n",
       "      <td>-44.462090</td>\n",
       "      <td>...</td>\n",
       "      <td>-6.597923</td>\n",
       "      <td>10.473542</td>\n",
       "      <td>-3.860429</td>\n",
       "      <td>14.497650</td>\n",
       "      <td>-6.710127</td>\n",
       "      <td>10.330288</td>\n",
       "      <td>-3.803692</td>\n",
       "      <td>5.537288</td>\n",
       "      <td>-4.420136</td>\n",
       "      <td>119</td>\n",
       "    </tr>\n",
       "    <tr>\n",
       "      <th>6206</th>\n",
       "      <td>1</td>\n",
       "      <td>0.476085</td>\n",
       "      <td>0.061203</td>\n",
       "      <td>2206.545463</td>\n",
       "      <td>2067.191284</td>\n",
       "      <td>4800.680819</td>\n",
       "      <td>0.114557</td>\n",
       "      <td>-348.704681</td>\n",
       "      <td>85.906052</td>\n",
       "      <td>-15.124312</td>\n",
       "      <td>...</td>\n",
       "      <td>-0.769904</td>\n",
       "      <td>8.479465</td>\n",
       "      <td>2.133707</td>\n",
       "      <td>13.336059</td>\n",
       "      <td>3.702840</td>\n",
       "      <td>7.067152</td>\n",
       "      <td>-1.673600</td>\n",
       "      <td>-2.856332</td>\n",
       "      <td>2.869330</td>\n",
       "      <td>119</td>\n",
       "    </tr>\n",
       "    <tr>\n",
       "      <th>6207</th>\n",
       "      <td>1</td>\n",
       "      <td>0.366365</td>\n",
       "      <td>0.121387</td>\n",
       "      <td>1993.931079</td>\n",
       "      <td>1899.093008</td>\n",
       "      <td>4252.339504</td>\n",
       "      <td>0.097762</td>\n",
       "      <td>-202.604324</td>\n",
       "      <td>110.540482</td>\n",
       "      <td>-43.442177</td>\n",
       "      <td>...</td>\n",
       "      <td>-3.155507</td>\n",
       "      <td>13.933608</td>\n",
       "      <td>-1.592143</td>\n",
       "      <td>23.204849</td>\n",
       "      <td>2.167193</td>\n",
       "      <td>9.005527</td>\n",
       "      <td>-6.622405</td>\n",
       "      <td>-6.564704</td>\n",
       "      <td>5.726299</td>\n",
       "      <td>119</td>\n",
       "    </tr>\n",
       "  </tbody>\n",
       "</table>\n",
       "<p>6208 rows × 28 columns</p>\n",
       "</div>"
      ],
      "text/plain": [
       "      correlation  chroma_stft      rmse  spectral_centroid  \\\n",
       "0               0     0.524454  0.003503        2159.131164   \n",
       "1               0     0.416481  0.072161        1924.665417   \n",
       "2               0     0.412128  0.124396        1448.453361   \n",
       "3               0     0.487229  0.100306        1350.369514   \n",
       "4               0     0.556395  0.046316        1938.944422   \n",
       "...           ...          ...       ...                ...   \n",
       "6203            1     0.406757  0.061758        1967.954183   \n",
       "6204            1     0.481684  0.031792        2293.513012   \n",
       "6205            1     0.580898  0.003907        2475.555519   \n",
       "6206            1     0.476085  0.061203        2206.545463   \n",
       "6207            1     0.366365  0.121387        1993.931079   \n",
       "\n",
       "      spectral_bandwidth      rolloff  zero_crossing_rate       mfcc1  \\\n",
       "0            2021.219219  4512.918923            0.118974 -477.664673   \n",
       "1            1918.047708  4037.230890            0.111439 -278.992035   \n",
       "2            1732.121955  2947.112482            0.070756 -201.681244   \n",
       "3            1639.811992  2715.875244            0.064997 -243.089661   \n",
       "4            1911.583750  4136.087868            0.119385 -316.657654   \n",
       "...                  ...          ...                 ...         ...   \n",
       "6203         2006.887565  4443.180708            0.116588 -301.456421   \n",
       "6204         2080.574816  4810.468639            0.145153 -320.589447   \n",
       "6205         2202.895769  5376.449308            0.146440 -442.384796   \n",
       "6206         2067.191284  4800.680819            0.114557 -348.704681   \n",
       "6207         1899.093008  4252.339504            0.097762 -202.604324   \n",
       "\n",
       "           mfcc2      mfcc3  ...     mfcc12     mfcc13    mfcc14     mfcc15  \\\n",
       "0     116.399292 -35.718052  ... -13.794257   4.277086  6.179628  16.248001   \n",
       "1     114.890671 -16.514809  ... -18.375893  -2.123168  5.627200  11.845422   \n",
       "2     142.291702 -13.531425  ... -12.944245   7.432921 -3.477646   5.489117   \n",
       "3     145.864502 -14.255789  ... -11.851579   4.839436 -3.185500   4.177882   \n",
       "4     117.775612 -16.894743  ... -14.421775  -2.565778  0.730787  10.888634   \n",
       "...          ...        ...  ...        ...        ...       ...        ...   \n",
       "6203  114.468971  -9.609836  ... -12.037444   6.284280  1.156817  -2.243653   \n",
       "6204  104.806229 -15.380502  ... -11.770211   5.311013  2.793022   5.720740   \n",
       "6205  121.189697 -44.462090  ...  -6.597923  10.473542 -3.860429  14.497650   \n",
       "6206   85.906052 -15.124312  ...  -0.769904   8.479465  2.133707  13.336059   \n",
       "6207  110.540482 -43.442177  ...  -3.155507  13.933608 -1.592143  23.204849   \n",
       "\n",
       "         mfcc16     mfcc17    mfcc18    mfcc19    mfcc20  filename  \n",
       "0     -2.214058  13.136648 -1.199873  3.703456 -2.345680         0  \n",
       "1     -4.261895   8.714609 -1.774737  1.929945 -1.497545         0  \n",
       "2    -11.890240   7.559861 -1.567741  1.874205 -3.009213         0  \n",
       "3    -11.189816   9.514095 -1.103271  1.849957 -3.752593         0  \n",
       "4     -6.457182  10.307930 -2.149672  3.143193 -3.106141         0  \n",
       "...         ...        ...       ...       ...       ...       ...  \n",
       "6203 -12.608789   7.266687 -2.270951  4.438255  6.756147       119  \n",
       "6204  -7.478619   5.386984 -1.412912  0.152065  0.549805       119  \n",
       "6205  -6.710127  10.330288 -3.803692  5.537288 -4.420136       119  \n",
       "6206   3.702840   7.067152 -1.673600 -2.856332  2.869330       119  \n",
       "6207   2.167193   9.005527 -6.622405 -6.564704  5.726299       119  \n",
       "\n",
       "[6208 rows x 28 columns]"
      ]
     },
     "execution_count": 394,
     "metadata": {},
     "output_type": "execute_result"
    }
   ],
   "source": [
    "train_2"
   ]
  },
  {
   "cell_type": "code",
   "execution_count": 395,
   "metadata": {},
   "outputs": [],
   "source": [
    "#train_2"
   ]
  },
  {
   "cell_type": "code",
   "execution_count": 396,
   "metadata": {},
   "outputs": [],
   "source": [
    "X_train = train_2.loc[:, train_2.columns!='correlation']\n",
    "X_test = test_2.loc[:, test_2.columns!='correlation']\n",
    "y_train  = train_2['correlation']\n",
    "y_test = test_2['correlation']"
   ]
  },
  {
   "cell_type": "code",
   "execution_count": 397,
   "metadata": {},
   "outputs": [],
   "source": [
    "#X_train"
   ]
  },
  {
   "cell_type": "code",
   "execution_count": 398,
   "metadata": {},
   "outputs": [],
   "source": [
    "del X_train['filename']\n",
    "del X_test['filename']"
   ]
  },
  {
   "cell_type": "code",
   "execution_count": 399,
   "metadata": {},
   "outputs": [],
   "source": [
    "from sklearn.preprocessing import MinMaxScaler\n",
    "ms = MinMaxScaler()\n",
    "\n",
    "X_train= ms.fit_transform(X_train)\n",
    "X_train = pd.DataFrame(X_train)\n",
    "\n",
    "X_test= ms.fit_transform(X_test)\n",
    "X_test = pd.DataFrame(X_test)"
   ]
  },
  {
   "cell_type": "code",
   "execution_count": 400,
   "metadata": {},
   "outputs": [
    {
     "name": "stdout",
     "output_type": "stream",
     "text": [
      "SVM accuracy:  0.4948168624740843\n"
     ]
    },
    {
     "data": {
      "text/plain": [
       "array([[393, 331],\n",
       "       [400, 323]], dtype=int64)"
      ]
     },
     "execution_count": 400,
     "metadata": {},
     "output_type": "execute_result"
    }
   ],
   "source": [
    "from sklearn.metrics import confusion_matrix\n",
    "from sklearn.metrics import accuracy_score\n",
    "from sklearn.svm import SVC\n",
    "from sklearn import metrics\n",
    "model =SVC()\n",
    "model.fit (X_train, y_train)\n",
    "svm_pred = model.predict(X_test)\n",
    "print ('SVM accuracy: ', accuracy_score (y_test, svm_pred))\n",
    "confusion_matrix(y_test,svm_pred )"
   ]
  },
  {
   "cell_type": "code",
   "execution_count": 401,
   "metadata": {},
   "outputs": [
    {
     "name": "stdout",
     "output_type": "stream",
     "text": [
      "MLP accuracy:  0.5134761575673807\n"
     ]
    },
    {
     "data": {
      "text/plain": [
       "array([[567, 157],\n",
       "       [547, 176]], dtype=int64)"
      ]
     },
     "execution_count": 401,
     "metadata": {},
     "output_type": "execute_result"
    }
   ],
   "source": [
    "from sklearn.preprocessing import MinMaxScaler\n",
    "from sklearn.neural_network import MLPClassifier\n",
    "\n",
    "\n",
    "clf = MLPClassifier(random_state=1,hidden_layer_sizes=3, max_iter=1000).fit(X_train, y_train)\n",
    "#clf.predict_proba(X_test)\n",
    "\n",
    "mlp_pred = clf.predict(X_test)\n",
    "\n",
    "print('MLP accuracy: ',clf.score(X_test, y_test))\n",
    "confusion_matrix(y_test, mlp_pred )"
   ]
  },
  {
   "cell_type": "code",
   "execution_count": 402,
   "metadata": {},
   "outputs": [
    {
     "name": "stdout",
     "output_type": "stream",
     "text": [
      "Random forest Accuracy:  0.5114029025570145\n"
     ]
    },
    {
     "data": {
      "text/plain": [
       "array([[468, 256],\n",
       "       [451, 272]], dtype=int64)"
      ]
     },
     "execution_count": 402,
     "metadata": {},
     "output_type": "execute_result"
    }
   ],
   "source": [
    "from sklearn.ensemble import RandomForestClassifier\n",
    "rf = RandomForestClassifier(n_estimators = 100)\n",
    "rf.fit(X_train, y_train)\n",
    "rf_pred = rf.predict(X_test)\n",
    "print ('Random forest Accuracy: ', accuracy_score (y_test, rf_pred))\n",
    "#predict_cough_type = rf.predict(X_test)\n",
    "#print ('Accuracy: ', accuracy_score (y_test, predict_cough_type))\n",
    "\n",
    "from sklearn.metrics import confusion_matrix\n",
    "\n",
    "confusion_matrix(y_test, rf_pred)"
   ]
  },
  {
   "cell_type": "code",
   "execution_count": 403,
   "metadata": {},
   "outputs": [
    {
     "data": {
      "text/html": [
       "<div>\n",
       "<style scoped>\n",
       "    .dataframe tbody tr th:only-of-type {\n",
       "        vertical-align: middle;\n",
       "    }\n",
       "\n",
       "    .dataframe tbody tr th {\n",
       "        vertical-align: top;\n",
       "    }\n",
       "\n",
       "    .dataframe thead th {\n",
       "        text-align: right;\n",
       "    }\n",
       "</style>\n",
       "<table border=\"1\" class=\"dataframe\">\n",
       "  <thead>\n",
       "    <tr style=\"text-align: right;\">\n",
       "      <th></th>\n",
       "      <th>filename</th>\n",
       "      <th>correlation</th>\n",
       "      <th>SVM prediction</th>\n",
       "      <th>MLP prediction</th>\n",
       "      <th>RF prediction</th>\n",
       "    </tr>\n",
       "  </thead>\n",
       "  <tbody>\n",
       "    <tr>\n",
       "      <th>0</th>\n",
       "      <td>0</td>\n",
       "      <td>0</td>\n",
       "      <td>0</td>\n",
       "      <td>0</td>\n",
       "      <td>1</td>\n",
       "    </tr>\n",
       "    <tr>\n",
       "      <th>1</th>\n",
       "      <td>0</td>\n",
       "      <td>0</td>\n",
       "      <td>0</td>\n",
       "      <td>0</td>\n",
       "      <td>0</td>\n",
       "    </tr>\n",
       "    <tr>\n",
       "      <th>2</th>\n",
       "      <td>0</td>\n",
       "      <td>0</td>\n",
       "      <td>0</td>\n",
       "      <td>0</td>\n",
       "      <td>0</td>\n",
       "    </tr>\n",
       "    <tr>\n",
       "      <th>3</th>\n",
       "      <td>0</td>\n",
       "      <td>0</td>\n",
       "      <td>1</td>\n",
       "      <td>0</td>\n",
       "      <td>0</td>\n",
       "    </tr>\n",
       "    <tr>\n",
       "      <th>4</th>\n",
       "      <td>0</td>\n",
       "      <td>0</td>\n",
       "      <td>0</td>\n",
       "      <td>0</td>\n",
       "      <td>0</td>\n",
       "    </tr>\n",
       "    <tr>\n",
       "      <th>...</th>\n",
       "      <td>...</td>\n",
       "      <td>...</td>\n",
       "      <td>...</td>\n",
       "      <td>...</td>\n",
       "      <td>...</td>\n",
       "    </tr>\n",
       "    <tr>\n",
       "      <th>1442</th>\n",
       "      <td>15</td>\n",
       "      <td>1</td>\n",
       "      <td>1</td>\n",
       "      <td>0</td>\n",
       "      <td>1</td>\n",
       "    </tr>\n",
       "    <tr>\n",
       "      <th>1443</th>\n",
       "      <td>15</td>\n",
       "      <td>1</td>\n",
       "      <td>1</td>\n",
       "      <td>0</td>\n",
       "      <td>1</td>\n",
       "    </tr>\n",
       "    <tr>\n",
       "      <th>1444</th>\n",
       "      <td>15</td>\n",
       "      <td>1</td>\n",
       "      <td>1</td>\n",
       "      <td>0</td>\n",
       "      <td>1</td>\n",
       "    </tr>\n",
       "    <tr>\n",
       "      <th>1445</th>\n",
       "      <td>15</td>\n",
       "      <td>1</td>\n",
       "      <td>0</td>\n",
       "      <td>0</td>\n",
       "      <td>0</td>\n",
       "    </tr>\n",
       "    <tr>\n",
       "      <th>1446</th>\n",
       "      <td>15</td>\n",
       "      <td>1</td>\n",
       "      <td>1</td>\n",
       "      <td>0</td>\n",
       "      <td>1</td>\n",
       "    </tr>\n",
       "  </tbody>\n",
       "</table>\n",
       "<p>1447 rows × 5 columns</p>\n",
       "</div>"
      ],
      "text/plain": [
       "      filename  correlation  SVM prediction  MLP prediction  RF prediction\n",
       "0            0            0               0               0              1\n",
       "1            0            0               0               0              0\n",
       "2            0            0               0               0              0\n",
       "3            0            0               1               0              0\n",
       "4            0            0               0               0              0\n",
       "...        ...          ...             ...             ...            ...\n",
       "1442        15            1               1               0              1\n",
       "1443        15            1               1               0              1\n",
       "1444        15            1               1               0              1\n",
       "1445        15            1               0               0              0\n",
       "1446        15            1               1               0              1\n",
       "\n",
       "[1447 rows x 5 columns]"
      ]
     },
     "execution_count": 403,
     "metadata": {},
     "output_type": "execute_result"
    }
   ],
   "source": [
    "true_test_values = test_2.loc[:, ['filename','correlation']]\n",
    "keys = true_test_values.filename.unique()\n",
    "true_test_values['SVM prediction'] = svm_pred\n",
    "true_test_values['MLP prediction'] = mlp_pred\n",
    "true_test_values['RF prediction'] = rf_pred\n",
    "#true_test_values['SVM prediction'] = svm_pred\n",
    "#true_test_values['SVM prediction'] = y_pred\n",
    "true_test_values"
   ]
  },
  {
   "cell_type": "code",
   "execution_count": 404,
   "metadata": {},
   "outputs": [],
   "source": [
    "#true_test_values = test_2.loc[:, ['filename','correlation']]\n",
    "#keys = true_test_values.filename.unique()\n",
    "#true_test_values['SVM prediction'] = y_pred\n",
    "#true_test_values['SVM prediction'] = y_pred\n",
    "#true_test_values"
   ]
  },
  {
   "cell_type": "code",
   "execution_count": 405,
   "metadata": {},
   "outputs": [],
   "source": [
    "#for i in keys:\n",
    "    #print(i)"
   ]
  },
  {
   "cell_type": "code",
   "execution_count": 406,
   "metadata": {},
   "outputs": [],
   "source": [
    "from scipy.stats import mode\n",
    "\n",
    "Mode = []\n",
    "Mode2 = []\n",
    "Mode3 = []\n",
    "Mode4 = []\n",
    "\n",
    "for i in keys:\n",
    "    m = true_test_values[true_test_values['filename']==i]['correlation'].values\n",
    "    m2 = true_test_values[true_test_values['filename']==i]['SVM prediction'].values\n",
    "    m3 = true_test_values[true_test_values['filename']==i]['MLP prediction'].values\n",
    "    m4 = true_test_values[true_test_values['filename']==i]['RF prediction'].values\n",
    "    \n",
    "    #print(m)\n",
    "    \n",
    "    s = mode(m)[0]\n",
    "    s2 = mode(m2)[0]\n",
    "    s3 = mode(m3)[0]\n",
    "    s4 = mode(m4)[0]\n",
    "    #print(s)\n",
    "    \n",
    "    Mode.append(s[0])\n",
    "    Mode2.append(s2[0])\n",
    "    Mode3.append(s3[0])\n",
    "    Mode4.append(s4[0])"
   ]
  },
  {
   "cell_type": "code",
   "execution_count": 407,
   "metadata": {},
   "outputs": [],
   "source": [
    "svm_list = []\n",
    "mlp_list = []\n",
    "rf_list = []\n",
    "for i in range(len(Mode)):\n",
    "    for j in range(len(Mode2)):\n",
    "        if (i==j):\n",
    "            if (Mode[i]==Mode2[j]):\n",
    "                svm_list.append(i)\n",
    "            if (Mode[i]==Mode3[j]):\n",
    "                mlp_list.append(i)\n",
    "            if (Mode[i]==Mode4[j]):\n",
    "                rf_list.append(i)"
   ]
  },
  {
   "cell_type": "code",
   "execution_count": 408,
   "metadata": {},
   "outputs": [
    {
     "name": "stdout",
     "output_type": "stream",
     "text": [
      "SVM Accuracy score of chunks after voting: 0.5\n",
      "MLP Accuracy score of chunks after voting: 0.5\n",
      "RF Accuracy score of chunks after voting: 0.5\n"
     ]
    }
   ],
   "source": [
    "#17/83\n",
    "SVM_score = len(svm_list)/len(Mode2)\n",
    "print('SVM Accuracy score of chunks after voting:',SVM_score)\n",
    "MLP_score = len(mlp_list)/len(Mode2)\n",
    "print('MLP Accuracy score of chunks after voting:',MLP_score)\n",
    "RF_score = len(rf_list)/len(Mode2)\n",
    "print('RF Accuracy score of chunks after voting:',RF_score)"
   ]
  },
  {
   "cell_type": "code",
   "execution_count": null,
   "metadata": {},
   "outputs": [],
   "source": []
  },
  {
   "cell_type": "code",
   "execution_count": null,
   "metadata": {},
   "outputs": [],
   "source": []
  },
  {
   "cell_type": "code",
   "execution_count": null,
   "metadata": {},
   "outputs": [],
   "source": []
  },
  {
   "cell_type": "code",
   "execution_count": null,
   "metadata": {},
   "outputs": [],
   "source": []
  },
  {
   "cell_type": "code",
   "execution_count": null,
   "metadata": {},
   "outputs": [],
   "source": []
  },
  {
   "cell_type": "code",
   "execution_count": null,
   "metadata": {},
   "outputs": [],
   "source": []
  },
  {
   "cell_type": "code",
   "execution_count": null,
   "metadata": {},
   "outputs": [],
   "source": []
  },
  {
   "cell_type": "code",
   "execution_count": null,
   "metadata": {},
   "outputs": [],
   "source": []
  },
  {
   "cell_type": "code",
   "execution_count": null,
   "metadata": {},
   "outputs": [],
   "source": []
  },
  {
   "cell_type": "code",
   "execution_count": null,
   "metadata": {},
   "outputs": [],
   "source": []
  },
  {
   "cell_type": "code",
   "execution_count": null,
   "metadata": {},
   "outputs": [],
   "source": []
  },
  {
   "cell_type": "code",
   "execution_count": null,
   "metadata": {},
   "outputs": [],
   "source": []
  },
  {
   "cell_type": "code",
   "execution_count": null,
   "metadata": {},
   "outputs": [],
   "source": []
  },
  {
   "cell_type": "code",
   "execution_count": null,
   "metadata": {},
   "outputs": [],
   "source": []
  },
  {
   "cell_type": "code",
   "execution_count": 156,
   "metadata": {},
   "outputs": [],
   "source": [
    "import pandas as pd\n",
    "import os\n",
    "import numpy as np\n",
    "np.set_printoptions(precision=4)\n",
    "import catboost\n",
    "from catboost import *\n",
    "from catboost import datasets\n",
    "from catboost import CatBoostClassifier\n",
    "model_Cat_boost = CatBoostClassifier(#task_type ='GPU',\n",
    "                                    iterations = 20,\n",
    "                                    random_state =2021)\n",
    "                                    #eval_metric ='F1')"
   ]
  },
  {
   "cell_type": "code",
   "execution_count": 157,
   "metadata": {},
   "outputs": [
    {
     "name": "stdout",
     "output_type": "stream",
     "text": [
      "Learning rate set to 0.164649\n",
      "0:\tlearn: 0.6540425\ttest: 0.6654616\tbest: 0.6654616 (0)\ttotal: 162ms\tremaining: 3.07s\n",
      "1:\tlearn: 0.6258333\ttest: 0.6534476\tbest: 0.6534476 (1)\ttotal: 166ms\tremaining: 1.5s\n",
      "2:\tlearn: 0.5987010\ttest: 0.6609820\tbest: 0.6534476 (1)\ttotal: 171ms\tremaining: 971ms\n",
      "3:\tlearn: 0.5857537\ttest: 0.6620594\tbest: 0.6534476 (1)\ttotal: 176ms\tremaining: 704ms\n",
      "4:\tlearn: 0.5618583\ttest: 0.6592674\tbest: 0.6534476 (1)\ttotal: 181ms\tremaining: 543ms\n",
      "5:\tlearn: 0.5477708\ttest: 0.6801327\tbest: 0.6534476 (1)\ttotal: 186ms\tremaining: 434ms\n",
      "6:\tlearn: 0.5286591\ttest: 0.6779323\tbest: 0.6534476 (1)\ttotal: 191ms\tremaining: 356ms\n",
      "7:\tlearn: 0.5109796\ttest: 0.6933329\tbest: 0.6534476 (1)\ttotal: 196ms\tremaining: 293ms\n",
      "8:\tlearn: 0.4984299\ttest: 0.6894782\tbest: 0.6534476 (1)\ttotal: 200ms\tremaining: 244ms\n",
      "9:\tlearn: 0.4870210\ttest: 0.6895413\tbest: 0.6534476 (1)\ttotal: 204ms\tremaining: 204ms\n",
      "10:\tlearn: 0.4784905\ttest: 0.7010724\tbest: 0.6534476 (1)\ttotal: 208ms\tremaining: 170ms\n",
      "11:\tlearn: 0.4662537\ttest: 0.7157746\tbest: 0.6534476 (1)\ttotal: 212ms\tremaining: 142ms\n",
      "12:\tlearn: 0.4557841\ttest: 0.7215931\tbest: 0.6534476 (1)\ttotal: 217ms\tremaining: 117ms\n",
      "13:\tlearn: 0.4434374\ttest: 0.7325100\tbest: 0.6534476 (1)\ttotal: 221ms\tremaining: 94.8ms\n",
      "14:\tlearn: 0.4360705\ttest: 0.7469414\tbest: 0.6534476 (1)\ttotal: 225ms\tremaining: 75.2ms\n",
      "15:\tlearn: 0.4259491\ttest: 0.7398189\tbest: 0.6534476 (1)\ttotal: 230ms\tremaining: 57.4ms\n",
      "16:\tlearn: 0.4185257\ttest: 0.7710302\tbest: 0.6534476 (1)\ttotal: 234ms\tremaining: 41.2ms\n",
      "17:\tlearn: 0.4082702\ttest: 0.7757275\tbest: 0.6534476 (1)\ttotal: 238ms\tremaining: 26.4ms\n",
      "18:\tlearn: 0.4009557\ttest: 0.7863630\tbest: 0.6534476 (1)\ttotal: 242ms\tremaining: 12.8ms\n",
      "19:\tlearn: 0.3951727\ttest: 0.7873985\tbest: 0.6534476 (1)\ttotal: 246ms\tremaining: 0us\n",
      "\n",
      "bestTest = 0.6534475849\n",
      "bestIteration = 1\n",
      "\n",
      "Shrink model to first 2 iterations.\n"
     ]
    },
    {
     "data": {
      "text/plain": [
       "0.625"
      ]
     },
     "execution_count": 157,
     "metadata": {},
     "output_type": "execute_result"
    }
   ],
   "source": [
    "model_Cat_boost.fit(X_train, y_train, #plot ='True',\n",
    "                   eval_set =(X_test, y_test))\n",
    "from sklearn.metrics import accuracy_score\n",
    "y_pred  = model_Cat_boost.predict(X_test)\n",
    "accuracy_score(y_test, y_pred)"
   ]
  },
  {
   "cell_type": "markdown",
   "metadata": {},
   "source": [
    "BALANCED DATASET"
   ]
  },
  {
   "cell_type": "code",
   "execution_count": 183,
   "metadata": {},
   "outputs": [
    {
     "name": "stdout",
     "output_type": "stream",
     "text": [
      "3    460\n",
      "2    360\n",
      "1    208\n",
      "0    172\n",
      "4     88\n",
      "Name: correlation, dtype: int64\n"
     ]
    }
   ],
   "source": [
    "print(train['correlation'].value_counts())"
   ]
  },
  {
   "cell_type": "code",
   "execution_count": 184,
   "metadata": {},
   "outputs": [
    {
     "name": "stdout",
     "output_type": "stream",
     "text": [
      "3    192\n",
      "2    152\n",
      "1     88\n",
      "0     76\n",
      "4     36\n",
      "Name: correlation, dtype: int64\n"
     ]
    }
   ],
   "source": [
    "print(test['correlation'].value_counts())"
   ]
  },
  {
   "cell_type": "code",
   "execution_count": 226,
   "metadata": {},
   "outputs": [],
   "source": [
    "new_df = train.sample(frac=1, random_state =4)\n",
    "\n",
    "# Separate class\n",
    "class_0 = new_df[new_df ['correlation'] == 0].sample(n= 172, random_state =42)\n",
    "class_1 = new_df[new_df ['correlation'] == 1].sample(n= 208, random_state =42)\n",
    "class_2 = new_df[new_df ['correlation'] == 2].sample(n= 172, random_state =42)\n",
    "class_3 = new_df[new_df ['correlation'] == 3].sample(n= 172, random_state =42)\n",
    "class_4 = new_df[new_df ['correlation'] == 4].sample(n= 88, random_state =42)"
   ]
  },
  {
   "cell_type": "code",
   "execution_count": 227,
   "metadata": {},
   "outputs": [],
   "source": [
    "balanced_train  = pd.concat([class_0, class_1, class_2, class_3, class_4])"
   ]
  },
  {
   "cell_type": "code",
   "execution_count": 228,
   "metadata": {},
   "outputs": [
    {
     "name": "stdout",
     "output_type": "stream",
     "text": [
      "3    192\n",
      "2    152\n",
      "1     88\n",
      "0     76\n",
      "4     36\n",
      "Name: correlation, dtype: int64\n"
     ]
    }
   ],
   "source": [
    "print(test['correlation'].value_counts())"
   ]
  },
  {
   "cell_type": "code",
   "execution_count": 229,
   "metadata": {},
   "outputs": [],
   "source": [
    "new_df = test.sample(frac=1, random_state =4)\n",
    "\n",
    "# Separate class\n",
    "class_0 = new_df[new_df ['correlation'] == 0].sample(n= 76, random_state =42)\n",
    "class_1 = new_df[new_df ['correlation'] == 1].sample(n= 88, random_state =42)\n",
    "class_2 = new_df[new_df ['correlation'] == 2].sample(n= 88, random_state =42)\n",
    "class_3 = new_df[new_df ['correlation'] == 3].sample(n= 88, random_state =42)\n",
    "class_4 = new_df[new_df ['correlation'] == 4].sample(n= 36, random_state =42)"
   ]
  },
  {
   "cell_type": "code",
   "execution_count": 230,
   "metadata": {},
   "outputs": [],
   "source": [
    "balanced_test  = pd.concat([class_0, class_1, class_2, class_3, class_4])"
   ]
  },
  {
   "cell_type": "code",
   "execution_count": 231,
   "metadata": {},
   "outputs": [
    {
     "name": "stdout",
     "output_type": "stream",
     "text": [
      "1    88\n",
      "2    88\n",
      "3    88\n",
      "0    76\n",
      "4    36\n",
      "Name: correlation, dtype: int64\n",
      "1    208\n",
      "0    172\n",
      "2    172\n",
      "3    172\n",
      "4     88\n",
      "Name: correlation, dtype: int64\n"
     ]
    }
   ],
   "source": [
    "print(balanced_test['correlation'].value_counts())\n",
    "print(balanced_train['correlation'].value_counts())"
   ]
  },
  {
   "cell_type": "code",
   "execution_count": 232,
   "metadata": {},
   "outputs": [],
   "source": [
    "X_train = balanced_train.loc[:, balanced_train.columns!='correlation']\n",
    "X_test = balanced_test.loc[:, balanced_test.columns!='correlation']\n",
    "y_train  = balanced_train['correlation']\n",
    "y_test = balanced_test['correlation']"
   ]
  },
  {
   "cell_type": "code",
   "execution_count": 233,
   "metadata": {},
   "outputs": [],
   "source": [
    "del X_train['key']\n",
    "del X_test['key']"
   ]
  },
  {
   "cell_type": "code",
   "execution_count": 234,
   "metadata": {},
   "outputs": [],
   "source": [
    "from sklearn.preprocessing import MinMaxScaler\n",
    "ms = MinMaxScaler()\n",
    "\n",
    "X_train= ms.fit_transform(X_train)\n",
    "X_train = pd.DataFrame(X_train)\n",
    "\n",
    "X_test= ms.fit_transform(X_test)\n",
    "X_test = pd.DataFrame(X_test)"
   ]
  },
  {
   "cell_type": "code",
   "execution_count": 235,
   "metadata": {},
   "outputs": [
    {
     "name": "stdout",
     "output_type": "stream",
     "text": [
      "SVM accuracy:  0.21808510638297873\n"
     ]
    }
   ],
   "source": [
    "model =SVC()\n",
    "model.fit (X_train, y_train)\n",
    "y_pred = model.predict(X_test)\n",
    "print ('SVM accuracy: ', accuracy_score (y_test, y_pred))"
   ]
  },
  {
   "cell_type": "code",
   "execution_count": 236,
   "metadata": {},
   "outputs": [
    {
     "name": "stdout",
     "output_type": "stream",
     "text": [
      "MLP accuracy:  0.26595744680851063\n"
     ]
    }
   ],
   "source": [
    "clf = MLPClassifier(random_state=1, max_iter=2000).fit(X_train, y_train)\n",
    "#clf.predict_proba(X_test)\n",
    "\n",
    "clf.predict(X_test)\n",
    "\n",
    "print('MLP accuracy: ',clf.score(X_test, y_test))"
   ]
  },
  {
   "cell_type": "code",
   "execution_count": 237,
   "metadata": {},
   "outputs": [
    {
     "data": {
      "text/plain": [
       "RandomForestClassifier()"
      ]
     },
     "execution_count": 237,
     "metadata": {},
     "output_type": "execute_result"
    }
   ],
   "source": [
    "from sklearn.ensemble import RandomForestClassifier\n",
    "rf = RandomForestClassifier(n_estimators = 100)\n",
    "rf.fit(X_train, y_train)"
   ]
  },
  {
   "cell_type": "code",
   "execution_count": 238,
   "metadata": {},
   "outputs": [
    {
     "name": "stdout",
     "output_type": "stream",
     "text": [
      "Accuracy:  0.24202127659574468\n"
     ]
    },
    {
     "data": {
      "text/plain": [
       "array([[10, 26, 17, 23,  0],\n",
       "       [11, 37, 15, 23,  2],\n",
       "       [10, 35, 21, 21,  1],\n",
       "       [17, 33, 17, 21,  0],\n",
       "       [ 3,  7,  6, 18,  2]], dtype=int64)"
      ]
     },
     "execution_count": 238,
     "metadata": {},
     "output_type": "execute_result"
    }
   ],
   "source": [
    "predict_cough_type = rf.predict(X_test)\n",
    "print ('Accuracy: ', accuracy_score (y_test, predict_cough_type))\n",
    "#predict_cough_type = rf.predict(X_test)\n",
    "#print ('Accuracy: ', accuracy_score (y_test, predict_cough_type))\n",
    "\n",
    "from sklearn.metrics import confusion_matrix\n",
    "\n",
    "confusion_matrix(y_test, predict_cough_type)\n",
    "## confusion matrix"
   ]
  },
  {
   "cell_type": "code",
   "execution_count": 239,
   "metadata": {},
   "outputs": [
    {
     "data": {
      "text/plain": [
       "DecisionTreeClassifier(max_leaf_nodes=10, random_state=0)"
      ]
     },
     "execution_count": 239,
     "metadata": {},
     "output_type": "execute_result"
    }
   ],
   "source": [
    "from sklearn.tree import DecisionTreeClassifier\n",
    "dec_tree_classifier  = DecisionTreeClassifier (max_leaf_nodes = 10, random_state =0)\n",
    "dec_tree_classifier.fit(X_train, y_train)"
   ]
  },
  {
   "cell_type": "code",
   "execution_count": 240,
   "metadata": {},
   "outputs": [],
   "source": [
    "y_predicted  = dec_tree_classifier.predict(X_test)"
   ]
  },
  {
   "cell_type": "code",
   "execution_count": 241,
   "metadata": {},
   "outputs": [
    {
     "data": {
      "text/plain": [
       "22.340425531914892"
      ]
     },
     "execution_count": 241,
     "metadata": {},
     "output_type": "execute_result"
    }
   ],
   "source": [
    "accuracy_score(y_test, y_predicted)*100"
   ]
  },
  {
   "cell_type": "code",
   "execution_count": 242,
   "metadata": {},
   "outputs": [],
   "source": [
    "import pandas as pd\n",
    "import os\n",
    "import numpy as np\n",
    "np.set_printoptions(precision=4)\n",
    "import catboost\n",
    "from catboost import *\n",
    "from catboost import datasets"
   ]
  },
  {
   "cell_type": "code",
   "execution_count": 243,
   "metadata": {},
   "outputs": [],
   "source": [
    "import catboost\n",
    "\n",
    "from catboost import CatBoostClassifier"
   ]
  },
  {
   "cell_type": "code",
   "execution_count": 244,
   "metadata": {},
   "outputs": [],
   "source": [
    "model_Cat_boost = CatBoostClassifier(#task_type ='GPU',\n",
    "                                    iterations = 20,\n",
    "                                    random_state =2021)\n",
    "                                    #eval_metric ='F1')"
   ]
  },
  {
   "cell_type": "code",
   "execution_count": 245,
   "metadata": {},
   "outputs": [
    {
     "data": {
      "application/vnd.jupyter.widget-view+json": {
       "model_id": "07e1854591794f7daf7042119cfbb42d",
       "version_major": 2,
       "version_minor": 0
      },
      "text/plain": [
       "MetricVisualizer(layout=Layout(align_self='stretch', height='500px'))"
      ]
     },
     "metadata": {},
     "output_type": "display_data"
    },
    {
     "name": "stdout",
     "output_type": "stream",
     "text": [
      "Learning rate set to 0.47921\n",
      "0:\tlearn: 1.4952140\ttest: 1.5926795\tbest: 1.5926795 (0)\ttotal: 13ms\tremaining: 248ms\n",
      "1:\tlearn: 1.4305778\ttest: 1.6007032\tbest: 1.5926795 (0)\ttotal: 24.9ms\tremaining: 225ms\n",
      "2:\tlearn: 1.3612212\ttest: 1.6219610\tbest: 1.5926795 (0)\ttotal: 38.2ms\tremaining: 217ms\n",
      "3:\tlearn: 1.2914811\ttest: 1.6457481\tbest: 1.5926795 (0)\ttotal: 50.3ms\tremaining: 201ms\n",
      "4:\tlearn: 1.2479166\ttest: 1.6595692\tbest: 1.5926795 (0)\ttotal: 62.4ms\tremaining: 187ms\n",
      "5:\tlearn: 1.2088818\ttest: 1.6729226\tbest: 1.5926795 (0)\ttotal: 76.7ms\tremaining: 179ms\n",
      "6:\tlearn: 1.1596237\ttest: 1.6875599\tbest: 1.5926795 (0)\ttotal: 88.8ms\tremaining: 165ms\n",
      "7:\tlearn: 1.1051763\ttest: 1.7042438\tbest: 1.5926795 (0)\ttotal: 102ms\tremaining: 152ms\n",
      "8:\tlearn: 1.0687560\ttest: 1.7157231\tbest: 1.5926795 (0)\ttotal: 113ms\tremaining: 139ms\n",
      "9:\tlearn: 1.0401517\ttest: 1.7324013\tbest: 1.5926795 (0)\ttotal: 125ms\tremaining: 125ms\n",
      "10:\tlearn: 0.9920159\ttest: 1.7610686\tbest: 1.5926795 (0)\ttotal: 137ms\tremaining: 112ms\n",
      "11:\tlearn: 0.9565131\ttest: 1.7890480\tbest: 1.5926795 (0)\ttotal: 148ms\tremaining: 98.5ms\n",
      "12:\tlearn: 0.9263769\ttest: 1.8118915\tbest: 1.5926795 (0)\ttotal: 159ms\tremaining: 85.7ms\n",
      "13:\tlearn: 0.8927266\ttest: 1.8305872\tbest: 1.5926795 (0)\ttotal: 170ms\tremaining: 73ms\n",
      "14:\tlearn: 0.8758088\ttest: 1.8254833\tbest: 1.5926795 (0)\ttotal: 182ms\tremaining: 60.6ms\n",
      "15:\tlearn: 0.8582771\ttest: 1.8351220\tbest: 1.5926795 (0)\ttotal: 194ms\tremaining: 48.6ms\n",
      "16:\tlearn: 0.8225711\ttest: 1.8529863\tbest: 1.5926795 (0)\ttotal: 207ms\tremaining: 36.4ms\n",
      "17:\tlearn: 0.8060506\ttest: 1.8578195\tbest: 1.5926795 (0)\ttotal: 218ms\tremaining: 24.2ms\n",
      "18:\tlearn: 0.7792161\ttest: 1.8701488\tbest: 1.5926795 (0)\ttotal: 229ms\tremaining: 12.1ms\n",
      "19:\tlearn: 0.7527072\ttest: 1.8800079\tbest: 1.5926795 (0)\ttotal: 241ms\tremaining: 0us\n",
      "\n",
      "bestTest = 1.592679477\n",
      "bestIteration = 0\n",
      "\n",
      "Shrink model to first 1 iterations.\n"
     ]
    },
    {
     "data": {
      "text/plain": [
       "<catboost.core.CatBoostClassifier at 0x2c3c6e4a6a0>"
      ]
     },
     "execution_count": 245,
     "metadata": {},
     "output_type": "execute_result"
    }
   ],
   "source": [
    "model_Cat_boost.fit(X_train, y_train, plot ='True',\n",
    "                   eval_set =(X_test, y_test))"
   ]
  },
  {
   "cell_type": "code",
   "execution_count": 246,
   "metadata": {},
   "outputs": [
    {
     "data": {
      "text/plain": [
       "0.2632978723404255"
      ]
     },
     "execution_count": 246,
     "metadata": {},
     "output_type": "execute_result"
    }
   ],
   "source": [
    "from sklearn.metrics import accuracy_score\n",
    "y_pred  = model_Cat_boost.predict(X_test)\n",
    "accuracy_score(y_test, y_pred)"
   ]
  },
  {
   "cell_type": "code",
   "execution_count": 247,
   "metadata": {},
   "outputs": [
    {
     "name": "stdout",
     "output_type": "stream",
     "text": [
      "[18:53:25] WARNING: C:/Users/Administrator/workspace/xgboost-win64_release_1.5.0/src/learner.cc:576: \n",
      "Parameters: { \"boosting\", \"feature_fraction\", \"metric\", \"num_iterations\", \"scale_pos_weight\" } might not be used.\n",
      "\n",
      "  This could be a false alarm, with some parameters getting used by language bindings but\n",
      "  then being mistakenly passed down to XGBoost core, or some parameter actually being used\n",
      "  but getting flagged wrongly here. Please open an issue if you find any such cases.\n",
      "\n",
      "\n",
      "Accuracy score:0.23138297872340424\n",
      "F1 score:0.2203921042270621\n",
      "[[15 20 16 21  4]\n",
      " [13 32 16 26  1]\n",
      " [10 28 20 28  2]\n",
      " [16 29 22 20  1]\n",
      " [ 3 10  7 16  0]]\n"
     ]
    }
   ],
   "source": [
    "from xgboost import XGBClassifier\n",
    "from sklearn.metrics import f1_score\n",
    "from sklearn.metrics import classification_report, accuracy_score\n",
    "import xgboost\n",
    "\n",
    "\n",
    "#xgb = XGBClassifier(use_label_encoder =False)\n",
    "xgb = xgboost.XGBClassifier(num_class=5,\n",
    "                            use_label_encoder =False,\n",
    "                                  learning_rate=0.1,\n",
    "                                  num_iterations=1000,\n",
    "                                  max_depth=10,\n",
    "                                  feature_fraction=0.7, \n",
    "                                  scale_pos_weight=1.5,\n",
    "                                  boosting='gbdt',\n",
    "                                  metric='multiclass',\n",
    "                                  eval_metric='mlogloss')\n",
    "X_train = np.asarray(X_train)\n",
    "y_train = np.asarray(y_train)\n",
    "\n",
    "xgb.fit(X_train, y_train)\n",
    "y_pred = xgb.predict(np.asarray(X_test))\n",
    "y_pred = [round(value) for value in y_pred]\n",
    "print('Accuracy score:' + str(accuracy_score(y_test, y_pred)))\n",
    "print('F1 score:' + str(f1_score(y_test, y_pred, average = 'weighted')))\n",
    "print(confusion_matrix(y_test, y_pred))"
   ]
  },
  {
   "cell_type": "code",
   "execution_count": 248,
   "metadata": {},
   "outputs": [],
   "source": [
    "## One class classification"
   ]
  },
  {
   "cell_type": "code",
   "execution_count": 249,
   "metadata": {},
   "outputs": [],
   "source": [
    "#y_train"
   ]
  },
  {
   "cell_type": "code",
   "execution_count": 304,
   "metadata": {},
   "outputs": [],
   "source": [
    "corr = [0,3]\n",
    "train_2 = balanced_train[balanced_train.correlation.isin(corr)]\n",
    "test_2 = balanced_test[balanced_test.correlation.isin(corr)]\n",
    "\n",
    "\n",
    "X_train = train_2.loc[:, train_2.columns != 'correlation']\n",
    "y_train = train_2['correlation']\n",
    "\n",
    "X_test = test_2.loc[:, test_2.columns != 'correlation']\n",
    "y_test = test_2['correlation']\n",
    "\n",
    "del X_train['key']\n",
    "del X_test['key']\n"
   ]
  },
  {
   "cell_type": "code",
   "execution_count": 305,
   "metadata": {},
   "outputs": [],
   "source": [
    "from sklearn.preprocessing import MinMaxScaler\n",
    "ms = MinMaxScaler()\n",
    "X_train= ms.fit_transform(X_train)\n",
    "X_train = pd.DataFrame(X_train)\n",
    "\n",
    "X_test = ms.fit_transform(X_test)\n",
    "X_test = pd.DataFrame(X_test)\n",
    "\n",
    "#X_train, X_test, y_train, y_test = train_test_split(X, y, stratify=y, random_state=1)\n"
   ]
  },
  {
   "cell_type": "code",
   "execution_count": 306,
   "metadata": {},
   "outputs": [
    {
     "name": "stdout",
     "output_type": "stream",
     "text": [
      "0.4451219512195122\n"
     ]
    },
    {
     "data": {
      "text/plain": [
       "array([[24, 52],\n",
       "       [39, 49]], dtype=int64)"
      ]
     },
     "execution_count": 306,
     "metadata": {},
     "output_type": "execute_result"
    }
   ],
   "source": [
    "model =SVC()\n",
    "model.fit (X_train, y_train)\n",
    "y_pred = model.predict(X_test)\n",
    "\n",
    "print(model.score(X_test, y_test))\n",
    "confusion_matrix(y_test,y_pred )"
   ]
  },
  {
   "cell_type": "code",
   "execution_count": 307,
   "metadata": {},
   "outputs": [
    {
     "name": "stdout",
     "output_type": "stream",
     "text": [
      "0.43902439024390244\n"
     ]
    },
    {
     "name": "stderr",
     "output_type": "stream",
     "text": [
      "C:\\Users\\salta\\anaconda3\\lib\\site-packages\\sklearn\\neural_network\\_multilayer_perceptron.py:614: ConvergenceWarning: Stochastic Optimizer: Maximum iterations (2000) reached and the optimization hasn't converged yet.\n",
      "  warnings.warn(\n"
     ]
    },
    {
     "data": {
      "text/plain": [
       "array([[38, 38],\n",
       "       [54, 34]], dtype=int64)"
      ]
     },
     "execution_count": 307,
     "metadata": {},
     "output_type": "execute_result"
    }
   ],
   "source": [
    "clf = MLPClassifier(random_state=1, max_iter=2000).fit(X_train, y_train)\n",
    "#clf.predict_proba(X_test)\n",
    "\n",
    "y_pred = clf.predict(X_test)\n",
    "\n",
    "print(clf.score(X_test, y_test))\n",
    "confusion_matrix(y_test,y_pred )"
   ]
  },
  {
   "cell_type": "code",
   "execution_count": 308,
   "metadata": {},
   "outputs": [
    {
     "name": "stdout",
     "output_type": "stream",
     "text": [
      "0.5121951219512195\n"
     ]
    },
    {
     "data": {
      "text/plain": [
       "array([[33, 43],\n",
       "       [37, 51]], dtype=int64)"
      ]
     },
     "execution_count": 308,
     "metadata": {},
     "output_type": "execute_result"
    }
   ],
   "source": [
    "rf = RandomForestClassifier(n_estimators = 100)\n",
    "rf.fit(X_train, y_train)\n",
    "y_pred = rf.predict(X_test)\n",
    "print(rf.score(X_test, y_test))\n",
    "confusion_matrix(y_test,y_pred )"
   ]
  },
  {
   "cell_type": "code",
   "execution_count": 309,
   "metadata": {},
   "outputs": [
    {
     "name": "stdout",
     "output_type": "stream",
     "text": [
      "Learning rate set to 0.236048\n",
      "0:\tlearn: 0.6222954\ttotal: 34ms\tremaining: 646ms\n",
      "1:\tlearn: 0.5548661\ttotal: 36.6ms\tremaining: 329ms\n",
      "2:\tlearn: 0.5259299\ttotal: 39.2ms\tremaining: 222ms\n",
      "3:\tlearn: 0.4681088\ttotal: 41.9ms\tremaining: 168ms\n",
      "4:\tlearn: 0.4287697\ttotal: 44.6ms\tremaining: 134ms\n",
      "5:\tlearn: 0.3958234\ttotal: 47.7ms\tremaining: 111ms\n",
      "6:\tlearn: 0.3750424\ttotal: 50.3ms\tremaining: 93.3ms\n",
      "7:\tlearn: 0.3356160\ttotal: 52.9ms\tremaining: 79.4ms\n",
      "8:\tlearn: 0.3110454\ttotal: 55.5ms\tremaining: 67.9ms\n",
      "9:\tlearn: 0.2967370\ttotal: 58.1ms\tremaining: 58.1ms\n",
      "10:\tlearn: 0.2801574\ttotal: 61ms\tremaining: 49.9ms\n",
      "11:\tlearn: 0.2616368\ttotal: 63.8ms\tremaining: 42.6ms\n",
      "12:\tlearn: 0.2477860\ttotal: 67.1ms\tremaining: 36.2ms\n",
      "13:\tlearn: 0.2360415\ttotal: 70.1ms\tremaining: 30.1ms\n",
      "14:\tlearn: 0.2313453\ttotal: 72.8ms\tremaining: 24.3ms\n",
      "15:\tlearn: 0.2199976\ttotal: 75.6ms\tremaining: 18.9ms\n",
      "16:\tlearn: 0.2098675\ttotal: 78.5ms\tremaining: 13.9ms\n",
      "17:\tlearn: 0.1984637\ttotal: 81.3ms\tremaining: 9.04ms\n",
      "18:\tlearn: 0.1861914\ttotal: 84.4ms\tremaining: 4.44ms\n",
      "19:\tlearn: 0.1754596\ttotal: 87.1ms\tremaining: 0us\n"
     ]
    },
    {
     "data": {
      "text/plain": [
       "0.4573170731707317"
      ]
     },
     "execution_count": 309,
     "metadata": {},
     "output_type": "execute_result"
    }
   ],
   "source": [
    "model_Cat_boost.fit(X_train, y_train)\n",
    "y_pred = model_Cat_boost.predict(X_test)\n",
    "model_Cat_boost.score(X_test, y_test)"
   ]
  },
  {
   "cell_type": "code",
   "execution_count": null,
   "metadata": {},
   "outputs": [],
   "source": []
  },
  {
   "cell_type": "code",
   "execution_count": null,
   "metadata": {},
   "outputs": [],
   "source": []
  },
  {
   "cell_type": "code",
   "execution_count": null,
   "metadata": {},
   "outputs": [],
   "source": []
  },
  {
   "cell_type": "code",
   "execution_count": null,
   "metadata": {},
   "outputs": [],
   "source": []
  }
 ],
 "metadata": {
  "kernelspec": {
   "display_name": "Python 3 (ipykernel)",
   "language": "python",
   "name": "python3"
  },
  "language_info": {
   "codemirror_mode": {
    "name": "ipython",
    "version": 3
   },
   "file_extension": ".py",
   "mimetype": "text/x-python",
   "name": "python",
   "nbconvert_exporter": "python",
   "pygments_lexer": "ipython3",
   "version": "3.8.10"
  }
 },
 "nbformat": 4,
 "nbformat_minor": 4
}
