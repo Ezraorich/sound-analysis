{
 "cells": [
  {
   "cell_type": "code",
   "execution_count": 4,
   "id": "5cef2560",
   "metadata": {},
   "outputs": [],
   "source": [
    "# -*- encoding: utf-8 -*-\n",
    "import argparse\n",
    "import torch\n",
    "import torchvision.datasets as dsets\n",
    "import random\n",
    "import numpy as np\n",
    "import time\n",
    "import matplotlib.pyplot as plt\n",
    "from torch.autograd import Variable\n",
    "from torchvision import transforms\n",
    "import pickle\n",
    "import torch\n",
    "import torch.nn as nn"
   ]
  },
  {
   "cell_type": "code",
   "execution_count": 5,
   "id": "b1f4b08e",
   "metadata": {},
   "outputs": [],
   "source": [
    "import torchaudio"
   ]
  },
  {
   "cell_type": "code",
   "execution_count": 6,
   "id": "9eb6785e",
   "metadata": {},
   "outputs": [],
   "source": [
    "from torch.utils.data import TensorDataset, DataLoader, Dataset\n",
    "import torch.utils.data as data_utils"
   ]
  },
  {
   "cell_type": "code",
   "execution_count": 7,
   "id": "6d660d85",
   "metadata": {},
   "outputs": [],
   "source": [
    "import os"
   ]
  },
  {
   "cell_type": "code",
   "execution_count": 1,
   "id": "2985b4b2",
   "metadata": {},
   "outputs": [],
   "source": [
    "d = {}\n",
    "x= ['hello', 'John', 'hi', 'John', 'hello', 'pumpum']\n",
    "count = 0\n",
    "for i in x:\n",
    "    if i not in d:\n",
    "        d[i] = count\n",
    "        count += 1\n",
    "\n",
    "new_x = [d[i] for i in x]"
   ]
  },
  {
   "cell_type": "code",
   "execution_count": 2,
   "id": "51ac1a13",
   "metadata": {},
   "outputs": [
    {
     "data": {
      "text/plain": [
       "[0, 1, 2, 1, 0, 3]"
      ]
     },
     "execution_count": 2,
     "metadata": {},
     "output_type": "execute_result"
    }
   ],
   "source": [
    "new_x"
   ]
  },
  {
   "cell_type": "code",
   "execution_count": 18,
   "id": "dd004e4e",
   "metadata": {},
   "outputs": [
    {
     "name": "stdout",
     "output_type": "stream",
     "text": [
      "0\n"
     ]
    }
   ],
   "source": [
    "channel_dict = {'Asthma': 0, 'Allergies': 1, 'Pneumonia': 2, 'Other':3,}\n",
    "idx = channel_dict.get('Asthma')\n",
    "print(idx)"
   ]
  },
  {
   "cell_type": "code",
   "execution_count": 3,
   "id": "e56b10c4",
   "metadata": {},
   "outputs": [
    {
     "data": {
      "text/plain": [
       "{'hello': 0, 'John': 1, 'hi': 2, 'pumpum': 3}"
      ]
     },
     "execution_count": 3,
     "metadata": {},
     "output_type": "execute_result"
    }
   ],
   "source": [
    "d"
   ]
  },
  {
   "cell_type": "code",
   "execution_count": 22,
   "id": "a732629e",
   "metadata": {},
   "outputs": [],
   "source": [
    "class AudioDataset(Dataset):\n",
    "    \"\"\"Audio files loaded from local computer\"\"\"\n",
    "\n",
    "    def __init__(self, path, transform=None):\n",
    "        \"\"\"\n",
    "        Args:\n",
    "            \n",
    "            path (string): Directory with all the images.\n",
    "            transform (callable, optional): Optional transform to be applied\n",
    "                on a sample.\n",
    "        \"\"\"\n",
    "        #self.class_name = \n",
    "        \n",
    "        self.path = path\n",
    "        self.transform = transform\n",
    "        audio_names =[]\n",
    "        for subdir, dirs, files in os.walk(self.path):\n",
    "            for file in files:\n",
    "                filepath =subdir+os.sep+file\n",
    "                audio_names.append(filepath)\n",
    "        self.audio_names = audio_names\n",
    "\n",
    "                \n",
    "    def __len__(self):\n",
    "        return len(self.audio_names)\n",
    "\n",
    "    def __getitem__(self, idx):\n",
    "        if torch.is_tensor(idx):\n",
    "            idx = idx.tolist()\n",
    "        #root_dir = '\"D:/COVID_COUGH_SOUNDS/healthcare_sounds_few_shot/one_shot/'\n",
    "        #train/class\n",
    "        #path =\"D:/COVID_COUGH_SOUNDS/healthcare_sounds_few_shot/one_shot/\"\n",
    "        audio_names =[]\n",
    "        \n",
    "        for subdir, dirs, files in os.walk(self.path):\n",
    "            for file in files:\n",
    "                filepath =subdir+os.sep+file\n",
    "                audio_names.append(filepath)\n",
    "        \n",
    "        #audio_file = os.path.join(self.root_dir,self.audio_names[idx])\n",
    "        audio_file = self.audio_names[idx]\n",
    "        class_name = self.audio_names[idx].split('\\\\')[1]\n",
    "        channel_dict = {'Asthma': 0, 'Allergies': 1, 'Pneumonia': 2, 'Covid':3,'Other':4}\n",
    "        label = channel_dict.get(class_name)\n",
    "    \n",
    "        \n",
    "        \n",
    "        \n",
    "        #image = io.imread(img_name)\n",
    "        \n",
    "\n",
    "        data_waveform, rate_of_sample = torchaudio.load(audio_file)\n",
    "        \n",
    "        sample = {'audio_file': data_waveform, 'labels': label}\n",
    "\n",
    "        if self.transform:\n",
    "            sample = self.transform(sample)\n",
    "\n",
    "        return sample"
   ]
  },
  {
   "cell_type": "code",
   "execution_count": 23,
   "id": "bce4171e",
   "metadata": {},
   "outputs": [],
   "source": [
    "transformed_dataset = AudioDataset(path=\"D:/COVID_COUGH_SOUNDS/healthcare_sounds_few_shot/one_shot/\",\n",
    "                                           transform=None)"
   ]
  },
  {
   "cell_type": "code",
   "execution_count": 24,
   "id": "81ac2da9",
   "metadata": {},
   "outputs": [
    {
     "name": "stdout",
     "output_type": "stream",
     "text": [
      "0 torch.Size([1, 81280]) 1\n",
      "1 torch.Size([1, 80640]) 0\n",
      "2 torch.Size([1, 111132]) 3\n",
      "3 torch.Size([1, 81280]) 4\n"
     ]
    }
   ],
   "source": [
    "for i in range(len(transformed_dataset)):\n",
    "    sample = transformed_dataset[i]\n",
    "\n",
    "    print(i, sample['audio_file'].size(), sample['labels'])\n",
    "    if i == 3:\n",
    "        break"
   ]
  },
  {
   "cell_type": "code",
   "execution_count": 25,
   "id": "b07212d5",
   "metadata": {},
   "outputs": [],
   "source": [
    "dataloader = DataLoader(transformed_dataset, batch_size=1,\n",
    "                        shuffle=True, num_workers=0)"
   ]
  },
  {
   "cell_type": "code",
   "execution_count": 26,
   "id": "13446995",
   "metadata": {},
   "outputs": [
    {
     "name": "stdout",
     "output_type": "stream",
     "text": [
      "0 torch.Size([1, 1, 80208]) tensor([0])\n",
      "1 torch.Size([1, 1, 82368]) tensor([2])\n",
      "2 torch.Size([1, 1, 80640]) tensor([4])\n",
      "3 torch.Size([1, 1, 80640]) tensor([1])\n",
      "4 torch.Size([1, 1, 80208]) tensor([2])\n",
      "5 torch.Size([1, 1, 81280]) tensor([1])\n",
      "6 torch.Size([1, 1, 80640]) tensor([0])\n",
      "7 torch.Size([1, 1, 111132]) tensor([3])\n",
      "8 torch.Size([1, 1, 110250]) tensor([3])\n",
      "9 torch.Size([1, 1, 81280]) tensor([4])\n"
     ]
    }
   ],
   "source": [
    "for i_batch, sample_batched in enumerate(dataloader):\n",
    "    print(i_batch, sample_batched['audio_file'].size(),\n",
    "          sample_batched['labels'])"
   ]
  },
  {
   "cell_type": "code",
   "execution_count": null,
   "id": "88af9370",
   "metadata": {},
   "outputs": [],
   "source": []
  }
 ],
 "metadata": {
  "kernelspec": {
   "display_name": "torchgpu",
   "language": "python",
   "name": "torchgpu"
  },
  "language_info": {
   "codemirror_mode": {
    "name": "ipython",
    "version": 3
   },
   "file_extension": ".py",
   "mimetype": "text/x-python",
   "name": "python",
   "nbconvert_exporter": "python",
   "pygments_lexer": "ipython3",
   "version": "3.8.11"
  }
 },
 "nbformat": 4,
 "nbformat_minor": 5
}
