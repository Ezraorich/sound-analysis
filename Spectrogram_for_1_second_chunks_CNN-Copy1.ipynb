{
 "cells": [
  {
   "cell_type": "code",
   "execution_count": 1,
   "id": "d6ad939c",
   "metadata": {},
   "outputs": [],
   "source": [
    "## 3482 spectrogram images should be trained on cnn "
   ]
  },
  {
   "cell_type": "code",
   "execution_count": 2,
   "id": "5cf92f04",
   "metadata": {},
   "outputs": [],
   "source": [
    "import keras\n",
    "from keras.models import Sequential\n",
    "#Import from keras_preprocessing not from keras.preprocessing\n",
    "from keras_preprocessing.image import ImageDataGenerator\n",
    "from keras.layers import Dense, Activation, Flatten, Dropout, BatchNormalization\n",
    "from keras.layers import Conv2D, MaxPooling2D\n",
    "from keras import regularizers, optimizers\n",
    "import pandas as pd\n",
    "import numpy as np"
   ]
  },
  {
   "cell_type": "code",
   "execution_count": 6,
   "id": "c6d496cd",
   "metadata": {},
   "outputs": [],
   "source": [
    "import librosa\n",
    "import librosa.display\n",
    "import IPython.display as ipd\n",
    "import matplotlib.pyplot as plt\n",
    "import numpy as np"
   ]
  },
  {
   "cell_type": "code",
   "execution_count": 7,
   "id": "87702162",
   "metadata": {},
   "outputs": [],
   "source": [
    "import pandas as pd\n",
    "import numpy as np\n",
    "import matplotlib.pyplot as plt\n",
    "from glob import glob \n",
    "import librosa as lr"
   ]
  },
  {
   "cell_type": "code",
   "execution_count": 8,
   "id": "d1fb41b3",
   "metadata": {},
   "outputs": [
    {
     "data": {
      "text/plain": [
       "3482"
      ]
     },
     "execution_count": 8,
     "metadata": {},
     "output_type": "execute_result"
    }
   ],
   "source": [
    "data_dir ='C:/Users/salta/Desktop/LAPTOP-HHJUF3BH/Asus/Saltanat/Documents/COVID19/split_sound'\n",
    "audio_files =glob(data_dir + '/*.wav')\n",
    "len(audio_files)"
   ]
  },
  {
   "cell_type": "code",
   "execution_count": 9,
   "id": "b6d32167",
   "metadata": {},
   "outputs": [],
   "source": [
    "val=[]\n",
    "myDict = {}\n",
    "for file in range(0, len(audio_files), 1):\n",
    "    val = audio_files[file]\n",
    "    myDict[file] = val\n",
    "df = pd.DataFrame.from_dict(myDict, orient='index')"
   ]
  },
  {
   "cell_type": "code",
   "execution_count": 14,
   "id": "05252e98",
   "metadata": {},
   "outputs": [],
   "source": [
    "new = df[0].str.split('split_sound', n = 2, expand = True) \n",
    "  \n",
    "# making separate first name column from new data frame \n",
    "#df[\"address\"]= new[0] \n",
    "  \n",
    "# making separate last name column from new data frame \n",
    "#df[0]= new[1] "
   ]
  },
  {
   "cell_type": "code",
   "execution_count": 32,
   "id": "35f9926a",
   "metadata": {},
   "outputs": [],
   "source": [
    "#new"
   ]
  },
  {
   "cell_type": "code",
   "execution_count": 18,
   "id": "927c9ded",
   "metadata": {},
   "outputs": [],
   "source": [
    "#df[0].replace('.wav', '',regex=True,inplace=True)"
   ]
  },
  {
   "cell_type": "code",
   "execution_count": 24,
   "id": "ad8d25d9",
   "metadata": {},
   "outputs": [],
   "source": [
    "new[1] = new[1].str.replace('\\\\', '',regex = True)\n",
    "new[1] = new[1].str.replace('.wav', '',regex = True)"
   ]
  },
  {
   "cell_type": "code",
   "execution_count": 33,
   "id": "94df44ae",
   "metadata": {},
   "outputs": [],
   "source": [
    "#new"
   ]
  },
  {
   "cell_type": "code",
   "execution_count": 26,
   "id": "4880b22b",
   "metadata": {},
   "outputs": [],
   "source": [
    "new[['filename', 'ext']] =new[1].str.split(\"_\", n = 2, expand = True) "
   ]
  },
  {
   "cell_type": "code",
   "execution_count": 34,
   "id": "1672310b",
   "metadata": {},
   "outputs": [],
   "source": [
    "#new"
   ]
  },
  {
   "cell_type": "code",
   "execution_count": 28,
   "id": "95dbc3f4",
   "metadata": {},
   "outputs": [],
   "source": [
    "new = new.drop(columns=[0, 1,'ext'])"
   ]
  },
  {
   "cell_type": "code",
   "execution_count": 35,
   "id": "615f5517",
   "metadata": {},
   "outputs": [],
   "source": [
    "#new"
   ]
  },
  {
   "cell_type": "code",
   "execution_count": 30,
   "id": "a5b230b4",
   "metadata": {},
   "outputs": [],
   "source": [
    "new['image_filename'] = new.index "
   ]
  },
  {
   "cell_type": "code",
   "execution_count": 36,
   "id": "a9bc190e",
   "metadata": {},
   "outputs": [],
   "source": [
    "new.to_csv(r'C:/Users/salta/Documents/ra/image_filenames_sound_filenames.csv', index = False)"
   ]
  },
  {
   "cell_type": "code",
   "execution_count": 57,
   "id": "4a2d5db1",
   "metadata": {},
   "outputs": [],
   "source": [
    "im_id = pd.read_csv('C:/Users/salta/Documents/ra/image_filenames_sound_filenames.csv') "
   ]
  },
  {
   "cell_type": "code",
   "execution_count": 47,
   "id": "fa4ad2a7",
   "metadata": {},
   "outputs": [],
   "source": [
    "json_corr =pd.read_json(r'C:/Users/salta/Documents/ra/records_1625681524729.json')"
   ]
  },
  {
   "cell_type": "code",
   "execution_count": 51,
   "id": "78a8abf7",
   "metadata": {},
   "outputs": [],
   "source": [
    "corr_val = json_corr[['correlation','fileName', 'coughType', 'cough', 'smoking', 'gravity']]"
   ]
  },
  {
   "cell_type": "code",
   "execution_count": 55,
   "id": "c78660ff",
   "metadata": {},
   "outputs": [],
   "source": [
    "#corr_val\n",
    "#corr_val = json_corr[['correlation','fileName']]\n",
    "corr_val['fileName']=corr_val['fileName'].str.replace(\".aac\", \"\")"
   ]
  },
  {
   "cell_type": "code",
   "execution_count": 66,
   "id": "4a65e6ab",
   "metadata": {},
   "outputs": [],
   "source": [
    "#im_id.dtypes\n",
    "#corr_val.dtypes\n",
    "im_id['filename'] = im_id['filename'].apply(str)"
   ]
  },
  {
   "cell_type": "code",
   "execution_count": 67,
   "id": "286b8fb7",
   "metadata": {},
   "outputs": [],
   "source": [
    "join_im_id_correlation = corr_val.join(im_id.set_index('filename'), on='fileName')"
   ]
  },
  {
   "cell_type": "code",
   "execution_count": 69,
   "id": "4c67d305",
   "metadata": {},
   "outputs": [],
   "source": [
    "join_im_id_correlation.dropna(subset = [\"image_filename\"], inplace=True)"
   ]
  },
  {
   "cell_type": "code",
   "execution_count": 71,
   "id": "fa169b6d",
   "metadata": {},
   "outputs": [],
   "source": [
    "join_im_id_correlation.to_csv(r'C:/Users/salta/Documents/ra/3482im_filenames.csv', index = False)"
   ]
  },
  {
   "cell_type": "code",
   "execution_count": 73,
   "id": "6082bcdd",
   "metadata": {},
   "outputs": [],
   "source": [
    "join_im_id_correlation.drop(join_im_id_correlation.loc[join_im_id_correlation['correlation']=='Other'].index, inplace=True)"
   ]
  },
  {
   "cell_type": "code",
   "execution_count": 76,
   "id": "05c693d9",
   "metadata": {},
   "outputs": [],
   "source": [
    "join_im_id_correlation.drop(join_im_id_correlation.loc[join_im_id_correlation['correlation']=='Tuberculosis'].index, inplace=True)"
   ]
  },
  {
   "cell_type": "code",
   "execution_count": 77,
   "id": "c5f500c1",
   "metadata": {},
   "outputs": [],
   "source": [
    "join_im_id_correlation.drop(join_im_id_correlation.loc[join_im_id_correlation['correlation']=='Cardio'].index, inplace=True)"
   ]
  },
  {
   "cell_type": "code",
   "execution_count": 78,
   "id": "c2d887ba",
   "metadata": {},
   "outputs": [],
   "source": [
    "join_im_id_correlation.drop(join_im_id_correlation.loc[join_im_id_correlation['correlation']=='Cancer'].index, inplace=True)"
   ]
  },
  {
   "cell_type": "code",
   "execution_count": 79,
   "id": "2c0020bd",
   "metadata": {},
   "outputs": [
    {
     "data": {
      "text/plain": [
       "COVID-19                497\n",
       "Allergies               497\n",
       "Asthma                  322\n",
       "Pneumonia/Bronchitis    150\n",
       "Name: correlation, dtype: int64"
      ]
     },
     "execution_count": 79,
     "metadata": {},
     "output_type": "execute_result"
    }
   ],
   "source": [
    "join_im_id_correlation['correlation'].value_counts()"
   ]
  },
  {
   "cell_type": "code",
   "execution_count": 83,
   "id": "259ee5ac",
   "metadata": {},
   "outputs": [
    {
     "data": {
      "text/plain": [
       "correlation       object\n",
       "fileName          object\n",
       "coughType         object\n",
       "cough             object\n",
       "smoking           object\n",
       "gravity           object\n",
       "image_filename     int64\n",
       "dtype: object"
      ]
     },
     "execution_count": 83,
     "metadata": {},
     "output_type": "execute_result"
    }
   ],
   "source": [
    "join_im_id_correlation.dtypes"
   ]
  },
  {
   "cell_type": "code",
   "execution_count": 82,
   "id": "7b3528a7",
   "metadata": {},
   "outputs": [],
   "source": [
    "join_im_id_correlation['image_filename'] = join_im_id_correlation['image_filename'].apply(np.int64)"
   ]
  },
  {
   "cell_type": "code",
   "execution_count": null,
   "id": "6b144220",
   "metadata": {},
   "outputs": [],
   "source": [
    "#traindf=pd.read_csv(\"C:/Users/salta/Desktop/LAPTOP-HHJUF3BH/Asus/Saltanat/Documents/COVID19/trainim.csv\",dtype=str)\n",
    "#testdf=pd.read_csv(\"C:/Users/salta/Desktop/LAPTOP-HHJUF3BH/Asus/Saltanat/Documents/COVID19/testim.csv\",dtype=str)\n",
    "\n",
    "#traindf[\"filename\"]=traindf[\"filename\"].apply(append_ext)\n",
    "#testdf[\"filename\"]=testdf[\"filename\"].apply(append_ext)\n",
    "#traindf = traindf.drop(columns=['Unnamed: 0'])\n",
    "#testdf = testdf.drop(columns=['Unnamed: 0'])"
   ]
  },
  {
   "cell_type": "code",
   "execution_count": 86,
   "id": "12c358e5",
   "metadata": {},
   "outputs": [
    {
     "data": {
      "text/plain": [
       "2786"
      ]
     },
     "execution_count": 86,
     "metadata": {},
     "output_type": "execute_result"
    }
   ],
   "source": [
    "#C:\\Users\\salta\\Documents\\ra\\spectrograms\\train\n",
    "\n",
    "directory ='C:/Users/salta/Documents/ra/spectrograms/train'\n",
    "im_files =glob(directory + '/*.png')\n",
    "len(im_files)"
   ]
  },
  {
   "cell_type": "code",
   "execution_count": 113,
   "id": "cba30881",
   "metadata": {},
   "outputs": [
    {
     "data": {
      "text/plain": [
       "696"
      ]
     },
     "execution_count": 113,
     "metadata": {},
     "output_type": "execute_result"
    }
   ],
   "source": [
    "\n",
    "directory2 ='C:/Users/salta/Documents/ra/spectrograms/test'\n",
    "im_files_test =glob(directory2 + '/*.png')\n",
    "len(im_files_test)"
   ]
  },
  {
   "cell_type": "code",
   "execution_count": 87,
   "id": "d5313620",
   "metadata": {},
   "outputs": [],
   "source": [
    "val1=[]\n",
    "myDict1 = {}\n",
    "for file in range(0, len(im_files), 1):\n",
    "    val = im_files[file]\n",
    "    myDict1[file] = val\n",
    "im_f = pd.DataFrame.from_dict(myDict1, orient='index')"
   ]
  },
  {
   "cell_type": "code",
   "execution_count": 114,
   "id": "ea325ef6",
   "metadata": {},
   "outputs": [],
   "source": [
    "val2=[]\n",
    "myDict2 = {}\n",
    "for file in range(0, len(im_files_test), 1):\n",
    "    val2 = im_files_test[file]\n",
    "    myDict2[file] = val2\n",
    "im_f_test = pd.DataFrame.from_dict(myDict2, orient='index')"
   ]
  },
  {
   "cell_type": "code",
   "execution_count": 90,
   "id": "70d08310",
   "metadata": {},
   "outputs": [],
   "source": [
    "im_f = im_f[0].str.split('train', n = 2, expand = True) "
   ]
  },
  {
   "cell_type": "code",
   "execution_count": 120,
   "id": "a53f3657",
   "metadata": {},
   "outputs": [],
   "source": [
    "im_f_test = im_f_test[0].str.split('test', n = 2, expand = True) "
   ]
  },
  {
   "cell_type": "code",
   "execution_count": 95,
   "id": "37182fc7",
   "metadata": {},
   "outputs": [],
   "source": [
    "im_f = im_f.drop(columns=[0])"
   ]
  },
  {
   "cell_type": "code",
   "execution_count": 123,
   "id": "1197fd92",
   "metadata": {},
   "outputs": [],
   "source": [
    "im_f_test = im_f_test.drop(columns=[0])"
   ]
  },
  {
   "cell_type": "code",
   "execution_count": 99,
   "id": "66b037f2",
   "metadata": {},
   "outputs": [],
   "source": [
    "def append_ext(fn):\n",
    "    return fn+\".png\""
   ]
  },
  {
   "cell_type": "code",
   "execution_count": 103,
   "id": "7944182e",
   "metadata": {},
   "outputs": [],
   "source": [
    "join_im_id_correlation['image_filename'] = join_im_id_correlation['image_filename'].astype('str')"
   ]
  },
  {
   "cell_type": "code",
   "execution_count": 104,
   "id": "e3fc2463",
   "metadata": {},
   "outputs": [],
   "source": [
    "join_im_id_correlation['image_filename']=join_im_id_correlation['image_filename'].apply(append_ext)"
   ]
  },
  {
   "cell_type": "code",
   "execution_count": 106,
   "id": "66dad68d",
   "metadata": {},
   "outputs": [],
   "source": [
    "im_f = im_f.rename(columns={1: 'name'})"
   ]
  },
  {
   "cell_type": "code",
   "execution_count": 125,
   "id": "94a9de1f",
   "metadata": {},
   "outputs": [],
   "source": [
    "im_f_test = im_f_test.rename(columns={1: 'name'})"
   ]
  },
  {
   "cell_type": "code",
   "execution_count": 138,
   "id": "bed9f236",
   "metadata": {},
   "outputs": [],
   "source": [
    "train_im_chunks = im_f.join(join_im_id_correlation.set_index('image_filename'), on= 'name')\n",
    "train_im_chunks  = train_im_chunks.dropna(subset=['correlation'])"
   ]
  },
  {
   "cell_type": "code",
   "execution_count": 141,
   "id": "3d1c2942",
   "metadata": {},
   "outputs": [],
   "source": [
    "train_im_chunks.to_csv(r'C:/Users/salta/Documents/ra/train.csv', index =False)\n",
    "#join_im_id_correlation.to_csv(r'C:/Users/salta/Documents/ra/3482im_filenames.csv', index = False)"
   ]
  },
  {
   "cell_type": "code",
   "execution_count": 111,
   "id": "1aaba4ac",
   "metadata": {},
   "outputs": [
    {
     "data": {
      "text/plain": [
       "0"
      ]
     },
     "execution_count": 111,
     "metadata": {},
     "output_type": "execute_result"
    }
   ],
   "source": [
    "#train_im_chunks['image_filename'].value_counts()\n",
    "train_im_chunks['image_filename'].isnull().values.sum()"
   ]
  },
  {
   "cell_type": "code",
   "execution_count": 132,
   "id": "5637042a",
   "metadata": {},
   "outputs": [],
   "source": [
    "test_im_chunks = im_f_test.join(join_im_id_correlation.set_index('image_filename'), on= 'name')"
   ]
  },
  {
   "cell_type": "code",
   "execution_count": 135,
   "id": "f4fcd8a0",
   "metadata": {},
   "outputs": [],
   "source": [
    "test_im_chunks  = test_im_chunks.dropna(subset=['correlation'])"
   ]
  },
  {
   "cell_type": "code",
   "execution_count": 137,
   "id": "b21e6820",
   "metadata": {},
   "outputs": [],
   "source": [
    "## 1 second chunks spectrogram images were saved in test and train folders, \n",
    "## we have 223 rows, which is 223 images and their features will be extracted with cnn, \n",
    "## because we dropped other, cardio, tuberculosis, no diagnosis classes\n",
    "test_im_chunks.to_csv(r'C:/Users/salta/Documents/ra/test.csv', index =False)"
   ]
  },
  {
   "cell_type": "markdown",
   "id": "aa6ed014",
   "metadata": {},
   "source": [
    "## CNN "
   ]
  },
  {
   "cell_type": "code",
   "execution_count": 142,
   "id": "76607cc8",
   "metadata": {},
   "outputs": [],
   "source": [
    "traindf=pd.read_csv(\"C:/Users/salta/Documents/ra/train.csv\",dtype=str)\n",
    "testdf=pd.read_csv(\"C:/Users/salta/Documents/ra/test.csv\",dtype=str)\n",
    "\n",
    "#traindf[\"filename\"]=traindf[\"filename\"].apply(append_ext)\n",
    "#testdf[\"filename\"]=testdf[\"filename\"].apply(append_ext)\n",
    "#traindf = traindf.drop(columns=['Unnamed: 0'])\n",
    "#testdf = testdf.drop(columns=['Unnamed: 0'])"
   ]
  },
  {
   "cell_type": "code",
   "execution_count": 161,
   "id": "c58eafae",
   "metadata": {},
   "outputs": [
    {
     "name": "stdout",
     "output_type": "stream",
     "text": [
      "Found 1243 validated image filenames belonging to 4 classes.\n",
      "Found 223 validated image filenames.\n"
     ]
    }
   ],
   "source": [
    "#datagen=ImageDataGenerator(rescale=1./255.,validation_split=0.25)\n",
    "train_generator=datagen.flow_from_dataframe(\n",
    "dataframe=traindf,\n",
    "directory=\"C:/Users/salta/Documents/ra/spectrograms/train/\",\n",
    "x_col=\"name\",\n",
    "y_col=\"correlation\",\n",
    "#subset=\"training\",\n",
    "batch_size=32,\n",
    "seed=42,\n",
    "shuffle=True,\n",
    "class_mode=\"categorical\",\n",
    "target_size=(32,32))\n",
    "\n",
    "test_datagen=ImageDataGenerator(rescale=1./255.)\n",
    "test_generator=test_datagen.flow_from_dataframe(\n",
    "dataframe=testdf,\n",
    "directory=\"C:/Users/salta/Documents/ra/spectrograms/test/\",\n",
    "x_col=\"name\",\n",
    "y_col=None,\n",
    "batch_size=32,\n",
    "seed=42,\n",
    "shuffle=False,\n",
    "class_mode=None,\n",
    "target_size=(32,32))"
   ]
  },
  {
   "cell_type": "markdown",
   "id": "c6c4da25",
   "metadata": {},
   "source": [
    "valid_generator=datagen.flow_from_dataframe(\n",
    "dataframe=traindf,\n",
    "directory=\"C:/Users/salta/Documents/ra/spectrograms/train/\",\n",
    "x_col=\"name\",\n",
    "y_col=\"correlation\",\n",
    "subset=\"validation\",\n",
    "batch_size=32,\n",
    "seed=42,\n",
    "shuffle=True,\n",
    "class_mode=\"categorical\",\n",
    "target_size=(32,32))\n"
   ]
  },
  {
   "cell_type": "code",
   "execution_count": 162,
   "id": "0db96a60",
   "metadata": {},
   "outputs": [],
   "source": [
    "model = Sequential()\n",
    "model.add(Conv2D(32, (3, 3), padding='same',\n",
    "                 input_shape=(32,32,3)))\n",
    "model.add(Activation('relu'))\n",
    "model.add(Conv2D(32, (3, 3)))\n",
    "model.add(Activation('relu'))\n",
    "model.add(MaxPooling2D(pool_size=(2, 2)))\n",
    "model.add(Dropout(0.25))\n",
    "model.add(Conv2D(64, (3, 3), padding='same'))\n",
    "model.add(Activation('relu'))\n",
    "model.add(Conv2D(64, (3, 3)))\n",
    "model.add(Activation('relu'))\n",
    "model.add(MaxPooling2D(pool_size=(2, 2)))\n",
    "model.add(Dropout(0.25))\n",
    "model.add(Flatten())\n",
    "model.add(Dense(512))\n",
    "model.add(Activation('relu'))\n",
    "model.add(Dropout(0.5))\n",
    "model.add(Dense(4, activation='softmax'))\n",
    "model.compile(optimizers.RMSprop(learning_rate=0.0001, decay=1e-6),loss=\"categorical_crossentropy\",metrics=[\"accuracy\"])"
   ]
  },
  {
   "cell_type": "code",
   "execution_count": 163,
   "id": "44db5afc",
   "metadata": {},
   "outputs": [],
   "source": [
    "STEP_SIZE_TRAIN=train_generator.n//train_generator.batch_size\n",
    "STEP_SIZE_VALID=valid_generator.n//valid_generator.batch_size\n",
    "STEP_SIZE_TEST=test_generator.n//test_generator.batch_size"
   ]
  },
  {
   "cell_type": "code",
   "execution_count": 164,
   "id": "902b4f3d",
   "metadata": {},
   "outputs": [
    {
     "name": "stdout",
     "output_type": "stream",
     "text": [
      "Epoch 1/10\n",
      "38/38 [==============================] - 13s 268ms/step - loss: 1.3033 - accuracy: 0.3505 - val_loss: 1.3281 - val_accuracy: 0.3058\n",
      "Epoch 2/10\n",
      "38/38 [==============================] - 9s 229ms/step - loss: 1.2754 - accuracy: 0.3490 - val_loss: 1.3333 - val_accuracy: 0.3165\n",
      "Epoch 3/10\n",
      "38/38 [==============================] - 9s 238ms/step - loss: 1.2823 - accuracy: 0.3583 - val_loss: 1.3146 - val_accuracy: 0.3345\n",
      "Epoch 4/10\n",
      "38/38 [==============================] - 9s 232ms/step - loss: 1.2822 - accuracy: 0.3492 - val_loss: 1.3037 - val_accuracy: 0.3453\n",
      "Epoch 5/10\n",
      "38/38 [==============================] - 9s 242ms/step - loss: 1.2819 - accuracy: 0.3259 - val_loss: 1.3380 - val_accuracy: 0.2482\n",
      "Epoch 6/10\n",
      "38/38 [==============================] - 9s 232ms/step - loss: 1.2545 - accuracy: 0.3721 - val_loss: 1.3038 - val_accuracy: 0.2842\n",
      "Epoch 7/10\n",
      "38/38 [==============================] - 9s 232ms/step - loss: 1.2912 - accuracy: 0.3188 - val_loss: 1.3172 - val_accuracy: 0.3309\n",
      "Epoch 8/10\n",
      "38/38 [==============================] - 9s 246ms/step - loss: 1.2632 - accuracy: 0.3535 - val_loss: 1.2944 - val_accuracy: 0.3525\n",
      "Epoch 9/10\n",
      "38/38 [==============================] - 9s 229ms/step - loss: 1.2476 - accuracy: 0.3759 - val_loss: 1.3137 - val_accuracy: 0.3417\n",
      "Epoch 10/10\n",
      "38/38 [==============================] - 9s 236ms/step - loss: 1.3003 - accuracy: 0.3258 - val_loss: 1.2973 - val_accuracy: 0.3453\n"
     ]
    },
    {
     "data": {
      "text/plain": [
       "<keras.callbacks.History at 0x23f00582370>"
      ]
     },
     "execution_count": 164,
     "metadata": {},
     "output_type": "execute_result"
    }
   ],
   "source": [
    "model.fit(train_generator,\n",
    "          steps_per_epoch=STEP_SIZE_TRAIN,\n",
    "          validation_data=valid_generator,\n",
    "          validation_steps=STEP_SIZE_VALID,\n",
    "          epochs=10)"
   ]
  },
  {
   "cell_type": "code",
   "execution_count": 169,
   "id": "73062059",
   "metadata": {},
   "outputs": [
    {
     "name": "stdout",
     "output_type": "stream",
     "text": [
      "6/6 [==============================] - 1s 150ms/step - loss: 1.3057 - accuracy: 0.3352\n"
     ]
    },
    {
     "data": {
      "text/plain": [
       "[1.3057090044021606, 0.3351648449897766]"
      ]
     },
     "execution_count": 169,
     "metadata": {},
     "output_type": "execute_result"
    }
   ],
   "source": [
    "model.evaluate(valid_generator,\n",
    "steps=STEP_SIZE_TEST)"
   ]
  },
  {
   "cell_type": "code",
   "execution_count": 165,
   "id": "97134f84",
   "metadata": {},
   "outputs": [
    {
     "data": {
      "text/plain": [
       "Allergies               430\n",
       "COVID-19                413\n",
       "Asthma                  307\n",
       "Pneumonia/Bronchitis     93\n",
       "Name: correlation, dtype: int64"
      ]
     },
     "execution_count": 165,
     "metadata": {},
     "output_type": "execute_result"
    }
   ],
   "source": [
    "traindf['correlation'].value_counts()"
   ]
  },
  {
   "cell_type": "code",
   "execution_count": 166,
   "id": "70e8ab03",
   "metadata": {},
   "outputs": [
    {
     "data": {
      "text/plain": [
       "COVID-19                84\n",
       "Allergies               67\n",
       "Pneumonia/Bronchitis    57\n",
       "Asthma                  15\n",
       "Name: correlation, dtype: int64"
      ]
     },
     "execution_count": 166,
     "metadata": {},
     "output_type": "execute_result"
    }
   ],
   "source": [
    "testdf['correlation'].value_counts()"
   ]
  },
  {
   "cell_type": "code",
   "execution_count": 170,
   "id": "675ba29d",
   "metadata": {},
   "outputs": [
    {
     "name": "stdout",
     "output_type": "stream",
     "text": [
      "7/7 [==============================] - 2s 154ms/step\n"
     ]
    }
   ],
   "source": [
    "test_generator.reset()\n",
    "pred=model.predict(test_generator,\n",
    "steps=len(test_generator),\n",
    "verbose=1)"
   ]
  },
  {
   "cell_type": "code",
   "execution_count": 171,
   "id": "6b536246",
   "metadata": {},
   "outputs": [],
   "source": [
    "predicted_class_indices=np.argmax(pred,axis=1)"
   ]
  },
  {
   "cell_type": "code",
   "execution_count": 172,
   "id": "c9517d52",
   "metadata": {},
   "outputs": [],
   "source": [
    "labels = (train_generator.class_indices)\n",
    "labels = dict((v,k) for k,v in labels.items())\n",
    "predictions = [labels[k] for k in predicted_class_indices]"
   ]
  },
  {
   "cell_type": "code",
   "execution_count": 173,
   "id": "72c4906e",
   "metadata": {},
   "outputs": [],
   "source": [
    "filenames=test_generator.filenames\n",
    "results=pd.DataFrame({\"Filename\":filenames,\n",
    "                      \"Predictions\":predictions})\n",
    "results.to_csv(\"results.csv\",index=False)"
   ]
  },
  {
   "cell_type": "code",
   "execution_count": 174,
   "id": "2a16be12",
   "metadata": {},
   "outputs": [
    {
     "data": {
      "text/plain": [
       "Allergies    137\n",
       "COVID-19      86\n",
       "Name: Predictions, dtype: int64"
      ]
     },
     "execution_count": 174,
     "metadata": {},
     "output_type": "execute_result"
    }
   ],
   "source": [
    "results['Predictions'].value_counts()"
   ]
  },
  {
   "cell_type": "code",
   "execution_count": 175,
   "id": "e8364446",
   "metadata": {},
   "outputs": [],
   "source": [
    "from sklearn.metrics import classification_report"
   ]
  },
  {
   "cell_type": "code",
   "execution_count": 176,
   "id": "2612945b",
   "metadata": {},
   "outputs": [],
   "source": [
    "y_true = testdf['correlation']\n",
    "y_pred = results['Predictions']"
   ]
  },
  {
   "cell_type": "code",
   "execution_count": 177,
   "id": "f05d5fc3",
   "metadata": {},
   "outputs": [
    {
     "name": "stdout",
     "output_type": "stream",
     "text": [
      "                      precision    recall  f1-score   support\n",
      "\n",
      "            COVID-19       0.53      0.55      0.54        84\n",
      "           Allergies       0.38      0.78      0.51        67\n",
      "Pneumonia/Bronchitis       0.00      0.00      0.00        57\n",
      "              Asthma       0.00      0.00      0.00        15\n",
      "\n",
      "            accuracy                           0.44       223\n",
      "           macro avg       0.23      0.33      0.26       223\n",
      "        weighted avg       0.32      0.44      0.36       223\n",
      "\n"
     ]
    },
    {
     "name": "stderr",
     "output_type": "stream",
     "text": [
      "C:\\Users\\salta\\anaconda3\\lib\\site-packages\\sklearn\\metrics\\_classification.py:1245: UndefinedMetricWarning: Precision and F-score are ill-defined and being set to 0.0 in labels with no predicted samples. Use `zero_division` parameter to control this behavior.\n",
      "  _warn_prf(average, modifier, msg_start, len(result))\n",
      "C:\\Users\\salta\\anaconda3\\lib\\site-packages\\sklearn\\metrics\\_classification.py:1245: UndefinedMetricWarning: Precision and F-score are ill-defined and being set to 0.0 in labels with no predicted samples. Use `zero_division` parameter to control this behavior.\n",
      "  _warn_prf(average, modifier, msg_start, len(result))\n",
      "C:\\Users\\salta\\anaconda3\\lib\\site-packages\\sklearn\\metrics\\_classification.py:1245: UndefinedMetricWarning: Precision and F-score are ill-defined and being set to 0.0 in labels with no predicted samples. Use `zero_division` parameter to control this behavior.\n",
      "  _warn_prf(average, modifier, msg_start, len(result))\n"
     ]
    }
   ],
   "source": [
    "print(classification_report(y_true, y_pred, labels=['COVID-19','Allergies','Pneumonia/Bronchitis','Asthma']))"
   ]
  },
  {
   "cell_type": "code",
   "execution_count": null,
   "id": "f07e221d",
   "metadata": {},
   "outputs": [],
   "source": []
  }
 ],
 "metadata": {
  "kernelspec": {
   "display_name": "Python 3 (ipykernel)",
   "language": "python",
   "name": "python3"
  },
  "language_info": {
   "codemirror_mode": {
    "name": "ipython",
    "version": 3
   },
   "file_extension": ".py",
   "mimetype": "text/x-python",
   "name": "python",
   "nbconvert_exporter": "python",
   "pygments_lexer": "ipython3",
   "version": "3.8.10"
  }
 },
 "nbformat": 4,
 "nbformat_minor": 5
}
