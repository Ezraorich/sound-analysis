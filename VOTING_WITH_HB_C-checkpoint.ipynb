{
 "cells": [
  {
   "cell_type": "code",
   "execution_count": 1,
   "metadata": {},
   "outputs": [],
   "source": [
    "### VOTING Classifier"
   ]
  },
  {
   "cell_type": "code",
   "execution_count": 4,
   "metadata": {},
   "outputs": [],
   "source": [
    "import pandas as pd\n",
    "a = pd.read_csv('C:/Users/Asus/Documents/DataSci/data1.csv')"
   ]
  },
  {
   "cell_type": "code",
   "execution_count": 5,
   "metadata": {},
   "outputs": [
    {
     "data": {
      "text/html": [
       "<div>\n",
       "<style scoped>\n",
       "    .dataframe tbody tr th:only-of-type {\n",
       "        vertical-align: middle;\n",
       "    }\n",
       "\n",
       "    .dataframe tbody tr th {\n",
       "        vertical-align: top;\n",
       "    }\n",
       "\n",
       "    .dataframe thead th {\n",
       "        text-align: right;\n",
       "    }\n",
       "</style>\n",
       "<table border=\"1\" class=\"dataframe\">\n",
       "  <thead>\n",
       "    <tr style=\"text-align: right;\">\n",
       "      <th></th>\n",
       "      <th>Unnamed: 0</th>\n",
       "      <th>0</th>\n",
       "      <th>1</th>\n",
       "      <th>2</th>\n",
       "      <th>3</th>\n",
       "      <th>4</th>\n",
       "      <th>5</th>\n",
       "      <th>6</th>\n",
       "      <th>7</th>\n",
       "      <th>8</th>\n",
       "      <th>...</th>\n",
       "      <th>125</th>\n",
       "      <th>126</th>\n",
       "      <th>127</th>\n",
       "      <th>128</th>\n",
       "      <th>129</th>\n",
       "      <th>130</th>\n",
       "      <th>131</th>\n",
       "      <th>tmp</th>\n",
       "      <th>s_id</th>\n",
       "      <th>correlation</th>\n",
       "    </tr>\n",
       "  </thead>\n",
       "  <tbody>\n",
       "    <tr>\n",
       "      <th>0</th>\n",
       "      <td>0</td>\n",
       "      <td>0.031250</td>\n",
       "      <td>0.056641</td>\n",
       "      <td>0.044922</td>\n",
       "      <td>0.033203</td>\n",
       "      <td>0.049805</td>\n",
       "      <td>0.036133</td>\n",
       "      <td>0.023438</td>\n",
       "      <td>0.028320</td>\n",
       "      <td>0.019531</td>\n",
       "      <td>...</td>\n",
       "      <td>115.011642</td>\n",
       "      <td>142.689423</td>\n",
       "      <td>1.203807</td>\n",
       "      <td>17.892086</td>\n",
       "      <td>223.521622</td>\n",
       "      <td>60.383324</td>\n",
       "      <td>2.676237</td>\n",
       "      <td>1586793423518_0</td>\n",
       "      <td>1586793423518</td>\n",
       "      <td>0</td>\n",
       "    </tr>\n",
       "    <tr>\n",
       "      <th>1</th>\n",
       "      <td>1</td>\n",
       "      <td>0.096680</td>\n",
       "      <td>0.174805</td>\n",
       "      <td>0.149414</td>\n",
       "      <td>0.178711</td>\n",
       "      <td>0.104492</td>\n",
       "      <td>0.092773</td>\n",
       "      <td>0.242188</td>\n",
       "      <td>0.205078</td>\n",
       "      <td>0.205078</td>\n",
       "      <td>...</td>\n",
       "      <td>3.335247</td>\n",
       "      <td>80.734306</td>\n",
       "      <td>1.281910</td>\n",
       "      <td>4.942941</td>\n",
       "      <td>9.338764</td>\n",
       "      <td>12.194071</td>\n",
       "      <td>17.226017</td>\n",
       "      <td>1586793423518_1</td>\n",
       "      <td>1586793423518</td>\n",
       "      <td>0</td>\n",
       "    </tr>\n",
       "    <tr>\n",
       "      <th>2</th>\n",
       "      <td>2</td>\n",
       "      <td>0.051758</td>\n",
       "      <td>0.086914</td>\n",
       "      <td>0.024414</td>\n",
       "      <td>0.071289</td>\n",
       "      <td>0.130859</td>\n",
       "      <td>0.195312</td>\n",
       "      <td>0.195312</td>\n",
       "      <td>0.112305</td>\n",
       "      <td>0.075195</td>\n",
       "      <td>...</td>\n",
       "      <td>15.849725</td>\n",
       "      <td>179.880371</td>\n",
       "      <td>1.003612</td>\n",
       "      <td>5.381644</td>\n",
       "      <td>17.908190</td>\n",
       "      <td>18.117662</td>\n",
       "      <td>4.786625</td>\n",
       "      <td>1586793423518_2</td>\n",
       "      <td>1586793423518</td>\n",
       "      <td>0</td>\n",
       "    </tr>\n",
       "    <tr>\n",
       "      <th>3</th>\n",
       "      <td>3</td>\n",
       "      <td>0.024414</td>\n",
       "      <td>0.047852</td>\n",
       "      <td>0.203125</td>\n",
       "      <td>0.154297</td>\n",
       "      <td>0.127930</td>\n",
       "      <td>0.140625</td>\n",
       "      <td>0.046875</td>\n",
       "      <td>0.154297</td>\n",
       "      <td>0.197266</td>\n",
       "      <td>...</td>\n",
       "      <td>146.017990</td>\n",
       "      <td>11.885880</td>\n",
       "      <td>12.937889</td>\n",
       "      <td>17.144337</td>\n",
       "      <td>57.549217</td>\n",
       "      <td>177.884079</td>\n",
       "      <td>140.099411</td>\n",
       "      <td>1586793423518_3</td>\n",
       "      <td>1586793423518</td>\n",
       "      <td>0</td>\n",
       "    </tr>\n",
       "    <tr>\n",
       "      <th>4</th>\n",
       "      <td>4</td>\n",
       "      <td>0.022461</td>\n",
       "      <td>0.213867</td>\n",
       "      <td>0.118164</td>\n",
       "      <td>0.125000</td>\n",
       "      <td>0.103516</td>\n",
       "      <td>0.105469</td>\n",
       "      <td>0.020508</td>\n",
       "      <td>0.102539</td>\n",
       "      <td>0.123047</td>\n",
       "      <td>...</td>\n",
       "      <td>5.515195</td>\n",
       "      <td>25.213421</td>\n",
       "      <td>54.983765</td>\n",
       "      <td>100.552711</td>\n",
       "      <td>1.381525</td>\n",
       "      <td>3.049827</td>\n",
       "      <td>6.511101</td>\n",
       "      <td>1586793423518_4</td>\n",
       "      <td>1586793423518</td>\n",
       "      <td>0</td>\n",
       "    </tr>\n",
       "    <tr>\n",
       "      <th>...</th>\n",
       "      <td>...</td>\n",
       "      <td>...</td>\n",
       "      <td>...</td>\n",
       "      <td>...</td>\n",
       "      <td>...</td>\n",
       "      <td>...</td>\n",
       "      <td>...</td>\n",
       "      <td>...</td>\n",
       "      <td>...</td>\n",
       "      <td>...</td>\n",
       "      <td>...</td>\n",
       "      <td>...</td>\n",
       "      <td>...</td>\n",
       "      <td>...</td>\n",
       "      <td>...</td>\n",
       "      <td>...</td>\n",
       "      <td>...</td>\n",
       "      <td>...</td>\n",
       "      <td>...</td>\n",
       "      <td>...</td>\n",
       "      <td>...</td>\n",
       "    </tr>\n",
       "    <tr>\n",
       "      <th>3487</th>\n",
       "      <td>3487</td>\n",
       "      <td>0.127930</td>\n",
       "      <td>0.149414</td>\n",
       "      <td>0.195312</td>\n",
       "      <td>0.223633</td>\n",
       "      <td>0.156250</td>\n",
       "      <td>0.175781</td>\n",
       "      <td>0.172852</td>\n",
       "      <td>0.185547</td>\n",
       "      <td>0.163086</td>\n",
       "      <td>...</td>\n",
       "      <td>9.936334</td>\n",
       "      <td>11.326864</td>\n",
       "      <td>6.506743</td>\n",
       "      <td>10.048724</td>\n",
       "      <td>14.625709</td>\n",
       "      <td>8.219871</td>\n",
       "      <td>23.724072</td>\n",
       "      <td>1587042586994_0</td>\n",
       "      <td>1587042586994</td>\n",
       "      <td>2</td>\n",
       "    </tr>\n",
       "    <tr>\n",
       "      <th>3488</th>\n",
       "      <td>3488</td>\n",
       "      <td>0.058594</td>\n",
       "      <td>0.152344</td>\n",
       "      <td>0.115234</td>\n",
       "      <td>0.066406</td>\n",
       "      <td>0.053711</td>\n",
       "      <td>0.028320</td>\n",
       "      <td>0.031250</td>\n",
       "      <td>0.043945</td>\n",
       "      <td>0.133789</td>\n",
       "      <td>...</td>\n",
       "      <td>12.669955</td>\n",
       "      <td>14.040751</td>\n",
       "      <td>27.091024</td>\n",
       "      <td>11.987301</td>\n",
       "      <td>11.259674</td>\n",
       "      <td>10.994086</td>\n",
       "      <td>7.468827</td>\n",
       "      <td>1587042586994_1</td>\n",
       "      <td>1587042586994</td>\n",
       "      <td>2</td>\n",
       "    </tr>\n",
       "    <tr>\n",
       "      <th>3489</th>\n",
       "      <td>3489</td>\n",
       "      <td>0.044922</td>\n",
       "      <td>0.077148</td>\n",
       "      <td>0.053711</td>\n",
       "      <td>0.159180</td>\n",
       "      <td>0.083984</td>\n",
       "      <td>0.127930</td>\n",
       "      <td>0.138672</td>\n",
       "      <td>0.094727</td>\n",
       "      <td>0.135742</td>\n",
       "      <td>...</td>\n",
       "      <td>4.903187</td>\n",
       "      <td>7.928621</td>\n",
       "      <td>3.569047</td>\n",
       "      <td>4.639628</td>\n",
       "      <td>9.558293</td>\n",
       "      <td>12.695692</td>\n",
       "      <td>116.507370</td>\n",
       "      <td>1587042586994_2</td>\n",
       "      <td>1587042586994</td>\n",
       "      <td>2</td>\n",
       "    </tr>\n",
       "    <tr>\n",
       "      <th>3490</th>\n",
       "      <td>3490</td>\n",
       "      <td>0.042969</td>\n",
       "      <td>0.091797</td>\n",
       "      <td>0.112305</td>\n",
       "      <td>0.111328</td>\n",
       "      <td>0.091797</td>\n",
       "      <td>0.056641</td>\n",
       "      <td>0.030273</td>\n",
       "      <td>0.036133</td>\n",
       "      <td>0.065430</td>\n",
       "      <td>...</td>\n",
       "      <td>11.134341</td>\n",
       "      <td>13.235066</td>\n",
       "      <td>51.961239</td>\n",
       "      <td>11.576469</td>\n",
       "      <td>22.815588</td>\n",
       "      <td>10.452001</td>\n",
       "      <td>10.853545</td>\n",
       "      <td>1587042586994_3</td>\n",
       "      <td>1587042586994</td>\n",
       "      <td>2</td>\n",
       "    </tr>\n",
       "    <tr>\n",
       "      <th>3491</th>\n",
       "      <td>3491</td>\n",
       "      <td>0.079102</td>\n",
       "      <td>0.127930</td>\n",
       "      <td>0.157227</td>\n",
       "      <td>0.125977</td>\n",
       "      <td>0.138672</td>\n",
       "      <td>0.125977</td>\n",
       "      <td>0.147461</td>\n",
       "      <td>0.097656</td>\n",
       "      <td>0.125977</td>\n",
       "      <td>...</td>\n",
       "      <td>11.955936</td>\n",
       "      <td>12.273405</td>\n",
       "      <td>5.965645</td>\n",
       "      <td>5.672344</td>\n",
       "      <td>6.535859</td>\n",
       "      <td>9.191424</td>\n",
       "      <td>22.606306</td>\n",
       "      <td>1587042586994_4</td>\n",
       "      <td>1587042586994</td>\n",
       "      <td>2</td>\n",
       "    </tr>\n",
       "  </tbody>\n",
       "</table>\n",
       "<p>3492 rows × 136 columns</p>\n",
       "</div>"
      ],
      "text/plain": [
       "      Unnamed: 0         0         1         2         3         4         5  \\\n",
       "0              0  0.031250  0.056641  0.044922  0.033203  0.049805  0.036133   \n",
       "1              1  0.096680  0.174805  0.149414  0.178711  0.104492  0.092773   \n",
       "2              2  0.051758  0.086914  0.024414  0.071289  0.130859  0.195312   \n",
       "3              3  0.024414  0.047852  0.203125  0.154297  0.127930  0.140625   \n",
       "4              4  0.022461  0.213867  0.118164  0.125000  0.103516  0.105469   \n",
       "...          ...       ...       ...       ...       ...       ...       ...   \n",
       "3487        3487  0.127930  0.149414  0.195312  0.223633  0.156250  0.175781   \n",
       "3488        3488  0.058594  0.152344  0.115234  0.066406  0.053711  0.028320   \n",
       "3489        3489  0.044922  0.077148  0.053711  0.159180  0.083984  0.127930   \n",
       "3490        3490  0.042969  0.091797  0.112305  0.111328  0.091797  0.056641   \n",
       "3491        3491  0.079102  0.127930  0.157227  0.125977  0.138672  0.125977   \n",
       "\n",
       "             6         7         8  ...         125         126        127  \\\n",
       "0     0.023438  0.028320  0.019531  ...  115.011642  142.689423   1.203807   \n",
       "1     0.242188  0.205078  0.205078  ...    3.335247   80.734306   1.281910   \n",
       "2     0.195312  0.112305  0.075195  ...   15.849725  179.880371   1.003612   \n",
       "3     0.046875  0.154297  0.197266  ...  146.017990   11.885880  12.937889   \n",
       "4     0.020508  0.102539  0.123047  ...    5.515195   25.213421  54.983765   \n",
       "...        ...       ...       ...  ...         ...         ...        ...   \n",
       "3487  0.172852  0.185547  0.163086  ...    9.936334   11.326864   6.506743   \n",
       "3488  0.031250  0.043945  0.133789  ...   12.669955   14.040751  27.091024   \n",
       "3489  0.138672  0.094727  0.135742  ...    4.903187    7.928621   3.569047   \n",
       "3490  0.030273  0.036133  0.065430  ...   11.134341   13.235066  51.961239   \n",
       "3491  0.147461  0.097656  0.125977  ...   11.955936   12.273405   5.965645   \n",
       "\n",
       "             128         129         130         131              tmp  \\\n",
       "0      17.892086  223.521622   60.383324    2.676237  1586793423518_0   \n",
       "1       4.942941    9.338764   12.194071   17.226017  1586793423518_1   \n",
       "2       5.381644   17.908190   18.117662    4.786625  1586793423518_2   \n",
       "3      17.144337   57.549217  177.884079  140.099411  1586793423518_3   \n",
       "4     100.552711    1.381525    3.049827    6.511101  1586793423518_4   \n",
       "...          ...         ...         ...         ...              ...   \n",
       "3487   10.048724   14.625709    8.219871   23.724072  1587042586994_0   \n",
       "3488   11.987301   11.259674   10.994086    7.468827  1587042586994_1   \n",
       "3489    4.639628    9.558293   12.695692  116.507370  1587042586994_2   \n",
       "3490   11.576469   22.815588   10.452001   10.853545  1587042586994_3   \n",
       "3491    5.672344    6.535859    9.191424   22.606306  1587042586994_4   \n",
       "\n",
       "               s_id  correlation  \n",
       "0     1586793423518            0  \n",
       "1     1586793423518            0  \n",
       "2     1586793423518            0  \n",
       "3     1586793423518            0  \n",
       "4     1586793423518            0  \n",
       "...             ...          ...  \n",
       "3487  1587042586994            2  \n",
       "3488  1587042586994            2  \n",
       "3489  1587042586994            2  \n",
       "3490  1587042586994            2  \n",
       "3491  1587042586994            2  \n",
       "\n",
       "[3492 rows x 136 columns]"
      ]
     },
     "execution_count": 5,
     "metadata": {},
     "output_type": "execute_result"
    }
   ],
   "source": [
    "a"
   ]
  },
  {
   "cell_type": "code",
   "execution_count": 6,
   "metadata": {},
   "outputs": [],
   "source": [
    "del a ['tmp']"
   ]
  },
  {
   "cell_type": "code",
   "execution_count": 8,
   "metadata": {},
   "outputs": [],
   "source": [
    "del a ['s_id']"
   ]
  },
  {
   "cell_type": "code",
   "execution_count": 9,
   "metadata": {},
   "outputs": [
    {
     "data": {
      "text/html": [
       "<div>\n",
       "<style scoped>\n",
       "    .dataframe tbody tr th:only-of-type {\n",
       "        vertical-align: middle;\n",
       "    }\n",
       "\n",
       "    .dataframe tbody tr th {\n",
       "        vertical-align: top;\n",
       "    }\n",
       "\n",
       "    .dataframe thead th {\n",
       "        text-align: right;\n",
       "    }\n",
       "</style>\n",
       "<table border=\"1\" class=\"dataframe\">\n",
       "  <thead>\n",
       "    <tr style=\"text-align: right;\">\n",
       "      <th></th>\n",
       "      <th>Unnamed: 0</th>\n",
       "      <th>0</th>\n",
       "      <th>1</th>\n",
       "      <th>2</th>\n",
       "      <th>3</th>\n",
       "      <th>4</th>\n",
       "      <th>5</th>\n",
       "      <th>6</th>\n",
       "      <th>7</th>\n",
       "      <th>8</th>\n",
       "      <th>...</th>\n",
       "      <th>123</th>\n",
       "      <th>124</th>\n",
       "      <th>125</th>\n",
       "      <th>126</th>\n",
       "      <th>127</th>\n",
       "      <th>128</th>\n",
       "      <th>129</th>\n",
       "      <th>130</th>\n",
       "      <th>131</th>\n",
       "      <th>correlation</th>\n",
       "    </tr>\n",
       "  </thead>\n",
       "  <tbody>\n",
       "    <tr>\n",
       "      <th>0</th>\n",
       "      <td>0</td>\n",
       "      <td>0.031250</td>\n",
       "      <td>0.056641</td>\n",
       "      <td>0.044922</td>\n",
       "      <td>0.033203</td>\n",
       "      <td>0.049805</td>\n",
       "      <td>0.036133</td>\n",
       "      <td>0.023438</td>\n",
       "      <td>0.028320</td>\n",
       "      <td>0.019531</td>\n",
       "      <td>...</td>\n",
       "      <td>199.845505</td>\n",
       "      <td>242.670670</td>\n",
       "      <td>115.011642</td>\n",
       "      <td>142.689423</td>\n",
       "      <td>1.203807</td>\n",
       "      <td>17.892086</td>\n",
       "      <td>223.521622</td>\n",
       "      <td>60.383324</td>\n",
       "      <td>2.676237</td>\n",
       "      <td>0</td>\n",
       "    </tr>\n",
       "    <tr>\n",
       "      <th>1</th>\n",
       "      <td>1</td>\n",
       "      <td>0.096680</td>\n",
       "      <td>0.174805</td>\n",
       "      <td>0.149414</td>\n",
       "      <td>0.178711</td>\n",
       "      <td>0.104492</td>\n",
       "      <td>0.092773</td>\n",
       "      <td>0.242188</td>\n",
       "      <td>0.205078</td>\n",
       "      <td>0.205078</td>\n",
       "      <td>...</td>\n",
       "      <td>5.662508</td>\n",
       "      <td>13.344823</td>\n",
       "      <td>3.335247</td>\n",
       "      <td>80.734306</td>\n",
       "      <td>1.281910</td>\n",
       "      <td>4.942941</td>\n",
       "      <td>9.338764</td>\n",
       "      <td>12.194071</td>\n",
       "      <td>17.226017</td>\n",
       "      <td>0</td>\n",
       "    </tr>\n",
       "    <tr>\n",
       "      <th>2</th>\n",
       "      <td>2</td>\n",
       "      <td>0.051758</td>\n",
       "      <td>0.086914</td>\n",
       "      <td>0.024414</td>\n",
       "      <td>0.071289</td>\n",
       "      <td>0.130859</td>\n",
       "      <td>0.195312</td>\n",
       "      <td>0.195312</td>\n",
       "      <td>0.112305</td>\n",
       "      <td>0.075195</td>\n",
       "      <td>...</td>\n",
       "      <td>5.569937</td>\n",
       "      <td>13.909528</td>\n",
       "      <td>15.849725</td>\n",
       "      <td>179.880371</td>\n",
       "      <td>1.003612</td>\n",
       "      <td>5.381644</td>\n",
       "      <td>17.908190</td>\n",
       "      <td>18.117662</td>\n",
       "      <td>4.786625</td>\n",
       "      <td>0</td>\n",
       "    </tr>\n",
       "    <tr>\n",
       "      <th>3</th>\n",
       "      <td>3</td>\n",
       "      <td>0.024414</td>\n",
       "      <td>0.047852</td>\n",
       "      <td>0.203125</td>\n",
       "      <td>0.154297</td>\n",
       "      <td>0.127930</td>\n",
       "      <td>0.140625</td>\n",
       "      <td>0.046875</td>\n",
       "      <td>0.154297</td>\n",
       "      <td>0.197266</td>\n",
       "      <td>...</td>\n",
       "      <td>11.915373</td>\n",
       "      <td>36.394032</td>\n",
       "      <td>146.017990</td>\n",
       "      <td>11.885880</td>\n",
       "      <td>12.937889</td>\n",
       "      <td>17.144337</td>\n",
       "      <td>57.549217</td>\n",
       "      <td>177.884079</td>\n",
       "      <td>140.099411</td>\n",
       "      <td>0</td>\n",
       "    </tr>\n",
       "    <tr>\n",
       "      <th>4</th>\n",
       "      <td>4</td>\n",
       "      <td>0.022461</td>\n",
       "      <td>0.213867</td>\n",
       "      <td>0.118164</td>\n",
       "      <td>0.125000</td>\n",
       "      <td>0.103516</td>\n",
       "      <td>0.105469</td>\n",
       "      <td>0.020508</td>\n",
       "      <td>0.102539</td>\n",
       "      <td>0.123047</td>\n",
       "      <td>...</td>\n",
       "      <td>24.437113</td>\n",
       "      <td>4.713070</td>\n",
       "      <td>5.515195</td>\n",
       "      <td>25.213421</td>\n",
       "      <td>54.983765</td>\n",
       "      <td>100.552711</td>\n",
       "      <td>1.381525</td>\n",
       "      <td>3.049827</td>\n",
       "      <td>6.511101</td>\n",
       "      <td>0</td>\n",
       "    </tr>\n",
       "    <tr>\n",
       "      <th>...</th>\n",
       "      <td>...</td>\n",
       "      <td>...</td>\n",
       "      <td>...</td>\n",
       "      <td>...</td>\n",
       "      <td>...</td>\n",
       "      <td>...</td>\n",
       "      <td>...</td>\n",
       "      <td>...</td>\n",
       "      <td>...</td>\n",
       "      <td>...</td>\n",
       "      <td>...</td>\n",
       "      <td>...</td>\n",
       "      <td>...</td>\n",
       "      <td>...</td>\n",
       "      <td>...</td>\n",
       "      <td>...</td>\n",
       "      <td>...</td>\n",
       "      <td>...</td>\n",
       "      <td>...</td>\n",
       "      <td>...</td>\n",
       "      <td>...</td>\n",
       "    </tr>\n",
       "    <tr>\n",
       "      <th>3487</th>\n",
       "      <td>3487</td>\n",
       "      <td>0.127930</td>\n",
       "      <td>0.149414</td>\n",
       "      <td>0.195312</td>\n",
       "      <td>0.223633</td>\n",
       "      <td>0.156250</td>\n",
       "      <td>0.175781</td>\n",
       "      <td>0.172852</td>\n",
       "      <td>0.185547</td>\n",
       "      <td>0.163086</td>\n",
       "      <td>...</td>\n",
       "      <td>13.092204</td>\n",
       "      <td>19.481827</td>\n",
       "      <td>9.936334</td>\n",
       "      <td>11.326864</td>\n",
       "      <td>6.506743</td>\n",
       "      <td>10.048724</td>\n",
       "      <td>14.625709</td>\n",
       "      <td>8.219871</td>\n",
       "      <td>23.724072</td>\n",
       "      <td>2</td>\n",
       "    </tr>\n",
       "    <tr>\n",
       "      <th>3488</th>\n",
       "      <td>3488</td>\n",
       "      <td>0.058594</td>\n",
       "      <td>0.152344</td>\n",
       "      <td>0.115234</td>\n",
       "      <td>0.066406</td>\n",
       "      <td>0.053711</td>\n",
       "      <td>0.028320</td>\n",
       "      <td>0.031250</td>\n",
       "      <td>0.043945</td>\n",
       "      <td>0.133789</td>\n",
       "      <td>...</td>\n",
       "      <td>130.822861</td>\n",
       "      <td>211.371735</td>\n",
       "      <td>12.669955</td>\n",
       "      <td>14.040751</td>\n",
       "      <td>27.091024</td>\n",
       "      <td>11.987301</td>\n",
       "      <td>11.259674</td>\n",
       "      <td>10.994086</td>\n",
       "      <td>7.468827</td>\n",
       "      <td>2</td>\n",
       "    </tr>\n",
       "    <tr>\n",
       "      <th>3489</th>\n",
       "      <td>3489</td>\n",
       "      <td>0.044922</td>\n",
       "      <td>0.077148</td>\n",
       "      <td>0.053711</td>\n",
       "      <td>0.159180</td>\n",
       "      <td>0.083984</td>\n",
       "      <td>0.127930</td>\n",
       "      <td>0.138672</td>\n",
       "      <td>0.094727</td>\n",
       "      <td>0.135742</td>\n",
       "      <td>...</td>\n",
       "      <td>8.306007</td>\n",
       "      <td>8.682523</td>\n",
       "      <td>4.903187</td>\n",
       "      <td>7.928621</td>\n",
       "      <td>3.569047</td>\n",
       "      <td>4.639628</td>\n",
       "      <td>9.558293</td>\n",
       "      <td>12.695692</td>\n",
       "      <td>116.507370</td>\n",
       "      <td>2</td>\n",
       "    </tr>\n",
       "    <tr>\n",
       "      <th>3490</th>\n",
       "      <td>3490</td>\n",
       "      <td>0.042969</td>\n",
       "      <td>0.091797</td>\n",
       "      <td>0.112305</td>\n",
       "      <td>0.111328</td>\n",
       "      <td>0.091797</td>\n",
       "      <td>0.056641</td>\n",
       "      <td>0.030273</td>\n",
       "      <td>0.036133</td>\n",
       "      <td>0.065430</td>\n",
       "      <td>...</td>\n",
       "      <td>261.379944</td>\n",
       "      <td>8.581454</td>\n",
       "      <td>11.134341</td>\n",
       "      <td>13.235066</td>\n",
       "      <td>51.961239</td>\n",
       "      <td>11.576469</td>\n",
       "      <td>22.815588</td>\n",
       "      <td>10.452001</td>\n",
       "      <td>10.853545</td>\n",
       "      <td>2</td>\n",
       "    </tr>\n",
       "    <tr>\n",
       "      <th>3491</th>\n",
       "      <td>3491</td>\n",
       "      <td>0.079102</td>\n",
       "      <td>0.127930</td>\n",
       "      <td>0.157227</td>\n",
       "      <td>0.125977</td>\n",
       "      <td>0.138672</td>\n",
       "      <td>0.125977</td>\n",
       "      <td>0.147461</td>\n",
       "      <td>0.097656</td>\n",
       "      <td>0.125977</td>\n",
       "      <td>...</td>\n",
       "      <td>11.353604</td>\n",
       "      <td>21.866531</td>\n",
       "      <td>11.955936</td>\n",
       "      <td>12.273405</td>\n",
       "      <td>5.965645</td>\n",
       "      <td>5.672344</td>\n",
       "      <td>6.535859</td>\n",
       "      <td>9.191424</td>\n",
       "      <td>22.606306</td>\n",
       "      <td>2</td>\n",
       "    </tr>\n",
       "  </tbody>\n",
       "</table>\n",
       "<p>3492 rows × 134 columns</p>\n",
       "</div>"
      ],
      "text/plain": [
       "      Unnamed: 0         0         1         2         3         4         5  \\\n",
       "0              0  0.031250  0.056641  0.044922  0.033203  0.049805  0.036133   \n",
       "1              1  0.096680  0.174805  0.149414  0.178711  0.104492  0.092773   \n",
       "2              2  0.051758  0.086914  0.024414  0.071289  0.130859  0.195312   \n",
       "3              3  0.024414  0.047852  0.203125  0.154297  0.127930  0.140625   \n",
       "4              4  0.022461  0.213867  0.118164  0.125000  0.103516  0.105469   \n",
       "...          ...       ...       ...       ...       ...       ...       ...   \n",
       "3487        3487  0.127930  0.149414  0.195312  0.223633  0.156250  0.175781   \n",
       "3488        3488  0.058594  0.152344  0.115234  0.066406  0.053711  0.028320   \n",
       "3489        3489  0.044922  0.077148  0.053711  0.159180  0.083984  0.127930   \n",
       "3490        3490  0.042969  0.091797  0.112305  0.111328  0.091797  0.056641   \n",
       "3491        3491  0.079102  0.127930  0.157227  0.125977  0.138672  0.125977   \n",
       "\n",
       "             6         7         8  ...         123         124         125  \\\n",
       "0     0.023438  0.028320  0.019531  ...  199.845505  242.670670  115.011642   \n",
       "1     0.242188  0.205078  0.205078  ...    5.662508   13.344823    3.335247   \n",
       "2     0.195312  0.112305  0.075195  ...    5.569937   13.909528   15.849725   \n",
       "3     0.046875  0.154297  0.197266  ...   11.915373   36.394032  146.017990   \n",
       "4     0.020508  0.102539  0.123047  ...   24.437113    4.713070    5.515195   \n",
       "...        ...       ...       ...  ...         ...         ...         ...   \n",
       "3487  0.172852  0.185547  0.163086  ...   13.092204   19.481827    9.936334   \n",
       "3488  0.031250  0.043945  0.133789  ...  130.822861  211.371735   12.669955   \n",
       "3489  0.138672  0.094727  0.135742  ...    8.306007    8.682523    4.903187   \n",
       "3490  0.030273  0.036133  0.065430  ...  261.379944    8.581454   11.134341   \n",
       "3491  0.147461  0.097656  0.125977  ...   11.353604   21.866531   11.955936   \n",
       "\n",
       "             126        127         128         129         130         131  \\\n",
       "0     142.689423   1.203807   17.892086  223.521622   60.383324    2.676237   \n",
       "1      80.734306   1.281910    4.942941    9.338764   12.194071   17.226017   \n",
       "2     179.880371   1.003612    5.381644   17.908190   18.117662    4.786625   \n",
       "3      11.885880  12.937889   17.144337   57.549217  177.884079  140.099411   \n",
       "4      25.213421  54.983765  100.552711    1.381525    3.049827    6.511101   \n",
       "...          ...        ...         ...         ...         ...         ...   \n",
       "3487   11.326864   6.506743   10.048724   14.625709    8.219871   23.724072   \n",
       "3488   14.040751  27.091024   11.987301   11.259674   10.994086    7.468827   \n",
       "3489    7.928621   3.569047    4.639628    9.558293   12.695692  116.507370   \n",
       "3490   13.235066  51.961239   11.576469   22.815588   10.452001   10.853545   \n",
       "3491   12.273405   5.965645    5.672344    6.535859    9.191424   22.606306   \n",
       "\n",
       "      correlation  \n",
       "0               0  \n",
       "1               0  \n",
       "2               0  \n",
       "3               0  \n",
       "4               0  \n",
       "...           ...  \n",
       "3487            2  \n",
       "3488            2  \n",
       "3489            2  \n",
       "3490            2  \n",
       "3491            2  \n",
       "\n",
       "[3492 rows x 134 columns]"
      ]
     },
     "execution_count": 9,
     "metadata": {},
     "output_type": "execute_result"
    }
   ],
   "source": [
    "a"
   ]
  },
  {
   "cell_type": "code",
   "execution_count": 10,
   "metadata": {},
   "outputs": [],
   "source": [
    "### TRAIN THE MAchine learning model"
   ]
  },
  {
   "cell_type": "code",
   "execution_count": 11,
   "metadata": {},
   "outputs": [],
   "source": [
    "X = a.loc[:, a.columns != 'correlation']\n",
    "y = a['correlation']"
   ]
  },
  {
   "cell_type": "code",
   "execution_count": 12,
   "metadata": {},
   "outputs": [],
   "source": [
    "from sklearn.preprocessing import MinMaxScaler\n",
    "ms = MinMaxScaler()\n",
    "X= ms.fit_transform(X)\n",
    "X = pd.DataFrame(X)"
   ]
  },
  {
   "cell_type": "code",
   "execution_count": 14,
   "metadata": {},
   "outputs": [],
   "source": [
    "from sklearn.metrics import accuracy_score\n",
    "\n",
    "from sklearn.svm import SVC\n",
    "from sklearn import metrics\n",
    "from sklearn.model_selection import train_test_split"
   ]
  },
  {
   "cell_type": "code",
   "execution_count": 16,
   "metadata": {},
   "outputs": [],
   "source": [
    "import numpy as np\n",
    "seed= 9001\n",
    "np.random.seed(seed)"
   ]
  },
  {
   "cell_type": "code",
   "execution_count": 17,
   "metadata": {},
   "outputs": [],
   "source": [
    "x_tr, x_ts, y_tr, y_ts = train_test_split( X, y, test_size = 0.20, random_state =seed)"
   ]
  },
  {
   "cell_type": "code",
   "execution_count": 18,
   "metadata": {},
   "outputs": [
    {
     "data": {
      "text/plain": [
       "SVC()"
      ]
     },
     "execution_count": 18,
     "metadata": {},
     "output_type": "execute_result"
    }
   ],
   "source": [
    "model =SVC()\n",
    "model.fit (x_tr, y_tr)"
   ]
  },
  {
   "cell_type": "code",
   "execution_count": 19,
   "metadata": {},
   "outputs": [
    {
     "name": "stdout",
     "output_type": "stream",
     "text": [
      "Accuracy:  0.5522174535050072\n"
     ]
    }
   ],
   "source": [
    "predict_cough_type = model.predict(x_ts)\n",
    "print ('Accuracy: ', accuracy_score (y_ts, predict_cough_type))"
   ]
  },
  {
   "cell_type": "code",
   "execution_count": 30,
   "metadata": {},
   "outputs": [
    {
     "data": {
      "text/plain": [
       "2    568\n",
       "3    506\n",
       "4    469\n",
       "5    136\n",
       "7     41\n",
       "1     24\n",
       "6      9\n",
       "Name: correlation, dtype: int64"
      ]
     },
     "execution_count": 30,
     "metadata": {},
     "output_type": "execute_result"
    }
   ],
   "source": [
    "one['correlation'].value_counts(dropna=False)"
   ]
  },
  {
   "cell_type": "code",
   "execution_count": 31,
   "metadata": {},
   "outputs": [],
   "source": [
    "corr = [ 2,3,4,5]\n",
    "one = a[a.correlation.isin(corr)]"
   ]
  },
  {
   "cell_type": "code",
   "execution_count": 32,
   "metadata": {},
   "outputs": [],
   "source": [
    "X = one.loc[:, one.columns != 'correlation']\n",
    "y = one['correlation']"
   ]
  },
  {
   "cell_type": "code",
   "execution_count": 33,
   "metadata": {},
   "outputs": [],
   "source": [
    "from sklearn.preprocessing import MinMaxScaler\n",
    "ms = MinMaxScaler()\n",
    "X= ms.fit_transform(X)\n",
    "X = pd.DataFrame(X)"
   ]
  },
  {
   "cell_type": "code",
   "execution_count": 34,
   "metadata": {},
   "outputs": [],
   "source": [
    "seed= 9001\n",
    "np.random.seed(seed)"
   ]
  },
  {
   "cell_type": "code",
   "execution_count": 35,
   "metadata": {},
   "outputs": [],
   "source": [
    "x_tr, x_ts, y_tr, y_ts = train_test_split( X, y, test_size = 0.20, random_state =seed)"
   ]
  },
  {
   "cell_type": "code",
   "execution_count": 36,
   "metadata": {},
   "outputs": [
    {
     "data": {
      "text/plain": [
       "SVC()"
      ]
     },
     "execution_count": 36,
     "metadata": {},
     "output_type": "execute_result"
    }
   ],
   "source": [
    "model =SVC()\n",
    "model.fit (x_tr, y_tr)"
   ]
  },
  {
   "cell_type": "code",
   "execution_count": 37,
   "metadata": {},
   "outputs": [
    {
     "name": "stdout",
     "output_type": "stream",
     "text": [
      "Accuracy:  0.5476190476190477\n"
     ]
    }
   ],
   "source": [
    "predict_cough_type = model.predict(x_ts)\n",
    "print ('Accuracy: ', accuracy_score (y_ts, predict_cough_type))"
   ]
  },
  {
   "cell_type": "code",
   "execution_count": 38,
   "metadata": {},
   "outputs": [],
   "source": [
    "from sklearn.model_selection import train_test_split\n",
    "X_train, X_test, y_train, y_test = train_test_split(X, y,\n",
    "                                                    #stratify=y, \n",
    "                                                    test_size=0.20,\n",
    "                                                   random_state = 4)"
   ]
  },
  {
   "cell_type": "code",
   "execution_count": 39,
   "metadata": {},
   "outputs": [
    {
     "data": {
      "text/plain": [
       "RandomForestClassifier()"
      ]
     },
     "execution_count": 39,
     "metadata": {},
     "output_type": "execute_result"
    }
   ],
   "source": [
    "from sklearn.ensemble import RandomForestClassifier\n",
    "rf = RandomForestClassifier(n_estimators = 100)\n",
    "rf.fit(X_train, y_train)"
   ]
  },
  {
   "cell_type": "code",
   "execution_count": 40,
   "metadata": {},
   "outputs": [
    {
     "name": "stdout",
     "output_type": "stream",
     "text": [
      "Accuracy:  0.6845238095238095\n"
     ]
    }
   ],
   "source": [
    "predict_cough_type = rf.predict(X_test)\n",
    "print ('Accuracy: ', accuracy_score (y_test, predict_cough_type))"
   ]
  },
  {
   "cell_type": "code",
   "execution_count": 41,
   "metadata": {},
   "outputs": [],
   "source": [
    "X = one.loc[:, one.columns != 'correlation']\n",
    "y = one['correlation']"
   ]
  },
  {
   "cell_type": "code",
   "execution_count": 42,
   "metadata": {},
   "outputs": [
    {
     "data": {
      "text/plain": [
       "((1343, 133), (336, 133), (1343,), (336,))"
      ]
     },
     "execution_count": 42,
     "metadata": {},
     "output_type": "execute_result"
    }
   ],
   "source": [
    "from sklearn.model_selection import train_test_split\n",
    "\n",
    "X_train, X_val, Y_train, Y_val = train_test_split(X, y, test_size = 0.2, random_state = 1)\n",
    "X_train.shape, X_val.shape, Y_train.shape, Y_val.shape"
   ]
  },
  {
   "cell_type": "code",
   "execution_count": 43,
   "metadata": {},
   "outputs": [
    {
     "name": "stdout",
     "output_type": "stream",
     "text": [
      "Iteration 1, loss = 3077111861339.84814453\n",
      "Iteration 2, loss = 20239319279941.77343750\n",
      "Iteration 3, loss = 35868243374129.06250000\n",
      "Iteration 4, loss = 45059905882991.95312500\n",
      "Iteration 5, loss = 49848745539799.29687500\n",
      "Iteration 6, loss = 52228861187567.03906250\n",
      "Iteration 7, loss = 53387605030102.49218750\n",
      "Iteration 8, loss = 53946319991887.03125000\n",
      "Iteration 9, loss = 54214416940443.72656250\n",
      "Iteration 10, loss = 54342682690856.98437500\n",
      "Iteration 11, loss = 54403877861832.75781250\n",
      "0.33655994043186893\n"
     ]
    },
    {
     "name": "stderr",
     "output_type": "stream",
     "text": [
      "C:\\Users\\Asus\\anaconda3\\lib\\site-packages\\sklearn\\neural_network\\_multilayer_perceptron.py:582: ConvergenceWarning: Stochastic Optimizer: Maximum iterations (11) reached and the optimization hasn't converged yet.\n",
      "  warnings.warn(\n"
     ]
    }
   ],
   "source": [
    "from sklearn.neural_network import MLPClassifier\n",
    "## 20 30/ 100-500\n",
    "model = MLPClassifier(hidden_layer_sizes = (50, ), max_iter = 11, \n",
    "                      alpha = 1e-4, solver ='sgd', \n",
    "                      verbose =10, learning_rate_init = 0.1).fit(X_train, Y_train)\n",
    "\n",
    "print(model.score(X_train, Y_train))"
   ]
  },
  {
   "cell_type": "code",
   "execution_count": 44,
   "metadata": {},
   "outputs": [],
   "source": [
    "from sklearn.tree import DecisionTreeClassifier"
   ]
  },
  {
   "cell_type": "code",
   "execution_count": 45,
   "metadata": {},
   "outputs": [],
   "source": [
    "X = one.loc[:, one.columns != 'correlation']\n",
    "y = one['correlation']"
   ]
  },
  {
   "cell_type": "code",
   "execution_count": 46,
   "metadata": {},
   "outputs": [],
   "source": [
    "ms = MinMaxScaler()\n",
    "X= ms.fit_transform(X)\n",
    "X = pd.DataFrame(X)"
   ]
  },
  {
   "cell_type": "code",
   "execution_count": 47,
   "metadata": {},
   "outputs": [],
   "source": [
    "X_train, X_test, y_train, y_test = train_test_split(X, y,\n",
    "                                                    #stratify=y, \n",
    "                                                    test_size=0.33,\n",
    "                                                   random_state = 324)"
   ]
  },
  {
   "cell_type": "code",
   "execution_count": 48,
   "metadata": {},
   "outputs": [
    {
     "data": {
      "text/plain": [
       "DecisionTreeClassifier(max_leaf_nodes=10, random_state=0)"
      ]
     },
     "execution_count": 48,
     "metadata": {},
     "output_type": "execute_result"
    }
   ],
   "source": [
    "dec_tree_classifier  = DecisionTreeClassifier (max_leaf_nodes = 10, random_state =0)\n",
    "dec_tree_classifier.fit(X_train, y_train)"
   ]
  },
  {
   "cell_type": "code",
   "execution_count": 49,
   "metadata": {},
   "outputs": [],
   "source": [
    "y_predicted  = dec_tree_classifier.predict(X_test)"
   ]
  },
  {
   "cell_type": "code",
   "execution_count": 50,
   "metadata": {},
   "outputs": [
    {
     "data": {
      "text/plain": [
       "71.71171171171171"
      ]
     },
     "execution_count": 50,
     "metadata": {},
     "output_type": "execute_result"
    }
   ],
   "source": [
    "accuracy_score(y_test, y_predicted)*100"
   ]
  },
  {
   "cell_type": "code",
   "execution_count": null,
   "metadata": {},
   "outputs": [],
   "source": [
    "###"
   ]
  },
  {
   "cell_type": "code",
   "execution_count": null,
   "metadata": {},
   "outputs": [],
   "source": []
  },
  {
   "cell_type": "code",
   "execution_count": null,
   "metadata": {},
   "outputs": [],
   "source": []
  },
  {
   "cell_type": "code",
   "execution_count": null,
   "metadata": {},
   "outputs": [],
   "source": []
  },
  {
   "cell_type": "code",
   "execution_count": null,
   "metadata": {},
   "outputs": [],
   "source": []
  },
  {
   "cell_type": "code",
   "execution_count": null,
   "metadata": {},
   "outputs": [],
   "source": []
  },
  {
   "cell_type": "code",
   "execution_count": null,
   "metadata": {},
   "outputs": [],
   "source": [
    "### path = C:/Users/Asus/Documents/DataSci/data2.csv"
   ]
  },
  {
   "cell_type": "code",
   "execution_count": 51,
   "metadata": {},
   "outputs": [],
   "source": [
    "# import pandas"
   ]
  },
  {
   "cell_type": "code",
   "execution_count": 52,
   "metadata": {},
   "outputs": [],
   "source": [
    "b = pd.read_csv('C:/Users/Asus/Documents/DataSci/data2.csv')"
   ]
  },
  {
   "cell_type": "code",
   "execution_count": 53,
   "metadata": {},
   "outputs": [
    {
     "data": {
      "text/html": [
       "<div>\n",
       "<style scoped>\n",
       "    .dataframe tbody tr th:only-of-type {\n",
       "        vertical-align: middle;\n",
       "    }\n",
       "\n",
       "    .dataframe tbody tr th {\n",
       "        vertical-align: top;\n",
       "    }\n",
       "\n",
       "    .dataframe thead th {\n",
       "        text-align: right;\n",
       "    }\n",
       "</style>\n",
       "<table border=\"1\" class=\"dataframe\">\n",
       "  <thead>\n",
       "    <tr style=\"text-align: right;\">\n",
       "      <th></th>\n",
       "      <th>Unnamed: 0</th>\n",
       "      <th>0</th>\n",
       "      <th>1</th>\n",
       "      <th>2</th>\n",
       "      <th>3</th>\n",
       "      <th>4</th>\n",
       "      <th>5</th>\n",
       "      <th>6</th>\n",
       "      <th>7</th>\n",
       "      <th>8</th>\n",
       "      <th>...</th>\n",
       "      <th>125</th>\n",
       "      <th>126</th>\n",
       "      <th>127</th>\n",
       "      <th>128</th>\n",
       "      <th>129</th>\n",
       "      <th>130</th>\n",
       "      <th>131</th>\n",
       "      <th>tmp</th>\n",
       "      <th>s_id</th>\n",
       "      <th>correlation</th>\n",
       "    </tr>\n",
       "  </thead>\n",
       "  <tbody>\n",
       "    <tr>\n",
       "      <th>0</th>\n",
       "      <td>0</td>\n",
       "      <td>0.031250</td>\n",
       "      <td>0.056641</td>\n",
       "      <td>0.044922</td>\n",
       "      <td>0.033203</td>\n",
       "      <td>0.049805</td>\n",
       "      <td>0.036133</td>\n",
       "      <td>0.023438</td>\n",
       "      <td>0.028320</td>\n",
       "      <td>0.019531</td>\n",
       "      <td>...</td>\n",
       "      <td>115.011642</td>\n",
       "      <td>142.689423</td>\n",
       "      <td>1.203807</td>\n",
       "      <td>17.892086</td>\n",
       "      <td>223.521622</td>\n",
       "      <td>60.383324</td>\n",
       "      <td>2.676237</td>\n",
       "      <td>1586793423518_0</td>\n",
       "      <td>1586793423518</td>\n",
       "      <td>0</td>\n",
       "    </tr>\n",
       "    <tr>\n",
       "      <th>1</th>\n",
       "      <td>1</td>\n",
       "      <td>0.096680</td>\n",
       "      <td>0.174805</td>\n",
       "      <td>0.149414</td>\n",
       "      <td>0.178711</td>\n",
       "      <td>0.104492</td>\n",
       "      <td>0.092773</td>\n",
       "      <td>0.242188</td>\n",
       "      <td>0.205078</td>\n",
       "      <td>0.205078</td>\n",
       "      <td>...</td>\n",
       "      <td>3.335247</td>\n",
       "      <td>80.734306</td>\n",
       "      <td>1.281910</td>\n",
       "      <td>4.942941</td>\n",
       "      <td>9.338764</td>\n",
       "      <td>12.194071</td>\n",
       "      <td>17.226017</td>\n",
       "      <td>1586793423518_1</td>\n",
       "      <td>1586793423518</td>\n",
       "      <td>0</td>\n",
       "    </tr>\n",
       "    <tr>\n",
       "      <th>2</th>\n",
       "      <td>2</td>\n",
       "      <td>0.051758</td>\n",
       "      <td>0.086914</td>\n",
       "      <td>0.024414</td>\n",
       "      <td>0.071289</td>\n",
       "      <td>0.130859</td>\n",
       "      <td>0.195312</td>\n",
       "      <td>0.195312</td>\n",
       "      <td>0.112305</td>\n",
       "      <td>0.075195</td>\n",
       "      <td>...</td>\n",
       "      <td>15.849725</td>\n",
       "      <td>179.880371</td>\n",
       "      <td>1.003612</td>\n",
       "      <td>5.381644</td>\n",
       "      <td>17.908190</td>\n",
       "      <td>18.117662</td>\n",
       "      <td>4.786625</td>\n",
       "      <td>1586793423518_2</td>\n",
       "      <td>1586793423518</td>\n",
       "      <td>0</td>\n",
       "    </tr>\n",
       "    <tr>\n",
       "      <th>3</th>\n",
       "      <td>3</td>\n",
       "      <td>0.024414</td>\n",
       "      <td>0.047852</td>\n",
       "      <td>0.203125</td>\n",
       "      <td>0.154297</td>\n",
       "      <td>0.127930</td>\n",
       "      <td>0.140625</td>\n",
       "      <td>0.046875</td>\n",
       "      <td>0.154297</td>\n",
       "      <td>0.197266</td>\n",
       "      <td>...</td>\n",
       "      <td>146.017990</td>\n",
       "      <td>11.885880</td>\n",
       "      <td>12.937889</td>\n",
       "      <td>17.144337</td>\n",
       "      <td>57.549217</td>\n",
       "      <td>177.884079</td>\n",
       "      <td>140.099411</td>\n",
       "      <td>1586793423518_3</td>\n",
       "      <td>1586793423518</td>\n",
       "      <td>0</td>\n",
       "    </tr>\n",
       "    <tr>\n",
       "      <th>4</th>\n",
       "      <td>4</td>\n",
       "      <td>0.022461</td>\n",
       "      <td>0.213867</td>\n",
       "      <td>0.118164</td>\n",
       "      <td>0.125000</td>\n",
       "      <td>0.103516</td>\n",
       "      <td>0.105469</td>\n",
       "      <td>0.020508</td>\n",
       "      <td>0.102539</td>\n",
       "      <td>0.123047</td>\n",
       "      <td>...</td>\n",
       "      <td>5.515195</td>\n",
       "      <td>25.213421</td>\n",
       "      <td>54.983765</td>\n",
       "      <td>100.552711</td>\n",
       "      <td>1.381525</td>\n",
       "      <td>3.049827</td>\n",
       "      <td>6.511101</td>\n",
       "      <td>1586793423518_4</td>\n",
       "      <td>1586793423518</td>\n",
       "      <td>0</td>\n",
       "    </tr>\n",
       "    <tr>\n",
       "      <th>...</th>\n",
       "      <td>...</td>\n",
       "      <td>...</td>\n",
       "      <td>...</td>\n",
       "      <td>...</td>\n",
       "      <td>...</td>\n",
       "      <td>...</td>\n",
       "      <td>...</td>\n",
       "      <td>...</td>\n",
       "      <td>...</td>\n",
       "      <td>...</td>\n",
       "      <td>...</td>\n",
       "      <td>...</td>\n",
       "      <td>...</td>\n",
       "      <td>...</td>\n",
       "      <td>...</td>\n",
       "      <td>...</td>\n",
       "      <td>...</td>\n",
       "      <td>...</td>\n",
       "      <td>...</td>\n",
       "      <td>...</td>\n",
       "      <td>...</td>\n",
       "    </tr>\n",
       "    <tr>\n",
       "      <th>3623</th>\n",
       "      <td>3623</td>\n",
       "      <td>0.041016</td>\n",
       "      <td>0.109375</td>\n",
       "      <td>0.156250</td>\n",
       "      <td>0.158203</td>\n",
       "      <td>0.125000</td>\n",
       "      <td>0.068359</td>\n",
       "      <td>0.070312</td>\n",
       "      <td>0.086914</td>\n",
       "      <td>0.144531</td>\n",
       "      <td>...</td>\n",
       "      <td>9.900085</td>\n",
       "      <td>12.748309</td>\n",
       "      <td>62.641605</td>\n",
       "      <td>36.426029</td>\n",
       "      <td>25.260637</td>\n",
       "      <td>56.392101</td>\n",
       "      <td>21.537260</td>\n",
       "      <td>1595212847994_9</td>\n",
       "      <td>1595212847994</td>\n",
       "      <td>5</td>\n",
       "    </tr>\n",
       "    <tr>\n",
       "      <th>3624</th>\n",
       "      <td>3624</td>\n",
       "      <td>0.102539</td>\n",
       "      <td>0.091797</td>\n",
       "      <td>0.152344</td>\n",
       "      <td>0.142578</td>\n",
       "      <td>0.344727</td>\n",
       "      <td>0.486328</td>\n",
       "      <td>0.376953</td>\n",
       "      <td>0.362305</td>\n",
       "      <td>0.470703</td>\n",
       "      <td>...</td>\n",
       "      <td>0.397084</td>\n",
       "      <td>0.748188</td>\n",
       "      <td>0.949604</td>\n",
       "      <td>1.402050</td>\n",
       "      <td>0.654468</td>\n",
       "      <td>0.596347</td>\n",
       "      <td>0.670763</td>\n",
       "      <td>1593170386108_0</td>\n",
       "      <td>1593170386108</td>\n",
       "      <td>5</td>\n",
       "    </tr>\n",
       "    <tr>\n",
       "      <th>3625</th>\n",
       "      <td>3625</td>\n",
       "      <td>0.221680</td>\n",
       "      <td>0.435547</td>\n",
       "      <td>0.432617</td>\n",
       "      <td>0.433594</td>\n",
       "      <td>0.392578</td>\n",
       "      <td>0.302734</td>\n",
       "      <td>0.264648</td>\n",
       "      <td>0.322266</td>\n",
       "      <td>0.343750</td>\n",
       "      <td>...</td>\n",
       "      <td>0.741595</td>\n",
       "      <td>0.549437</td>\n",
       "      <td>1.370423</td>\n",
       "      <td>2.082066</td>\n",
       "      <td>0.418040</td>\n",
       "      <td>0.300848</td>\n",
       "      <td>0.224622</td>\n",
       "      <td>1593170386108_1</td>\n",
       "      <td>1593170386108</td>\n",
       "      <td>5</td>\n",
       "    </tr>\n",
       "    <tr>\n",
       "      <th>3626</th>\n",
       "      <td>3626</td>\n",
       "      <td>0.250000</td>\n",
       "      <td>0.464844</td>\n",
       "      <td>0.497070</td>\n",
       "      <td>0.488281</td>\n",
       "      <td>0.505859</td>\n",
       "      <td>0.467773</td>\n",
       "      <td>0.457031</td>\n",
       "      <td>0.439453</td>\n",
       "      <td>0.494141</td>\n",
       "      <td>...</td>\n",
       "      <td>0.186049</td>\n",
       "      <td>0.215664</td>\n",
       "      <td>0.656042</td>\n",
       "      <td>1.735265</td>\n",
       "      <td>2.175324</td>\n",
       "      <td>0.344362</td>\n",
       "      <td>0.364365</td>\n",
       "      <td>1593170386108_2</td>\n",
       "      <td>1593170386108</td>\n",
       "      <td>5</td>\n",
       "    </tr>\n",
       "    <tr>\n",
       "      <th>3627</th>\n",
       "      <td>3627</td>\n",
       "      <td>0.171875</td>\n",
       "      <td>0.269531</td>\n",
       "      <td>0.312500</td>\n",
       "      <td>0.256836</td>\n",
       "      <td>0.298828</td>\n",
       "      <td>0.418945</td>\n",
       "      <td>0.431641</td>\n",
       "      <td>0.435547</td>\n",
       "      <td>0.403320</td>\n",
       "      <td>...</td>\n",
       "      <td>3.466220</td>\n",
       "      <td>1.722516</td>\n",
       "      <td>0.521828</td>\n",
       "      <td>0.171891</td>\n",
       "      <td>0.594325</td>\n",
       "      <td>0.410848</td>\n",
       "      <td>0.256520</td>\n",
       "      <td>1593170386108_3</td>\n",
       "      <td>1593170386108</td>\n",
       "      <td>5</td>\n",
       "    </tr>\n",
       "  </tbody>\n",
       "</table>\n",
       "<p>3628 rows × 136 columns</p>\n",
       "</div>"
      ],
      "text/plain": [
       "      Unnamed: 0         0         1         2         3         4         5  \\\n",
       "0              0  0.031250  0.056641  0.044922  0.033203  0.049805  0.036133   \n",
       "1              1  0.096680  0.174805  0.149414  0.178711  0.104492  0.092773   \n",
       "2              2  0.051758  0.086914  0.024414  0.071289  0.130859  0.195312   \n",
       "3              3  0.024414  0.047852  0.203125  0.154297  0.127930  0.140625   \n",
       "4              4  0.022461  0.213867  0.118164  0.125000  0.103516  0.105469   \n",
       "...          ...       ...       ...       ...       ...       ...       ...   \n",
       "3623        3623  0.041016  0.109375  0.156250  0.158203  0.125000  0.068359   \n",
       "3624        3624  0.102539  0.091797  0.152344  0.142578  0.344727  0.486328   \n",
       "3625        3625  0.221680  0.435547  0.432617  0.433594  0.392578  0.302734   \n",
       "3626        3626  0.250000  0.464844  0.497070  0.488281  0.505859  0.467773   \n",
       "3627        3627  0.171875  0.269531  0.312500  0.256836  0.298828  0.418945   \n",
       "\n",
       "             6         7         8  ...         125         126        127  \\\n",
       "0     0.023438  0.028320  0.019531  ...  115.011642  142.689423   1.203807   \n",
       "1     0.242188  0.205078  0.205078  ...    3.335247   80.734306   1.281910   \n",
       "2     0.195312  0.112305  0.075195  ...   15.849725  179.880371   1.003612   \n",
       "3     0.046875  0.154297  0.197266  ...  146.017990   11.885880  12.937889   \n",
       "4     0.020508  0.102539  0.123047  ...    5.515195   25.213421  54.983765   \n",
       "...        ...       ...       ...  ...         ...         ...        ...   \n",
       "3623  0.070312  0.086914  0.144531  ...    9.900085   12.748309  62.641605   \n",
       "3624  0.376953  0.362305  0.470703  ...    0.397084    0.748188   0.949604   \n",
       "3625  0.264648  0.322266  0.343750  ...    0.741595    0.549437   1.370423   \n",
       "3626  0.457031  0.439453  0.494141  ...    0.186049    0.215664   0.656042   \n",
       "3627  0.431641  0.435547  0.403320  ...    3.466220    1.722516   0.521828   \n",
       "\n",
       "             128         129         130         131              tmp  \\\n",
       "0      17.892086  223.521622   60.383324    2.676237  1586793423518_0   \n",
       "1       4.942941    9.338764   12.194071   17.226017  1586793423518_1   \n",
       "2       5.381644   17.908190   18.117662    4.786625  1586793423518_2   \n",
       "3      17.144337   57.549217  177.884079  140.099411  1586793423518_3   \n",
       "4     100.552711    1.381525    3.049827    6.511101  1586793423518_4   \n",
       "...          ...         ...         ...         ...              ...   \n",
       "3623   36.426029   25.260637   56.392101   21.537260  1595212847994_9   \n",
       "3624    1.402050    0.654468    0.596347    0.670763  1593170386108_0   \n",
       "3625    2.082066    0.418040    0.300848    0.224622  1593170386108_1   \n",
       "3626    1.735265    2.175324    0.344362    0.364365  1593170386108_2   \n",
       "3627    0.171891    0.594325    0.410848    0.256520  1593170386108_3   \n",
       "\n",
       "               s_id  correlation  \n",
       "0     1586793423518            0  \n",
       "1     1586793423518            0  \n",
       "2     1586793423518            0  \n",
       "3     1586793423518            0  \n",
       "4     1586793423518            0  \n",
       "...             ...          ...  \n",
       "3623  1595212847994            5  \n",
       "3624  1593170386108            5  \n",
       "3625  1593170386108            5  \n",
       "3626  1593170386108            5  \n",
       "3627  1593170386108            5  \n",
       "\n",
       "[3628 rows x 136 columns]"
      ]
     },
     "execution_count": 53,
     "metadata": {},
     "output_type": "execute_result"
    }
   ],
   "source": [
    "b"
   ]
  },
  {
   "cell_type": "code",
   "execution_count": 54,
   "metadata": {},
   "outputs": [],
   "source": [
    "del b['tmp']"
   ]
  },
  {
   "cell_type": "code",
   "execution_count": 55,
   "metadata": {},
   "outputs": [],
   "source": [
    "del b['s_id']"
   ]
  },
  {
   "cell_type": "code",
   "execution_count": 57,
   "metadata": {
    "scrolled": true
   },
   "outputs": [
    {
     "data": {
      "text/plain": [
       "0    1739\n",
       "2     568\n",
       "3     506\n",
       "4     469\n",
       "5     272\n",
       "7      41\n",
       "1      24\n",
       "6       9\n",
       "Name: correlation, dtype: int64"
      ]
     },
     "execution_count": 57,
     "metadata": {},
     "output_type": "execute_result"
    }
   ],
   "source": [
    "\n",
    "b['correlation'].value_counts()\n",
    "##\n",
    "#2    568\n",
    "#3    506\n",
    "#4    469\n",
    "#5    136\n",
    "#7     41\n",
    "#1     24\n",
    "#6      9"
   ]
  },
  {
   "cell_type": "code",
   "execution_count": null,
   "metadata": {},
   "outputs": [],
   "source": [
    "1 -cat\n",
    "2- dog\n",
    "3 -fish"
   ]
  },
  {
   "cell_type": "code",
   "execution_count": 58,
   "metadata": {},
   "outputs": [],
   "source": [
    "X = b.loc[:, b.columns != 'correlation']\n",
    "y = b['correlation']"
   ]
  },
  {
   "cell_type": "code",
   "execution_count": 59,
   "metadata": {},
   "outputs": [],
   "source": [
    "seed= 9001\n",
    "np.random.seed(seed)"
   ]
  },
  {
   "cell_type": "code",
   "execution_count": 60,
   "metadata": {},
   "outputs": [],
   "source": [
    "x_tr, x_ts, y_tr, y_ts = train_test_split( X, y, test_size = 0.20, random_state =seed)"
   ]
  },
  {
   "cell_type": "code",
   "execution_count": 61,
   "metadata": {},
   "outputs": [
    {
     "data": {
      "text/plain": [
       "SVC()"
      ]
     },
     "execution_count": 61,
     "metadata": {},
     "output_type": "execute_result"
    }
   ],
   "source": [
    "model =SVC()\n",
    "model.fit (x_tr, y_tr)"
   ]
  },
  {
   "cell_type": "code",
   "execution_count": 62,
   "metadata": {},
   "outputs": [
    {
     "name": "stdout",
     "output_type": "stream",
     "text": [
      "Accuracy:  0.4724517906336088\n"
     ]
    }
   ],
   "source": [
    "predict_cough_type = model.predict(x_ts)\n",
    "print ('Accuracy: ', accuracy_score (y_ts, predict_cough_type))"
   ]
  },
  {
   "cell_type": "code",
   "execution_count": null,
   "metadata": {},
   "outputs": [],
   "source": [
    "47% "
   ]
  },
  {
   "cell_type": "code",
   "execution_count": 70,
   "metadata": {},
   "outputs": [],
   "source": [
    "corr = [ 2,3]\n",
    "one = b[b.correlation.isin(corr)]"
   ]
  },
  {
   "cell_type": "code",
   "execution_count": 71,
   "metadata": {},
   "outputs": [],
   "source": [
    "X = one.loc[:, one.columns != 'correlation']\n",
    "y = one['correlation']"
   ]
  },
  {
   "cell_type": "code",
   "execution_count": 72,
   "metadata": {},
   "outputs": [],
   "source": [
    "seed= 9001\n",
    "np.random.seed(seed)"
   ]
  },
  {
   "cell_type": "code",
   "execution_count": 73,
   "metadata": {},
   "outputs": [],
   "source": [
    "x_tr, x_ts, y_tr, y_ts = train_test_split( X, y, test_size = 0.33, random_state =seed)"
   ]
  },
  {
   "cell_type": "code",
   "execution_count": 74,
   "metadata": {},
   "outputs": [
    {
     "data": {
      "text/plain": [
       "SVC()"
      ]
     },
     "execution_count": 74,
     "metadata": {},
     "output_type": "execute_result"
    }
   ],
   "source": [
    "model =SVC()\n",
    "model.fit (x_tr, y_tr)"
   ]
  },
  {
   "cell_type": "code",
   "execution_count": 76,
   "metadata": {},
   "outputs": [
    {
     "name": "stdout",
     "output_type": "stream",
     "text": [
      "Accuracy:  0.5690140845070423\n"
     ]
    }
   ],
   "source": [
    "predict_cough_type = model.predict(x_ts)\n",
    "print ('Accuracy: ', accuracy_score (y_ts, predict_cough_type))"
   ]
  },
  {
   "cell_type": "code",
   "execution_count": 78,
   "metadata": {},
   "outputs": [],
   "source": [
    "#VOTING\n"
   ]
  },
  {
   "cell_type": "code",
   "execution_count": 79,
   "metadata": {},
   "outputs": [],
   "source": [
    "from sklearn.neural_network import MLPClassifier\n",
    "from sklearn.preprocessing import MinMaxScaler\n",
    "from sklearn.tree import DecisionTreeClassifier\n",
    "#from sklearn.metrics import accuracy_score\n",
    "from sklearn.svm import SVC\n",
    "#from sklearn import metrics\n",
    "#from sklearn.model_selection import train_test_split"
   ]
  },
  {
   "cell_type": "code",
   "execution_count": 80,
   "metadata": {},
   "outputs": [],
   "source": [
    "ms = MinMaxScaler()\n",
    "X= ms.fit_transform(X)\n",
    "X = pd.DataFrame(X)"
   ]
  },
  {
   "cell_type": "code",
   "execution_count": 81,
   "metadata": {},
   "outputs": [],
   "source": [
    "import numpy as np\n",
    "import warnings\n",
    "from sklearn import datasets\n",
    "from sklearn import model_selection\n",
    "from sklearn.ensemble import RandomForestClassifier\n",
    "from sklearn.ensemble import VotingClassifier\n",
    "from sklearn.linear_model import LogisticRegression\n",
    "from sklearn.naive_bayes import GaussianNB\n",
    "warnings.filterwarnings('ignore')"
   ]
  },
  {
   "cell_type": "code",
   "execution_count": 82,
   "metadata": {},
   "outputs": [],
   "source": [
    "import pandas as pd\n",
    "import os\n",
    "import numpy as np\n",
    "np.set_printoptions(precision=4)\n",
    "import catboost\n",
    "from catboost import *\n",
    "from catboost import datasets"
   ]
  },
  {
   "cell_type": "code",
   "execution_count": 83,
   "metadata": {},
   "outputs": [],
   "source": [
    "import catboost\n",
    "from catboost import CatBoostClassifier\n",
    "from xgboost import XGBRegressor"
   ]
  },
  {
   "cell_type": "code",
   "execution_count": 84,
   "metadata": {},
   "outputs": [],
   "source": [
    "from sklearn.calibration import CalibratedClassifierCV\n",
    "from sklearn.svm import LinearSVC\n",
    "svc = LinearSVC()\n",
    "clf6 = CalibratedClassifierCV(svc) "
   ]
  },
  {
   "cell_type": "code",
   "execution_count": 85,
   "metadata": {},
   "outputs": [
    {
     "name": "stdout",
     "output_type": "stream",
     "text": [
      "5-fold cross validation:\n",
      "\n",
      "Accuracy: 0.70 (+/- 0.12) [Logistic Regression]\n",
      "Accuracy: 0.67 (+/- 0.16) [Random Forest]\n",
      "Accuracy: 0.74 (+/- 0.22) [Naive Bayes]\n",
      "Accuracy: 0.67 (+/- 0.15) [Random Forest2]\n",
      "Accuracy: 0.60 (+/- 0.09) [Decision Tree]\n",
      "Accuracy: 0.71 (+/- 0.16) [SVM]\n"
     ]
    }
   ],
   "source": [
    "clf1 = LogisticRegression(random_state=1)\n",
    "clf2 = RandomForestClassifier(random_state =1)\n",
    "clf3 = GaussianNB()\n",
    "clf4 = RandomForestClassifier(n_estimators = 30)\n",
    "clf5 = DecisionTreeClassifier (max_leaf_nodes = 10, random_state =0)\n",
    "clf6 = CalibratedClassifierCV(svc) \n",
    "\n",
    "print('5-fold cross validation:\\n')\n",
    "\n",
    "labels = ['Logistic Regression', 'Random Forest', 'Naive Bayes', 'Random Forest2', 'Decision Tree', 'SVM']\n",
    "\n",
    "for clf, label in zip([clf1, clf2, clf3, clf4, clf5, clf6], labels):\n",
    "    \n",
    "    scores  = model_selection.cross_val_score(clf, X, y,\n",
    "                                             cv=5,\n",
    "                                             scoring = 'accuracy')\n",
    "    \n",
    "    print('Accuracy: %0.2f (+/- %0.2f) [%s]'\n",
    "         %(scores.mean(), scores.std(), label))\n",
    "    "
   ]
  },
  {
   "cell_type": "code",
   "execution_count": 86,
   "metadata": {},
   "outputs": [],
   "source": [
    "voting_clf_hard = VotingClassifier(estimators = [(labels[0], clf1),\n",
    "                                                 (labels[1], clf2),\n",
    "                                                 (labels[2], clf3),\n",
    "                                                (labels[3], clf4),\n",
    "                                                (labels[4], clf5),\n",
    "                                                (labels[5], clf6)],\n",
    "                                   voting = 'hard')      "
   ]
  },
  {
   "cell_type": "code",
   "execution_count": 87,
   "metadata": {},
   "outputs": [],
   "source": [
    "voting_clf_soft = VotingClassifier(estimators = [(labels[0], clf1),\n",
    "                                                 (labels[1], clf2),\n",
    "                                                 (labels[2], clf3),\n",
    "                                                (labels[3], clf4),\n",
    "                                                (labels[4], clf5),\n",
    "                                                (labels[5], clf6)],\n",
    "                                   voting = 'soft')   "
   ]
  },
  {
   "cell_type": "code",
   "execution_count": 88,
   "metadata": {},
   "outputs": [
    {
     "name": "stdout",
     "output_type": "stream",
     "text": [
      "Accuracy: 0.70 (+/- 0.12) [Logistic Regression]\n",
      "Accuracy: 0.67 (+/- 0.16) [Random Forest]\n",
      "Accuracy: 0.74 (+/- 0.22) [Naive Bayes]\n",
      "Accuracy: 0.68 (+/- 0.16) [Random Forest2]\n",
      "Accuracy: 0.60 (+/- 0.09) [Decision Tree]\n",
      "Accuracy: 0.71 (+/- 0.16) [SVM]\n",
      "Accuracy: 0.67 (+/- 0.14) [Voting_Classifier_Hard]\n",
      "Accuracy: 0.71 (+/- 0.16) [Voting_Classifier_Soft]\n"
     ]
    }
   ],
   "source": [
    "labels_new = ['Logistic Regression', 'Random Forest', 'Naive Bayes','Random Forest2', 'Decision Tree', 'SVM',\n",
    "             'Voting_Classifier_Hard', 'Voting_Classifier_Soft']\n",
    "for (clf, label) in zip([clf1, clf2, clf3,clf4, clf5, clf6, voting_clf_hard, \n",
    "                        voting_clf_soft], labels_new):\n",
    "    scores = model_selection.cross_val_score(clf, X, y, cv=5,\n",
    "                                            scoring = 'accuracy')\n",
    "    print('Accuracy: %0.2f (+/- %0.2f) [%s]'\n",
    "         % (scores.mean(), scores.std(), label))"
   ]
  },
  {
   "cell_type": "code",
   "execution_count": 142,
   "metadata": {},
   "outputs": [],
   "source": [
    "corr = [4, 3]\n",
    "one = b[b.correlation.isin(corr)]"
   ]
  },
  {
   "cell_type": "code",
   "execution_count": 143,
   "metadata": {},
   "outputs": [
    {
     "data": {
      "text/plain": [
       "3    506\n",
       "4    469\n",
       "Name: correlation, dtype: int64"
      ]
     },
     "execution_count": 143,
     "metadata": {},
     "output_type": "execute_result"
    }
   ],
   "source": [
    "one['correlation'].value_counts()"
   ]
  },
  {
   "cell_type": "code",
   "execution_count": 144,
   "metadata": {},
   "outputs": [],
   "source": [
    "X = one.loc[:, one.columns != 'correlation']\n",
    "y = one['correlation']"
   ]
  },
  {
   "cell_type": "code",
   "execution_count": 145,
   "metadata": {},
   "outputs": [],
   "source": [
    "ms = MinMaxScaler()\n",
    "X= ms.fit_transform(X)\n",
    "X = pd.DataFrame(X)"
   ]
  },
  {
   "cell_type": "code",
   "execution_count": 146,
   "metadata": {},
   "outputs": [
    {
     "name": "stdout",
     "output_type": "stream",
     "text": [
      "Accuracy: 0.63 (+/- 0.09) [Logistic Regression]\n",
      "Accuracy: 0.58 (+/- 0.10) [Random Forest]\n",
      "Accuracy: 0.53 (+/- 0.04) [Naive Bayes]\n",
      "Accuracy: 0.60 (+/- 0.10) [Random Forest2]\n",
      "Accuracy: 0.57 (+/- 0.20) [Decision Tree]\n",
      "Accuracy: 0.57 (+/- 0.03) [SVM]\n",
      "Accuracy: 0.62 (+/- 0.09) [Voting_Classifier_Hard]\n",
      "Accuracy: 0.60 (+/- 0.12) [Voting_Classifier_Soft]\n"
     ]
    }
   ],
   "source": [
    "labels_new = ['Logistic Regression', 'Random Forest', 'Naive Bayes','Random Forest2', 'Decision Tree', 'SVM',\n",
    "             'Voting_Classifier_Hard', 'Voting_Classifier_Soft']\n",
    "for (clf, label) in zip([clf1, clf2, clf3,clf4, clf5, clf6, voting_clf_hard, \n",
    "                        voting_clf_soft], labels_new):\n",
    "    scores = model_selection.cross_val_score(clf, X, y, cv=5,\n",
    "                                            scoring = 'accuracy')\n",
    "    print('Accuracy: %0.2f (+/- %0.2f) [%s]'\n",
    "         % (scores.mean(), scores.std(), label))"
   ]
  },
  {
   "cell_type": "code",
   "execution_count": null,
   "metadata": {},
   "outputs": [],
   "source": [
    "MLP \n"
   ]
  },
  {
   "cell_type": "code",
   "execution_count": null,
   "metadata": {},
   "outputs": [],
   "source": []
  }
 ],
 "metadata": {
  "kernelspec": {
   "display_name": "Python 3",
   "language": "python",
   "name": "python3"
  },
  "language_info": {
   "codemirror_mode": {
    "name": "ipython",
    "version": 3
   },
   "file_extension": ".py",
   "mimetype": "text/x-python",
   "name": "python",
   "nbconvert_exporter": "python",
   "pygments_lexer": "ipython3",
   "version": "3.8.8"
  }
 },
 "nbformat": 4,
 "nbformat_minor": 4
}
