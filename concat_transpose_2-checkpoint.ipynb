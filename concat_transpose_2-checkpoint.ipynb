{
 "cells": [
  {
   "cell_type": "code",
   "execution_count": 1,
   "metadata": {},
   "outputs": [],
   "source": [
    "import os\n",
    "from tqdm import tqdm\n",
    "import pandas as pd\n",
    "import numpy as np\n",
    "import matplotlib.pyplot as plt\n",
    "from scipy.io import wavfile\n",
    "from python_speech_features import mfcc, logfbank\n",
    "import librosa\n",
    "from glob import glob\n",
    "\n",
    "import librosa as lr\n"
   ]
  },
  {
   "cell_type": "code",
   "execution_count": 2,
   "metadata": {},
   "outputs": [],
   "source": [
    "DATA_DIR='C:/Users/Asus/Documents/COVID19/testwav/'\n",
    "filenames =glob(DATA_DIR + '/*.wav')"
   ]
  },
  {
   "cell_type": "code",
   "execution_count": 3,
   "metadata": {},
   "outputs": [
    {
     "data": {
      "text/plain": [
       "'1586793423518'"
      ]
     },
     "execution_count": 3,
     "metadata": {},
     "output_type": "execute_result"
    }
   ],
   "source": [
    "#file_path = 'C:/Users/Asus/Documents/COVID19/newwav/1588311962576.wav'\n",
    "def get_sound_id_from_file_path(file_path):\n",
    "    return file_path.split('/')[-1][:-4]\n",
    "get_sound_id_from_file_path('C:/Users/Asus/Documents/COVID19/testwav/1586793423518.wav')"
   ]
  },
  {
   "cell_type": "code",
   "execution_count": 4,
   "metadata": {},
   "outputs": [],
   "source": [
    "def get_data_files():\n",
    "    # we will be leaving some files out, on purpose. Do not change this function!\n",
    "    return [os.path.join(DATA_DIR, x) for x in sorted(os.listdir(DATA_DIR)) ]"
   ]
  },
  {
   "cell_type": "code",
   "execution_count": 5,
   "metadata": {},
   "outputs": [
    {
     "data": {
      "text/plain": [
       "['C:/Users/Asus/Documents/COVID19/testwav/1586793423518.wav',\n",
       " 'C:/Users/Asus/Documents/COVID19/testwav/1586850463146.wav',\n",
       " 'C:/Users/Asus/Documents/COVID19/testwav/1587042586994.wav',\n",
       " 'C:/Users/Asus/Documents/COVID19/testwav/1587206042393.wav',\n",
       " 'C:/Users/Asus/Documents/COVID19/testwav/1587206113525.wav']"
      ]
     },
     "execution_count": 5,
     "metadata": {},
     "output_type": "execute_result"
    }
   ],
   "source": [
    "get_data_files()"
   ]
  },
  {
   "cell_type": "code",
   "execution_count": 6,
   "metadata": {},
   "outputs": [],
   "source": [
    "def rmse(audio,FRAME_LENGTH, HOP_LENGTH):\n",
    "    \n",
    "    RMSE_audio = librosa.feature.rms(audio, frame_length=FRAME_LENGTH, hop_length=HOP_LENGTH)[0]\n",
    "    return RMSE_audio"
   ]
  },
  {
   "cell_type": "code",
   "execution_count": 7,
   "metadata": {},
   "outputs": [],
   "source": [
    "def amplitude_envelope_ol(signal, frame_length, hop_length):\n",
    "    amplitude_envelope = []\n",
    "  # calculate AE for each frame\n",
    "    for i in range(0, len(signal), hop_length):\n",
    "        current_frame_AE = max(signal[i:i+frame_length])\n",
    "        amplitude_envelope.append(current_frame_AE)\n",
    "        AE = np.array(amplitude_envelope)\n",
    "    return AE"
   ]
  },
  {
   "cell_type": "code",
   "execution_count": 8,
   "metadata": {},
   "outputs": [],
   "source": [
    "FRAME_LENGTH = 1024\n",
    "HOP_LENGTH = 512\n",
    "def zero_crossing_rate(audio,FRAME_LENGTH, HOP_LENGTH):\n",
    "    zcr_sound = librosa.feature.zero_crossing_rate(audio, frame_length=FRAME_LENGTH, hop_length=HOP_LENGTH)[0]\n",
    "    return zcr_sound "
   ]
  },
  {
   "cell_type": "code",
   "execution_count": 9,
   "metadata": {},
   "outputs": [],
   "source": [
    "def spectral_bandwidth(audio,FRAME_LENGTH, HOP_LENGTH):\n",
    "    spectral_bandwidth= librosa.feature.spectral_bandwidth( y  = audio, sr  =sr, n_fft=FRAME_LENGTH, hop_length= HOP_LENGTH)[0]\n",
    "    return spectral_bandwidth"
   ]
  },
  {
   "cell_type": "code",
   "execution_count": 10,
   "metadata": {},
   "outputs": [],
   "source": [
    "def spectral_centroid(audio,FRAME_LENGTH, HOP_LENGTH):\n",
    "    spectral_centroid= librosa.feature.spectral_centroid( y  = audio, sr  =sr, n_fft=FRAME_LENGTH, hop_length= HOP_LENGTH)[0]\n",
    "    return spectral_centroid"
   ]
  },
  {
   "cell_type": "code",
   "execution_count": null,
   "metadata": {},
   "outputs": [],
   "source": [
    "FRAME_SIZE= 2048\n",
    "HOP_SIZE = 512\n",
    "\n",
    "\n",
    "def sound_spec(audio,FRAME_SIZE,HOP_SIZE ):\n",
    "    cov_sound_spec = librosa.stft(audio, n_fft = FRAME_SIZE, hop_length =HOP_SIZE)\n",
    "    return cov_sound_spec"
   ]
  },
  {
   "cell_type": "code",
   "execution_count": null,
   "metadata": {},
   "outputs": [],
   "source": [
    "df = pd.DataFrame()\n",
    "df1 = pd.DataFrame()\n",
    "df2 = pd.DataFrame()\n",
    "df3 = pd.DataFrame()\n",
    "df4 = pd.DataFrame()\n",
    "\n",
    "for i in get_data_files():\n",
    "    #print(i)\n",
    "    audio, sr = librosa.load(i)\n",
    "    RMSE = rmse(audio,FRAME_LENGTH, HOP_LENGTH)\n",
    "    AE = amplitude_envelope_ol(audio, FRAME_LENGTH,  HOP_LENGTH )\n",
    "    ZCR = zero_crossing_rate(audio,FRAME_LENGTH, HOP_LENGTH)\n",
    "    sband = spectral_bandwidth(audio,FRAME_LENGTH, HOP_LENGTH)\n",
    "    sc = spectral_centroid(audio,FRAME_LENGTH, HOP_LENGTH)\n",
    "        \n",
    "    rmse_series = pd.Series(RMSE)\n",
    "    ae_series = pd.Series(AE)\n",
    "    zcr_series = pd.Series(ZCR)\n",
    "    sband_series = pd.Series(sband)\n",
    "    sc_series = pd.Series(sc)\n",
    "    \n",
    "    df['sound_id'] = get_sound_id_from_file_path(i) \n",
    "    \n",
    "    df['duration'] = audio.size/sr\n",
    "    df['max_value'] = audio.max()     # the maximum amplitude value in audio signal\n",
    "    df['min_value'] =  audio.min() \n",
    "    df = df.append(rmse_series, ignore_index=True)\n",
    "    df1 = df1.append(ae_series, ignore_index=True)\n",
    "    df2 = df2.append(zcr_series, ignore_index=True)\n",
    "    df3 = df3.append(sband_series,ignore_index=True )\n",
    "    df4 = df4.append(sc_series, ignore_index = True)\n",
    "    big = pd.concat([df, df1, df2, df3, df4], axis =1, sort = False)"
   ]
  }
 ],
 "metadata": {
  "kernelspec": {
   "display_name": "Python 3",
   "language": "python",
   "name": "python3"
  },
  "language_info": {
   "codemirror_mode": {
    "name": "ipython",
    "version": 3
   },
   "file_extension": ".py",
   "mimetype": "text/x-python",
   "name": "python",
   "nbconvert_exporter": "python",
   "pygments_lexer": "ipython3",
   "version": "3.8.3"
  }
 },
 "nbformat": 4,
 "nbformat_minor": 4
}
