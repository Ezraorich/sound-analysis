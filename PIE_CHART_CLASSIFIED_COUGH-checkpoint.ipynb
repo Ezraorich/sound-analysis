{
 "cells": [
  {
   "cell_type": "code",
   "execution_count": 1,
   "metadata": {},
   "outputs": [],
   "source": [
    "import os\n",
    "from tqdm import tqdm\n",
    "import pandas as pd\n",
    "import numpy as np\n",
    "import matplotlib.pyplot as plt\n",
    "from scipy.io import wavfile\n",
    "from python_speech_features import mfcc, logfbank\n",
    "import librosa\n",
    "from glob import glob\n",
    "\n",
    "import librosa as lr"
   ]
  },
  {
   "cell_type": "code",
   "execution_count": null,
   "metadata": {},
   "outputs": [],
   "source": []
  },
  {
   "cell_type": "code",
   "execution_count": 2,
   "metadata": {},
   "outputs": [],
   "source": [
    "import pandas as pd\n",
    "df=pd.read_json(r'C:/Users/Asus/Documents/COVID19/newfile.json')"
   ]
  },
  {
   "cell_type": "code",
   "execution_count": 3,
   "metadata": {},
   "outputs": [
    {
     "data": {
      "text/html": [
       "<div>\n",
       "<style scoped>\n",
       "    .dataframe tbody tr th:only-of-type {\n",
       "        vertical-align: middle;\n",
       "    }\n",
       "\n",
       "    .dataframe tbody tr th {\n",
       "        vertical-align: top;\n",
       "    }\n",
       "\n",
       "    .dataframe thead th {\n",
       "        text-align: right;\n",
       "    }\n",
       "</style>\n",
       "<table border=\"1\" class=\"dataframe\">\n",
       "  <thead>\n",
       "    <tr style=\"text-align: right;\">\n",
       "      <th></th>\n",
       "      <th>id</th>\n",
       "      <th>time</th>\n",
       "      <th>country</th>\n",
       "      <th>status</th>\n",
       "      <th>age</th>\n",
       "      <th>duration</th>\n",
       "      <th>city</th>\n",
       "      <th>fileName</th>\n",
       "      <th>smoking</th>\n",
       "      <th>gravity</th>\n",
       "      <th>diagnostic</th>\n",
       "      <th>coughType</th>\n",
       "      <th>correlation</th>\n",
       "      <th>symptoms</th>\n",
       "      <th>gender</th>\n",
       "      <th>cough</th>\n",
       "      <th>link</th>\n",
       "      <th>covid</th>\n",
       "    </tr>\n",
       "  </thead>\n",
       "  <tbody>\n",
       "    <tr>\n",
       "      <th>0</th>\n",
       "      <td>Gq7rLhe22Oo9F8bYeY4o</td>\n",
       "      <td>2020-11-17 03:57</td>\n",
       "      <td>Canada</td>\n",
       "      <td>Pending</td>\n",
       "      <td>46</td>\n",
       "      <td>5000</td>\n",
       "      <td>mississauga</td>\n",
       "      <td>1605585337340.aac</td>\n",
       "      <td>Smoker</td>\n",
       "      <td>Required medicine</td>\n",
       "      <td>Unknown</td>\n",
       "      <td>Dry</td>\n",
       "      <td>Other</td>\n",
       "      <td>records.symptoms.copd</td>\n",
       "      <td>Female</td>\n",
       "      <td>Spontaneous</td>\n",
       "      <td>https://firebasestorage.googleapis.com/v0/b/co...</td>\n",
       "      <td>NaN</td>\n",
       "    </tr>\n",
       "    <tr>\n",
       "      <th>1</th>\n",
       "      <td>FsHaNwwQJs1ZOlbP4WNp</td>\n",
       "      <td>2020-11-17 01:52</td>\n",
       "      <td>Australia</td>\n",
       "      <td>Pending</td>\n",
       "      <td>35</td>\n",
       "      <td>5000</td>\n",
       "      <td>Melbourne</td>\n",
       "      <td>1605577878440.aac</td>\n",
       "      <td>Nonsmoker</td>\n",
       "      <td>Least concern</td>\n",
       "      <td>Unknown</td>\n",
       "      <td>Wet (productive)</td>\n",
       "      <td>Asthma</td>\n",
       "      <td>NaN</td>\n",
       "      <td>Female</td>\n",
       "      <td>Spontaneous</td>\n",
       "      <td>https://firebasestorage.googleapis.com/v0/b/co...</td>\n",
       "      <td>NaN</td>\n",
       "    </tr>\n",
       "    <tr>\n",
       "      <th>2</th>\n",
       "      <td>4AgONyTD6pxLEeb1Gjnl</td>\n",
       "      <td>2020-11-17 00:56</td>\n",
       "      <td>United States</td>\n",
       "      <td>Pending</td>\n",
       "      <td>38</td>\n",
       "      <td>5035</td>\n",
       "      <td>decatur</td>\n",
       "      <td>1605574542532.aac</td>\n",
       "      <td>Nonsmoker</td>\n",
       "      <td>Least concern</td>\n",
       "      <td>Unknown</td>\n",
       "      <td>Dry</td>\n",
       "      <td>Other</td>\n",
       "      <td>NaN</td>\n",
       "      <td>Male</td>\n",
       "      <td>Spontaneous</td>\n",
       "      <td>https://firebasestorage.googleapis.com/v0/b/co...</td>\n",
       "      <td>NaN</td>\n",
       "    </tr>\n",
       "    <tr>\n",
       "      <th>3</th>\n",
       "      <td>RMJxHOMghBWOKnsgVd8L</td>\n",
       "      <td>2020-11-16 23:07</td>\n",
       "      <td>Australia</td>\n",
       "      <td>Pending</td>\n",
       "      <td>26</td>\n",
       "      <td>3933</td>\n",
       "      <td>Brisbane</td>\n",
       "      <td>1605568024007.aac</td>\n",
       "      <td>Nonsmoker</td>\n",
       "      <td>Least concern</td>\n",
       "      <td>Unknown</td>\n",
       "      <td>Wet (productive)</td>\n",
       "      <td>Asthma</td>\n",
       "      <td>NaN</td>\n",
       "      <td>Female</td>\n",
       "      <td>Spontaneous</td>\n",
       "      <td>https://firebasestorage.googleapis.com/v0/b/co...</td>\n",
       "      <td>NaN</td>\n",
       "    </tr>\n",
       "    <tr>\n",
       "      <th>4</th>\n",
       "      <td>Q3Y49R0FVCNEfvJXtde9</td>\n",
       "      <td>2020-11-16 17:11</td>\n",
       "      <td>Israel</td>\n",
       "      <td>Pending</td>\n",
       "      <td>50</td>\n",
       "      <td>5000</td>\n",
       "      <td>Israel</td>\n",
       "      <td>1605546575765.aac</td>\n",
       "      <td>Nonsmoker</td>\n",
       "      <td>Required follow up</td>\n",
       "      <td>Unknown</td>\n",
       "      <td>Dry</td>\n",
       "      <td>Allergies</td>\n",
       "      <td>records.symptoms.no</td>\n",
       "      <td>Male</td>\n",
       "      <td>Spontaneous</td>\n",
       "      <td>https://firebasestorage.googleapis.com/v0/b/co...</td>\n",
       "      <td>NaN</td>\n",
       "    </tr>\n",
       "    <tr>\n",
       "      <th>...</th>\n",
       "      <td>...</td>\n",
       "      <td>...</td>\n",
       "      <td>...</td>\n",
       "      <td>...</td>\n",
       "      <td>...</td>\n",
       "      <td>...</td>\n",
       "      <td>...</td>\n",
       "      <td>...</td>\n",
       "      <td>...</td>\n",
       "      <td>...</td>\n",
       "      <td>...</td>\n",
       "      <td>...</td>\n",
       "      <td>...</td>\n",
       "      <td>...</td>\n",
       "      <td>...</td>\n",
       "      <td>...</td>\n",
       "      <td>...</td>\n",
       "      <td>...</td>\n",
       "    </tr>\n",
       "    <tr>\n",
       "      <th>284</th>\n",
       "      <td>T1tcNI8R4aUB3wgPQnWK</td>\n",
       "      <td>2020-04-18 10:35</td>\n",
       "      <td>Kazakhstan</td>\n",
       "      <td>Pending</td>\n",
       "      <td>55</td>\n",
       "      <td>5000</td>\n",
       "      <td>Nur-Sultan</td>\n",
       "      <td>1587206113525.aac</td>\n",
       "      <td>Nonsmoker</td>\n",
       "      <td>Least concern</td>\n",
       "      <td>Unknown</td>\n",
       "      <td>Dry</td>\n",
       "      <td>Other</td>\n",
       "      <td>NaN</td>\n",
       "      <td>Female</td>\n",
       "      <td>Forced</td>\n",
       "      <td>https://firebasestorage.googleapis.com/v0/b/co...</td>\n",
       "      <td>NaN</td>\n",
       "    </tr>\n",
       "    <tr>\n",
       "      <th>285</th>\n",
       "      <td>xVgrzhNlDGiQIZXff5Vs</td>\n",
       "      <td>2020-04-18 10:35</td>\n",
       "      <td>Kazakhstan</td>\n",
       "      <td>Pending</td>\n",
       "      <td>55</td>\n",
       "      <td>3000</td>\n",
       "      <td>Nur-Sultan</td>\n",
       "      <td>1587206042393.aac</td>\n",
       "      <td>Nonsmoker</td>\n",
       "      <td>Least concern</td>\n",
       "      <td>Unknown</td>\n",
       "      <td>Dry</td>\n",
       "      <td>Other</td>\n",
       "      <td>NaN</td>\n",
       "      <td>Female</td>\n",
       "      <td>Forced</td>\n",
       "      <td>https://firebasestorage.googleapis.com/v0/b/co...</td>\n",
       "      <td>NaN</td>\n",
       "    </tr>\n",
       "    <tr>\n",
       "      <th>286</th>\n",
       "      <td>q4NsmS5Ylhs2CBNAeS6k</td>\n",
       "      <td>2020-04-16 13:12</td>\n",
       "      <td>United States</td>\n",
       "      <td>Pending</td>\n",
       "      <td>36</td>\n",
       "      <td>5000</td>\n",
       "      <td>muskegon</td>\n",
       "      <td>1587042586994.aac</td>\n",
       "      <td>Nonsmoker</td>\n",
       "      <td>Least concern</td>\n",
       "      <td>Unknown</td>\n",
       "      <td>Wet (productive)</td>\n",
       "      <td>Asthma</td>\n",
       "      <td>records.symptoms.cough exercise when exersise</td>\n",
       "      <td>Male</td>\n",
       "      <td>Forced</td>\n",
       "      <td>https://firebasestorage.googleapis.com/v0/b/co...</td>\n",
       "      <td>NaN</td>\n",
       "    </tr>\n",
       "    <tr>\n",
       "      <th>287</th>\n",
       "      <td>FtLgJX8Tuy2LsbXuOlNk</td>\n",
       "      <td>2020-04-14 07:48</td>\n",
       "      <td>United Kingdom</td>\n",
       "      <td>Pending</td>\n",
       "      <td>24</td>\n",
       "      <td>5000</td>\n",
       "      <td>London</td>\n",
       "      <td>1586850463146.aac</td>\n",
       "      <td>Nonsmoker</td>\n",
       "      <td>Least concern</td>\n",
       "      <td>Unknown</td>\n",
       "      <td>Dry</td>\n",
       "      <td>Cardio</td>\n",
       "      <td>NaN</td>\n",
       "      <td>Male</td>\n",
       "      <td>Forced</td>\n",
       "      <td>https://firebasestorage.googleapis.com/v0/b/co...</td>\n",
       "      <td>NaN</td>\n",
       "    </tr>\n",
       "    <tr>\n",
       "      <th>288</th>\n",
       "      <td>f2KB0qT4KO1l6y3DPRRT</td>\n",
       "      <td>2020-04-13 15:58</td>\n",
       "      <td>Kazakhstan</td>\n",
       "      <td>Accepted</td>\n",
       "      <td>45</td>\n",
       "      <td>5000</td>\n",
       "      <td>Nur-sultan</td>\n",
       "      <td>1586793423518.aac</td>\n",
       "      <td>Nonsmoker</td>\n",
       "      <td>Least concern</td>\n",
       "      <td>Unknown</td>\n",
       "      <td>Dry</td>\n",
       "      <td>Other</td>\n",
       "      <td>NaN</td>\n",
       "      <td>Male</td>\n",
       "      <td>Forced</td>\n",
       "      <td>https://firebasestorage.googleapis.com/v0/b/co...</td>\n",
       "      <td>NaN</td>\n",
       "    </tr>\n",
       "  </tbody>\n",
       "</table>\n",
       "<p>289 rows × 18 columns</p>\n",
       "</div>"
      ],
      "text/plain": [
       "                       id              time         country    status  age  \\\n",
       "0    Gq7rLhe22Oo9F8bYeY4o  2020-11-17 03:57          Canada   Pending   46   \n",
       "1    FsHaNwwQJs1ZOlbP4WNp  2020-11-17 01:52       Australia   Pending   35   \n",
       "2    4AgONyTD6pxLEeb1Gjnl  2020-11-17 00:56   United States   Pending   38   \n",
       "3    RMJxHOMghBWOKnsgVd8L  2020-11-16 23:07       Australia   Pending   26   \n",
       "4    Q3Y49R0FVCNEfvJXtde9  2020-11-16 17:11          Israel   Pending   50   \n",
       "..                    ...               ...             ...       ...  ...   \n",
       "284  T1tcNI8R4aUB3wgPQnWK  2020-04-18 10:35      Kazakhstan   Pending   55   \n",
       "285  xVgrzhNlDGiQIZXff5Vs  2020-04-18 10:35      Kazakhstan   Pending   55   \n",
       "286  q4NsmS5Ylhs2CBNAeS6k  2020-04-16 13:12   United States   Pending   36   \n",
       "287  FtLgJX8Tuy2LsbXuOlNk  2020-04-14 07:48  United Kingdom   Pending   24   \n",
       "288  f2KB0qT4KO1l6y3DPRRT  2020-04-13 15:58      Kazakhstan  Accepted   45   \n",
       "\n",
       "     duration         city           fileName    smoking             gravity  \\\n",
       "0        5000  mississauga  1605585337340.aac     Smoker   Required medicine   \n",
       "1        5000    Melbourne  1605577878440.aac  Nonsmoker       Least concern   \n",
       "2        5035      decatur  1605574542532.aac  Nonsmoker       Least concern   \n",
       "3        3933     Brisbane  1605568024007.aac  Nonsmoker       Least concern   \n",
       "4        5000       Israel  1605546575765.aac  Nonsmoker  Required follow up   \n",
       "..        ...          ...                ...        ...                 ...   \n",
       "284      5000   Nur-Sultan  1587206113525.aac  Nonsmoker       Least concern   \n",
       "285      3000   Nur-Sultan  1587206042393.aac  Nonsmoker       Least concern   \n",
       "286      5000     muskegon  1587042586994.aac  Nonsmoker       Least concern   \n",
       "287      5000       London  1586850463146.aac  Nonsmoker       Least concern   \n",
       "288      5000   Nur-sultan  1586793423518.aac  Nonsmoker       Least concern   \n",
       "\n",
       "    diagnostic         coughType correlation  \\\n",
       "0      Unknown               Dry       Other   \n",
       "1      Unknown  Wet (productive)      Asthma   \n",
       "2      Unknown               Dry       Other   \n",
       "3      Unknown  Wet (productive)      Asthma   \n",
       "4      Unknown               Dry   Allergies   \n",
       "..         ...               ...         ...   \n",
       "284    Unknown               Dry       Other   \n",
       "285    Unknown               Dry       Other   \n",
       "286    Unknown  Wet (productive)      Asthma   \n",
       "287    Unknown               Dry      Cardio   \n",
       "288    Unknown               Dry       Other   \n",
       "\n",
       "                                          symptoms  gender        cough  \\\n",
       "0                            records.symptoms.copd  Female  Spontaneous   \n",
       "1                                              NaN  Female  Spontaneous   \n",
       "2                                              NaN    Male  Spontaneous   \n",
       "3                                              NaN  Female  Spontaneous   \n",
       "4                              records.symptoms.no    Male  Spontaneous   \n",
       "..                                             ...     ...          ...   \n",
       "284                                            NaN  Female       Forced   \n",
       "285                                            NaN  Female       Forced   \n",
       "286  records.symptoms.cough exercise when exersise    Male       Forced   \n",
       "287                                            NaN    Male       Forced   \n",
       "288                                            NaN    Male       Forced   \n",
       "\n",
       "                                                  link covid  \n",
       "0    https://firebasestorage.googleapis.com/v0/b/co...   NaN  \n",
       "1    https://firebasestorage.googleapis.com/v0/b/co...   NaN  \n",
       "2    https://firebasestorage.googleapis.com/v0/b/co...   NaN  \n",
       "3    https://firebasestorage.googleapis.com/v0/b/co...   NaN  \n",
       "4    https://firebasestorage.googleapis.com/v0/b/co...   NaN  \n",
       "..                                                 ...   ...  \n",
       "284  https://firebasestorage.googleapis.com/v0/b/co...   NaN  \n",
       "285  https://firebasestorage.googleapis.com/v0/b/co...   NaN  \n",
       "286  https://firebasestorage.googleapis.com/v0/b/co...   NaN  \n",
       "287  https://firebasestorage.googleapis.com/v0/b/co...   NaN  \n",
       "288  https://firebasestorage.googleapis.com/v0/b/co...   NaN  \n",
       "\n",
       "[289 rows x 18 columns]"
      ]
     },
     "execution_count": 3,
     "metadata": {},
     "output_type": "execute_result"
    }
   ],
   "source": [
    "df"
   ]
  },
  {
   "cell_type": "code",
   "execution_count": 4,
   "metadata": {},
   "outputs": [],
   "source": [
    "sd=df[['fileName','correlation']]"
   ]
  },
  {
   "cell_type": "code",
   "execution_count": 5,
   "metadata": {},
   "outputs": [
    {
     "data": {
      "text/plain": [
       "correlation\n",
       "Allergies                30\n",
       "Asthma                   39\n",
       "COVID-19                 36\n",
       "Cancer                    2\n",
       "Cardio                    4\n",
       "Other                   163\n",
       "Pneumonia/Bronchitis     14\n",
       "Tuberculosis              1\n",
       "Name: id, dtype: int64"
      ]
     },
     "execution_count": 5,
     "metadata": {},
     "output_type": "execute_result"
    }
   ],
   "source": [
    "df.groupby('correlation')['id'].nunique()"
   ]
  },
  {
   "cell_type": "code",
   "execution_count": 6,
   "metadata": {},
   "outputs": [],
   "source": [
    "header = ['fileName', 'correlation']\n",
    "df.to_csv('filenames.csv', columns = header)"
   ]
  },
  {
   "cell_type": "code",
   "execution_count": 7,
   "metadata": {},
   "outputs": [],
   "source": [
    "df= pd.read_csv('filenames.csv')\n",
    "#df.set_index('fileName', inplace = True)"
   ]
  },
  {
   "cell_type": "code",
   "execution_count": 8,
   "metadata": {},
   "outputs": [],
   "source": [
    "df=df[['fileName','correlation']]"
   ]
  },
  {
   "cell_type": "code",
   "execution_count": 9,
   "metadata": {},
   "outputs": [],
   "source": [
    "df['fileName']=df['fileName'].str.replace(\"aac\", \"wav\")\n"
   ]
  },
  {
   "cell_type": "code",
   "execution_count": 10,
   "metadata": {},
   "outputs": [],
   "source": [
    "#df.set_index('fileName', inplace = True)\n",
    "\n"
   ]
  },
  {
   "cell_type": "code",
   "execution_count": 11,
   "metadata": {},
   "outputs": [
    {
     "ename": "IndexError",
     "evalue": "list index out of range",
     "output_type": "error",
     "traceback": [
      "\u001b[1;31m---------------------------------------------------------------------------\u001b[0m",
      "\u001b[1;31mIndexError\u001b[0m                                Traceback (most recent call last)",
      "\u001b[1;32m<ipython-input-11-bc832abf56c6>\u001b[0m in \u001b[0;36m<module>\u001b[1;34m\u001b[0m\n\u001b[0;32m      4\u001b[0m \u001b[1;31m#audio_files[1]\u001b[0m\u001b[1;33m\u001b[0m\u001b[1;33m\u001b[0m\u001b[1;33m\u001b[0m\u001b[0m\n\u001b[0;32m      5\u001b[0m \u001b[1;32mfor\u001b[0m \u001b[0mi\u001b[0m \u001b[1;32min\u001b[0m \u001b[0mrange\u001b[0m \u001b[1;33m(\u001b[0m\u001b[1;36m0\u001b[0m\u001b[1;33m,\u001b[0m\u001b[0mlen\u001b[0m\u001b[1;33m(\u001b[0m\u001b[0mdf\u001b[0m\u001b[1;33m)\u001b[0m\u001b[1;33m)\u001b[0m\u001b[1;33m:\u001b[0m\u001b[1;33m\u001b[0m\u001b[1;33m\u001b[0m\u001b[0m\n\u001b[1;32m----> 6\u001b[1;33m     \u001b[0my\u001b[0m\u001b[1;33m,\u001b[0m \u001b[0msr\u001b[0m \u001b[1;33m=\u001b[0m \u001b[0mlibrosa\u001b[0m\u001b[1;33m.\u001b[0m\u001b[0mload\u001b[0m\u001b[1;33m(\u001b[0m\u001b[0maudio_files\u001b[0m\u001b[1;33m[\u001b[0m\u001b[0mi\u001b[0m\u001b[1;33m]\u001b[0m\u001b[1;33m)\u001b[0m\u001b[1;33m\u001b[0m\u001b[1;33m\u001b[0m\u001b[0m\n\u001b[0m\u001b[0;32m      7\u001b[0m     \u001b[0mduration\u001b[0m\u001b[1;33m=\u001b[0m \u001b[0my\u001b[0m\u001b[1;33m.\u001b[0m\u001b[0msize\u001b[0m\u001b[1;33m/\u001b[0m\u001b[0msr\u001b[0m\u001b[1;33m\u001b[0m\u001b[1;33m\u001b[0m\u001b[0m\n\u001b[0;32m      8\u001b[0m     \u001b[0mdf\u001b[0m\u001b[1;33m.\u001b[0m\u001b[0mat\u001b[0m\u001b[1;33m[\u001b[0m\u001b[0mi\u001b[0m\u001b[1;33m,\u001b[0m\u001b[1;34m'time'\u001b[0m\u001b[1;33m]\u001b[0m\u001b[1;33m=\u001b[0m\u001b[0mduration\u001b[0m\u001b[1;33m\u001b[0m\u001b[1;33m\u001b[0m\u001b[0m\n",
      "\u001b[1;31mIndexError\u001b[0m: list index out of range"
     ]
    }
   ],
   "source": [
    "#filename = librosa.ex('')\n",
    "data_dir ='C:/Users/Asus/Documents/COVID19/newwav/'\n",
    "audio_files =glob(data_dir + '/*.wav')\n",
    "#audio_files[1]\n",
    "for i in range (0,len(df)):\n",
    "    y, sr = librosa.load(audio_files[i])\n",
    "    duration= y.size/sr\n",
    "    df.at[i,'time']=duration"
   ]
  },
  {
   "cell_type": "code",
   "execution_count": 12,
   "metadata": {},
   "outputs": [
    {
     "data": {
      "text/html": [
       "<div>\n",
       "<style scoped>\n",
       "    .dataframe tbody tr th:only-of-type {\n",
       "        vertical-align: middle;\n",
       "    }\n",
       "\n",
       "    .dataframe tbody tr th {\n",
       "        vertical-align: top;\n",
       "    }\n",
       "\n",
       "    .dataframe thead th {\n",
       "        text-align: right;\n",
       "    }\n",
       "</style>\n",
       "<table border=\"1\" class=\"dataframe\">\n",
       "  <thead>\n",
       "    <tr style=\"text-align: right;\">\n",
       "      <th></th>\n",
       "      <th>fileName</th>\n",
       "      <th>correlation</th>\n",
       "      <th>time</th>\n",
       "    </tr>\n",
       "  </thead>\n",
       "  <tbody>\n",
       "    <tr>\n",
       "      <th>0</th>\n",
       "      <td>1605585337340.wav</td>\n",
       "      <td>Other</td>\n",
       "      <td>5.040000</td>\n",
       "    </tr>\n",
       "    <tr>\n",
       "      <th>1</th>\n",
       "      <td>1605577878440.wav</td>\n",
       "      <td>Asthma</td>\n",
       "      <td>5.040000</td>\n",
       "    </tr>\n",
       "    <tr>\n",
       "      <th>2</th>\n",
       "      <td>1605574542532.wav</td>\n",
       "      <td>Other</td>\n",
       "      <td>5.040000</td>\n",
       "    </tr>\n",
       "    <tr>\n",
       "      <th>3</th>\n",
       "      <td>1605568024007.wav</td>\n",
       "      <td>Asthma</td>\n",
       "      <td>3.800000</td>\n",
       "    </tr>\n",
       "    <tr>\n",
       "      <th>4</th>\n",
       "      <td>1605546575765.wav</td>\n",
       "      <td>Allergies</td>\n",
       "      <td>5.080000</td>\n",
       "    </tr>\n",
       "    <tr>\n",
       "      <th>...</th>\n",
       "      <td>...</td>\n",
       "      <td>...</td>\n",
       "      <td>...</td>\n",
       "    </tr>\n",
       "    <tr>\n",
       "      <th>284</th>\n",
       "      <td>1587206113525.wav</td>\n",
       "      <td>Other</td>\n",
       "      <td>16.128027</td>\n",
       "    </tr>\n",
       "    <tr>\n",
       "      <th>285</th>\n",
       "      <td>1587206042393.wav</td>\n",
       "      <td>Other</td>\n",
       "      <td>20.480000</td>\n",
       "    </tr>\n",
       "    <tr>\n",
       "      <th>286</th>\n",
       "      <td>1587042586994.wav</td>\n",
       "      <td>Asthma</td>\n",
       "      <td>5.040000</td>\n",
       "    </tr>\n",
       "    <tr>\n",
       "      <th>287</th>\n",
       "      <td>1586850463146.wav</td>\n",
       "      <td>Cardio</td>\n",
       "      <td>5.040000</td>\n",
       "    </tr>\n",
       "    <tr>\n",
       "      <th>288</th>\n",
       "      <td>1586793423518.wav</td>\n",
       "      <td>Other</td>\n",
       "      <td>NaN</td>\n",
       "    </tr>\n",
       "  </tbody>\n",
       "</table>\n",
       "<p>289 rows × 3 columns</p>\n",
       "</div>"
      ],
      "text/plain": [
       "              fileName correlation       time\n",
       "0    1605585337340.wav       Other   5.040000\n",
       "1    1605577878440.wav      Asthma   5.040000\n",
       "2    1605574542532.wav       Other   5.040000\n",
       "3    1605568024007.wav      Asthma   3.800000\n",
       "4    1605546575765.wav   Allergies   5.080000\n",
       "..                 ...         ...        ...\n",
       "284  1587206113525.wav       Other  16.128027\n",
       "285  1587206042393.wav       Other  20.480000\n",
       "286  1587042586994.wav      Asthma   5.040000\n",
       "287  1586850463146.wav      Cardio   5.040000\n",
       "288  1586793423518.wav       Other        NaN\n",
       "\n",
       "[289 rows x 3 columns]"
      ]
     },
     "execution_count": 12,
     "metadata": {},
     "output_type": "execute_result"
    }
   ],
   "source": [
    "#df=df.drop(columns=['new_col'])\n",
    "df"
   ]
  },
  {
   "cell_type": "code",
   "execution_count": 13,
   "metadata": {},
   "outputs": [],
   "source": [
    "classes =list(np.unique(df.correlation))\n",
    "class_dist =df.groupby(['correlation'])['time'].mean()"
   ]
  },
  {
   "cell_type": "code",
   "execution_count": 14,
   "metadata": {},
   "outputs": [
    {
     "data": {
      "text/plain": [
       "correlation\n",
       "Allergies               15.921067\n",
       "Asthma                  11.028309\n",
       "COVID-19                10.677779\n",
       "Cancer                  12.780000\n",
       "Cardio                  16.620000\n",
       "Other                   12.974224\n",
       "Pneumonia/Bronchitis     9.217143\n",
       "Tuberculosis             5.080000\n",
       "Name: time, dtype: float64"
      ]
     },
     "execution_count": 14,
     "metadata": {},
     "output_type": "execute_result"
    }
   ],
   "source": [
    "class_dist"
   ]
  },
  {
   "cell_type": "code",
   "execution_count": 15,
   "metadata": {},
   "outputs": [
    {
     "name": "stdout",
     "output_type": "stream",
     "text": [
      "1\n"
     ]
    }
   ],
   "source": [
    "count = df[\"time\"].isna().sum()\n",
    "print(count)"
   ]
  },
  {
   "cell_type": "code",
   "execution_count": 16,
   "metadata": {},
   "outputs": [
    {
     "data": {
      "image/png": "[encoded data removed]",
      "text/plain": [
       "<Figure size 432x288 with 1 Axes>"
      ]
     },
     "metadata": {},
     "output_type": "display_data"
    }
   ],
   "source": [
    "fig, ax = plt.subplots()\n",
    "ax.set_title('Class distribution', y = 1.08)\n",
    "ax.pie(class_dist,labels = class_dist.index, autopct ='%1.1f%%',\n",
    "      shadow = False, startangle= 90)\n",
    "ax.axis('equal')\n",
    "plt.show()\n",
    "df.reset_index(inplace =True)"
   ]
  },
  {
   "cell_type": "code",
   "execution_count": 17,
   "metadata": {},
   "outputs": [],
   "source": [
    "def extract_features(file_name):\n",
    "    try:\n",
    "        audio, sample_rate = librosa.load(file_name, res_type='kaiser_fast') \n",
    "        mfccs = librosa.feature.mfcc(y=audio, sr=sample_rate, n_mfcc=40)\n",
    "        mfccsscaled = np.mean(mfccs.T,axis=0)\n",
    "        \n",
    "    except Exception as e:\n",
    "        print(\"Error encountered while parsing file: \", file)\n",
    "        return None \n",
    "     \n",
    "    return mfccsscaled"
   ]
  },
  {
   "cell_type": "code",
   "execution_count": 18,
   "metadata": {},
   "outputs": [
    {
     "data": {
      "text/plain": [
       "array([-3.1421542e+02,  1.4374673e+02, -5.8800797e+00,  2.8901239e+01,\n",
       "       -6.1216557e+01,  5.2511978e+01, -1.7037455e+01,  6.7141920e-01,\n",
       "       -1.8972144e-01,  4.4749638e-01,  1.2502982e+01, -1.5756906e+01,\n",
       "        4.6810660e+00, -1.3777785e+01,  5.2413220e+00, -8.1156693e+00,\n",
       "        8.9082775e+00,  8.0598717e+00, -8.4886160e+00,  3.2363718e+00,\n",
       "       -7.6514316e+00,  8.2013077e-01, -4.6871252e+00, -2.4415457e+00,\n",
       "       -2.9824357e+00, -1.0131023e+00, -3.0079446e+00, -5.6055832e+00,\n",
       "        3.6790073e-01, -4.1412201e+00, -4.3659792e+00, -2.9502225e+00,\n",
       "       -3.4404302e+00, -4.9613810e+00, -2.6838844e+00, -7.3621321e+00,\n",
       "       -2.8612268e+00, -4.0003595e+00, -7.6524858e+00, -6.5489626e-01],\n",
       "      dtype=float32)"
      ]
     },
     "execution_count": 18,
     "metadata": {},
     "output_type": "execute_result"
    }
   ],
   "source": [
    "extract_features(audio_files[0])"
   ]
  },
  {
   "cell_type": "code",
   "execution_count": 19,
   "metadata": {},
   "outputs": [
    {
     "data": {
      "text/plain": [
       "'1605585337340.wav'"
      ]
     },
     "execution_count": 19,
     "metadata": {},
     "output_type": "execute_result"
    }
   ],
   "source": [
    "df.iloc[0,1]"
   ]
  },
  {
   "cell_type": "code",
   "execution_count": 30,
   "metadata": {},
   "outputs": [
    {
     "ename": "TypeError",
     "evalue": "Invalid file: ['C:/Users/Asus/Documents/COVID19/newwav/1605546575765.wav']",
     "output_type": "error",
     "traceback": [
      "\u001b[1;31m---------------------------------------------------------------------------\u001b[0m",
      "\u001b[1;31mTypeError\u001b[0m                                 Traceback (most recent call last)",
      "\u001b[1;32m<ipython-input-30-5c7835f61909>\u001b[0m in \u001b[0;36m<module>\u001b[1;34m\u001b[0m\n\u001b[0;32m      4\u001b[0m     \u001b[0mwav_files\u001b[0m \u001b[1;33m=\u001b[0m\u001b[0mdf\u001b[0m\u001b[1;33m[\u001b[0m\u001b[0mdf\u001b[0m\u001b[1;33m.\u001b[0m\u001b[0mcorrelation\u001b[0m \u001b[1;33m==\u001b[0m \u001b[0mc\u001b[0m\u001b[1;33m]\u001b[0m\u001b[1;33m.\u001b[0m\u001b[0miloc\u001b[0m\u001b[1;33m[\u001b[0m\u001b[1;36m0\u001b[0m\u001b[1;33m,\u001b[0m\u001b[1;36m1\u001b[0m\u001b[1;33m]\u001b[0m\u001b[1;33m\u001b[0m\u001b[1;33m\u001b[0m\u001b[0m\n\u001b[0;32m      5\u001b[0m     \u001b[0maudiof\u001b[0m \u001b[1;33m=\u001b[0m\u001b[0mglob\u001b[0m\u001b[1;33m(\u001b[0m\u001b[0mdata_dir\u001b[0m \u001b[1;33m+\u001b[0m \u001b[0mwav_files\u001b[0m\u001b[1;33m)\u001b[0m\u001b[1;33m\u001b[0m\u001b[1;33m\u001b[0m\u001b[0m\n\u001b[1;32m----> 6\u001b[1;33m     \u001b[0my\u001b[0m\u001b[1;33m,\u001b[0m \u001b[0msr\u001b[0m \u001b[1;33m=\u001b[0m \u001b[0mlibrosa\u001b[0m\u001b[1;33m.\u001b[0m\u001b[0mload\u001b[0m\u001b[1;33m(\u001b[0m\u001b[0maudiof\u001b[0m\u001b[1;33m)\u001b[0m\u001b[1;33m\u001b[0m\u001b[1;33m\u001b[0m\u001b[0m\n\u001b[0m\u001b[0;32m      7\u001b[0m     \u001b[0mcurrent_AE\u001b[0m\u001b[1;33m=\u001b[0m \u001b[1;33m[\u001b[0m\u001b[0mmax\u001b[0m\u001b[1;33m(\u001b[0m\u001b[0my\u001b[0m\u001b[1;33m[\u001b[0m\u001b[0mi\u001b[0m\u001b[1;33m:\u001b[0m\u001b[0mi\u001b[0m\u001b[1;33m+\u001b[0m\u001b[0mframe_length\u001b[0m\u001b[1;33m]\u001b[0m\u001b[1;33m)\u001b[0m \u001b[1;32mfor\u001b[0m \u001b[0mi\u001b[0m \u001b[1;32min\u001b[0m \u001b[0mrange\u001b[0m\u001b[1;33m(\u001b[0m\u001b[1;36m0\u001b[0m\u001b[1;33m,\u001b[0m \u001b[0mlen\u001b[0m\u001b[1;33m(\u001b[0m\u001b[0my\u001b[0m\u001b[1;33m)\u001b[0m\u001b[1;33m,\u001b[0m \u001b[0mframe_length\u001b[0m\u001b[1;33m)\u001b[0m\u001b[1;33m]\u001b[0m\u001b[1;33m\u001b[0m\u001b[1;33m\u001b[0m\u001b[0m\n\u001b[0;32m      8\u001b[0m     \u001b[0mprint\u001b[0m\u001b[1;33m(\u001b[0m\u001b[0mcurrent_AE\u001b[0m\u001b[1;33m)\u001b[0m\u001b[1;33m\u001b[0m\u001b[1;33m\u001b[0m\u001b[0m\n",
      "\u001b[1;32m~\\anaconda3\\lib\\site-packages\\librosa\\core\\audio.py\u001b[0m in \u001b[0;36mload\u001b[1;34m(path, sr, mono, offset, duration, dtype, res_type)\u001b[0m\n\u001b[0;32m    144\u001b[0m \u001b[1;33m\u001b[0m\u001b[0m\n\u001b[0;32m    145\u001b[0m     \u001b[1;32mtry\u001b[0m\u001b[1;33m:\u001b[0m\u001b[1;33m\u001b[0m\u001b[1;33m\u001b[0m\u001b[0m\n\u001b[1;32m--> 146\u001b[1;33m         \u001b[1;32mwith\u001b[0m \u001b[0msf\u001b[0m\u001b[1;33m.\u001b[0m\u001b[0mSoundFile\u001b[0m\u001b[1;33m(\u001b[0m\u001b[0mpath\u001b[0m\u001b[1;33m)\u001b[0m \u001b[1;32mas\u001b[0m \u001b[0msf_desc\u001b[0m\u001b[1;33m:\u001b[0m\u001b[1;33m\u001b[0m\u001b[1;33m\u001b[0m\u001b[0m\n\u001b[0m\u001b[0;32m    147\u001b[0m             \u001b[0msr_native\u001b[0m \u001b[1;33m=\u001b[0m \u001b[0msf_desc\u001b[0m\u001b[1;33m.\u001b[0m\u001b[0msamplerate\u001b[0m\u001b[1;33m\u001b[0m\u001b[1;33m\u001b[0m\u001b[0m\n\u001b[0;32m    148\u001b[0m             \u001b[1;32mif\u001b[0m \u001b[0moffset\u001b[0m\u001b[1;33m:\u001b[0m\u001b[1;33m\u001b[0m\u001b[1;33m\u001b[0m\u001b[0m\n",
      "\u001b[1;32m~\\anaconda3\\lib\\site-packages\\soundfile.py\u001b[0m in \u001b[0;36m__init__\u001b[1;34m(self, file, mode, samplerate, channels, subtype, endian, format, closefd)\u001b[0m\n\u001b[0;32m    627\u001b[0m         self._info = _create_info_struct(file, mode, samplerate, channels,\n\u001b[0;32m    628\u001b[0m                                          format, subtype, endian)\n\u001b[1;32m--> 629\u001b[1;33m         \u001b[0mself\u001b[0m\u001b[1;33m.\u001b[0m\u001b[0m_file\u001b[0m \u001b[1;33m=\u001b[0m \u001b[0mself\u001b[0m\u001b[1;33m.\u001b[0m\u001b[0m_open\u001b[0m\u001b[1;33m(\u001b[0m\u001b[0mfile\u001b[0m\u001b[1;33m,\u001b[0m \u001b[0mmode_int\u001b[0m\u001b[1;33m,\u001b[0m \u001b[0mclosefd\u001b[0m\u001b[1;33m)\u001b[0m\u001b[1;33m\u001b[0m\u001b[1;33m\u001b[0m\u001b[0m\n\u001b[0m\u001b[0;32m    630\u001b[0m         \u001b[1;32mif\u001b[0m \u001b[0mset\u001b[0m\u001b[1;33m(\u001b[0m\u001b[0mmode\u001b[0m\u001b[1;33m)\u001b[0m\u001b[1;33m.\u001b[0m\u001b[0missuperset\u001b[0m\u001b[1;33m(\u001b[0m\u001b[1;34m'r+'\u001b[0m\u001b[1;33m)\u001b[0m \u001b[1;32mand\u001b[0m \u001b[0mself\u001b[0m\u001b[1;33m.\u001b[0m\u001b[0mseekable\u001b[0m\u001b[1;33m(\u001b[0m\u001b[1;33m)\u001b[0m\u001b[1;33m:\u001b[0m\u001b[1;33m\u001b[0m\u001b[1;33m\u001b[0m\u001b[0m\n\u001b[0;32m    631\u001b[0m             \u001b[1;31m# Move write position to 0 (like in Python file objects)\u001b[0m\u001b[1;33m\u001b[0m\u001b[1;33m\u001b[0m\u001b[1;33m\u001b[0m\u001b[0m\n",
      "\u001b[1;32m~\\anaconda3\\lib\\site-packages\\soundfile.py\u001b[0m in \u001b[0;36m_open\u001b[1;34m(self, file, mode_int, closefd)\u001b[0m\n\u001b[0;32m   1180\u001b[0m                                             mode_int, self._info, _ffi.NULL)\n\u001b[0;32m   1181\u001b[0m         \u001b[1;32melse\u001b[0m\u001b[1;33m:\u001b[0m\u001b[1;33m\u001b[0m\u001b[1;33m\u001b[0m\u001b[0m\n\u001b[1;32m-> 1182\u001b[1;33m             \u001b[1;32mraise\u001b[0m \u001b[0mTypeError\u001b[0m\u001b[1;33m(\u001b[0m\u001b[1;34m\"Invalid file: {0!r}\"\u001b[0m\u001b[1;33m.\u001b[0m\u001b[0mformat\u001b[0m\u001b[1;33m(\u001b[0m\u001b[0mself\u001b[0m\u001b[1;33m.\u001b[0m\u001b[0mname\u001b[0m\u001b[1;33m)\u001b[0m\u001b[1;33m)\u001b[0m\u001b[1;33m\u001b[0m\u001b[1;33m\u001b[0m\u001b[0m\n\u001b[0m\u001b[0;32m   1183\u001b[0m         _error_check(_snd.sf_error(file_ptr),\n\u001b[0;32m   1184\u001b[0m                      \"Error opening {0!r}: \".format(self.name))\n",
      "\u001b[1;31mTypeError\u001b[0m: Invalid file: ['C:/Users/Asus/Documents/COVID19/newwav/1605546575765.wav']"
     ]
    }
   ],
   "source": [
    "data_dir ='C:/Users/Asus/Documents/COVID19/newwav/'\n",
    "frame_length=1024\n",
    "for c in classes:\n",
    "    wav_files =df[df.correlation == c].iloc[0,1]\n",
    "    audiof =glob(data_dir + wav_files)\n",
    "    y, sr = librosa.load(audiof)\n",
    "    current_AE= [max(y[i:i+frame_length]) for i in range(0, len(y), frame_length)]\n",
    "    print(current_AE)"
   ]
  },
  {
   "cell_type": "code",
   "execution_count": null,
   "metadata": {},
   "outputs": [],
   "source": [
    "signal=\n",
    "data_dir ='C:/Users/Asus/Documents/COVID19/newwav/'\n",
    "audio_files =glob(data_dir + wav_files)\n",
    "#audio_files[1]\n",
    "for i in range (0,len(df)):\n",
    "    y, sr = librosa.load(audio_files[i])"
   ]
  },
  {
   "cell_type": "code",
   "execution_count": 27,
   "metadata": {},
   "outputs": [],
   "source": [
    "def amplitude_envelope_1line(signal, frame_length):\n",
    "    current_AE= [max(signal[i:i+frame_length]) for i in range(0, len(signal), frame_length)]\n",
    "    return  current_AE"
   ]
  },
  {
   "cell_type": "code",
   "execution_count": null,
   "metadata": {},
   "outputs": [],
   "source": [
    "amplitude_envelope_1line()"
   ]
  },
  {
   "cell_type": "code",
   "execution_count": 26,
   "metadata": {},
   "outputs": [
    {
     "ename": "IndexError",
     "evalue": "list index out of range",
     "output_type": "error",
     "traceback": [
      "\u001b[1;31m---------------------------------------------------------------------------\u001b[0m",
      "\u001b[1;31mIndexError\u001b[0m                                Traceback (most recent call last)",
      "\u001b[1;32m<ipython-input-26-fe1d5746a365>\u001b[0m in \u001b[0;36m<module>\u001b[1;34m\u001b[0m\n\u001b[0;32m      1\u001b[0m \u001b[0mFRAME_LENGTH\u001b[0m\u001b[1;33m=\u001b[0m \u001b[1;36m1024\u001b[0m\u001b[1;33m\u001b[0m\u001b[1;33m\u001b[0m\u001b[0m\n\u001b[0;32m      2\u001b[0m \u001b[1;32mfor\u001b[0m \u001b[0mi\u001b[0m \u001b[1;32min\u001b[0m \u001b[0mrange\u001b[0m \u001b[1;33m(\u001b[0m\u001b[1;36m0\u001b[0m\u001b[1;33m,\u001b[0m\u001b[0mlen\u001b[0m\u001b[1;33m(\u001b[0m\u001b[0mdf\u001b[0m\u001b[1;33m)\u001b[0m\u001b[1;33m)\u001b[0m\u001b[1;33m:\u001b[0m\u001b[1;33m\u001b[0m\u001b[1;33m\u001b[0m\u001b[0m\n\u001b[1;32m----> 3\u001b[1;33m     \u001b[0my\u001b[0m\u001b[1;33m,\u001b[0m \u001b[0msr\u001b[0m \u001b[1;33m=\u001b[0m \u001b[0mlibrosa\u001b[0m\u001b[1;33m.\u001b[0m\u001b[0mload\u001b[0m\u001b[1;33m(\u001b[0m\u001b[0maudio_files\u001b[0m\u001b[1;33m[\u001b[0m\u001b[0mi\u001b[0m\u001b[1;33m]\u001b[0m\u001b[1;33m)\u001b[0m\u001b[1;33m\u001b[0m\u001b[1;33m\u001b[0m\u001b[0m\n\u001b[0m\u001b[0;32m      4\u001b[0m     \u001b[0mamplitude_envelope\u001b[0m\u001b[1;33m(\u001b[0m\u001b[0my\u001b[0m\u001b[1;33m,\u001b[0m \u001b[0mFRAME_LENGTH\u001b[0m\u001b[1;33m)\u001b[0m\u001b[1;33m\u001b[0m\u001b[1;33m\u001b[0m\u001b[0m\n",
      "\u001b[1;31mIndexError\u001b[0m: list index out of range"
     ]
    }
   ],
   "source": [
    "FRAME_LENGTH= 1024\n",
    "for i in range (0,len(df)):\n",
    "    y, sr = librosa.load(audio_files[i])\n",
    "    amplitude_envelope(y, FRAME_LENGTH)"
   ]
  },
  {
   "cell_type": "code",
   "execution_count": null,
   "metadata": {},
   "outputs": [],
   "source": []
  }
 ],
 "metadata": {
  "kernelspec": {
   "display_name": "Python 3",
   "language": "python",
   "name": "python3"
  },
  "language_info": {
   "codemirror_mode": {
    "name": "ipython",
    "version": 3
   },
   "file_extension": ".py",
   "mimetype": "text/x-python",
   "name": "python",
   "nbconvert_exporter": "python",
   "pygments_lexer": "ipython3",
   "version": "3.8.3"
  }
 },
 "nbformat": 4,
 "nbformat_minor": 4
}
