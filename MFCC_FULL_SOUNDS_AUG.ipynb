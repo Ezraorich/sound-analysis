{
 "cells": [
  {
   "cell_type": "code",
   "execution_count": 1,
   "metadata": {},
   "outputs": [],
   "source": [
    "import matplotlib.pyplot as plt\n",
    "import numpy as np\n",
    "from matplotlib import cm\n",
    "import librosa\n",
    "import csv\n",
    "import os\n",
    "from glob import glob"
   ]
  },
  {
   "cell_type": "code",
   "execution_count": 2,
   "metadata": {},
   "outputs": [],
   "source": [
    "root = 'D:/COVID_COUGH_SOUNDS/DATASET_FINAL/WEBAPP_AUGMENTED/train'\n",
    "#root = 'D:/COVID_COUGH_SOUNDS/1second_chunks_458/NON_AUGMENTED_1_SEC_CHUNKS_NO_OVERLAP/train'\n",
    "train_filenames= []\n",
    "for path, subdirs, files in os.walk(root):\n",
    "    for name in files:\n",
    "        #print(os.path.join(path, name))\n",
    "        test_filenames.append(os.path.join(path, name))"
   ]
  },
  {
   "cell_type": "code",
   "execution_count": 3,
   "metadata": {},
   "outputs": [],
   "source": [
    "#DATA_DIR='D:/COVID_COUGH_SOUNDS/DATASET_FINAL/WEBAPP+COUGHVID_CHUNKS_50_OVERLAP/allergies/'\n",
    "#filenames =glob(DATA_DIR + '/*.wav')"
   ]
  },
  {
   "cell_type": "code",
   "execution_count": null,
   "metadata": {},
   "outputs": [],
   "source": [
    "root_t = 'D:/COVID_COUGH_SOUNDS/DATASET_FINAL/WEBAPP_AUGMENTED/test'\n",
    "#root = 'D:/COVID_COUGH_SOUNDS/1second_chunks_458/NON_AUGMENTED_1_SEC_CHUNKS_NO_OVERLAP/train'\n",
    "test_filenames= []\n",
    "for path, subdirs, files in os.walk(root):\n",
    "    for name in files:\n",
    "        #print(os.path.join(path, name))\n",
    "        test_filenames.append(os.path.join(path, name))"
   ]
  },
  {
   "cell_type": "code",
   "execution_count": 4,
   "metadata": {},
   "outputs": [],
   "source": [
    "def load_audio_file(file_path):\n",
    "    input_length = 16000\n",
    "    data = librosa.core.load(file_path)[0] #, sr=16000\n",
    "    return data"
   ]
  },
  {
   "cell_type": "code",
   "execution_count": 5,
   "metadata": {},
   "outputs": [],
   "source": [
    "def get_data_files():\n",
    "    # we will be leaving some files out, on purpose. Do not change this function!\n",
    "    return [os.path.join(DATA_DIR, x) for x in sorted(os.listdir(DATA_DIR)) ]"
   ]
  },
  {
   "cell_type": "code",
   "execution_count": 6,
   "metadata": {},
   "outputs": [],
   "source": [
    "def get_sound_id_from_file_path(file_path):\n",
    "    a = file_path.split('\\\\')[-2:]\n",
    "    return a"
   ]
  },
  {
   "cell_type": "code",
   "execution_count": 7,
   "metadata": {},
   "outputs": [
    {
     "name": "stdout",
     "output_type": "stream",
     "text": [
      "D:/COVID_COUGH_SOUNDS/DATASET_FINAL/WEBAPP_AUGMENTED/train\\allergie\\1604907203513_noise.wav\n",
      "allergie\n",
      "1604907203513_noise.wav\n"
     ]
    }
   ],
   "source": [
    "print(test_filenames[1])\n",
    "correlation, key = get_sound_id_from_file_path(test_filenames[1])\n",
    "print(correlation)\n",
    "print(key)"
   ]
  },
  {
   "cell_type": "code",
   "execution_count": 26,
   "metadata": {},
   "outputs": [],
   "source": [
    "def extractWavFeatures(soundFilesFolder, csvFileName):\n",
    "    print(\"The features of the files in the folder \"+soundFilesFolder+\" will be saved to \"+csvFileName)\n",
    "    header = 'key correlation chroma_stft rmse spectral_centroid spectral_bandwidth rolloff zero_crossing_rate'\n",
    "    for i in range(1, 21):\n",
    "        header += f' mfcc{i}'\n",
    "    #header += ' label'\n",
    "    header = header.split()\n",
    "    print('CSV Header: ', header)\n",
    "    file = open(csvFileName, 'w', newline='')\n",
    "    #with file:\n",
    "    writer = csv.writer(file)\n",
    "    writer.writerow(header)\n",
    "    test_filenames= []\n",
    "    for path, subdirs, files in os.walk(soundFilesFolder):\n",
    "        for name in files:\n",
    "        #print(os.path.join(path, name))\n",
    "            test_filenames.append(os.path.join(path, name))\n",
    "    \n",
    "    \n",
    "    \n",
    "    \n",
    "    for i in test_filenames:\n",
    "        correlation, key  = get_sound_id_from_file_path(i)\n",
    "        y, sr = librosa.load(i, mono=True, duration=30)\n",
    "        \n",
    "        # remove leading and trailing silence\n",
    "        \n",
    "        y, index = librosa.effects.trim(y)\n",
    "        \n",
    "        chroma_stft = librosa.feature.chroma_stft(y=y, sr=sr)\n",
    "        rmse = librosa.feature.rms(y=y)\n",
    "        spec_cent = librosa.feature.spectral_centroid(y=y, sr=sr)\n",
    "        spec_bw = librosa.feature.spectral_bandwidth(y=y, sr=sr)\n",
    "        rolloff = librosa.feature.spectral_rolloff(y=y, sr=sr)\n",
    "        zcr = librosa.feature.zero_crossing_rate(y)\n",
    "        mfcc = librosa.feature.mfcc(y=y, sr=sr)\n",
    "        \n",
    "        to_append = f' {key} {correlation} {np.mean(chroma_stft)} {np.mean(rmse)} {np.mean(spec_cent)} {np.mean(spec_bw)} {np.mean(rolloff)} {np.mean(zcr)}'\n",
    "        for e in mfcc:\n",
    "            to_append += f' {np.mean(e)}'\n",
    "        writer.writerow(to_append.split())\n",
    "    file.close()\n",
    "    print(\"End of extractWavFeatures\")"
   ]
  },
  {
   "cell_type": "code",
   "execution_count": 28,
   "metadata": {},
   "outputs": [],
   "source": [
    "CREATE_CSV_FILES = True"
   ]
  },
  {
   "cell_type": "code",
   "execution_count": 29,
   "metadata": {},
   "outputs": [],
   "source": [
    "#TRAIN_CSV_FILE = \"D:/COVID_COUGH_SOUNDS/1second_chunks_458/NON_AUGMENTED_1_SEC_CHUNKS_NO_OVERLAP/MFCC_train.csv\"\n",
    "#TEST_CSV_FILE = \"D:/COVID_COUGH_SOUNDS/1second_chunks_458/NON_AUGMENTED_1_SEC_CHUNKS_NO_OVERLAP/MFCC_test.csv\"\n",
    "#MORE_TRAIN_CSV_FILE = \"C:/Users/Asus/Documents/COVID19/MFCC/test/more_train.csv\"\n",
    "#MORE_TEST_CSV_FILE = \"C:/Users/Asus/Documents/COVID19/MFCC/test/more_test.csv\""
   ]
  },
  {
   "cell_type": "code",
   "execution_count": 30,
   "metadata": {},
   "outputs": [],
   "source": [
    "TRAIN_CSV_FILE ='D:/COVID_COUGH_SOUNDS/DATASET_FINAL/WEBAPP_AUGMENTED/MFCC_full_sounds_augmented_train.csv'\n",
    "TEST_CSV_FILE ='D:/COVID_COUGH_SOUNDS/DATASET_FINAL/WEBAPP_AUGMENTED/MFCC_full_sounds_augmented_test.csv'"
   ]
  },
  {
   "cell_type": "code",
   "execution_count": 31,
   "metadata": {},
   "outputs": [
    {
     "name": "stdout",
     "output_type": "stream",
     "text": [
      "The features of the files in the folder D:/COVID_COUGH_SOUNDS/DATASET_FINAL/WEBAPP_AUGMENTED/train will be saved to D:/COVID_COUGH_SOUNDS/DATASET_FINAL/WEBAPP_AUGMENTED/MFCC_full_sounds_augmented_train.csv\n",
      "CSV Header:  ['key', 'correlation', 'chroma_stft', 'rmse', 'spectral_centroid', 'spectral_bandwidth', 'rolloff', 'zero_crossing_rate', 'mfcc1', 'mfcc2', 'mfcc3', 'mfcc4', 'mfcc5', 'mfcc6', 'mfcc7', 'mfcc8', 'mfcc9', 'mfcc10', 'mfcc11', 'mfcc12', 'mfcc13', 'mfcc14', 'mfcc15', 'mfcc16', 'mfcc17', 'mfcc18', 'mfcc19', 'mfcc20']\n"
     ]
    },
    {
     "name": "stderr",
     "output_type": "stream",
     "text": [
      "C:\\Users\\salta\\anaconda3\\lib\\site-packages\\librosa\\core\\spectrum.py:222: UserWarning: n_fft=2048 is too small for input signal of length=1536\n",
      "  warnings.warn(\n",
      "C:\\Users\\salta\\anaconda3\\lib\\site-packages\\librosa\\core\\pitch.py:153: UserWarning: Trying to estimate tuning from empty frequency set.\n",
      "  warnings.warn(\"Trying to estimate tuning from empty frequency set.\")\n",
      "C:\\Users\\salta\\anaconda3\\lib\\site-packages\\librosa\\core\\spectrum.py:222: UserWarning: n_fft=2048 is too small for input signal of length=512\n",
      "  warnings.warn(\n",
      "C:\\Users\\salta\\anaconda3\\lib\\site-packages\\librosa\\core\\spectrum.py:222: UserWarning: n_fft=2048 is too small for input signal of length=1024\n",
      "  warnings.warn(\n"
     ]
    },
    {
     "name": "stdout",
     "output_type": "stream",
     "text": [
      "End of extractWavFeatures\n",
      "The features of the files in the folder D:/COVID_COUGH_SOUNDS/DATASET_FINAL/WEBAPP_AUGMENTED/test will be saved to D:/COVID_COUGH_SOUNDS/DATASET_FINAL/WEBAPP_AUGMENTED/MFCC_full_sounds_augmented_test.csv\n",
      "CSV Header:  ['key', 'correlation', 'chroma_stft', 'rmse', 'spectral_centroid', 'spectral_bandwidth', 'rolloff', 'zero_crossing_rate', 'mfcc1', 'mfcc2', 'mfcc3', 'mfcc4', 'mfcc5', 'mfcc6', 'mfcc7', 'mfcc8', 'mfcc9', 'mfcc10', 'mfcc11', 'mfcc12', 'mfcc13', 'mfcc14', 'mfcc15', 'mfcc16', 'mfcc17', 'mfcc18', 'mfcc19', 'mfcc20']\n",
      "End of extractWavFeatures\n",
      "CSV files are created\n"
     ]
    }
   ],
   "source": [
    "import matplotlib.pyplot as plt\n",
    "import numpy as np\n",
    "from matplotlib import cm\n",
    "import librosa\n",
    "import csv\n",
    "import os\n",
    "\n",
    "\n",
    "\n",
    "if (CREATE_CSV_FILES == True):\n",
    "    extractWavFeatures(\"D:/COVID_COUGH_SOUNDS/DATASET_FINAL/WEBAPP_AUGMENTED/train\", TRAIN_CSV_FILE)\n",
    "    extractWavFeatures(\"D:/COVID_COUGH_SOUNDS/DATASET_FINAL/WEBAPP_AUGMENTED/test\", TEST_CSV_FILE)\n",
    "    #extractWavFeatures(\"C:/Users/Asus/Documents/COVID19/MFCC/moreSpeakersTrain\", MORE_TRAIN_CSV_FILE)\n",
    "    #extractWavFeatures(\"C:/Users/Asus/Documents/COVID19/MFCC/moreSpeakersTest\", MORE_TEST_CSV_FILE)\n",
    "    print(\"CSV files are created\")\n",
    "else:\n",
    "    print(\"CSV files creation is skipped\")"
   ]
  },
  {
   "cell_type": "code",
   "execution_count": 88,
   "metadata": {},
   "outputs": [],
   "source": [
    "import pandas as pd\n",
    "train = pd.read_csv('D:/COVID_COUGH_SOUNDS/DATASET_FINAL/WEBAPP_AUGMENTED/MFCC_full_sounds_augmented_train.csv')\n",
    "test = pd.read_csv('D:/COVID_COUGH_SOUNDS/DATASET_FINAL/WEBAPP_AUGMENTED/MFCC_full_sounds_augmented_test.csv')"
   ]
  },
  {
   "cell_type": "code",
   "execution_count": 89,
   "metadata": {},
   "outputs": [],
   "source": [
    "#TRAIN_CSV_FILE"
   ]
  },
  {
   "cell_type": "code",
   "execution_count": 90,
   "metadata": {},
   "outputs": [
    {
     "data": {
      "text/html": [
       "<div>\n",
       "<style scoped>\n",
       "    .dataframe tbody tr th:only-of-type {\n",
       "        vertical-align: middle;\n",
       "    }\n",
       "\n",
       "    .dataframe tbody tr th {\n",
       "        vertical-align: top;\n",
       "    }\n",
       "\n",
       "    .dataframe thead th {\n",
       "        text-align: right;\n",
       "    }\n",
       "</style>\n",
       "<table border=\"1\" class=\"dataframe\">\n",
       "  <thead>\n",
       "    <tr style=\"text-align: right;\">\n",
       "      <th></th>\n",
       "      <th>key</th>\n",
       "      <th>correlation</th>\n",
       "      <th>chroma_stft</th>\n",
       "      <th>rmse</th>\n",
       "      <th>spectral_centroid</th>\n",
       "      <th>spectral_bandwidth</th>\n",
       "      <th>rolloff</th>\n",
       "      <th>zero_crossing_rate</th>\n",
       "      <th>mfcc1</th>\n",
       "      <th>mfcc2</th>\n",
       "      <th>...</th>\n",
       "      <th>mfcc11</th>\n",
       "      <th>mfcc12</th>\n",
       "      <th>mfcc13</th>\n",
       "      <th>mfcc14</th>\n",
       "      <th>mfcc15</th>\n",
       "      <th>mfcc16</th>\n",
       "      <th>mfcc17</th>\n",
       "      <th>mfcc18</th>\n",
       "      <th>mfcc19</th>\n",
       "      <th>mfcc20</th>\n",
       "    </tr>\n",
       "  </thead>\n",
       "  <tbody>\n",
       "    <tr>\n",
       "      <th>0</th>\n",
       "      <td>1604907203513.wav</td>\n",
       "      <td>allergie</td>\n",
       "      <td>0.432197</td>\n",
       "      <td>0.073355</td>\n",
       "      <td>2175.196143</td>\n",
       "      <td>1866.410416</td>\n",
       "      <td>4435.485679</td>\n",
       "      <td>0.149588</td>\n",
       "      <td>-248.372589</td>\n",
       "      <td>100.145203</td>\n",
       "      <td>...</td>\n",
       "      <td>1.195061</td>\n",
       "      <td>-13.322680</td>\n",
       "      <td>8.263878</td>\n",
       "      <td>-6.620495</td>\n",
       "      <td>11.089859</td>\n",
       "      <td>-5.957028</td>\n",
       "      <td>0.502174</td>\n",
       "      <td>-5.043720</td>\n",
       "      <td>-10.276903</td>\n",
       "      <td>-1.263781</td>\n",
       "    </tr>\n",
       "    <tr>\n",
       "      <th>1</th>\n",
       "      <td>1604907203513_noise.wav</td>\n",
       "      <td>allergie</td>\n",
       "      <td>0.486210</td>\n",
       "      <td>0.074436</td>\n",
       "      <td>3437.321883</td>\n",
       "      <td>2697.644797</td>\n",
       "      <td>6569.220693</td>\n",
       "      <td>0.249361</td>\n",
       "      <td>-180.269150</td>\n",
       "      <td>56.818462</td>\n",
       "      <td>...</td>\n",
       "      <td>-0.660479</td>\n",
       "      <td>-6.604637</td>\n",
       "      <td>2.771005</td>\n",
       "      <td>-0.609252</td>\n",
       "      <td>6.086140</td>\n",
       "      <td>-1.775576</td>\n",
       "      <td>-0.867594</td>\n",
       "      <td>-2.497383</td>\n",
       "      <td>-7.830077</td>\n",
       "      <td>-0.410429</td>\n",
       "    </tr>\n",
       "    <tr>\n",
       "      <th>2</th>\n",
       "      <td>1604907203513_pitch.wav</td>\n",
       "      <td>allergie</td>\n",
       "      <td>0.430796</td>\n",
       "      <td>0.073597</td>\n",
       "      <td>2186.035607</td>\n",
       "      <td>1883.675555</td>\n",
       "      <td>4449.733379</td>\n",
       "      <td>0.149791</td>\n",
       "      <td>-247.376083</td>\n",
       "      <td>100.469582</td>\n",
       "      <td>...</td>\n",
       "      <td>1.214169</td>\n",
       "      <td>-13.350938</td>\n",
       "      <td>8.308656</td>\n",
       "      <td>-6.621794</td>\n",
       "      <td>11.154837</td>\n",
       "      <td>-5.946504</td>\n",
       "      <td>0.534692</td>\n",
       "      <td>-5.029052</td>\n",
       "      <td>-10.281414</td>\n",
       "      <td>-1.238396</td>\n",
       "    </tr>\n",
       "    <tr>\n",
       "      <th>3</th>\n",
       "      <td>1604907203513_speed.wav</td>\n",
       "      <td>allergie</td>\n",
       "      <td>0.421420</td>\n",
       "      <td>0.050867</td>\n",
       "      <td>2158.539130</td>\n",
       "      <td>1885.908299</td>\n",
       "      <td>4411.048327</td>\n",
       "      <td>0.145733</td>\n",
       "      <td>-274.595642</td>\n",
       "      <td>108.333664</td>\n",
       "      <td>...</td>\n",
       "      <td>0.597516</td>\n",
       "      <td>-14.853464</td>\n",
       "      <td>7.752444</td>\n",
       "      <td>-8.209581</td>\n",
       "      <td>11.458509</td>\n",
       "      <td>-7.547943</td>\n",
       "      <td>1.435923</td>\n",
       "      <td>-4.907001</td>\n",
       "      <td>-9.092078</td>\n",
       "      <td>-0.978365</td>\n",
       "    </tr>\n",
       "    <tr>\n",
       "      <th>4</th>\n",
       "      <td>1604907385918.wav</td>\n",
       "      <td>allergie</td>\n",
       "      <td>0.541133</td>\n",
       "      <td>0.055551</td>\n",
       "      <td>3130.061088</td>\n",
       "      <td>2179.030479</td>\n",
       "      <td>5839.616814</td>\n",
       "      <td>0.250052</td>\n",
       "      <td>-267.074188</td>\n",
       "      <td>65.771973</td>\n",
       "      <td>...</td>\n",
       "      <td>0.387622</td>\n",
       "      <td>0.400475</td>\n",
       "      <td>7.596847</td>\n",
       "      <td>-8.065909</td>\n",
       "      <td>18.416906</td>\n",
       "      <td>-9.924283</td>\n",
       "      <td>3.372713</td>\n",
       "      <td>-2.170714</td>\n",
       "      <td>3.568209</td>\n",
       "      <td>-3.027963</td>\n",
       "    </tr>\n",
       "    <tr>\n",
       "      <th>...</th>\n",
       "      <td>...</td>\n",
       "      <td>...</td>\n",
       "      <td>...</td>\n",
       "      <td>...</td>\n",
       "      <td>...</td>\n",
       "      <td>...</td>\n",
       "      <td>...</td>\n",
       "      <td>...</td>\n",
       "      <td>...</td>\n",
       "      <td>...</td>\n",
       "      <td>...</td>\n",
       "      <td>...</td>\n",
       "      <td>...</td>\n",
       "      <td>...</td>\n",
       "      <td>...</td>\n",
       "      <td>...</td>\n",
       "      <td>...</td>\n",
       "      <td>...</td>\n",
       "      <td>...</td>\n",
       "      <td>...</td>\n",
       "      <td>...</td>\n",
       "    </tr>\n",
       "    <tr>\n",
       "      <th>1283</th>\n",
       "      <td>1630616718338_speed.wav</td>\n",
       "      <td>pneumonia</td>\n",
       "      <td>0.457624</td>\n",
       "      <td>0.027622</td>\n",
       "      <td>3295.463422</td>\n",
       "      <td>2198.273017</td>\n",
       "      <td>5637.084961</td>\n",
       "      <td>0.295627</td>\n",
       "      <td>-344.152313</td>\n",
       "      <td>78.793083</td>\n",
       "      <td>...</td>\n",
       "      <td>7.188071</td>\n",
       "      <td>-20.427433</td>\n",
       "      <td>3.779288</td>\n",
       "      <td>-2.880576</td>\n",
       "      <td>-2.020188</td>\n",
       "      <td>-4.196573</td>\n",
       "      <td>3.170312</td>\n",
       "      <td>-11.372537</td>\n",
       "      <td>2.945531</td>\n",
       "      <td>-2.876136</td>\n",
       "    </tr>\n",
       "    <tr>\n",
       "      <th>1284</th>\n",
       "      <td>1630617115433.wav</td>\n",
       "      <td>pneumonia</td>\n",
       "      <td>0.584458</td>\n",
       "      <td>0.031397</td>\n",
       "      <td>2729.347819</td>\n",
       "      <td>2165.068375</td>\n",
       "      <td>5283.031261</td>\n",
       "      <td>0.210778</td>\n",
       "      <td>-382.096680</td>\n",
       "      <td>69.093529</td>\n",
       "      <td>...</td>\n",
       "      <td>7.653633</td>\n",
       "      <td>-8.993364</td>\n",
       "      <td>1.251557</td>\n",
       "      <td>-1.090024</td>\n",
       "      <td>-1.326393</td>\n",
       "      <td>-2.525375</td>\n",
       "      <td>3.213384</td>\n",
       "      <td>-4.866541</td>\n",
       "      <td>-1.889130</td>\n",
       "      <td>-1.435676</td>\n",
       "    </tr>\n",
       "    <tr>\n",
       "      <th>1285</th>\n",
       "      <td>1630617115433_noise.wav</td>\n",
       "      <td>pneumonia</td>\n",
       "      <td>0.654994</td>\n",
       "      <td>0.033826</td>\n",
       "      <td>4673.575600</td>\n",
       "      <td>3024.473089</td>\n",
       "      <td>8200.602911</td>\n",
       "      <td>0.400177</td>\n",
       "      <td>-256.577423</td>\n",
       "      <td>20.748068</td>\n",
       "      <td>...</td>\n",
       "      <td>3.460560</td>\n",
       "      <td>-4.911588</td>\n",
       "      <td>-0.762806</td>\n",
       "      <td>0.237131</td>\n",
       "      <td>-2.721034</td>\n",
       "      <td>-0.125764</td>\n",
       "      <td>0.069649</td>\n",
       "      <td>-2.407052</td>\n",
       "      <td>-1.529707</td>\n",
       "      <td>-1.377709</td>\n",
       "    </tr>\n",
       "    <tr>\n",
       "      <th>1286</th>\n",
       "      <td>1630617115433_pitch.wav</td>\n",
       "      <td>pneumonia</td>\n",
       "      <td>0.583084</td>\n",
       "      <td>0.031397</td>\n",
       "      <td>2749.851229</td>\n",
       "      <td>2199.117541</td>\n",
       "      <td>5309.726048</td>\n",
       "      <td>0.210778</td>\n",
       "      <td>-382.027649</td>\n",
       "      <td>69.025192</td>\n",
       "      <td>...</td>\n",
       "      <td>7.672158</td>\n",
       "      <td>-8.971796</td>\n",
       "      <td>1.255161</td>\n",
       "      <td>-1.060921</td>\n",
       "      <td>-1.327451</td>\n",
       "      <td>-2.496363</td>\n",
       "      <td>3.211230</td>\n",
       "      <td>-4.834787</td>\n",
       "      <td>-1.885533</td>\n",
       "      <td>-1.414546</td>\n",
       "    </tr>\n",
       "    <tr>\n",
       "      <th>1287</th>\n",
       "      <td>1630617115433_speed.wav</td>\n",
       "      <td>pneumonia</td>\n",
       "      <td>0.557503</td>\n",
       "      <td>0.021751</td>\n",
       "      <td>2746.107457</td>\n",
       "      <td>2227.771925</td>\n",
       "      <td>5349.319876</td>\n",
       "      <td>0.207090</td>\n",
       "      <td>-413.805115</td>\n",
       "      <td>71.465279</td>\n",
       "      <td>...</td>\n",
       "      <td>6.625015</td>\n",
       "      <td>-10.120228</td>\n",
       "      <td>1.643504</td>\n",
       "      <td>-1.478818</td>\n",
       "      <td>-1.581104</td>\n",
       "      <td>-2.966957</td>\n",
       "      <td>3.226786</td>\n",
       "      <td>-5.393914</td>\n",
       "      <td>-1.849913</td>\n",
       "      <td>-1.176207</td>\n",
       "    </tr>\n",
       "  </tbody>\n",
       "</table>\n",
       "<p>1288 rows × 28 columns</p>\n",
       "</div>"
      ],
      "text/plain": [
       "                          key correlation  chroma_stft      rmse  \\\n",
       "0           1604907203513.wav    allergie     0.432197  0.073355   \n",
       "1     1604907203513_noise.wav    allergie     0.486210  0.074436   \n",
       "2     1604907203513_pitch.wav    allergie     0.430796  0.073597   \n",
       "3     1604907203513_speed.wav    allergie     0.421420  0.050867   \n",
       "4           1604907385918.wav    allergie     0.541133  0.055551   \n",
       "...                       ...         ...          ...       ...   \n",
       "1283  1630616718338_speed.wav   pneumonia     0.457624  0.027622   \n",
       "1284        1630617115433.wav   pneumonia     0.584458  0.031397   \n",
       "1285  1630617115433_noise.wav   pneumonia     0.654994  0.033826   \n",
       "1286  1630617115433_pitch.wav   pneumonia     0.583084  0.031397   \n",
       "1287  1630617115433_speed.wav   pneumonia     0.557503  0.021751   \n",
       "\n",
       "      spectral_centroid  spectral_bandwidth      rolloff  zero_crossing_rate  \\\n",
       "0           2175.196143         1866.410416  4435.485679            0.149588   \n",
       "1           3437.321883         2697.644797  6569.220693            0.249361   \n",
       "2           2186.035607         1883.675555  4449.733379            0.149791   \n",
       "3           2158.539130         1885.908299  4411.048327            0.145733   \n",
       "4           3130.061088         2179.030479  5839.616814            0.250052   \n",
       "...                 ...                 ...          ...                 ...   \n",
       "1283        3295.463422         2198.273017  5637.084961            0.295627   \n",
       "1284        2729.347819         2165.068375  5283.031261            0.210778   \n",
       "1285        4673.575600         3024.473089  8200.602911            0.400177   \n",
       "1286        2749.851229         2199.117541  5309.726048            0.210778   \n",
       "1287        2746.107457         2227.771925  5349.319876            0.207090   \n",
       "\n",
       "           mfcc1       mfcc2  ...    mfcc11     mfcc12    mfcc13    mfcc14  \\\n",
       "0    -248.372589  100.145203  ...  1.195061 -13.322680  8.263878 -6.620495   \n",
       "1    -180.269150   56.818462  ... -0.660479  -6.604637  2.771005 -0.609252   \n",
       "2    -247.376083  100.469582  ...  1.214169 -13.350938  8.308656 -6.621794   \n",
       "3    -274.595642  108.333664  ...  0.597516 -14.853464  7.752444 -8.209581   \n",
       "4    -267.074188   65.771973  ...  0.387622   0.400475  7.596847 -8.065909   \n",
       "...          ...         ...  ...       ...        ...       ...       ...   \n",
       "1283 -344.152313   78.793083  ...  7.188071 -20.427433  3.779288 -2.880576   \n",
       "1284 -382.096680   69.093529  ...  7.653633  -8.993364  1.251557 -1.090024   \n",
       "1285 -256.577423   20.748068  ...  3.460560  -4.911588 -0.762806  0.237131   \n",
       "1286 -382.027649   69.025192  ...  7.672158  -8.971796  1.255161 -1.060921   \n",
       "1287 -413.805115   71.465279  ...  6.625015 -10.120228  1.643504 -1.478818   \n",
       "\n",
       "         mfcc15    mfcc16    mfcc17     mfcc18     mfcc19    mfcc20  \n",
       "0     11.089859 -5.957028  0.502174  -5.043720 -10.276903 -1.263781  \n",
       "1      6.086140 -1.775576 -0.867594  -2.497383  -7.830077 -0.410429  \n",
       "2     11.154837 -5.946504  0.534692  -5.029052 -10.281414 -1.238396  \n",
       "3     11.458509 -7.547943  1.435923  -4.907001  -9.092078 -0.978365  \n",
       "4     18.416906 -9.924283  3.372713  -2.170714   3.568209 -3.027963  \n",
       "...         ...       ...       ...        ...        ...       ...  \n",
       "1283  -2.020188 -4.196573  3.170312 -11.372537   2.945531 -2.876136  \n",
       "1284  -1.326393 -2.525375  3.213384  -4.866541  -1.889130 -1.435676  \n",
       "1285  -2.721034 -0.125764  0.069649  -2.407052  -1.529707 -1.377709  \n",
       "1286  -1.327451 -2.496363  3.211230  -4.834787  -1.885533 -1.414546  \n",
       "1287  -1.581104 -2.966957  3.226786  -5.393914  -1.849913 -1.176207  \n",
       "\n",
       "[1288 rows x 28 columns]"
      ]
     },
     "execution_count": 90,
     "metadata": {},
     "output_type": "execute_result"
    }
   ],
   "source": [
    "train"
   ]
  },
  {
   "cell_type": "code",
   "execution_count": 91,
   "metadata": {},
   "outputs": [
    {
     "data": {
      "text/html": [
       "<div>\n",
       "<style scoped>\n",
       "    .dataframe tbody tr th:only-of-type {\n",
       "        vertical-align: middle;\n",
       "    }\n",
       "\n",
       "    .dataframe tbody tr th {\n",
       "        vertical-align: top;\n",
       "    }\n",
       "\n",
       "    .dataframe thead th {\n",
       "        text-align: right;\n",
       "    }\n",
       "</style>\n",
       "<table border=\"1\" class=\"dataframe\">\n",
       "  <thead>\n",
       "    <tr style=\"text-align: right;\">\n",
       "      <th></th>\n",
       "      <th>key</th>\n",
       "      <th>correlation</th>\n",
       "      <th>chroma_stft</th>\n",
       "      <th>rmse</th>\n",
       "      <th>spectral_centroid</th>\n",
       "      <th>spectral_bandwidth</th>\n",
       "      <th>rolloff</th>\n",
       "      <th>zero_crossing_rate</th>\n",
       "      <th>mfcc1</th>\n",
       "      <th>mfcc2</th>\n",
       "      <th>...</th>\n",
       "      <th>mfcc11</th>\n",
       "      <th>mfcc12</th>\n",
       "      <th>mfcc13</th>\n",
       "      <th>mfcc14</th>\n",
       "      <th>mfcc15</th>\n",
       "      <th>mfcc16</th>\n",
       "      <th>mfcc17</th>\n",
       "      <th>mfcc18</th>\n",
       "      <th>mfcc19</th>\n",
       "      <th>mfcc20</th>\n",
       "    </tr>\n",
       "  </thead>\n",
       "  <tbody>\n",
       "    <tr>\n",
       "      <th>0</th>\n",
       "      <td>1591363379163.wav</td>\n",
       "      <td>allergie</td>\n",
       "      <td>0.476973</td>\n",
       "      <td>0.061352</td>\n",
       "      <td>1637.137038</td>\n",
       "      <td>1743.452008</td>\n",
       "      <td>3412.962618</td>\n",
       "      <td>0.089480</td>\n",
       "      <td>-323.624969</td>\n",
       "      <td>107.401718</td>\n",
       "      <td>...</td>\n",
       "      <td>2.413419</td>\n",
       "      <td>-11.156631</td>\n",
       "      <td>1.898175</td>\n",
       "      <td>-0.322627</td>\n",
       "      <td>5.292337</td>\n",
       "      <td>-4.246020</td>\n",
       "      <td>7.508950</td>\n",
       "      <td>0.116339</td>\n",
       "      <td>2.128314</td>\n",
       "      <td>-2.224436</td>\n",
       "    </tr>\n",
       "    <tr>\n",
       "      <th>1</th>\n",
       "      <td>1591363379163_noise.wav</td>\n",
       "      <td>allergie</td>\n",
       "      <td>0.602019</td>\n",
       "      <td>0.062348</td>\n",
       "      <td>3807.411280</td>\n",
       "      <td>2958.063241</td>\n",
       "      <td>7291.464339</td>\n",
       "      <td>0.287160</td>\n",
       "      <td>-224.668732</td>\n",
       "      <td>52.914837</td>\n",
       "      <td>...</td>\n",
       "      <td>1.157628</td>\n",
       "      <td>-6.147384</td>\n",
       "      <td>-1.023789</td>\n",
       "      <td>1.276554</td>\n",
       "      <td>2.396752</td>\n",
       "      <td>-1.128284</td>\n",
       "      <td>3.286006</td>\n",
       "      <td>1.118902</td>\n",
       "      <td>0.347389</td>\n",
       "      <td>-1.222623</td>\n",
       "    </tr>\n",
       "    <tr>\n",
       "      <th>2</th>\n",
       "      <td>1591363379163_pitch.wav</td>\n",
       "      <td>allergie</td>\n",
       "      <td>0.479765</td>\n",
       "      <td>0.040955</td>\n",
       "      <td>1572.067567</td>\n",
       "      <td>1694.570288</td>\n",
       "      <td>3244.026552</td>\n",
       "      <td>0.085300</td>\n",
       "      <td>-354.148834</td>\n",
       "      <td>117.005508</td>\n",
       "      <td>...</td>\n",
       "      <td>14.665513</td>\n",
       "      <td>-7.840634</td>\n",
       "      <td>-3.938224</td>\n",
       "      <td>-4.953007</td>\n",
       "      <td>5.054475</td>\n",
       "      <td>1.359681</td>\n",
       "      <td>-2.304963</td>\n",
       "      <td>7.378729</td>\n",
       "      <td>-0.513810</td>\n",
       "      <td>6.990722</td>\n",
       "    </tr>\n",
       "    <tr>\n",
       "      <th>3</th>\n",
       "      <td>1591363379163_speed.wav</td>\n",
       "      <td>allergie</td>\n",
       "      <td>0.480533</td>\n",
       "      <td>0.041968</td>\n",
       "      <td>1764.346995</td>\n",
       "      <td>1874.407889</td>\n",
       "      <td>3607.009682</td>\n",
       "      <td>0.099849</td>\n",
       "      <td>-345.042023</td>\n",
       "      <td>109.391342</td>\n",
       "      <td>...</td>\n",
       "      <td>6.139168</td>\n",
       "      <td>-12.223216</td>\n",
       "      <td>1.907579</td>\n",
       "      <td>1.336822</td>\n",
       "      <td>6.544016</td>\n",
       "      <td>-5.018676</td>\n",
       "      <td>8.363056</td>\n",
       "      <td>0.104561</td>\n",
       "      <td>2.637770</td>\n",
       "      <td>-3.746327</td>\n",
       "    </tr>\n",
       "    <tr>\n",
       "      <th>4</th>\n",
       "      <td>1591422756659.wav</td>\n",
       "      <td>allergie</td>\n",
       "      <td>0.431883</td>\n",
       "      <td>0.024943</td>\n",
       "      <td>1999.750318</td>\n",
       "      <td>1764.192437</td>\n",
       "      <td>4104.199219</td>\n",
       "      <td>0.129484</td>\n",
       "      <td>-406.951172</td>\n",
       "      <td>80.524200</td>\n",
       "      <td>...</td>\n",
       "      <td>-9.108408</td>\n",
       "      <td>-5.347715</td>\n",
       "      <td>-1.964847</td>\n",
       "      <td>-5.651423</td>\n",
       "      <td>-3.889395</td>\n",
       "      <td>-4.578368</td>\n",
       "      <td>1.167199</td>\n",
       "      <td>-16.026226</td>\n",
       "      <td>-8.168590</td>\n",
       "      <td>-3.305593</td>\n",
       "    </tr>\n",
       "    <tr>\n",
       "      <th>...</th>\n",
       "      <td>...</td>\n",
       "      <td>...</td>\n",
       "      <td>...</td>\n",
       "      <td>...</td>\n",
       "      <td>...</td>\n",
       "      <td>...</td>\n",
       "      <td>...</td>\n",
       "      <td>...</td>\n",
       "      <td>...</td>\n",
       "      <td>...</td>\n",
       "      <td>...</td>\n",
       "      <td>...</td>\n",
       "      <td>...</td>\n",
       "      <td>...</td>\n",
       "      <td>...</td>\n",
       "      <td>...</td>\n",
       "      <td>...</td>\n",
       "      <td>...</td>\n",
       "      <td>...</td>\n",
       "      <td>...</td>\n",
       "      <td>...</td>\n",
       "    </tr>\n",
       "    <tr>\n",
       "      <th>539</th>\n",
       "      <td>1604840684793_speed.wav</td>\n",
       "      <td>pneumonia</td>\n",
       "      <td>0.423835</td>\n",
       "      <td>0.036048</td>\n",
       "      <td>3087.552427</td>\n",
       "      <td>1924.777090</td>\n",
       "      <td>5147.470797</td>\n",
       "      <td>0.273876</td>\n",
       "      <td>-305.952789</td>\n",
       "      <td>82.477524</td>\n",
       "      <td>...</td>\n",
       "      <td>6.913932</td>\n",
       "      <td>-13.058589</td>\n",
       "      <td>1.947110</td>\n",
       "      <td>-5.047692</td>\n",
       "      <td>1.188978</td>\n",
       "      <td>-19.949867</td>\n",
       "      <td>1.044482</td>\n",
       "      <td>-7.213414</td>\n",
       "      <td>-1.918879</td>\n",
       "      <td>-1.438352</td>\n",
       "    </tr>\n",
       "    <tr>\n",
       "      <th>540</th>\n",
       "      <td>1604903187610.wav</td>\n",
       "      <td>pneumonia</td>\n",
       "      <td>0.524054</td>\n",
       "      <td>0.038413</td>\n",
       "      <td>578.233347</td>\n",
       "      <td>1333.735771</td>\n",
       "      <td>758.670702</td>\n",
       "      <td>0.020053</td>\n",
       "      <td>-393.864563</td>\n",
       "      <td>110.978989</td>\n",
       "      <td>...</td>\n",
       "      <td>3.845689</td>\n",
       "      <td>4.569818</td>\n",
       "      <td>2.487446</td>\n",
       "      <td>-0.741276</td>\n",
       "      <td>4.879114</td>\n",
       "      <td>-5.085642</td>\n",
       "      <td>0.539506</td>\n",
       "      <td>-1.667372</td>\n",
       "      <td>6.197483</td>\n",
       "      <td>4.449610</td>\n",
       "    </tr>\n",
       "    <tr>\n",
       "      <th>541</th>\n",
       "      <td>1604903187610_noise.wav</td>\n",
       "      <td>pneumonia</td>\n",
       "      <td>0.600181</td>\n",
       "      <td>0.039339</td>\n",
       "      <td>3794.726407</td>\n",
       "      <td>3387.802794</td>\n",
       "      <td>7984.946380</td>\n",
       "      <td>0.156047</td>\n",
       "      <td>-270.573547</td>\n",
       "      <td>47.715126</td>\n",
       "      <td>...</td>\n",
       "      <td>3.498620</td>\n",
       "      <td>3.539809</td>\n",
       "      <td>3.082884</td>\n",
       "      <td>0.847034</td>\n",
       "      <td>2.388403</td>\n",
       "      <td>-1.516334</td>\n",
       "      <td>0.702613</td>\n",
       "      <td>0.516060</td>\n",
       "      <td>3.538648</td>\n",
       "      <td>2.587666</td>\n",
       "    </tr>\n",
       "    <tr>\n",
       "      <th>542</th>\n",
       "      <td>1604903187610_pitch.wav</td>\n",
       "      <td>pneumonia</td>\n",
       "      <td>0.529309</td>\n",
       "      <td>0.018917</td>\n",
       "      <td>656.174433</td>\n",
       "      <td>1505.314910</td>\n",
       "      <td>849.374949</td>\n",
       "      <td>0.022762</td>\n",
       "      <td>-467.618011</td>\n",
       "      <td>113.901176</td>\n",
       "      <td>...</td>\n",
       "      <td>1.470037</td>\n",
       "      <td>5.189247</td>\n",
       "      <td>-0.415622</td>\n",
       "      <td>1.352847</td>\n",
       "      <td>3.402065</td>\n",
       "      <td>-4.388654</td>\n",
       "      <td>3.293478</td>\n",
       "      <td>0.302943</td>\n",
       "      <td>8.239042</td>\n",
       "      <td>-1.237721</td>\n",
       "    </tr>\n",
       "    <tr>\n",
       "      <th>543</th>\n",
       "      <td>1604903187610_speed.wav</td>\n",
       "      <td>pneumonia</td>\n",
       "      <td>0.507786</td>\n",
       "      <td>0.027123</td>\n",
       "      <td>608.321431</td>\n",
       "      <td>1407.553554</td>\n",
       "      <td>775.882277</td>\n",
       "      <td>0.021719</td>\n",
       "      <td>-439.361633</td>\n",
       "      <td>118.539581</td>\n",
       "      <td>...</td>\n",
       "      <td>3.680830</td>\n",
       "      <td>4.628007</td>\n",
       "      <td>1.991610</td>\n",
       "      <td>-1.470668</td>\n",
       "      <td>5.576470</td>\n",
       "      <td>-6.030171</td>\n",
       "      <td>0.476423</td>\n",
       "      <td>-2.791699</td>\n",
       "      <td>6.373467</td>\n",
       "      <td>4.263284</td>\n",
       "    </tr>\n",
       "  </tbody>\n",
       "</table>\n",
       "<p>544 rows × 28 columns</p>\n",
       "</div>"
      ],
      "text/plain": [
       "                         key correlation  chroma_stft      rmse  \\\n",
       "0          1591363379163.wav    allergie     0.476973  0.061352   \n",
       "1    1591363379163_noise.wav    allergie     0.602019  0.062348   \n",
       "2    1591363379163_pitch.wav    allergie     0.479765  0.040955   \n",
       "3    1591363379163_speed.wav    allergie     0.480533  0.041968   \n",
       "4          1591422756659.wav    allergie     0.431883  0.024943   \n",
       "..                       ...         ...          ...       ...   \n",
       "539  1604840684793_speed.wav   pneumonia     0.423835  0.036048   \n",
       "540        1604903187610.wav   pneumonia     0.524054  0.038413   \n",
       "541  1604903187610_noise.wav   pneumonia     0.600181  0.039339   \n",
       "542  1604903187610_pitch.wav   pneumonia     0.529309  0.018917   \n",
       "543  1604903187610_speed.wav   pneumonia     0.507786  0.027123   \n",
       "\n",
       "     spectral_centroid  spectral_bandwidth      rolloff  zero_crossing_rate  \\\n",
       "0          1637.137038         1743.452008  3412.962618            0.089480   \n",
       "1          3807.411280         2958.063241  7291.464339            0.287160   \n",
       "2          1572.067567         1694.570288  3244.026552            0.085300   \n",
       "3          1764.346995         1874.407889  3607.009682            0.099849   \n",
       "4          1999.750318         1764.192437  4104.199219            0.129484   \n",
       "..                 ...                 ...          ...                 ...   \n",
       "539        3087.552427         1924.777090  5147.470797            0.273876   \n",
       "540         578.233347         1333.735771   758.670702            0.020053   \n",
       "541        3794.726407         3387.802794  7984.946380            0.156047   \n",
       "542         656.174433         1505.314910   849.374949            0.022762   \n",
       "543         608.321431         1407.553554   775.882277            0.021719   \n",
       "\n",
       "          mfcc1       mfcc2  ...     mfcc11     mfcc12    mfcc13    mfcc14  \\\n",
       "0   -323.624969  107.401718  ...   2.413419 -11.156631  1.898175 -0.322627   \n",
       "1   -224.668732   52.914837  ...   1.157628  -6.147384 -1.023789  1.276554   \n",
       "2   -354.148834  117.005508  ...  14.665513  -7.840634 -3.938224 -4.953007   \n",
       "3   -345.042023  109.391342  ...   6.139168 -12.223216  1.907579  1.336822   \n",
       "4   -406.951172   80.524200  ...  -9.108408  -5.347715 -1.964847 -5.651423   \n",
       "..          ...         ...  ...        ...        ...       ...       ...   \n",
       "539 -305.952789   82.477524  ...   6.913932 -13.058589  1.947110 -5.047692   \n",
       "540 -393.864563  110.978989  ...   3.845689   4.569818  2.487446 -0.741276   \n",
       "541 -270.573547   47.715126  ...   3.498620   3.539809  3.082884  0.847034   \n",
       "542 -467.618011  113.901176  ...   1.470037   5.189247 -0.415622  1.352847   \n",
       "543 -439.361633  118.539581  ...   3.680830   4.628007  1.991610 -1.470668   \n",
       "\n",
       "       mfcc15     mfcc16    mfcc17     mfcc18    mfcc19    mfcc20  \n",
       "0    5.292337  -4.246020  7.508950   0.116339  2.128314 -2.224436  \n",
       "1    2.396752  -1.128284  3.286006   1.118902  0.347389 -1.222623  \n",
       "2    5.054475   1.359681 -2.304963   7.378729 -0.513810  6.990722  \n",
       "3    6.544016  -5.018676  8.363056   0.104561  2.637770 -3.746327  \n",
       "4   -3.889395  -4.578368  1.167199 -16.026226 -8.168590 -3.305593  \n",
       "..        ...        ...       ...        ...       ...       ...  \n",
       "539  1.188978 -19.949867  1.044482  -7.213414 -1.918879 -1.438352  \n",
       "540  4.879114  -5.085642  0.539506  -1.667372  6.197483  4.449610  \n",
       "541  2.388403  -1.516334  0.702613   0.516060  3.538648  2.587666  \n",
       "542  3.402065  -4.388654  3.293478   0.302943  8.239042 -1.237721  \n",
       "543  5.576470  -6.030171  0.476423  -2.791699  6.373467  4.263284  \n",
       "\n",
       "[544 rows x 28 columns]"
      ]
     },
     "execution_count": 91,
     "metadata": {},
     "output_type": "execute_result"
    }
   ],
   "source": [
    "test"
   ]
  },
  {
   "cell_type": "code",
   "execution_count": 92,
   "metadata": {},
   "outputs": [
    {
     "data": {
      "text/plain": [
       "other        460\n",
       "covid        360\n",
       "asthma       208\n",
       "allergie     172\n",
       "pneumonia     88\n",
       "Name: correlation, dtype: int64"
      ]
     },
     "execution_count": 92,
     "metadata": {},
     "output_type": "execute_result"
    }
   ],
   "source": [
    "train['correlation'].value_counts()"
   ]
  },
  {
   "cell_type": "code",
   "execution_count": 93,
   "metadata": {},
   "outputs": [
    {
     "data": {
      "text/plain": [
       "other        192\n",
       "covid        152\n",
       "asthma        88\n",
       "allergie      76\n",
       "pneumonia     36\n",
       "Name: correlation, dtype: int64"
      ]
     },
     "execution_count": 93,
     "metadata": {},
     "output_type": "execute_result"
    }
   ],
   "source": [
    "test['correlation'].value_counts()"
   ]
  },
  {
   "cell_type": "code",
   "execution_count": 94,
   "metadata": {},
   "outputs": [],
   "source": [
    "test['correlation'] = pd.factorize(test['correlation'])[0]\n",
    "train['correlation'] = pd.factorize(train['correlation'])[0]"
   ]
  },
  {
   "cell_type": "code",
   "execution_count": 95,
   "metadata": {},
   "outputs": [
    {
     "name": "stdout",
     "output_type": "stream",
     "text": [
      "3    192\n",
      "2    152\n",
      "1     88\n",
      "0     76\n",
      "4     36\n",
      "Name: correlation, dtype: int64\n"
     ]
    }
   ],
   "source": [
    "print(test['correlation'].value_counts())"
   ]
  },
  {
   "cell_type": "code",
   "execution_count": 96,
   "metadata": {},
   "outputs": [
    {
     "name": "stdout",
     "output_type": "stream",
     "text": [
      "3    460\n",
      "2    360\n",
      "1    208\n",
      "0    172\n",
      "4     88\n",
      "Name: correlation, dtype: int64\n"
     ]
    }
   ],
   "source": [
    "print(train['correlation'].value_counts())"
   ]
  },
  {
   "cell_type": "code",
   "execution_count": 97,
   "metadata": {},
   "outputs": [
    {
     "name": "stdout",
     "output_type": "stream",
     "text": [
      "3    460\n",
      "2    360\n",
      "1    208\n",
      "0    172\n",
      "4     88\n",
      "Name: correlation, dtype: int64\n"
     ]
    }
   ],
   "source": [
    "print(train['correlation'].value_counts())"
   ]
  },
  {
   "cell_type": "code",
   "execution_count": 98,
   "metadata": {},
   "outputs": [
    {
     "data": {
      "text/html": [
       "<div>\n",
       "<style scoped>\n",
       "    .dataframe tbody tr th:only-of-type {\n",
       "        vertical-align: middle;\n",
       "    }\n",
       "\n",
       "    .dataframe tbody tr th {\n",
       "        vertical-align: top;\n",
       "    }\n",
       "\n",
       "    .dataframe thead th {\n",
       "        text-align: right;\n",
       "    }\n",
       "</style>\n",
       "<table border=\"1\" class=\"dataframe\">\n",
       "  <thead>\n",
       "    <tr style=\"text-align: right;\">\n",
       "      <th></th>\n",
       "      <th>key</th>\n",
       "      <th>correlation</th>\n",
       "      <th>chroma_stft</th>\n",
       "      <th>rmse</th>\n",
       "      <th>spectral_centroid</th>\n",
       "      <th>spectral_bandwidth</th>\n",
       "      <th>rolloff</th>\n",
       "      <th>zero_crossing_rate</th>\n",
       "      <th>mfcc1</th>\n",
       "      <th>mfcc2</th>\n",
       "      <th>...</th>\n",
       "      <th>mfcc11</th>\n",
       "      <th>mfcc12</th>\n",
       "      <th>mfcc13</th>\n",
       "      <th>mfcc14</th>\n",
       "      <th>mfcc15</th>\n",
       "      <th>mfcc16</th>\n",
       "      <th>mfcc17</th>\n",
       "      <th>mfcc18</th>\n",
       "      <th>mfcc19</th>\n",
       "      <th>mfcc20</th>\n",
       "    </tr>\n",
       "  </thead>\n",
       "  <tbody>\n",
       "    <tr>\n",
       "      <th>0</th>\n",
       "      <td>1604907203513.wav</td>\n",
       "      <td>0</td>\n",
       "      <td>0.432197</td>\n",
       "      <td>0.073355</td>\n",
       "      <td>2175.196143</td>\n",
       "      <td>1866.410416</td>\n",
       "      <td>4435.485679</td>\n",
       "      <td>0.149588</td>\n",
       "      <td>-248.372589</td>\n",
       "      <td>100.145203</td>\n",
       "      <td>...</td>\n",
       "      <td>1.195061</td>\n",
       "      <td>-13.322680</td>\n",
       "      <td>8.263878</td>\n",
       "      <td>-6.620495</td>\n",
       "      <td>11.089859</td>\n",
       "      <td>-5.957028</td>\n",
       "      <td>0.502174</td>\n",
       "      <td>-5.043720</td>\n",
       "      <td>-10.276903</td>\n",
       "      <td>-1.263781</td>\n",
       "    </tr>\n",
       "    <tr>\n",
       "      <th>1</th>\n",
       "      <td>1604907203513_noise.wav</td>\n",
       "      <td>0</td>\n",
       "      <td>0.486210</td>\n",
       "      <td>0.074436</td>\n",
       "      <td>3437.321883</td>\n",
       "      <td>2697.644797</td>\n",
       "      <td>6569.220693</td>\n",
       "      <td>0.249361</td>\n",
       "      <td>-180.269150</td>\n",
       "      <td>56.818462</td>\n",
       "      <td>...</td>\n",
       "      <td>-0.660479</td>\n",
       "      <td>-6.604637</td>\n",
       "      <td>2.771005</td>\n",
       "      <td>-0.609252</td>\n",
       "      <td>6.086140</td>\n",
       "      <td>-1.775576</td>\n",
       "      <td>-0.867594</td>\n",
       "      <td>-2.497383</td>\n",
       "      <td>-7.830077</td>\n",
       "      <td>-0.410429</td>\n",
       "    </tr>\n",
       "    <tr>\n",
       "      <th>2</th>\n",
       "      <td>1604907203513_pitch.wav</td>\n",
       "      <td>0</td>\n",
       "      <td>0.430796</td>\n",
       "      <td>0.073597</td>\n",
       "      <td>2186.035607</td>\n",
       "      <td>1883.675555</td>\n",
       "      <td>4449.733379</td>\n",
       "      <td>0.149791</td>\n",
       "      <td>-247.376083</td>\n",
       "      <td>100.469582</td>\n",
       "      <td>...</td>\n",
       "      <td>1.214169</td>\n",
       "      <td>-13.350938</td>\n",
       "      <td>8.308656</td>\n",
       "      <td>-6.621794</td>\n",
       "      <td>11.154837</td>\n",
       "      <td>-5.946504</td>\n",
       "      <td>0.534692</td>\n",
       "      <td>-5.029052</td>\n",
       "      <td>-10.281414</td>\n",
       "      <td>-1.238396</td>\n",
       "    </tr>\n",
       "    <tr>\n",
       "      <th>3</th>\n",
       "      <td>1604907203513_speed.wav</td>\n",
       "      <td>0</td>\n",
       "      <td>0.421420</td>\n",
       "      <td>0.050867</td>\n",
       "      <td>2158.539130</td>\n",
       "      <td>1885.908299</td>\n",
       "      <td>4411.048327</td>\n",
       "      <td>0.145733</td>\n",
       "      <td>-274.595642</td>\n",
       "      <td>108.333664</td>\n",
       "      <td>...</td>\n",
       "      <td>0.597516</td>\n",
       "      <td>-14.853464</td>\n",
       "      <td>7.752444</td>\n",
       "      <td>-8.209581</td>\n",
       "      <td>11.458509</td>\n",
       "      <td>-7.547943</td>\n",
       "      <td>1.435923</td>\n",
       "      <td>-4.907001</td>\n",
       "      <td>-9.092078</td>\n",
       "      <td>-0.978365</td>\n",
       "    </tr>\n",
       "    <tr>\n",
       "      <th>4</th>\n",
       "      <td>1604907385918.wav</td>\n",
       "      <td>0</td>\n",
       "      <td>0.541133</td>\n",
       "      <td>0.055551</td>\n",
       "      <td>3130.061088</td>\n",
       "      <td>2179.030479</td>\n",
       "      <td>5839.616814</td>\n",
       "      <td>0.250052</td>\n",
       "      <td>-267.074188</td>\n",
       "      <td>65.771973</td>\n",
       "      <td>...</td>\n",
       "      <td>0.387622</td>\n",
       "      <td>0.400475</td>\n",
       "      <td>7.596847</td>\n",
       "      <td>-8.065909</td>\n",
       "      <td>18.416906</td>\n",
       "      <td>-9.924283</td>\n",
       "      <td>3.372713</td>\n",
       "      <td>-2.170714</td>\n",
       "      <td>3.568209</td>\n",
       "      <td>-3.027963</td>\n",
       "    </tr>\n",
       "    <tr>\n",
       "      <th>...</th>\n",
       "      <td>...</td>\n",
       "      <td>...</td>\n",
       "      <td>...</td>\n",
       "      <td>...</td>\n",
       "      <td>...</td>\n",
       "      <td>...</td>\n",
       "      <td>...</td>\n",
       "      <td>...</td>\n",
       "      <td>...</td>\n",
       "      <td>...</td>\n",
       "      <td>...</td>\n",
       "      <td>...</td>\n",
       "      <td>...</td>\n",
       "      <td>...</td>\n",
       "      <td>...</td>\n",
       "      <td>...</td>\n",
       "      <td>...</td>\n",
       "      <td>...</td>\n",
       "      <td>...</td>\n",
       "      <td>...</td>\n",
       "      <td>...</td>\n",
       "    </tr>\n",
       "    <tr>\n",
       "      <th>1283</th>\n",
       "      <td>1630616718338_speed.wav</td>\n",
       "      <td>4</td>\n",
       "      <td>0.457624</td>\n",
       "      <td>0.027622</td>\n",
       "      <td>3295.463422</td>\n",
       "      <td>2198.273017</td>\n",
       "      <td>5637.084961</td>\n",
       "      <td>0.295627</td>\n",
       "      <td>-344.152313</td>\n",
       "      <td>78.793083</td>\n",
       "      <td>...</td>\n",
       "      <td>7.188071</td>\n",
       "      <td>-20.427433</td>\n",
       "      <td>3.779288</td>\n",
       "      <td>-2.880576</td>\n",
       "      <td>-2.020188</td>\n",
       "      <td>-4.196573</td>\n",
       "      <td>3.170312</td>\n",
       "      <td>-11.372537</td>\n",
       "      <td>2.945531</td>\n",
       "      <td>-2.876136</td>\n",
       "    </tr>\n",
       "    <tr>\n",
       "      <th>1284</th>\n",
       "      <td>1630617115433.wav</td>\n",
       "      <td>4</td>\n",
       "      <td>0.584458</td>\n",
       "      <td>0.031397</td>\n",
       "      <td>2729.347819</td>\n",
       "      <td>2165.068375</td>\n",
       "      <td>5283.031261</td>\n",
       "      <td>0.210778</td>\n",
       "      <td>-382.096680</td>\n",
       "      <td>69.093529</td>\n",
       "      <td>...</td>\n",
       "      <td>7.653633</td>\n",
       "      <td>-8.993364</td>\n",
       "      <td>1.251557</td>\n",
       "      <td>-1.090024</td>\n",
       "      <td>-1.326393</td>\n",
       "      <td>-2.525375</td>\n",
       "      <td>3.213384</td>\n",
       "      <td>-4.866541</td>\n",
       "      <td>-1.889130</td>\n",
       "      <td>-1.435676</td>\n",
       "    </tr>\n",
       "    <tr>\n",
       "      <th>1285</th>\n",
       "      <td>1630617115433_noise.wav</td>\n",
       "      <td>4</td>\n",
       "      <td>0.654994</td>\n",
       "      <td>0.033826</td>\n",
       "      <td>4673.575600</td>\n",
       "      <td>3024.473089</td>\n",
       "      <td>8200.602911</td>\n",
       "      <td>0.400177</td>\n",
       "      <td>-256.577423</td>\n",
       "      <td>20.748068</td>\n",
       "      <td>...</td>\n",
       "      <td>3.460560</td>\n",
       "      <td>-4.911588</td>\n",
       "      <td>-0.762806</td>\n",
       "      <td>0.237131</td>\n",
       "      <td>-2.721034</td>\n",
       "      <td>-0.125764</td>\n",
       "      <td>0.069649</td>\n",
       "      <td>-2.407052</td>\n",
       "      <td>-1.529707</td>\n",
       "      <td>-1.377709</td>\n",
       "    </tr>\n",
       "    <tr>\n",
       "      <th>1286</th>\n",
       "      <td>1630617115433_pitch.wav</td>\n",
       "      <td>4</td>\n",
       "      <td>0.583084</td>\n",
       "      <td>0.031397</td>\n",
       "      <td>2749.851229</td>\n",
       "      <td>2199.117541</td>\n",
       "      <td>5309.726048</td>\n",
       "      <td>0.210778</td>\n",
       "      <td>-382.027649</td>\n",
       "      <td>69.025192</td>\n",
       "      <td>...</td>\n",
       "      <td>7.672158</td>\n",
       "      <td>-8.971796</td>\n",
       "      <td>1.255161</td>\n",
       "      <td>-1.060921</td>\n",
       "      <td>-1.327451</td>\n",
       "      <td>-2.496363</td>\n",
       "      <td>3.211230</td>\n",
       "      <td>-4.834787</td>\n",
       "      <td>-1.885533</td>\n",
       "      <td>-1.414546</td>\n",
       "    </tr>\n",
       "    <tr>\n",
       "      <th>1287</th>\n",
       "      <td>1630617115433_speed.wav</td>\n",
       "      <td>4</td>\n",
       "      <td>0.557503</td>\n",
       "      <td>0.021751</td>\n",
       "      <td>2746.107457</td>\n",
       "      <td>2227.771925</td>\n",
       "      <td>5349.319876</td>\n",
       "      <td>0.207090</td>\n",
       "      <td>-413.805115</td>\n",
       "      <td>71.465279</td>\n",
       "      <td>...</td>\n",
       "      <td>6.625015</td>\n",
       "      <td>-10.120228</td>\n",
       "      <td>1.643504</td>\n",
       "      <td>-1.478818</td>\n",
       "      <td>-1.581104</td>\n",
       "      <td>-2.966957</td>\n",
       "      <td>3.226786</td>\n",
       "      <td>-5.393914</td>\n",
       "      <td>-1.849913</td>\n",
       "      <td>-1.176207</td>\n",
       "    </tr>\n",
       "  </tbody>\n",
       "</table>\n",
       "<p>1288 rows × 28 columns</p>\n",
       "</div>"
      ],
      "text/plain": [
       "                          key  correlation  chroma_stft      rmse  \\\n",
       "0           1604907203513.wav            0     0.432197  0.073355   \n",
       "1     1604907203513_noise.wav            0     0.486210  0.074436   \n",
       "2     1604907203513_pitch.wav            0     0.430796  0.073597   \n",
       "3     1604907203513_speed.wav            0     0.421420  0.050867   \n",
       "4           1604907385918.wav            0     0.541133  0.055551   \n",
       "...                       ...          ...          ...       ...   \n",
       "1283  1630616718338_speed.wav            4     0.457624  0.027622   \n",
       "1284        1630617115433.wav            4     0.584458  0.031397   \n",
       "1285  1630617115433_noise.wav            4     0.654994  0.033826   \n",
       "1286  1630617115433_pitch.wav            4     0.583084  0.031397   \n",
       "1287  1630617115433_speed.wav            4     0.557503  0.021751   \n",
       "\n",
       "      spectral_centroid  spectral_bandwidth      rolloff  zero_crossing_rate  \\\n",
       "0           2175.196143         1866.410416  4435.485679            0.149588   \n",
       "1           3437.321883         2697.644797  6569.220693            0.249361   \n",
       "2           2186.035607         1883.675555  4449.733379            0.149791   \n",
       "3           2158.539130         1885.908299  4411.048327            0.145733   \n",
       "4           3130.061088         2179.030479  5839.616814            0.250052   \n",
       "...                 ...                 ...          ...                 ...   \n",
       "1283        3295.463422         2198.273017  5637.084961            0.295627   \n",
       "1284        2729.347819         2165.068375  5283.031261            0.210778   \n",
       "1285        4673.575600         3024.473089  8200.602911            0.400177   \n",
       "1286        2749.851229         2199.117541  5309.726048            0.210778   \n",
       "1287        2746.107457         2227.771925  5349.319876            0.207090   \n",
       "\n",
       "           mfcc1       mfcc2  ...    mfcc11     mfcc12    mfcc13    mfcc14  \\\n",
       "0    -248.372589  100.145203  ...  1.195061 -13.322680  8.263878 -6.620495   \n",
       "1    -180.269150   56.818462  ... -0.660479  -6.604637  2.771005 -0.609252   \n",
       "2    -247.376083  100.469582  ...  1.214169 -13.350938  8.308656 -6.621794   \n",
       "3    -274.595642  108.333664  ...  0.597516 -14.853464  7.752444 -8.209581   \n",
       "4    -267.074188   65.771973  ...  0.387622   0.400475  7.596847 -8.065909   \n",
       "...          ...         ...  ...       ...        ...       ...       ...   \n",
       "1283 -344.152313   78.793083  ...  7.188071 -20.427433  3.779288 -2.880576   \n",
       "1284 -382.096680   69.093529  ...  7.653633  -8.993364  1.251557 -1.090024   \n",
       "1285 -256.577423   20.748068  ...  3.460560  -4.911588 -0.762806  0.237131   \n",
       "1286 -382.027649   69.025192  ...  7.672158  -8.971796  1.255161 -1.060921   \n",
       "1287 -413.805115   71.465279  ...  6.625015 -10.120228  1.643504 -1.478818   \n",
       "\n",
       "         mfcc15    mfcc16    mfcc17     mfcc18     mfcc19    mfcc20  \n",
       "0     11.089859 -5.957028  0.502174  -5.043720 -10.276903 -1.263781  \n",
       "1      6.086140 -1.775576 -0.867594  -2.497383  -7.830077 -0.410429  \n",
       "2     11.154837 -5.946504  0.534692  -5.029052 -10.281414 -1.238396  \n",
       "3     11.458509 -7.547943  1.435923  -4.907001  -9.092078 -0.978365  \n",
       "4     18.416906 -9.924283  3.372713  -2.170714   3.568209 -3.027963  \n",
       "...         ...       ...       ...        ...        ...       ...  \n",
       "1283  -2.020188 -4.196573  3.170312 -11.372537   2.945531 -2.876136  \n",
       "1284  -1.326393 -2.525375  3.213384  -4.866541  -1.889130 -1.435676  \n",
       "1285  -2.721034 -0.125764  0.069649  -2.407052  -1.529707 -1.377709  \n",
       "1286  -1.327451 -2.496363  3.211230  -4.834787  -1.885533 -1.414546  \n",
       "1287  -1.581104 -2.966957  3.226786  -5.393914  -1.849913 -1.176207  \n",
       "\n",
       "[1288 rows x 28 columns]"
      ]
     },
     "execution_count": 98,
     "metadata": {},
     "output_type": "execute_result"
    }
   ],
   "source": [
    "train"
   ]
  },
  {
   "cell_type": "markdown",
   "metadata": {},
   "source": [
    "MACHINE LEARNING"
   ]
  },
  {
   "cell_type": "code",
   "execution_count": 174,
   "metadata": {},
   "outputs": [],
   "source": [
    "corr = [0, 3]\n",
    "train_2 = train[train.correlation.isin(corr)]\n",
    "test_2 = test[test.correlation.isin(corr)]"
   ]
  },
  {
   "cell_type": "code",
   "execution_count": 175,
   "metadata": {},
   "outputs": [],
   "source": [
    "#train_2"
   ]
  },
  {
   "cell_type": "code",
   "execution_count": 176,
   "metadata": {},
   "outputs": [],
   "source": [
    "X_train = train_2.loc[:, train_2.columns!='correlation']\n",
    "X_test = test_2.loc[:, test_2.columns!='correlation']\n",
    "y_train  = train_2['correlation']\n",
    "y_test = test_2['correlation']"
   ]
  },
  {
   "cell_type": "code",
   "execution_count": 177,
   "metadata": {},
   "outputs": [],
   "source": [
    "#X_train"
   ]
  },
  {
   "cell_type": "code",
   "execution_count": 178,
   "metadata": {},
   "outputs": [],
   "source": [
    "del X_train['key']\n",
    "del X_test['key']"
   ]
  },
  {
   "cell_type": "code",
   "execution_count": 179,
   "metadata": {},
   "outputs": [],
   "source": [
    "from sklearn.preprocessing import MinMaxScaler\n",
    "ms = MinMaxScaler()\n",
    "\n",
    "X_train= ms.fit_transform(X_train)\n",
    "X_train = pd.DataFrame(X_train)\n",
    "\n",
    "X_test= ms.fit_transform(X_test)\n",
    "X_test = pd.DataFrame(X_test)"
   ]
  },
  {
   "cell_type": "code",
   "execution_count": 180,
   "metadata": {},
   "outputs": [
    {
     "name": "stdout",
     "output_type": "stream",
     "text": [
      "SVM accuracy:  0.6902985074626866\n"
     ]
    },
    {
     "data": {
      "text/plain": [
       "array([[ 11,  65],\n",
       "       [ 18, 174]], dtype=int64)"
      ]
     },
     "execution_count": 180,
     "metadata": {},
     "output_type": "execute_result"
    }
   ],
   "source": [
    "from sklearn.metrics import confusion_matrix\n",
    "from sklearn.metrics import accuracy_score\n",
    "from sklearn.svm import SVC\n",
    "from sklearn import metrics\n",
    "model =SVC()\n",
    "model.fit (X_train, y_train)\n",
    "y_pred = model.predict(X_test)\n",
    "print ('SVM accuracy: ', accuracy_score (y_test, y_pred))\n",
    "confusion_matrix(y_test,y_pred )"
   ]
  },
  {
   "cell_type": "code",
   "execution_count": 181,
   "metadata": {},
   "outputs": [
    {
     "name": "stdout",
     "output_type": "stream",
     "text": [
      "MLP accuracy:  0.5223880597014925\n"
     ]
    },
    {
     "data": {
      "text/plain": [
       "array([[ 11,  65],\n",
       "       [ 18, 174]], dtype=int64)"
      ]
     },
     "execution_count": 181,
     "metadata": {},
     "output_type": "execute_result"
    }
   ],
   "source": [
    "from sklearn.preprocessing import MinMaxScaler\n",
    "from sklearn.neural_network import MLPClassifier\n",
    "\n",
    "\n",
    "clf = MLPClassifier(random_state=1, max_iter=2000).fit(X_train, y_train)\n",
    "#clf.predict_proba(X_test)\n",
    "\n",
    "clf.predict(X_test)\n",
    "\n",
    "print('MLP accuracy: ',clf.score(X_test, y_test))\n",
    "confusion_matrix(y_test,y_pred )"
   ]
  },
  {
   "cell_type": "code",
   "execution_count": 182,
   "metadata": {},
   "outputs": [
    {
     "name": "stdout",
     "output_type": "stream",
     "text": [
      "Accuracy:  0.6007462686567164\n"
     ]
    },
    {
     "data": {
      "text/plain": [
       "array([[  5,  71],\n",
       "       [ 36, 156]], dtype=int64)"
      ]
     },
     "execution_count": 182,
     "metadata": {},
     "output_type": "execute_result"
    }
   ],
   "source": [
    "from sklearn.ensemble import RandomForestClassifier\n",
    "rf = RandomForestClassifier(n_estimators = 100)\n",
    "rf.fit(X_train, y_train)\n",
    "predict_cough_type = rf.predict(X_test)\n",
    "print ('Accuracy: ', accuracy_score (y_test, predict_cough_type))\n",
    "#predict_cough_type = rf.predict(X_test)\n",
    "#print ('Accuracy: ', accuracy_score (y_test, predict_cough_type))\n",
    "\n",
    "from sklearn.metrics import confusion_matrix\n",
    "\n",
    "confusion_matrix(y_test, predict_cough_type)"
   ]
  },
  {
   "cell_type": "code",
   "execution_count": null,
   "metadata": {},
   "outputs": [],
   "source": []
  },
  {
   "cell_type": "code",
   "execution_count": null,
   "metadata": {},
   "outputs": [],
   "source": []
  },
  {
   "cell_type": "code",
   "execution_count": null,
   "metadata": {},
   "outputs": [],
   "source": []
  },
  {
   "cell_type": "code",
   "execution_count": null,
   "metadata": {},
   "outputs": [],
   "source": []
  },
  {
   "cell_type": "code",
   "execution_count": 77,
   "metadata": {},
   "outputs": [],
   "source": [
    "import pandas as pd\n",
    "import os\n",
    "import numpy as np\n",
    "np.set_printoptions(precision=4)\n",
    "import catboost\n",
    "from catboost import *\n",
    "from catboost import datasets\n",
    "from catboost import CatBoostClassifier\n",
    "model_Cat_boost = CatBoostClassifier(#task_type ='GPU',\n",
    "                                    iterations = 20,\n",
    "                                    random_state =2021)\n",
    "                                    #eval_metric ='F1')"
   ]
  },
  {
   "cell_type": "code",
   "execution_count": 78,
   "metadata": {},
   "outputs": [
    {
     "name": "stdout",
     "output_type": "stream",
     "text": [
      "Learning rate set to 0.483652\n",
      "0:\tlearn: 1.4107285\ttest: 1.5647452\tbest: 1.5647452 (0)\ttotal: 19.7ms\tremaining: 374ms\n",
      "1:\tlearn: 1.3095183\ttest: 1.5772105\tbest: 1.5647452 (0)\ttotal: 32.3ms\tremaining: 290ms\n",
      "2:\tlearn: 1.2582246\ttest: 1.5819555\tbest: 1.5647452 (0)\ttotal: 44.7ms\tremaining: 253ms\n",
      "3:\tlearn: 1.1951295\ttest: 1.5924593\tbest: 1.5647452 (0)\ttotal: 65.2ms\tremaining: 261ms\n",
      "4:\tlearn: 1.1648491\ttest: 1.5836666\tbest: 1.5647452 (0)\ttotal: 80.1ms\tremaining: 240ms\n",
      "5:\tlearn: 1.1292492\ttest: 1.5979380\tbest: 1.5647452 (0)\ttotal: 94ms\tremaining: 219ms\n",
      "6:\tlearn: 1.0967536\ttest: 1.6081653\tbest: 1.5647452 (0)\ttotal: 107ms\tremaining: 199ms\n",
      "7:\tlearn: 1.0569746\ttest: 1.6408014\tbest: 1.5647452 (0)\ttotal: 119ms\tremaining: 179ms\n",
      "8:\tlearn: 1.0049608\ttest: 1.6559230\tbest: 1.5647452 (0)\ttotal: 132ms\tremaining: 161ms\n",
      "9:\tlearn: 0.9747779\ttest: 1.6742056\tbest: 1.5647452 (0)\ttotal: 146ms\tremaining: 146ms\n",
      "10:\tlearn: 0.9504972\ttest: 1.6958887\tbest: 1.5647452 (0)\ttotal: 159ms\tremaining: 130ms\n",
      "11:\tlearn: 0.9232304\ttest: 1.6964987\tbest: 1.5647452 (0)\ttotal: 171ms\tremaining: 114ms\n",
      "12:\tlearn: 0.8964139\ttest: 1.7187621\tbest: 1.5647452 (0)\ttotal: 184ms\tremaining: 98.8ms\n",
      "13:\tlearn: 0.8675558\ttest: 1.7308314\tbest: 1.5647452 (0)\ttotal: 196ms\tremaining: 84.1ms\n",
      "14:\tlearn: 0.8347201\ttest: 1.7436425\tbest: 1.5647452 (0)\ttotal: 209ms\tremaining: 69.6ms\n",
      "15:\tlearn: 0.8267321\ttest: 1.7522932\tbest: 1.5647452 (0)\ttotal: 221ms\tremaining: 55.3ms\n",
      "16:\tlearn: 0.8062037\ttest: 1.7587133\tbest: 1.5647452 (0)\ttotal: 233ms\tremaining: 41.2ms\n",
      "17:\tlearn: 0.7754564\ttest: 1.7599136\tbest: 1.5647452 (0)\ttotal: 245ms\tremaining: 27.3ms\n",
      "18:\tlearn: 0.7485652\ttest: 1.7826044\tbest: 1.5647452 (0)\ttotal: 257ms\tremaining: 13.5ms\n",
      "19:\tlearn: 0.7305959\ttest: 1.7977130\tbest: 1.5647452 (0)\ttotal: 269ms\tremaining: 0us\n",
      "\n",
      "bestTest = 1.564745155\n",
      "bestIteration = 0\n",
      "\n",
      "Shrink model to first 1 iterations.\n"
     ]
    },
    {
     "data": {
      "text/plain": [
       "0.28860294117647056"
      ]
     },
     "execution_count": 78,
     "metadata": {},
     "output_type": "execute_result"
    }
   ],
   "source": [
    "model_Cat_boost.fit(X_train, y_train, #plot ='True',\n",
    "                   eval_set =(X_test, y_test))\n",
    "from sklearn.metrics import accuracy_score\n",
    "y_pred  = model_Cat_boost.predict(X_test)\n",
    "accuracy_score(y_test, y_pred)"
   ]
  },
  {
   "cell_type": "markdown",
   "metadata": {},
   "source": [
    "BALANCED DATASET"
   ]
  },
  {
   "cell_type": "code",
   "execution_count": 183,
   "metadata": {},
   "outputs": [
    {
     "name": "stdout",
     "output_type": "stream",
     "text": [
      "3    460\n",
      "2    360\n",
      "1    208\n",
      "0    172\n",
      "4     88\n",
      "Name: correlation, dtype: int64\n"
     ]
    }
   ],
   "source": [
    "print(train['correlation'].value_counts())"
   ]
  },
  {
   "cell_type": "code",
   "execution_count": 184,
   "metadata": {},
   "outputs": [
    {
     "name": "stdout",
     "output_type": "stream",
     "text": [
      "3    192\n",
      "2    152\n",
      "1     88\n",
      "0     76\n",
      "4     36\n",
      "Name: correlation, dtype: int64\n"
     ]
    }
   ],
   "source": [
    "print(test['correlation'].value_counts())"
   ]
  },
  {
   "cell_type": "code",
   "execution_count": 226,
   "metadata": {},
   "outputs": [],
   "source": [
    "new_df = train.sample(frac=1, random_state =4)\n",
    "\n",
    "# Separate class\n",
    "class_0 = new_df[new_df ['correlation'] == 0].sample(n= 172, random_state =42)\n",
    "class_1 = new_df[new_df ['correlation'] == 1].sample(n= 208, random_state =42)\n",
    "class_2 = new_df[new_df ['correlation'] == 2].sample(n= 172, random_state =42)\n",
    "class_3 = new_df[new_df ['correlation'] == 3].sample(n= 172, random_state =42)\n",
    "class_4 = new_df[new_df ['correlation'] == 4].sample(n= 88, random_state =42)"
   ]
  },
  {
   "cell_type": "code",
   "execution_count": 227,
   "metadata": {},
   "outputs": [],
   "source": [
    "balanced_train  = pd.concat([class_0, class_1, class_2, class_3, class_4])"
   ]
  },
  {
   "cell_type": "code",
   "execution_count": 228,
   "metadata": {},
   "outputs": [
    {
     "name": "stdout",
     "output_type": "stream",
     "text": [
      "3    192\n",
      "2    152\n",
      "1     88\n",
      "0     76\n",
      "4     36\n",
      "Name: correlation, dtype: int64\n"
     ]
    }
   ],
   "source": [
    "print(test['correlation'].value_counts())"
   ]
  },
  {
   "cell_type": "code",
   "execution_count": 229,
   "metadata": {},
   "outputs": [],
   "source": [
    "new_df = test.sample(frac=1, random_state =4)\n",
    "\n",
    "# Separate class\n",
    "class_0 = new_df[new_df ['correlation'] == 0].sample(n= 76, random_state =42)\n",
    "class_1 = new_df[new_df ['correlation'] == 1].sample(n= 88, random_state =42)\n",
    "class_2 = new_df[new_df ['correlation'] == 2].sample(n= 88, random_state =42)\n",
    "class_3 = new_df[new_df ['correlation'] == 3].sample(n= 88, random_state =42)\n",
    "class_4 = new_df[new_df ['correlation'] == 4].sample(n= 36, random_state =42)"
   ]
  },
  {
   "cell_type": "code",
   "execution_count": 230,
   "metadata": {},
   "outputs": [],
   "source": [
    "balanced_test  = pd.concat([class_0, class_1, class_2, class_3, class_4])"
   ]
  },
  {
   "cell_type": "code",
   "execution_count": 231,
   "metadata": {},
   "outputs": [
    {
     "name": "stdout",
     "output_type": "stream",
     "text": [
      "1    88\n",
      "2    88\n",
      "3    88\n",
      "0    76\n",
      "4    36\n",
      "Name: correlation, dtype: int64\n",
      "1    208\n",
      "0    172\n",
      "2    172\n",
      "3    172\n",
      "4     88\n",
      "Name: correlation, dtype: int64\n"
     ]
    }
   ],
   "source": [
    "print(balanced_test['correlation'].value_counts())\n",
    "print(balanced_train['correlation'].value_counts())"
   ]
  },
  {
   "cell_type": "code",
   "execution_count": 232,
   "metadata": {},
   "outputs": [],
   "source": [
    "X_train = balanced_train.loc[:, balanced_train.columns!='correlation']\n",
    "X_test = balanced_test.loc[:, balanced_test.columns!='correlation']\n",
    "y_train  = balanced_train['correlation']\n",
    "y_test = balanced_test['correlation']"
   ]
  },
  {
   "cell_type": "code",
   "execution_count": 233,
   "metadata": {},
   "outputs": [],
   "source": [
    "del X_train['key']\n",
    "del X_test['key']"
   ]
  },
  {
   "cell_type": "code",
   "execution_count": 234,
   "metadata": {},
   "outputs": [],
   "source": [
    "from sklearn.preprocessing import MinMaxScaler\n",
    "ms = MinMaxScaler()\n",
    "\n",
    "X_train= ms.fit_transform(X_train)\n",
    "X_train = pd.DataFrame(X_train)\n",
    "\n",
    "X_test= ms.fit_transform(X_test)\n",
    "X_test = pd.DataFrame(X_test)"
   ]
  },
  {
   "cell_type": "code",
   "execution_count": 235,
   "metadata": {},
   "outputs": [
    {
     "name": "stdout",
     "output_type": "stream",
     "text": [
      "SVM accuracy:  0.21808510638297873\n"
     ]
    }
   ],
   "source": [
    "model =SVC()\n",
    "model.fit (X_train, y_train)\n",
    "y_pred = model.predict(X_test)\n",
    "print ('SVM accuracy: ', accuracy_score (y_test, y_pred))"
   ]
  },
  {
   "cell_type": "code",
   "execution_count": 236,
   "metadata": {},
   "outputs": [
    {
     "name": "stdout",
     "output_type": "stream",
     "text": [
      "MLP accuracy:  0.26595744680851063\n"
     ]
    }
   ],
   "source": [
    "clf = MLPClassifier(random_state=1, max_iter=2000).fit(X_train, y_train)\n",
    "#clf.predict_proba(X_test)\n",
    "\n",
    "clf.predict(X_test)\n",
    "\n",
    "print('MLP accuracy: ',clf.score(X_test, y_test))"
   ]
  },
  {
   "cell_type": "code",
   "execution_count": 237,
   "metadata": {},
   "outputs": [
    {
     "data": {
      "text/plain": [
       "RandomForestClassifier()"
      ]
     },
     "execution_count": 237,
     "metadata": {},
     "output_type": "execute_result"
    }
   ],
   "source": [
    "from sklearn.ensemble import RandomForestClassifier\n",
    "rf = RandomForestClassifier(n_estimators = 100)\n",
    "rf.fit(X_train, y_train)"
   ]
  },
  {
   "cell_type": "code",
   "execution_count": 238,
   "metadata": {},
   "outputs": [
    {
     "name": "stdout",
     "output_type": "stream",
     "text": [
      "Accuracy:  0.24202127659574468\n"
     ]
    },
    {
     "data": {
      "text/plain": [
       "array([[10, 26, 17, 23,  0],\n",
       "       [11, 37, 15, 23,  2],\n",
       "       [10, 35, 21, 21,  1],\n",
       "       [17, 33, 17, 21,  0],\n",
       "       [ 3,  7,  6, 18,  2]], dtype=int64)"
      ]
     },
     "execution_count": 238,
     "metadata": {},
     "output_type": "execute_result"
    }
   ],
   "source": [
    "predict_cough_type = rf.predict(X_test)\n",
    "print ('Accuracy: ', accuracy_score (y_test, predict_cough_type))\n",
    "#predict_cough_type = rf.predict(X_test)\n",
    "#print ('Accuracy: ', accuracy_score (y_test, predict_cough_type))\n",
    "\n",
    "from sklearn.metrics import confusion_matrix\n",
    "\n",
    "confusion_matrix(y_test, predict_cough_type)\n",
    "## confusion matrix"
   ]
  },
  {
   "cell_type": "code",
   "execution_count": 239,
   "metadata": {},
   "outputs": [
    {
     "data": {
      "text/plain": [
       "DecisionTreeClassifier(max_leaf_nodes=10, random_state=0)"
      ]
     },
     "execution_count": 239,
     "metadata": {},
     "output_type": "execute_result"
    }
   ],
   "source": [
    "from sklearn.tree import DecisionTreeClassifier\n",
    "dec_tree_classifier  = DecisionTreeClassifier (max_leaf_nodes = 10, random_state =0)\n",
    "dec_tree_classifier.fit(X_train, y_train)"
   ]
  },
  {
   "cell_type": "code",
   "execution_count": 240,
   "metadata": {},
   "outputs": [],
   "source": [
    "y_predicted  = dec_tree_classifier.predict(X_test)"
   ]
  },
  {
   "cell_type": "code",
   "execution_count": 241,
   "metadata": {},
   "outputs": [
    {
     "data": {
      "text/plain": [
       "22.340425531914892"
      ]
     },
     "execution_count": 241,
     "metadata": {},
     "output_type": "execute_result"
    }
   ],
   "source": [
    "accuracy_score(y_test, y_predicted)*100"
   ]
  },
  {
   "cell_type": "code",
   "execution_count": 242,
   "metadata": {},
   "outputs": [],
   "source": [
    "import pandas as pd\n",
    "import os\n",
    "import numpy as np\n",
    "np.set_printoptions(precision=4)\n",
    "import catboost\n",
    "from catboost import *\n",
    "from catboost import datasets"
   ]
  },
  {
   "cell_type": "code",
   "execution_count": 243,
   "metadata": {},
   "outputs": [],
   "source": [
    "import catboost\n",
    "\n",
    "from catboost import CatBoostClassifier"
   ]
  },
  {
   "cell_type": "code",
   "execution_count": 244,
   "metadata": {},
   "outputs": [],
   "source": [
    "model_Cat_boost = CatBoostClassifier(#task_type ='GPU',\n",
    "                                    iterations = 20,\n",
    "                                    random_state =2021)\n",
    "                                    #eval_metric ='F1')"
   ]
  },
  {
   "cell_type": "code",
   "execution_count": 245,
   "metadata": {},
   "outputs": [
    {
     "data": {
      "application/vnd.jupyter.widget-view+json": {
       "model_id": "07e1854591794f7daf7042119cfbb42d",
       "version_major": 2,
       "version_minor": 0
      },
      "text/plain": [
       "MetricVisualizer(layout=Layout(align_self='stretch', height='500px'))"
      ]
     },
     "metadata": {},
     "output_type": "display_data"
    },
    {
     "name": "stdout",
     "output_type": "stream",
     "text": [
      "Learning rate set to 0.47921\n",
      "0:\tlearn: 1.4952140\ttest: 1.5926795\tbest: 1.5926795 (0)\ttotal: 13ms\tremaining: 248ms\n",
      "1:\tlearn: 1.4305778\ttest: 1.6007032\tbest: 1.5926795 (0)\ttotal: 24.9ms\tremaining: 225ms\n",
      "2:\tlearn: 1.3612212\ttest: 1.6219610\tbest: 1.5926795 (0)\ttotal: 38.2ms\tremaining: 217ms\n",
      "3:\tlearn: 1.2914811\ttest: 1.6457481\tbest: 1.5926795 (0)\ttotal: 50.3ms\tremaining: 201ms\n",
      "4:\tlearn: 1.2479166\ttest: 1.6595692\tbest: 1.5926795 (0)\ttotal: 62.4ms\tremaining: 187ms\n",
      "5:\tlearn: 1.2088818\ttest: 1.6729226\tbest: 1.5926795 (0)\ttotal: 76.7ms\tremaining: 179ms\n",
      "6:\tlearn: 1.1596237\ttest: 1.6875599\tbest: 1.5926795 (0)\ttotal: 88.8ms\tremaining: 165ms\n",
      "7:\tlearn: 1.1051763\ttest: 1.7042438\tbest: 1.5926795 (0)\ttotal: 102ms\tremaining: 152ms\n",
      "8:\tlearn: 1.0687560\ttest: 1.7157231\tbest: 1.5926795 (0)\ttotal: 113ms\tremaining: 139ms\n",
      "9:\tlearn: 1.0401517\ttest: 1.7324013\tbest: 1.5926795 (0)\ttotal: 125ms\tremaining: 125ms\n",
      "10:\tlearn: 0.9920159\ttest: 1.7610686\tbest: 1.5926795 (0)\ttotal: 137ms\tremaining: 112ms\n",
      "11:\tlearn: 0.9565131\ttest: 1.7890480\tbest: 1.5926795 (0)\ttotal: 148ms\tremaining: 98.5ms\n",
      "12:\tlearn: 0.9263769\ttest: 1.8118915\tbest: 1.5926795 (0)\ttotal: 159ms\tremaining: 85.7ms\n",
      "13:\tlearn: 0.8927266\ttest: 1.8305872\tbest: 1.5926795 (0)\ttotal: 170ms\tremaining: 73ms\n",
      "14:\tlearn: 0.8758088\ttest: 1.8254833\tbest: 1.5926795 (0)\ttotal: 182ms\tremaining: 60.6ms\n",
      "15:\tlearn: 0.8582771\ttest: 1.8351220\tbest: 1.5926795 (0)\ttotal: 194ms\tremaining: 48.6ms\n",
      "16:\tlearn: 0.8225711\ttest: 1.8529863\tbest: 1.5926795 (0)\ttotal: 207ms\tremaining: 36.4ms\n",
      "17:\tlearn: 0.8060506\ttest: 1.8578195\tbest: 1.5926795 (0)\ttotal: 218ms\tremaining: 24.2ms\n",
      "18:\tlearn: 0.7792161\ttest: 1.8701488\tbest: 1.5926795 (0)\ttotal: 229ms\tremaining: 12.1ms\n",
      "19:\tlearn: 0.7527072\ttest: 1.8800079\tbest: 1.5926795 (0)\ttotal: 241ms\tremaining: 0us\n",
      "\n",
      "bestTest = 1.592679477\n",
      "bestIteration = 0\n",
      "\n",
      "Shrink model to first 1 iterations.\n"
     ]
    },
    {
     "data": {
      "text/plain": [
       "<catboost.core.CatBoostClassifier at 0x2c3c6e4a6a0>"
      ]
     },
     "execution_count": 245,
     "metadata": {},
     "output_type": "execute_result"
    }
   ],
   "source": [
    "model_Cat_boost.fit(X_train, y_train, plot ='True',\n",
    "                   eval_set =(X_test, y_test))"
   ]
  },
  {
   "cell_type": "code",
   "execution_count": 246,
   "metadata": {},
   "outputs": [
    {
     "data": {
      "text/plain": [
       "0.2632978723404255"
      ]
     },
     "execution_count": 246,
     "metadata": {},
     "output_type": "execute_result"
    }
   ],
   "source": [
    "from sklearn.metrics import accuracy_score\n",
    "y_pred  = model_Cat_boost.predict(X_test)\n",
    "accuracy_score(y_test, y_pred)"
   ]
  },
  {
   "cell_type": "code",
   "execution_count": 247,
   "metadata": {},
   "outputs": [
    {
     "name": "stdout",
     "output_type": "stream",
     "text": [
      "[18:53:25] WARNING: C:/Users/Administrator/workspace/xgboost-win64_release_1.5.0/src/learner.cc:576: \n",
      "Parameters: { \"boosting\", \"feature_fraction\", \"metric\", \"num_iterations\", \"scale_pos_weight\" } might not be used.\n",
      "\n",
      "  This could be a false alarm, with some parameters getting used by language bindings but\n",
      "  then being mistakenly passed down to XGBoost core, or some parameter actually being used\n",
      "  but getting flagged wrongly here. Please open an issue if you find any such cases.\n",
      "\n",
      "\n",
      "Accuracy score:0.23138297872340424\n",
      "F1 score:0.2203921042270621\n",
      "[[15 20 16 21  4]\n",
      " [13 32 16 26  1]\n",
      " [10 28 20 28  2]\n",
      " [16 29 22 20  1]\n",
      " [ 3 10  7 16  0]]\n"
     ]
    }
   ],
   "source": [
    "from xgboost import XGBClassifier\n",
    "from sklearn.metrics import f1_score\n",
    "from sklearn.metrics import classification_report, accuracy_score\n",
    "import xgboost\n",
    "\n",
    "\n",
    "#xgb = XGBClassifier(use_label_encoder =False)\n",
    "xgb = xgboost.XGBClassifier(num_class=5,\n",
    "                            use_label_encoder =False,\n",
    "                                  learning_rate=0.1,\n",
    "                                  num_iterations=1000,\n",
    "                                  max_depth=10,\n",
    "                                  feature_fraction=0.7, \n",
    "                                  scale_pos_weight=1.5,\n",
    "                                  boosting='gbdt',\n",
    "                                  metric='multiclass',\n",
    "                                  eval_metric='mlogloss')\n",
    "X_train = np.asarray(X_train)\n",
    "y_train = np.asarray(y_train)\n",
    "\n",
    "xgb.fit(X_train, y_train)\n",
    "y_pred = xgb.predict(np.asarray(X_test))\n",
    "y_pred = [round(value) for value in y_pred]\n",
    "print('Accuracy score:' + str(accuracy_score(y_test, y_pred)))\n",
    "print('F1 score:' + str(f1_score(y_test, y_pred, average = 'weighted')))\n",
    "print(confusion_matrix(y_test, y_pred))"
   ]
  },
  {
   "cell_type": "code",
   "execution_count": 248,
   "metadata": {},
   "outputs": [],
   "source": [
    "## One class classification"
   ]
  },
  {
   "cell_type": "code",
   "execution_count": 249,
   "metadata": {},
   "outputs": [],
   "source": [
    "#y_train"
   ]
  },
  {
   "cell_type": "code",
   "execution_count": 304,
   "metadata": {},
   "outputs": [],
   "source": [
    "corr = [0,3]\n",
    "train_2 = balanced_train[balanced_train.correlation.isin(corr)]\n",
    "test_2 = balanced_test[balanced_test.correlation.isin(corr)]\n",
    "\n",
    "\n",
    "X_train = train_2.loc[:, train_2.columns != 'correlation']\n",
    "y_train = train_2['correlation']\n",
    "\n",
    "X_test = test_2.loc[:, test_2.columns != 'correlation']\n",
    "y_test = test_2['correlation']\n",
    "\n",
    "del X_train['key']\n",
    "del X_test['key']\n"
   ]
  },
  {
   "cell_type": "code",
   "execution_count": 305,
   "metadata": {},
   "outputs": [],
   "source": [
    "from sklearn.preprocessing import MinMaxScaler\n",
    "ms = MinMaxScaler()\n",
    "X_train= ms.fit_transform(X_train)\n",
    "X_train = pd.DataFrame(X_train)\n",
    "\n",
    "X_test = ms.fit_transform(X_test)\n",
    "X_test = pd.DataFrame(X_test)\n",
    "\n",
    "#X_train, X_test, y_train, y_test = train_test_split(X, y, stratify=y, random_state=1)\n"
   ]
  },
  {
   "cell_type": "code",
   "execution_count": 306,
   "metadata": {},
   "outputs": [
    {
     "name": "stdout",
     "output_type": "stream",
     "text": [
      "0.4451219512195122\n"
     ]
    },
    {
     "data": {
      "text/plain": [
       "array([[24, 52],\n",
       "       [39, 49]], dtype=int64)"
      ]
     },
     "execution_count": 306,
     "metadata": {},
     "output_type": "execute_result"
    }
   ],
   "source": [
    "model =SVC()\n",
    "model.fit (X_train, y_train)\n",
    "y_pred = model.predict(X_test)\n",
    "\n",
    "print(model.score(X_test, y_test))\n",
    "confusion_matrix(y_test,y_pred )"
   ]
  },
  {
   "cell_type": "code",
   "execution_count": 307,
   "metadata": {},
   "outputs": [
    {
     "name": "stdout",
     "output_type": "stream",
     "text": [
      "0.43902439024390244\n"
     ]
    },
    {
     "name": "stderr",
     "output_type": "stream",
     "text": [
      "C:\\Users\\salta\\anaconda3\\lib\\site-packages\\sklearn\\neural_network\\_multilayer_perceptron.py:614: ConvergenceWarning: Stochastic Optimizer: Maximum iterations (2000) reached and the optimization hasn't converged yet.\n",
      "  warnings.warn(\n"
     ]
    },
    {
     "data": {
      "text/plain": [
       "array([[38, 38],\n",
       "       [54, 34]], dtype=int64)"
      ]
     },
     "execution_count": 307,
     "metadata": {},
     "output_type": "execute_result"
    }
   ],
   "source": [
    "clf = MLPClassifier(random_state=1, max_iter=2000).fit(X_train, y_train)\n",
    "#clf.predict_proba(X_test)\n",
    "\n",
    "y_pred = clf.predict(X_test)\n",
    "\n",
    "print(clf.score(X_test, y_test))\n",
    "confusion_matrix(y_test,y_pred )"
   ]
  },
  {
   "cell_type": "code",
   "execution_count": 308,
   "metadata": {},
   "outputs": [
    {
     "name": "stdout",
     "output_type": "stream",
     "text": [
      "0.5121951219512195\n"
     ]
    },
    {
     "data": {
      "text/plain": [
       "array([[33, 43],\n",
       "       [37, 51]], dtype=int64)"
      ]
     },
     "execution_count": 308,
     "metadata": {},
     "output_type": "execute_result"
    }
   ],
   "source": [
    "rf = RandomForestClassifier(n_estimators = 100)\n",
    "rf.fit(X_train, y_train)\n",
    "y_pred = rf.predict(X_test)\n",
    "print(rf.score(X_test, y_test))\n",
    "confusion_matrix(y_test,y_pred )"
   ]
  },
  {
   "cell_type": "code",
   "execution_count": 309,
   "metadata": {},
   "outputs": [
    {
     "name": "stdout",
     "output_type": "stream",
     "text": [
      "Learning rate set to 0.236048\n",
      "0:\tlearn: 0.6222954\ttotal: 34ms\tremaining: 646ms\n",
      "1:\tlearn: 0.5548661\ttotal: 36.6ms\tremaining: 329ms\n",
      "2:\tlearn: 0.5259299\ttotal: 39.2ms\tremaining: 222ms\n",
      "3:\tlearn: 0.4681088\ttotal: 41.9ms\tremaining: 168ms\n",
      "4:\tlearn: 0.4287697\ttotal: 44.6ms\tremaining: 134ms\n",
      "5:\tlearn: 0.3958234\ttotal: 47.7ms\tremaining: 111ms\n",
      "6:\tlearn: 0.3750424\ttotal: 50.3ms\tremaining: 93.3ms\n",
      "7:\tlearn: 0.3356160\ttotal: 52.9ms\tremaining: 79.4ms\n",
      "8:\tlearn: 0.3110454\ttotal: 55.5ms\tremaining: 67.9ms\n",
      "9:\tlearn: 0.2967370\ttotal: 58.1ms\tremaining: 58.1ms\n",
      "10:\tlearn: 0.2801574\ttotal: 61ms\tremaining: 49.9ms\n",
      "11:\tlearn: 0.2616368\ttotal: 63.8ms\tremaining: 42.6ms\n",
      "12:\tlearn: 0.2477860\ttotal: 67.1ms\tremaining: 36.2ms\n",
      "13:\tlearn: 0.2360415\ttotal: 70.1ms\tremaining: 30.1ms\n",
      "14:\tlearn: 0.2313453\ttotal: 72.8ms\tremaining: 24.3ms\n",
      "15:\tlearn: 0.2199976\ttotal: 75.6ms\tremaining: 18.9ms\n",
      "16:\tlearn: 0.2098675\ttotal: 78.5ms\tremaining: 13.9ms\n",
      "17:\tlearn: 0.1984637\ttotal: 81.3ms\tremaining: 9.04ms\n",
      "18:\tlearn: 0.1861914\ttotal: 84.4ms\tremaining: 4.44ms\n",
      "19:\tlearn: 0.1754596\ttotal: 87.1ms\tremaining: 0us\n"
     ]
    },
    {
     "data": {
      "text/plain": [
       "0.4573170731707317"
      ]
     },
     "execution_count": 309,
     "metadata": {},
     "output_type": "execute_result"
    }
   ],
   "source": [
    "model_Cat_boost.fit(X_train, y_train)\n",
    "y_pred = model_Cat_boost.predict(X_test)\n",
    "model_Cat_boost.score(X_test, y_test)"
   ]
  },
  {
   "cell_type": "code",
   "execution_count": null,
   "metadata": {},
   "outputs": [],
   "source": []
  },
  {
   "cell_type": "code",
   "execution_count": null,
   "metadata": {},
   "outputs": [],
   "source": []
  },
  {
   "cell_type": "code",
   "execution_count": null,
   "metadata": {},
   "outputs": [],
   "source": []
  },
  {
   "cell_type": "code",
   "execution_count": null,
   "metadata": {},
   "outputs": [],
   "source": []
  }
 ],
 "metadata": {
  "kernelspec": {
   "display_name": "Python 3 (ipykernel)",
   "language": "python",
   "name": "python3"
  },
  "language_info": {
   "codemirror_mode": {
    "name": "ipython",
    "version": 3
   },
   "file_extension": ".py",
   "mimetype": "text/x-python",
   "name": "python",
   "nbconvert_exporter": "python",
   "pygments_lexer": "ipython3",
   "version": "3.8.10"
  }
 },
 "nbformat": 4,
 "nbformat_minor": 4
}
