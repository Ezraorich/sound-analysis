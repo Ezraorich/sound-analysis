{
 "cells": [
  {
   "cell_type": "code",
   "execution_count": 1,
   "metadata": {},
   "outputs": [],
   "source": [
    "def ctof():\n",
    "    a= int(input('Enter a Celcius: '))\n",
    "    b=(a*9/5)+32\n",
    "    print(b)"
   ]
  },
  {
   "cell_type": "code",
   "execution_count": 2,
   "metadata": {},
   "outputs": [
    {
     "name": "stdout",
     "output_type": "stream",
     "text": [
      "Enter a Celcius: 45\n",
      "113.0\n"
     ]
    }
   ],
   "source": [
    "ctof()"
   ]
  },
  {
   "cell_type": "code",
   "execution_count": 5,
   "metadata": {},
   "outputs": [],
   "source": [
    "def convert():\n",
    "    for a in range (0, 100):\n",
    "        b=(a*9/5)+32\n",
    "        print(a,'Celcius = ',b,'Fahrenheit')"
   ]
  },
  {
   "cell_type": "code",
   "execution_count": 4,
   "metadata": {},
   "outputs": [
    {
     "name": "stdout",
     "output_type": "stream",
     "text": [
      "0 Celcius=  32.0 Fahrenheit\n",
      "1 Celcius=  33.8 Fahrenheit\n",
      "2 Celcius=  35.6 Fahrenheit\n",
      "3 Celcius=  37.4 Fahrenheit\n",
      "4 Celcius=  39.2 Fahrenheit\n",
      "5 Celcius=  41.0 Fahrenheit\n",
      "6 Celcius=  42.8 Fahrenheit\n",
      "7 Celcius=  44.6 Fahrenheit\n",
      "8 Celcius=  46.4 Fahrenheit\n",
      "9 Celcius=  48.2 Fahrenheit\n",
      "10 Celcius=  50.0 Fahrenheit\n",
      "11 Celcius=  51.8 Fahrenheit\n",
      "12 Celcius=  53.6 Fahrenheit\n",
      "13 Celcius=  55.4 Fahrenheit\n",
      "14 Celcius=  57.2 Fahrenheit\n",
      "15 Celcius=  59.0 Fahrenheit\n",
      "16 Celcius=  60.8 Fahrenheit\n",
      "17 Celcius=  62.6 Fahrenheit\n",
      "18 Celcius=  64.4 Fahrenheit\n",
      "19 Celcius=  66.2 Fahrenheit\n",
      "20 Celcius=  68.0 Fahrenheit\n",
      "21 Celcius=  69.8 Fahrenheit\n",
      "22 Celcius=  71.6 Fahrenheit\n",
      "23 Celcius=  73.4 Fahrenheit\n",
      "24 Celcius=  75.2 Fahrenheit\n",
      "25 Celcius=  77.0 Fahrenheit\n",
      "26 Celcius=  78.8 Fahrenheit\n",
      "27 Celcius=  80.6 Fahrenheit\n",
      "28 Celcius=  82.4 Fahrenheit\n",
      "29 Celcius=  84.2 Fahrenheit\n",
      "30 Celcius=  86.0 Fahrenheit\n",
      "31 Celcius=  87.8 Fahrenheit\n",
      "32 Celcius=  89.6 Fahrenheit\n",
      "33 Celcius=  91.4 Fahrenheit\n",
      "34 Celcius=  93.2 Fahrenheit\n",
      "35 Celcius=  95.0 Fahrenheit\n",
      "36 Celcius=  96.8 Fahrenheit\n",
      "37 Celcius=  98.6 Fahrenheit\n",
      "38 Celcius=  100.4 Fahrenheit\n",
      "39 Celcius=  102.2 Fahrenheit\n",
      "40 Celcius=  104.0 Fahrenheit\n",
      "41 Celcius=  105.8 Fahrenheit\n",
      "42 Celcius=  107.6 Fahrenheit\n",
      "43 Celcius=  109.4 Fahrenheit\n",
      "44 Celcius=  111.2 Fahrenheit\n",
      "45 Celcius=  113.0 Fahrenheit\n",
      "46 Celcius=  114.8 Fahrenheit\n",
      "47 Celcius=  116.6 Fahrenheit\n",
      "48 Celcius=  118.4 Fahrenheit\n",
      "49 Celcius=  120.2 Fahrenheit\n",
      "50 Celcius=  122.0 Fahrenheit\n",
      "51 Celcius=  123.8 Fahrenheit\n",
      "52 Celcius=  125.6 Fahrenheit\n",
      "53 Celcius=  127.4 Fahrenheit\n",
      "54 Celcius=  129.2 Fahrenheit\n",
      "55 Celcius=  131.0 Fahrenheit\n",
      "56 Celcius=  132.8 Fahrenheit\n",
      "57 Celcius=  134.6 Fahrenheit\n",
      "58 Celcius=  136.4 Fahrenheit\n",
      "59 Celcius=  138.2 Fahrenheit\n",
      "60 Celcius=  140.0 Fahrenheit\n",
      "61 Celcius=  141.8 Fahrenheit\n",
      "62 Celcius=  143.6 Fahrenheit\n",
      "63 Celcius=  145.4 Fahrenheit\n",
      "64 Celcius=  147.2 Fahrenheit\n",
      "65 Celcius=  149.0 Fahrenheit\n",
      "66 Celcius=  150.8 Fahrenheit\n",
      "67 Celcius=  152.6 Fahrenheit\n",
      "68 Celcius=  154.4 Fahrenheit\n",
      "69 Celcius=  156.2 Fahrenheit\n",
      "70 Celcius=  158.0 Fahrenheit\n",
      "71 Celcius=  159.8 Fahrenheit\n",
      "72 Celcius=  161.6 Fahrenheit\n",
      "73 Celcius=  163.4 Fahrenheit\n",
      "74 Celcius=  165.2 Fahrenheit\n",
      "75 Celcius=  167.0 Fahrenheit\n",
      "76 Celcius=  168.8 Fahrenheit\n",
      "77 Celcius=  170.6 Fahrenheit\n",
      "78 Celcius=  172.4 Fahrenheit\n",
      "79 Celcius=  174.2 Fahrenheit\n",
      "80 Celcius=  176.0 Fahrenheit\n",
      "81 Celcius=  177.8 Fahrenheit\n",
      "82 Celcius=  179.6 Fahrenheit\n",
      "83 Celcius=  181.4 Fahrenheit\n",
      "84 Celcius=  183.2 Fahrenheit\n",
      "85 Celcius=  185.0 Fahrenheit\n",
      "86 Celcius=  186.8 Fahrenheit\n",
      "87 Celcius=  188.6 Fahrenheit\n",
      "88 Celcius=  190.4 Fahrenheit\n",
      "89 Celcius=  192.2 Fahrenheit\n",
      "90 Celcius=  194.0 Fahrenheit\n",
      "91 Celcius=  195.8 Fahrenheit\n",
      "92 Celcius=  197.6 Fahrenheit\n",
      "93 Celcius=  199.4 Fahrenheit\n",
      "94 Celcius=  201.2 Fahrenheit\n",
      "95 Celcius=  203.0 Fahrenheit\n",
      "96 Celcius=  204.8 Fahrenheit\n",
      "97 Celcius=  206.6 Fahrenheit\n",
      "98 Celcius=  208.4 Fahrenheit\n",
      "99 Celcius=  210.2 Fahrenheit\n"
     ]
    }
   ],
   "source": [
    "convert()"
   ]
  },
  {
   "cell_type": "code",
   "execution_count": null,
   "metadata": {},
   "outputs": [],
   "source": []
  }
 ],
 "metadata": {
  "kernelspec": {
   "display_name": "Python 3",
   "language": "python",
   "name": "python3"
  },
  "language_info": {
   "codemirror_mode": {
    "name": "ipython",
    "version": 3
   },
   "file_extension": ".py",
   "mimetype": "text/x-python",
   "name": "python",
   "nbconvert_exporter": "python",
   "pygments_lexer": "ipython3",
   "version": "3.8.3"
  }
 },
 "nbformat": 4,
 "nbformat_minor": 4
}
